{
 "cells": [
  {
   "cell_type": "markdown",
   "id": "26bb1acf",
   "metadata": {},
   "source": [
    "# Import"
   ]
  },
  {
   "cell_type": "code",
   "execution_count": 716,
   "id": "6696a857",
   "metadata": {},
   "outputs": [],
   "source": [
    "import pandas as pd\n",
    "import numpy as np\n",
    "import matplotlib.pyplot as plt\n",
    "%matplotlib inline\n",
    "import seaborn as sns\n",
    "sns.set()\n",
    "import mytools as mt"
   ]
  },
  {
   "cell_type": "code",
   "execution_count": 717,
   "id": "236f5b56",
   "metadata": {},
   "outputs": [],
   "source": [
    "train = pd.read_csv(\"train.csv\")\n",
    "test = pd.read_csv(\"test.csv\")\n",
    "tt = pd.concat([train, test])"
   ]
  },
  {
   "cell_type": "code",
   "execution_count": 920,
   "id": "a1bdf23f",
   "metadata": {},
   "outputs": [],
   "source": [
    "train_original = pd.read_csv(\"train.csv\")"
   ]
  },
  {
   "cell_type": "markdown",
   "id": "9d902479",
   "metadata": {},
   "source": [
    "# Describing the data"
   ]
  },
  {
   "cell_type": "code",
   "execution_count": 718,
   "id": "18b8611a",
   "metadata": {},
   "outputs": [
    {
     "name": "stdout",
     "output_type": "stream",
     "text": [
      "SHAPE:\n",
      "(891, 12)\n",
      "\n",
      "DESCRIPTION:\n",
      "       PassengerId    Survived      Pclass         Age       SibSp  \\\n",
      "count   891.000000  891.000000  891.000000  714.000000  891.000000   \n",
      "mean    446.000000    0.383838    2.308642   29.699118    0.523008   \n",
      "std     257.353842    0.486592    0.836071   14.526497    1.102743   \n",
      "min       1.000000    0.000000    1.000000    0.420000    0.000000   \n",
      "25%     223.500000    0.000000    2.000000   20.125000    0.000000   \n",
      "50%     446.000000    0.000000    3.000000   28.000000    0.000000   \n",
      "75%     668.500000    1.000000    3.000000   38.000000    1.000000   \n",
      "max     891.000000    1.000000    3.000000   80.000000    8.000000   \n",
      "\n",
      "            Parch        Fare  \n",
      "count  891.000000  891.000000  \n",
      "mean     0.381594   32.204208  \n",
      "std      0.806057   49.693429  \n",
      "min      0.000000    0.000000  \n",
      "25%      0.000000    7.910400  \n",
      "50%      0.000000   14.454200  \n",
      "75%      0.000000   31.000000  \n",
      "max      6.000000  512.329200  \n",
      "\n",
      "DESCRIPTION OF OBJECT DATA TYPES:\n",
      "                           Name   Sex  Ticket    Cabin Embarked\n",
      "count                       891   891     891      204      889\n",
      "unique                      891     2     681      147        3\n",
      "top     Braund, Mr. Owen Harris  male  347082  B96 B98        S\n",
      "freq                          1   577       7        4      644\n",
      "\n",
      "DATATYPES:\n",
      "PassengerId      int64\n",
      "Survived         int64\n",
      "Pclass           int64\n",
      "Name            object\n",
      "Sex             object\n",
      "Age            float64\n",
      "SibSp            int64\n",
      "Parch            int64\n",
      "Ticket          object\n",
      "Fare           float64\n",
      "Cabin           object\n",
      "Embarked        object\n",
      "dtype: object\n",
      "\n",
      "NULL VALUES:\n",
      "PassengerId      0\n",
      "Survived         0\n",
      "Pclass           0\n",
      "Name             0\n",
      "Sex              0\n",
      "Age            177\n",
      "SibSp            0\n",
      "Parch            0\n",
      "Ticket           0\n",
      "Fare             0\n",
      "Cabin          687\n",
      "Embarked         2\n",
      "dtype: int64\n",
      "\n"
     ]
    }
   ],
   "source": [
    "mt.glance(train)"
   ]
  },
  {
   "cell_type": "code",
   "execution_count": 719,
   "id": "5c39d53a",
   "metadata": {},
   "outputs": [
    {
     "name": "stdout",
     "output_type": "stream",
     "text": [
      "SHAPE:\n",
      "(418, 11)\n",
      "\n",
      "DESCRIPTION:\n",
      "       PassengerId      Pclass         Age       SibSp       Parch        Fare\n",
      "count   418.000000  418.000000  332.000000  418.000000  418.000000  417.000000\n",
      "mean   1100.500000    2.265550   30.272590    0.447368    0.392344   35.627188\n",
      "std     120.810458    0.841838   14.181209    0.896760    0.981429   55.907576\n",
      "min     892.000000    1.000000    0.170000    0.000000    0.000000    0.000000\n",
      "25%     996.250000    1.000000   21.000000    0.000000    0.000000    7.895800\n",
      "50%    1100.500000    3.000000   27.000000    0.000000    0.000000   14.454200\n",
      "75%    1204.750000    3.000000   39.000000    1.000000    0.000000   31.500000\n",
      "max    1309.000000    3.000000   76.000000    8.000000    9.000000  512.329200\n",
      "\n",
      "DESCRIPTION OF OBJECT DATA TYPES:\n",
      "                    Name   Sex    Ticket            Cabin Embarked\n",
      "count                418   418       418               91      418\n",
      "unique               418     2       363               76        3\n",
      "top     Kelly, Mr. James  male  PC 17608  B57 B59 B63 B66        S\n",
      "freq                   1   266         5                3      270\n",
      "\n",
      "DATATYPES:\n",
      "PassengerId      int64\n",
      "Pclass           int64\n",
      "Name            object\n",
      "Sex             object\n",
      "Age            float64\n",
      "SibSp            int64\n",
      "Parch            int64\n",
      "Ticket          object\n",
      "Fare           float64\n",
      "Cabin           object\n",
      "Embarked        object\n",
      "dtype: object\n",
      "\n",
      "NULL VALUES:\n",
      "PassengerId      0\n",
      "Pclass           0\n",
      "Name             0\n",
      "Sex              0\n",
      "Age             86\n",
      "SibSp            0\n",
      "Parch            0\n",
      "Ticket           0\n",
      "Fare             1\n",
      "Cabin          327\n",
      "Embarked         0\n",
      "dtype: int64\n",
      "\n"
     ]
    }
   ],
   "source": [
    "mt.glance(test)"
   ]
  },
  {
   "cell_type": "markdown",
   "id": "e8b7a187",
   "metadata": {},
   "source": [
    "# Imputing missing values"
   ]
  },
  {
   "cell_type": "markdown",
   "id": "d57e8dbf",
   "metadata": {},
   "source": [
    "## Extraction and Clean-up"
   ]
  },
  {
   "cell_type": "markdown",
   "id": "9d2aca8c",
   "metadata": {},
   "source": [
    "needs further clean-up, get dummies and other modifications"
   ]
  },
  {
   "cell_type": "code",
   "execution_count": 720,
   "id": "5b5c1e1b",
   "metadata": {},
   "outputs": [
    {
     "data": {
      "text/plain": [
       "Index(['PassengerId', 'Survived', 'Pclass', 'Name', 'Sex', 'Age', 'SibSp',\n",
       "       'Parch', 'Ticket', 'Fare', 'Cabin', 'Embarked'],\n",
       "      dtype='object')"
      ]
     },
     "execution_count": 720,
     "metadata": {},
     "output_type": "execute_result"
    }
   ],
   "source": [
    "tt.columns"
   ]
  },
  {
   "cell_type": "markdown",
   "id": "598d4aa2",
   "metadata": {},
   "source": [
    "### Name"
   ]
  },
  {
   "cell_type": "code",
   "execution_count": 721,
   "id": "2f167a67",
   "metadata": {},
   "outputs": [],
   "source": [
    "tt['Title']=tt.Name.apply(lambda x: x.split('.')[0].split(',')[1].strip())"
   ]
  },
  {
   "cell_type": "markdown",
   "id": "4fbebf01",
   "metadata": {},
   "source": [
    "#### Titles"
   ]
  },
  {
   "cell_type": "code",
   "execution_count": 722,
   "id": "208b0ad0",
   "metadata": {},
   "outputs": [
    {
     "data": {
      "text/plain": [
       "Mr              757\n",
       "Miss            260\n",
       "Mrs             197\n",
       "Master           61\n",
       "Rev               8\n",
       "Dr                8\n",
       "Col               4\n",
       "Mlle              2\n",
       "Major             2\n",
       "Ms                2\n",
       "Lady              1\n",
       "Sir               1\n",
       "Mme               1\n",
       "Don               1\n",
       "Capt              1\n",
       "the Countess      1\n",
       "Jonkheer          1\n",
       "Dona              1\n",
       "Name: Title, dtype: int64"
      ]
     },
     "execution_count": 722,
     "metadata": {},
     "output_type": "execute_result"
    }
   ],
   "source": [
    "tt.Title.value_counts()"
   ]
  },
  {
   "cell_type": "code",
   "execution_count": 723,
   "id": "acbb2f7a",
   "metadata": {},
   "outputs": [
    {
     "data": {
      "text/plain": [
       "Title         Sex   \n",
       "Capt          male      0.000000\n",
       "Col           male      0.500000\n",
       "Don           male      0.000000\n",
       "Dona          female         NaN\n",
       "Dr            female    1.000000\n",
       "              male      0.333333\n",
       "Jonkheer      male      0.000000\n",
       "Lady          female    1.000000\n",
       "Major         male      0.500000\n",
       "Master        male      0.575000\n",
       "Miss          female    0.697802\n",
       "Mlle          female    1.000000\n",
       "Mme           female    1.000000\n",
       "Mr            male      0.156673\n",
       "Mrs           female    0.792000\n",
       "Ms            female    1.000000\n",
       "Rev           male      0.000000\n",
       "Sir           male      1.000000\n",
       "the Countess  female    1.000000\n",
       "Name: Survived, dtype: float64"
      ]
     },
     "execution_count": 723,
     "metadata": {},
     "output_type": "execute_result"
    }
   ],
   "source": [
    "tt.groupby(['Title', 'Sex']).Survived.mean()"
   ]
  },
  {
   "cell_type": "markdown",
   "id": "59fdfb4a",
   "metadata": {},
   "source": [
    "Group the Officers together, leave Dr and Rev as they seem to have separate rates of survival."
   ]
  },
  {
   "cell_type": "code",
   "execution_count": 724,
   "id": "a4b5fa17",
   "metadata": {},
   "outputs": [],
   "source": [
    "newtitles = {\n",
    "    \"Capt\":       \"Officer\",\n",
    "    \"Col\":        \"Officer\",\n",
    "    \"Major\":      \"Officer\",\n",
    "    \"Jonkheer\":   \"Nobility\",\n",
    "    \"Don\":        \"Nobility\",\n",
    "    \"Sir\" :       \"Nobility\",\n",
    "    \"Dr\":         \"Dr\",\n",
    "    \"Rev\":        \"Rev\",\n",
    "    \"the Countess\":\"Nobility\",\n",
    "    \"Dona\":       \"Nobility\",\n",
    "    \"Mme\":        \"Mrs\",\n",
    "    \"Mlle\":       \"Miss\",\n",
    "    \"Ms\":         \"Mrs\",\n",
    "    \"Mr\":        \"Mr\",\n",
    "    \"Mrs\":       \"Mrs\",\n",
    "    \"Miss\":      \"Miss\",\n",
    "    \"Master\":    \"Master\",\n",
    "    \"Lady\":      \"Nobility\"\n",
    "}"
   ]
  },
  {
   "cell_type": "code",
   "execution_count": 725,
   "id": "6978d163",
   "metadata": {},
   "outputs": [],
   "source": [
    "tt['Title'] = tt.Title.map(newtitles).copy()"
   ]
  },
  {
   "cell_type": "code",
   "execution_count": 726,
   "id": "67ce0c11",
   "metadata": {},
   "outputs": [
    {
     "data": {
      "text/plain": [
       "Mr          757\n",
       "Miss        262\n",
       "Mrs         200\n",
       "Master       61\n",
       "Rev           8\n",
       "Dr            8\n",
       "Officer       7\n",
       "Nobility      6\n",
       "Name: Title, dtype: int64"
      ]
     },
     "execution_count": 726,
     "metadata": {},
     "output_type": "execute_result"
    }
   ],
   "source": [
    "tt.Title.value_counts()"
   ]
  },
  {
   "cell_type": "code",
   "execution_count": 727,
   "id": "a2010329",
   "metadata": {},
   "outputs": [],
   "source": [
    "tt = tt.drop('Name', axis=1)"
   ]
  },
  {
   "cell_type": "code",
   "execution_count": 728,
   "id": "9e3ad426",
   "metadata": {},
   "outputs": [],
   "source": [
    "tt = pd.get_dummies(tt, columns=['Title'], drop_first=True, prefix ='Title')"
   ]
  },
  {
   "cell_type": "code",
   "execution_count": 729,
   "id": "e2059d58",
   "metadata": {},
   "outputs": [
    {
     "data": {
      "text/html": [
       "<div>\n",
       "<style scoped>\n",
       "    .dataframe tbody tr th:only-of-type {\n",
       "        vertical-align: middle;\n",
       "    }\n",
       "\n",
       "    .dataframe tbody tr th {\n",
       "        vertical-align: top;\n",
       "    }\n",
       "\n",
       "    .dataframe thead th {\n",
       "        text-align: right;\n",
       "    }\n",
       "</style>\n",
       "<table border=\"1\" class=\"dataframe\">\n",
       "  <thead>\n",
       "    <tr style=\"text-align: right;\">\n",
       "      <th></th>\n",
       "      <th>PassengerId</th>\n",
       "      <th>Survived</th>\n",
       "      <th>Pclass</th>\n",
       "      <th>Sex</th>\n",
       "      <th>Age</th>\n",
       "      <th>SibSp</th>\n",
       "      <th>Parch</th>\n",
       "      <th>Ticket</th>\n",
       "      <th>Fare</th>\n",
       "      <th>Cabin</th>\n",
       "      <th>Embarked</th>\n",
       "      <th>Title_Master</th>\n",
       "      <th>Title_Miss</th>\n",
       "      <th>Title_Mr</th>\n",
       "      <th>Title_Mrs</th>\n",
       "      <th>Title_Nobility</th>\n",
       "      <th>Title_Officer</th>\n",
       "      <th>Title_Rev</th>\n",
       "    </tr>\n",
       "  </thead>\n",
       "  <tbody>\n",
       "    <tr>\n",
       "      <th>0</th>\n",
       "      <td>1</td>\n",
       "      <td>0.0</td>\n",
       "      <td>3</td>\n",
       "      <td>male</td>\n",
       "      <td>22.0</td>\n",
       "      <td>1</td>\n",
       "      <td>0</td>\n",
       "      <td>A/5 21171</td>\n",
       "      <td>7.2500</td>\n",
       "      <td>NaN</td>\n",
       "      <td>S</td>\n",
       "      <td>0</td>\n",
       "      <td>0</td>\n",
       "      <td>1</td>\n",
       "      <td>0</td>\n",
       "      <td>0</td>\n",
       "      <td>0</td>\n",
       "      <td>0</td>\n",
       "    </tr>\n",
       "    <tr>\n",
       "      <th>1</th>\n",
       "      <td>2</td>\n",
       "      <td>1.0</td>\n",
       "      <td>1</td>\n",
       "      <td>female</td>\n",
       "      <td>38.0</td>\n",
       "      <td>1</td>\n",
       "      <td>0</td>\n",
       "      <td>PC 17599</td>\n",
       "      <td>71.2833</td>\n",
       "      <td>C85</td>\n",
       "      <td>C</td>\n",
       "      <td>0</td>\n",
       "      <td>0</td>\n",
       "      <td>0</td>\n",
       "      <td>1</td>\n",
       "      <td>0</td>\n",
       "      <td>0</td>\n",
       "      <td>0</td>\n",
       "    </tr>\n",
       "    <tr>\n",
       "      <th>2</th>\n",
       "      <td>3</td>\n",
       "      <td>1.0</td>\n",
       "      <td>3</td>\n",
       "      <td>female</td>\n",
       "      <td>26.0</td>\n",
       "      <td>0</td>\n",
       "      <td>0</td>\n",
       "      <td>STON/O2. 3101282</td>\n",
       "      <td>7.9250</td>\n",
       "      <td>NaN</td>\n",
       "      <td>S</td>\n",
       "      <td>0</td>\n",
       "      <td>1</td>\n",
       "      <td>0</td>\n",
       "      <td>0</td>\n",
       "      <td>0</td>\n",
       "      <td>0</td>\n",
       "      <td>0</td>\n",
       "    </tr>\n",
       "    <tr>\n",
       "      <th>3</th>\n",
       "      <td>4</td>\n",
       "      <td>1.0</td>\n",
       "      <td>1</td>\n",
       "      <td>female</td>\n",
       "      <td>35.0</td>\n",
       "      <td>1</td>\n",
       "      <td>0</td>\n",
       "      <td>113803</td>\n",
       "      <td>53.1000</td>\n",
       "      <td>C123</td>\n",
       "      <td>S</td>\n",
       "      <td>0</td>\n",
       "      <td>0</td>\n",
       "      <td>0</td>\n",
       "      <td>1</td>\n",
       "      <td>0</td>\n",
       "      <td>0</td>\n",
       "      <td>0</td>\n",
       "    </tr>\n",
       "    <tr>\n",
       "      <th>4</th>\n",
       "      <td>5</td>\n",
       "      <td>0.0</td>\n",
       "      <td>3</td>\n",
       "      <td>male</td>\n",
       "      <td>35.0</td>\n",
       "      <td>0</td>\n",
       "      <td>0</td>\n",
       "      <td>373450</td>\n",
       "      <td>8.0500</td>\n",
       "      <td>NaN</td>\n",
       "      <td>S</td>\n",
       "      <td>0</td>\n",
       "      <td>0</td>\n",
       "      <td>1</td>\n",
       "      <td>0</td>\n",
       "      <td>0</td>\n",
       "      <td>0</td>\n",
       "      <td>0</td>\n",
       "    </tr>\n",
       "  </tbody>\n",
       "</table>\n",
       "</div>"
      ],
      "text/plain": [
       "   PassengerId  Survived  Pclass     Sex   Age  SibSp  Parch  \\\n",
       "0            1       0.0       3    male  22.0      1      0   \n",
       "1            2       1.0       1  female  38.0      1      0   \n",
       "2            3       1.0       3  female  26.0      0      0   \n",
       "3            4       1.0       1  female  35.0      1      0   \n",
       "4            5       0.0       3    male  35.0      0      0   \n",
       "\n",
       "             Ticket     Fare Cabin Embarked  Title_Master  Title_Miss  \\\n",
       "0         A/5 21171   7.2500   NaN        S             0           0   \n",
       "1          PC 17599  71.2833   C85        C             0           0   \n",
       "2  STON/O2. 3101282   7.9250   NaN        S             0           1   \n",
       "3            113803  53.1000  C123        S             0           0   \n",
       "4            373450   8.0500   NaN        S             0           0   \n",
       "\n",
       "   Title_Mr  Title_Mrs  Title_Nobility  Title_Officer  Title_Rev  \n",
       "0         1          0               0              0          0  \n",
       "1         0          1               0              0          0  \n",
       "2         0          0               0              0          0  \n",
       "3         0          1               0              0          0  \n",
       "4         1          0               0              0          0  "
      ]
     },
     "execution_count": 729,
     "metadata": {},
     "output_type": "execute_result"
    }
   ],
   "source": [
    "tt.head()"
   ]
  },
  {
   "cell_type": "markdown",
   "id": "f7fffa5d",
   "metadata": {},
   "source": [
    "### Ticket"
   ]
  },
  {
   "cell_type": "code",
   "execution_count": 730,
   "id": "0fa08fdc",
   "metadata": {},
   "outputs": [],
   "source": [
    "tt['Dup_Ticket'] = tt.Ticket.duplicated()"
   ]
  },
  {
   "cell_type": "code",
   "execution_count": 731,
   "id": "fa8b2aa7",
   "metadata": {},
   "outputs": [
    {
     "data": {
      "text/plain": [
       "12.008978675645341"
      ]
     },
     "execution_count": 731,
     "metadata": {},
     "output_type": "execute_result"
    }
   ],
   "source": [
    "(tt.query('Dup_Ticket == True and Survived == 0.0').shape[0]/891) * 100"
   ]
  },
  {
   "cell_type": "markdown",
   "id": "b08455c4",
   "metadata": {},
   "source": [
    "Duplicate Ticket is not a good predictor of Survived, with both around 10% rate for Survived and Not Survived."
   ]
  },
  {
   "cell_type": "code",
   "execution_count": 732,
   "id": "f05220d4",
   "metadata": {},
   "outputs": [],
   "source": [
    "tt['Ticket_Length'] = tt.Ticket.apply(lambda x: len(x))"
   ]
  },
  {
   "cell_type": "code",
   "execution_count": 733,
   "id": "70d54ad2",
   "metadata": {},
   "outputs": [
    {
     "name": "stderr",
     "output_type": "stream",
     "text": [
      "C:\\Users\\euana\\anaconda3\\lib\\site-packages\\seaborn\\distributions.py:2619: FutureWarning: `distplot` is a deprecated function and will be removed in a future version. Please adapt your code to use either `displot` (a figure-level function with similar flexibility) or `histplot` (an axes-level function for histograms).\n",
      "  warnings.warn(msg, FutureWarning)\n"
     ]
    },
    {
     "data": {
      "text/plain": [
       "<AxesSubplot:xlabel='Ticket_Length'>"
      ]
     },
     "execution_count": 733,
     "metadata": {},
     "output_type": "execute_result"
    },
    {
     "data": {
      "image/png": "[encoded data removed]",
      "text/plain": [
       "<Figure size 640x480 with 1 Axes>"
      ]
     },
     "metadata": {},
     "output_type": "display_data"
    }
   ],
   "source": [
    "sns.distplot(tt[tt.Survived==1].Ticket_Length, color='green', kde=False)\n",
    "sns.distplot(tt[tt.Survived==0].Ticket_Length, color='red', kde=False)"
   ]
  },
  {
   "cell_type": "code",
   "execution_count": 734,
   "id": "504c8295",
   "metadata": {},
   "outputs": [
    {
     "data": {
      "text/plain": [
       "Title_Mr         -0.549199\n",
       "Pclass           -0.338481\n",
       "Age              -0.077221\n",
       "Title_Rev        -0.064988\n",
       "Ticket_Length    -0.055331\n",
       "SibSp            -0.035322\n",
       "PassengerId      -0.005007\n",
       "Title_Officer     0.002496\n",
       "Title_Nobility    0.033391\n",
       "Parch             0.081629\n",
       "Title_Master      0.085221\n",
       "Dup_Ticket        0.121766\n",
       "Fare              0.257307\n",
       "Title_Miss        0.332795\n",
       "Title_Mrs         0.344935\n",
       "Survived          1.000000\n",
       "Name: Survived, dtype: float64"
      ]
     },
     "execution_count": 734,
     "metadata": {},
     "output_type": "execute_result"
    }
   ],
   "source": [
    "tt.iloc[0:891].corr()['Survived'].sort_values()"
   ]
  },
  {
   "cell_type": "code",
   "execution_count": 735,
   "id": "c301ecdd",
   "metadata": {},
   "outputs": [],
   "source": [
    "tt = tt.drop('Ticket', axis=1).copy()"
   ]
  },
  {
   "cell_type": "code",
   "execution_count": 736,
   "id": "f7256580",
   "metadata": {},
   "outputs": [
    {
     "data": {
      "text/plain": [
       "Index(['PassengerId', 'Survived', 'Pclass', 'Sex', 'Age', 'SibSp', 'Parch',\n",
       "       'Fare', 'Cabin', 'Embarked', 'Title_Master', 'Title_Miss', 'Title_Mr',\n",
       "       'Title_Mrs', 'Title_Nobility', 'Title_Officer', 'Title_Rev',\n",
       "       'Dup_Ticket', 'Ticket_Length'],\n",
       "      dtype='object')"
      ]
     },
     "execution_count": 736,
     "metadata": {},
     "output_type": "execute_result"
    }
   ],
   "source": [
    "tt.columns"
   ]
  },
  {
   "cell_type": "markdown",
   "id": "4f76ac0d",
   "metadata": {},
   "source": [
    "### Cabin"
   ]
  },
  {
   "cell_type": "markdown",
   "id": "12dba866",
   "metadata": {},
   "source": [
    "#### Duplicate Cabins"
   ]
  },
  {
   "cell_type": "code",
   "execution_count": 737,
   "id": "0e2641b3",
   "metadata": {},
   "outputs": [],
   "source": [
    "tt['Dup_Cabin'] = tt.Cabin.duplicated()"
   ]
  },
  {
   "cell_type": "code",
   "execution_count": 738,
   "id": "f5edd172",
   "metadata": {},
   "outputs": [
    {
     "data": {
      "text/plain": [
       "28.058361391694724"
      ]
     },
     "execution_count": 738,
     "metadata": {},
     "output_type": "execute_result"
    }
   ],
   "source": [
    "(tt.iloc[0:891].query('Dup_Cabin == True and Survived == 1').shape[0]/891) * 100"
   ]
  },
  {
   "cell_type": "markdown",
   "id": "a064b0f0",
   "metadata": {},
   "source": [
    "Duplicate Cabin is a good predictor of not surviving, with 55.33% in a duplicate cabin not surviving. "
   ]
  },
  {
   "cell_type": "code",
   "execution_count": 739,
   "id": "8c7fc460",
   "metadata": {},
   "outputs": [
    {
     "data": {
      "text/plain": [
       "PassengerId          0\n",
       "Survived           418\n",
       "Pclass               0\n",
       "Sex                  0\n",
       "Age                263\n",
       "SibSp                0\n",
       "Parch                0\n",
       "Fare                 1\n",
       "Cabin             1014\n",
       "Embarked             2\n",
       "Title_Master         0\n",
       "Title_Miss           0\n",
       "Title_Mr             0\n",
       "Title_Mrs            0\n",
       "Title_Nobility       0\n",
       "Title_Officer        0\n",
       "Title_Rev            0\n",
       "Dup_Ticket           0\n",
       "Ticket_Length        0\n",
       "Dup_Cabin            0\n",
       "dtype: int64"
      ]
     },
     "execution_count": 739,
     "metadata": {},
     "output_type": "execute_result"
    }
   ],
   "source": [
    "tt.isna().sum()"
   ]
  },
  {
   "cell_type": "markdown",
   "id": "a0d7c633",
   "metadata": {},
   "source": [
    "#### Get cabin letter"
   ]
  },
  {
   "cell_type": "code",
   "execution_count": 740,
   "id": "8a091a19",
   "metadata": {},
   "outputs": [],
   "source": [
    "temp = []"
   ]
  },
  {
   "cell_type": "code",
   "execution_count": 741,
   "id": "62af2250",
   "metadata": {},
   "outputs": [],
   "source": [
    "for x in tt.Cabin:\n",
    "    if type(x) != float:\n",
    "        temp.append(x[0])\n",
    "    else:\n",
    "        temp.append('None')"
   ]
  },
  {
   "cell_type": "code",
   "execution_count": 742,
   "id": "3566f993",
   "metadata": {},
   "outputs": [],
   "source": [
    "tt['Cabin_Letter'] = temp"
   ]
  },
  {
   "cell_type": "code",
   "execution_count": 743,
   "id": "01960b74",
   "metadata": {},
   "outputs": [
    {
     "data": {
      "text/html": [
       "<div>\n",
       "<style scoped>\n",
       "    .dataframe tbody tr th:only-of-type {\n",
       "        vertical-align: middle;\n",
       "    }\n",
       "\n",
       "    .dataframe tbody tr th {\n",
       "        vertical-align: top;\n",
       "    }\n",
       "\n",
       "    .dataframe thead th {\n",
       "        text-align: right;\n",
       "    }\n",
       "</style>\n",
       "<table border=\"1\" class=\"dataframe\">\n",
       "  <thead>\n",
       "    <tr style=\"text-align: right;\">\n",
       "      <th></th>\n",
       "      <th>PassengerId</th>\n",
       "      <th>Survived</th>\n",
       "      <th>Pclass</th>\n",
       "      <th>Sex</th>\n",
       "      <th>Age</th>\n",
       "      <th>SibSp</th>\n",
       "      <th>Parch</th>\n",
       "      <th>Fare</th>\n",
       "      <th>Cabin</th>\n",
       "      <th>Embarked</th>\n",
       "      <th>...</th>\n",
       "      <th>Title_Miss</th>\n",
       "      <th>Title_Mr</th>\n",
       "      <th>Title_Mrs</th>\n",
       "      <th>Title_Nobility</th>\n",
       "      <th>Title_Officer</th>\n",
       "      <th>Title_Rev</th>\n",
       "      <th>Dup_Ticket</th>\n",
       "      <th>Ticket_Length</th>\n",
       "      <th>Dup_Cabin</th>\n",
       "      <th>Cabin_Letter</th>\n",
       "    </tr>\n",
       "  </thead>\n",
       "  <tbody>\n",
       "    <tr>\n",
       "      <th>0</th>\n",
       "      <td>1</td>\n",
       "      <td>0.0</td>\n",
       "      <td>3</td>\n",
       "      <td>male</td>\n",
       "      <td>22.0</td>\n",
       "      <td>1</td>\n",
       "      <td>0</td>\n",
       "      <td>7.2500</td>\n",
       "      <td>NaN</td>\n",
       "      <td>S</td>\n",
       "      <td>...</td>\n",
       "      <td>0</td>\n",
       "      <td>1</td>\n",
       "      <td>0</td>\n",
       "      <td>0</td>\n",
       "      <td>0</td>\n",
       "      <td>0</td>\n",
       "      <td>False</td>\n",
       "      <td>9</td>\n",
       "      <td>False</td>\n",
       "      <td>None</td>\n",
       "    </tr>\n",
       "    <tr>\n",
       "      <th>1</th>\n",
       "      <td>2</td>\n",
       "      <td>1.0</td>\n",
       "      <td>1</td>\n",
       "      <td>female</td>\n",
       "      <td>38.0</td>\n",
       "      <td>1</td>\n",
       "      <td>0</td>\n",
       "      <td>71.2833</td>\n",
       "      <td>C85</td>\n",
       "      <td>C</td>\n",
       "      <td>...</td>\n",
       "      <td>0</td>\n",
       "      <td>0</td>\n",
       "      <td>1</td>\n",
       "      <td>0</td>\n",
       "      <td>0</td>\n",
       "      <td>0</td>\n",
       "      <td>False</td>\n",
       "      <td>8</td>\n",
       "      <td>False</td>\n",
       "      <td>C</td>\n",
       "    </tr>\n",
       "    <tr>\n",
       "      <th>2</th>\n",
       "      <td>3</td>\n",
       "      <td>1.0</td>\n",
       "      <td>3</td>\n",
       "      <td>female</td>\n",
       "      <td>26.0</td>\n",
       "      <td>0</td>\n",
       "      <td>0</td>\n",
       "      <td>7.9250</td>\n",
       "      <td>NaN</td>\n",
       "      <td>S</td>\n",
       "      <td>...</td>\n",
       "      <td>1</td>\n",
       "      <td>0</td>\n",
       "      <td>0</td>\n",
       "      <td>0</td>\n",
       "      <td>0</td>\n",
       "      <td>0</td>\n",
       "      <td>False</td>\n",
       "      <td>16</td>\n",
       "      <td>True</td>\n",
       "      <td>None</td>\n",
       "    </tr>\n",
       "    <tr>\n",
       "      <th>3</th>\n",
       "      <td>4</td>\n",
       "      <td>1.0</td>\n",
       "      <td>1</td>\n",
       "      <td>female</td>\n",
       "      <td>35.0</td>\n",
       "      <td>1</td>\n",
       "      <td>0</td>\n",
       "      <td>53.1000</td>\n",
       "      <td>C123</td>\n",
       "      <td>S</td>\n",
       "      <td>...</td>\n",
       "      <td>0</td>\n",
       "      <td>0</td>\n",
       "      <td>1</td>\n",
       "      <td>0</td>\n",
       "      <td>0</td>\n",
       "      <td>0</td>\n",
       "      <td>False</td>\n",
       "      <td>6</td>\n",
       "      <td>False</td>\n",
       "      <td>C</td>\n",
       "    </tr>\n",
       "    <tr>\n",
       "      <th>4</th>\n",
       "      <td>5</td>\n",
       "      <td>0.0</td>\n",
       "      <td>3</td>\n",
       "      <td>male</td>\n",
       "      <td>35.0</td>\n",
       "      <td>0</td>\n",
       "      <td>0</td>\n",
       "      <td>8.0500</td>\n",
       "      <td>NaN</td>\n",
       "      <td>S</td>\n",
       "      <td>...</td>\n",
       "      <td>0</td>\n",
       "      <td>1</td>\n",
       "      <td>0</td>\n",
       "      <td>0</td>\n",
       "      <td>0</td>\n",
       "      <td>0</td>\n",
       "      <td>False</td>\n",
       "      <td>6</td>\n",
       "      <td>True</td>\n",
       "      <td>None</td>\n",
       "    </tr>\n",
       "  </tbody>\n",
       "</table>\n",
       "<p>5 rows × 21 columns</p>\n",
       "</div>"
      ],
      "text/plain": [
       "   PassengerId  Survived  Pclass     Sex   Age  SibSp  Parch     Fare Cabin  \\\n",
       "0            1       0.0       3    male  22.0      1      0   7.2500   NaN   \n",
       "1            2       1.0       1  female  38.0      1      0  71.2833   C85   \n",
       "2            3       1.0       3  female  26.0      0      0   7.9250   NaN   \n",
       "3            4       1.0       1  female  35.0      1      0  53.1000  C123   \n",
       "4            5       0.0       3    male  35.0      0      0   8.0500   NaN   \n",
       "\n",
       "  Embarked  ...  Title_Miss  Title_Mr  Title_Mrs  Title_Nobility  \\\n",
       "0        S  ...           0         1          0               0   \n",
       "1        C  ...           0         0          1               0   \n",
       "2        S  ...           1         0          0               0   \n",
       "3        S  ...           0         0          1               0   \n",
       "4        S  ...           0         1          0               0   \n",
       "\n",
       "   Title_Officer  Title_Rev  Dup_Ticket  Ticket_Length  Dup_Cabin  \\\n",
       "0              0          0       False              9      False   \n",
       "1              0          0       False              8      False   \n",
       "2              0          0       False             16       True   \n",
       "3              0          0       False              6      False   \n",
       "4              0          0       False              6       True   \n",
       "\n",
       "   Cabin_Letter  \n",
       "0          None  \n",
       "1             C  \n",
       "2          None  \n",
       "3             C  \n",
       "4          None  \n",
       "\n",
       "[5 rows x 21 columns]"
      ]
     },
     "execution_count": 743,
     "metadata": {},
     "output_type": "execute_result"
    }
   ],
   "source": [
    "tt.head()"
   ]
  },
  {
   "cell_type": "code",
   "execution_count": 744,
   "id": "50357e63",
   "metadata": {},
   "outputs": [
    {
     "data": {
      "text/plain": [
       "<AxesSubplot:xlabel='Cabin_Letter', ylabel='Survived'>"
      ]
     },
     "execution_count": 744,
     "metadata": {},
     "output_type": "execute_result"
    },
    {
     "data": {
      "image/png": "[encoded data removed]",
      "text/plain": [
       "<Figure size 640x480 with 1 Axes>"
      ]
     },
     "metadata": {},
     "output_type": "display_data"
    }
   ],
   "source": [
    "sns.barplot(data=tt, x=\"Cabin_Letter\", y=\"Survived\")"
   ]
  },
  {
   "cell_type": "code",
   "execution_count": 745,
   "id": "8ed25388",
   "metadata": {},
   "outputs": [],
   "source": [
    "tt = tt.drop(\"Cabin\", axis=1).copy()"
   ]
  },
  {
   "cell_type": "code",
   "execution_count": 746,
   "id": "98f7cc45",
   "metadata": {},
   "outputs": [],
   "source": [
    "tt = pd.get_dummies(tt, columns=['Cabin_Letter'], drop_first=True, prefix ='Letter_')"
   ]
  },
  {
   "cell_type": "markdown",
   "id": "3b827f3c",
   "metadata": {},
   "source": [
    "## Sex"
   ]
  },
  {
   "cell_type": "code",
   "execution_count": 747,
   "id": "94d1a422",
   "metadata": {},
   "outputs": [],
   "source": [
    "tt['Male'] = pd.get_dummies(tt.Sex,drop_first=True)"
   ]
  },
  {
   "cell_type": "code",
   "execution_count": 748,
   "id": "3452be20",
   "metadata": {},
   "outputs": [],
   "source": [
    "tt = tt.drop('Sex', axis=1)"
   ]
  },
  {
   "cell_type": "code",
   "execution_count": 749,
   "id": "eb3e143d",
   "metadata": {},
   "outputs": [
    {
     "data": {
      "text/html": [
       "<div>\n",
       "<style scoped>\n",
       "    .dataframe tbody tr th:only-of-type {\n",
       "        vertical-align: middle;\n",
       "    }\n",
       "\n",
       "    .dataframe tbody tr th {\n",
       "        vertical-align: top;\n",
       "    }\n",
       "\n",
       "    .dataframe thead th {\n",
       "        text-align: right;\n",
       "    }\n",
       "</style>\n",
       "<table border=\"1\" class=\"dataframe\">\n",
       "  <thead>\n",
       "    <tr style=\"text-align: right;\">\n",
       "      <th></th>\n",
       "      <th>PassengerId</th>\n",
       "      <th>Survived</th>\n",
       "      <th>Pclass</th>\n",
       "      <th>Age</th>\n",
       "      <th>SibSp</th>\n",
       "      <th>Parch</th>\n",
       "      <th>Fare</th>\n",
       "      <th>Embarked</th>\n",
       "      <th>Title_Master</th>\n",
       "      <th>Title_Miss</th>\n",
       "      <th>...</th>\n",
       "      <th>Dup_Cabin</th>\n",
       "      <th>Letter__B</th>\n",
       "      <th>Letter__C</th>\n",
       "      <th>Letter__D</th>\n",
       "      <th>Letter__E</th>\n",
       "      <th>Letter__F</th>\n",
       "      <th>Letter__G</th>\n",
       "      <th>Letter__None</th>\n",
       "      <th>Letter__T</th>\n",
       "      <th>Male</th>\n",
       "    </tr>\n",
       "  </thead>\n",
       "  <tbody>\n",
       "    <tr>\n",
       "      <th>0</th>\n",
       "      <td>1</td>\n",
       "      <td>0.0</td>\n",
       "      <td>3</td>\n",
       "      <td>22.0</td>\n",
       "      <td>1</td>\n",
       "      <td>0</td>\n",
       "      <td>7.2500</td>\n",
       "      <td>S</td>\n",
       "      <td>0</td>\n",
       "      <td>0</td>\n",
       "      <td>...</td>\n",
       "      <td>False</td>\n",
       "      <td>0</td>\n",
       "      <td>0</td>\n",
       "      <td>0</td>\n",
       "      <td>0</td>\n",
       "      <td>0</td>\n",
       "      <td>0</td>\n",
       "      <td>1</td>\n",
       "      <td>0</td>\n",
       "      <td>1</td>\n",
       "    </tr>\n",
       "    <tr>\n",
       "      <th>1</th>\n",
       "      <td>2</td>\n",
       "      <td>1.0</td>\n",
       "      <td>1</td>\n",
       "      <td>38.0</td>\n",
       "      <td>1</td>\n",
       "      <td>0</td>\n",
       "      <td>71.2833</td>\n",
       "      <td>C</td>\n",
       "      <td>0</td>\n",
       "      <td>0</td>\n",
       "      <td>...</td>\n",
       "      <td>False</td>\n",
       "      <td>0</td>\n",
       "      <td>1</td>\n",
       "      <td>0</td>\n",
       "      <td>0</td>\n",
       "      <td>0</td>\n",
       "      <td>0</td>\n",
       "      <td>0</td>\n",
       "      <td>0</td>\n",
       "      <td>0</td>\n",
       "    </tr>\n",
       "    <tr>\n",
       "      <th>2</th>\n",
       "      <td>3</td>\n",
       "      <td>1.0</td>\n",
       "      <td>3</td>\n",
       "      <td>26.0</td>\n",
       "      <td>0</td>\n",
       "      <td>0</td>\n",
       "      <td>7.9250</td>\n",
       "      <td>S</td>\n",
       "      <td>0</td>\n",
       "      <td>1</td>\n",
       "      <td>...</td>\n",
       "      <td>True</td>\n",
       "      <td>0</td>\n",
       "      <td>0</td>\n",
       "      <td>0</td>\n",
       "      <td>0</td>\n",
       "      <td>0</td>\n",
       "      <td>0</td>\n",
       "      <td>1</td>\n",
       "      <td>0</td>\n",
       "      <td>0</td>\n",
       "    </tr>\n",
       "    <tr>\n",
       "      <th>3</th>\n",
       "      <td>4</td>\n",
       "      <td>1.0</td>\n",
       "      <td>1</td>\n",
       "      <td>35.0</td>\n",
       "      <td>1</td>\n",
       "      <td>0</td>\n",
       "      <td>53.1000</td>\n",
       "      <td>S</td>\n",
       "      <td>0</td>\n",
       "      <td>0</td>\n",
       "      <td>...</td>\n",
       "      <td>False</td>\n",
       "      <td>0</td>\n",
       "      <td>1</td>\n",
       "      <td>0</td>\n",
       "      <td>0</td>\n",
       "      <td>0</td>\n",
       "      <td>0</td>\n",
       "      <td>0</td>\n",
       "      <td>0</td>\n",
       "      <td>0</td>\n",
       "    </tr>\n",
       "    <tr>\n",
       "      <th>4</th>\n",
       "      <td>5</td>\n",
       "      <td>0.0</td>\n",
       "      <td>3</td>\n",
       "      <td>35.0</td>\n",
       "      <td>0</td>\n",
       "      <td>0</td>\n",
       "      <td>8.0500</td>\n",
       "      <td>S</td>\n",
       "      <td>0</td>\n",
       "      <td>0</td>\n",
       "      <td>...</td>\n",
       "      <td>True</td>\n",
       "      <td>0</td>\n",
       "      <td>0</td>\n",
       "      <td>0</td>\n",
       "      <td>0</td>\n",
       "      <td>0</td>\n",
       "      <td>0</td>\n",
       "      <td>1</td>\n",
       "      <td>0</td>\n",
       "      <td>1</td>\n",
       "    </tr>\n",
       "  </tbody>\n",
       "</table>\n",
       "<p>5 rows × 27 columns</p>\n",
       "</div>"
      ],
      "text/plain": [
       "   PassengerId  Survived  Pclass   Age  SibSp  Parch     Fare Embarked  \\\n",
       "0            1       0.0       3  22.0      1      0   7.2500        S   \n",
       "1            2       1.0       1  38.0      1      0  71.2833        C   \n",
       "2            3       1.0       3  26.0      0      0   7.9250        S   \n",
       "3            4       1.0       1  35.0      1      0  53.1000        S   \n",
       "4            5       0.0       3  35.0      0      0   8.0500        S   \n",
       "\n",
       "   Title_Master  Title_Miss  ...  Dup_Cabin  Letter__B  Letter__C  Letter__D  \\\n",
       "0             0           0  ...      False          0          0          0   \n",
       "1             0           0  ...      False          0          1          0   \n",
       "2             0           1  ...       True          0          0          0   \n",
       "3             0           0  ...      False          0          1          0   \n",
       "4             0           0  ...       True          0          0          0   \n",
       "\n",
       "   Letter__E  Letter__F  Letter__G  Letter__None  Letter__T  Male  \n",
       "0          0          0          0             1          0     1  \n",
       "1          0          0          0             0          0     0  \n",
       "2          0          0          0             1          0     0  \n",
       "3          0          0          0             0          0     0  \n",
       "4          0          0          0             1          0     1  \n",
       "\n",
       "[5 rows x 27 columns]"
      ]
     },
     "execution_count": 749,
     "metadata": {},
     "output_type": "execute_result"
    }
   ],
   "source": [
    "tt.head()"
   ]
  },
  {
   "cell_type": "markdown",
   "id": "cf587898",
   "metadata": {},
   "source": [
    "### Embarked"
   ]
  },
  {
   "cell_type": "code",
   "execution_count": 750,
   "id": "b23c74ae",
   "metadata": {},
   "outputs": [],
   "source": [
    "tt = pd.get_dummies(tt, columns=['Embarked'], drop_first=True, prefix ='Embarked_')"
   ]
  },
  {
   "cell_type": "code",
   "execution_count": 751,
   "id": "b35061e5",
   "metadata": {},
   "outputs": [
    {
     "data": {
      "text/html": [
       "<div>\n",
       "<style scoped>\n",
       "    .dataframe tbody tr th:only-of-type {\n",
       "        vertical-align: middle;\n",
       "    }\n",
       "\n",
       "    .dataframe tbody tr th {\n",
       "        vertical-align: top;\n",
       "    }\n",
       "\n",
       "    .dataframe thead th {\n",
       "        text-align: right;\n",
       "    }\n",
       "</style>\n",
       "<table border=\"1\" class=\"dataframe\">\n",
       "  <thead>\n",
       "    <tr style=\"text-align: right;\">\n",
       "      <th></th>\n",
       "      <th>PassengerId</th>\n",
       "      <th>Survived</th>\n",
       "      <th>Pclass</th>\n",
       "      <th>Age</th>\n",
       "      <th>SibSp</th>\n",
       "      <th>Parch</th>\n",
       "      <th>Fare</th>\n",
       "      <th>Title_Master</th>\n",
       "      <th>Title_Miss</th>\n",
       "      <th>Title_Mr</th>\n",
       "      <th>...</th>\n",
       "      <th>Letter__C</th>\n",
       "      <th>Letter__D</th>\n",
       "      <th>Letter__E</th>\n",
       "      <th>Letter__F</th>\n",
       "      <th>Letter__G</th>\n",
       "      <th>Letter__None</th>\n",
       "      <th>Letter__T</th>\n",
       "      <th>Male</th>\n",
       "      <th>Embarked__Q</th>\n",
       "      <th>Embarked__S</th>\n",
       "    </tr>\n",
       "  </thead>\n",
       "  <tbody>\n",
       "    <tr>\n",
       "      <th>0</th>\n",
       "      <td>1</td>\n",
       "      <td>0.0</td>\n",
       "      <td>3</td>\n",
       "      <td>22.0</td>\n",
       "      <td>1</td>\n",
       "      <td>0</td>\n",
       "      <td>7.2500</td>\n",
       "      <td>0</td>\n",
       "      <td>0</td>\n",
       "      <td>1</td>\n",
       "      <td>...</td>\n",
       "      <td>0</td>\n",
       "      <td>0</td>\n",
       "      <td>0</td>\n",
       "      <td>0</td>\n",
       "      <td>0</td>\n",
       "      <td>1</td>\n",
       "      <td>0</td>\n",
       "      <td>1</td>\n",
       "      <td>0</td>\n",
       "      <td>1</td>\n",
       "    </tr>\n",
       "    <tr>\n",
       "      <th>1</th>\n",
       "      <td>2</td>\n",
       "      <td>1.0</td>\n",
       "      <td>1</td>\n",
       "      <td>38.0</td>\n",
       "      <td>1</td>\n",
       "      <td>0</td>\n",
       "      <td>71.2833</td>\n",
       "      <td>0</td>\n",
       "      <td>0</td>\n",
       "      <td>0</td>\n",
       "      <td>...</td>\n",
       "      <td>1</td>\n",
       "      <td>0</td>\n",
       "      <td>0</td>\n",
       "      <td>0</td>\n",
       "      <td>0</td>\n",
       "      <td>0</td>\n",
       "      <td>0</td>\n",
       "      <td>0</td>\n",
       "      <td>0</td>\n",
       "      <td>0</td>\n",
       "    </tr>\n",
       "    <tr>\n",
       "      <th>2</th>\n",
       "      <td>3</td>\n",
       "      <td>1.0</td>\n",
       "      <td>3</td>\n",
       "      <td>26.0</td>\n",
       "      <td>0</td>\n",
       "      <td>0</td>\n",
       "      <td>7.9250</td>\n",
       "      <td>0</td>\n",
       "      <td>1</td>\n",
       "      <td>0</td>\n",
       "      <td>...</td>\n",
       "      <td>0</td>\n",
       "      <td>0</td>\n",
       "      <td>0</td>\n",
       "      <td>0</td>\n",
       "      <td>0</td>\n",
       "      <td>1</td>\n",
       "      <td>0</td>\n",
       "      <td>0</td>\n",
       "      <td>0</td>\n",
       "      <td>1</td>\n",
       "    </tr>\n",
       "    <tr>\n",
       "      <th>3</th>\n",
       "      <td>4</td>\n",
       "      <td>1.0</td>\n",
       "      <td>1</td>\n",
       "      <td>35.0</td>\n",
       "      <td>1</td>\n",
       "      <td>0</td>\n",
       "      <td>53.1000</td>\n",
       "      <td>0</td>\n",
       "      <td>0</td>\n",
       "      <td>0</td>\n",
       "      <td>...</td>\n",
       "      <td>1</td>\n",
       "      <td>0</td>\n",
       "      <td>0</td>\n",
       "      <td>0</td>\n",
       "      <td>0</td>\n",
       "      <td>0</td>\n",
       "      <td>0</td>\n",
       "      <td>0</td>\n",
       "      <td>0</td>\n",
       "      <td>1</td>\n",
       "    </tr>\n",
       "    <tr>\n",
       "      <th>4</th>\n",
       "      <td>5</td>\n",
       "      <td>0.0</td>\n",
       "      <td>3</td>\n",
       "      <td>35.0</td>\n",
       "      <td>0</td>\n",
       "      <td>0</td>\n",
       "      <td>8.0500</td>\n",
       "      <td>0</td>\n",
       "      <td>0</td>\n",
       "      <td>1</td>\n",
       "      <td>...</td>\n",
       "      <td>0</td>\n",
       "      <td>0</td>\n",
       "      <td>0</td>\n",
       "      <td>0</td>\n",
       "      <td>0</td>\n",
       "      <td>1</td>\n",
       "      <td>0</td>\n",
       "      <td>1</td>\n",
       "      <td>0</td>\n",
       "      <td>1</td>\n",
       "    </tr>\n",
       "  </tbody>\n",
       "</table>\n",
       "<p>5 rows × 28 columns</p>\n",
       "</div>"
      ],
      "text/plain": [
       "   PassengerId  Survived  Pclass   Age  SibSp  Parch     Fare  Title_Master  \\\n",
       "0            1       0.0       3  22.0      1      0   7.2500             0   \n",
       "1            2       1.0       1  38.0      1      0  71.2833             0   \n",
       "2            3       1.0       3  26.0      0      0   7.9250             0   \n",
       "3            4       1.0       1  35.0      1      0  53.1000             0   \n",
       "4            5       0.0       3  35.0      0      0   8.0500             0   \n",
       "\n",
       "   Title_Miss  Title_Mr  ...  Letter__C  Letter__D  Letter__E  Letter__F  \\\n",
       "0           0         1  ...          0          0          0          0   \n",
       "1           0         0  ...          1          0          0          0   \n",
       "2           1         0  ...          0          0          0          0   \n",
       "3           0         0  ...          1          0          0          0   \n",
       "4           0         1  ...          0          0          0          0   \n",
       "\n",
       "   Letter__G  Letter__None  Letter__T  Male  Embarked__Q  Embarked__S  \n",
       "0          0             1          0     1            0            1  \n",
       "1          0             0          0     0            0            0  \n",
       "2          0             1          0     0            0            1  \n",
       "3          0             0          0     0            0            1  \n",
       "4          0             1          0     1            0            1  \n",
       "\n",
       "[5 rows x 28 columns]"
      ]
     },
     "execution_count": 751,
     "metadata": {},
     "output_type": "execute_result"
    }
   ],
   "source": [
    "tt.head()"
   ]
  },
  {
   "cell_type": "code",
   "execution_count": 752,
   "id": "83d3a579",
   "metadata": {},
   "outputs": [
    {
     "data": {
      "text/html": [
       "<div>\n",
       "<style scoped>\n",
       "    .dataframe tbody tr th:only-of-type {\n",
       "        vertical-align: middle;\n",
       "    }\n",
       "\n",
       "    .dataframe tbody tr th {\n",
       "        vertical-align: top;\n",
       "    }\n",
       "\n",
       "    .dataframe thead th {\n",
       "        text-align: right;\n",
       "    }\n",
       "</style>\n",
       "<table border=\"1\" class=\"dataframe\">\n",
       "  <thead>\n",
       "    <tr style=\"text-align: right;\">\n",
       "      <th></th>\n",
       "      <th>PassengerId</th>\n",
       "      <th>Survived</th>\n",
       "      <th>Pclass</th>\n",
       "      <th>Age</th>\n",
       "      <th>SibSp</th>\n",
       "      <th>Parch</th>\n",
       "      <th>Fare</th>\n",
       "      <th>Title_Master</th>\n",
       "      <th>Title_Miss</th>\n",
       "      <th>Title_Mr</th>\n",
       "      <th>...</th>\n",
       "      <th>Letter__C</th>\n",
       "      <th>Letter__D</th>\n",
       "      <th>Letter__E</th>\n",
       "      <th>Letter__F</th>\n",
       "      <th>Letter__G</th>\n",
       "      <th>Letter__None</th>\n",
       "      <th>Letter__T</th>\n",
       "      <th>Male</th>\n",
       "      <th>Embarked__Q</th>\n",
       "      <th>Embarked__S</th>\n",
       "    </tr>\n",
       "  </thead>\n",
       "  <tbody>\n",
       "    <tr>\n",
       "      <th>413</th>\n",
       "      <td>1305</td>\n",
       "      <td>NaN</td>\n",
       "      <td>3</td>\n",
       "      <td>NaN</td>\n",
       "      <td>0</td>\n",
       "      <td>0</td>\n",
       "      <td>8.0500</td>\n",
       "      <td>0</td>\n",
       "      <td>0</td>\n",
       "      <td>1</td>\n",
       "      <td>...</td>\n",
       "      <td>0</td>\n",
       "      <td>0</td>\n",
       "      <td>0</td>\n",
       "      <td>0</td>\n",
       "      <td>0</td>\n",
       "      <td>1</td>\n",
       "      <td>0</td>\n",
       "      <td>1</td>\n",
       "      <td>0</td>\n",
       "      <td>1</td>\n",
       "    </tr>\n",
       "    <tr>\n",
       "      <th>414</th>\n",
       "      <td>1306</td>\n",
       "      <td>NaN</td>\n",
       "      <td>1</td>\n",
       "      <td>39.0</td>\n",
       "      <td>0</td>\n",
       "      <td>0</td>\n",
       "      <td>108.9000</td>\n",
       "      <td>0</td>\n",
       "      <td>0</td>\n",
       "      <td>0</td>\n",
       "      <td>...</td>\n",
       "      <td>1</td>\n",
       "      <td>0</td>\n",
       "      <td>0</td>\n",
       "      <td>0</td>\n",
       "      <td>0</td>\n",
       "      <td>0</td>\n",
       "      <td>0</td>\n",
       "      <td>0</td>\n",
       "      <td>0</td>\n",
       "      <td>0</td>\n",
       "    </tr>\n",
       "    <tr>\n",
       "      <th>415</th>\n",
       "      <td>1307</td>\n",
       "      <td>NaN</td>\n",
       "      <td>3</td>\n",
       "      <td>38.5</td>\n",
       "      <td>0</td>\n",
       "      <td>0</td>\n",
       "      <td>7.2500</td>\n",
       "      <td>0</td>\n",
       "      <td>0</td>\n",
       "      <td>1</td>\n",
       "      <td>...</td>\n",
       "      <td>0</td>\n",
       "      <td>0</td>\n",
       "      <td>0</td>\n",
       "      <td>0</td>\n",
       "      <td>0</td>\n",
       "      <td>1</td>\n",
       "      <td>0</td>\n",
       "      <td>1</td>\n",
       "      <td>0</td>\n",
       "      <td>1</td>\n",
       "    </tr>\n",
       "    <tr>\n",
       "      <th>416</th>\n",
       "      <td>1308</td>\n",
       "      <td>NaN</td>\n",
       "      <td>3</td>\n",
       "      <td>NaN</td>\n",
       "      <td>0</td>\n",
       "      <td>0</td>\n",
       "      <td>8.0500</td>\n",
       "      <td>0</td>\n",
       "      <td>0</td>\n",
       "      <td>1</td>\n",
       "      <td>...</td>\n",
       "      <td>0</td>\n",
       "      <td>0</td>\n",
       "      <td>0</td>\n",
       "      <td>0</td>\n",
       "      <td>0</td>\n",
       "      <td>1</td>\n",
       "      <td>0</td>\n",
       "      <td>1</td>\n",
       "      <td>0</td>\n",
       "      <td>1</td>\n",
       "    </tr>\n",
       "    <tr>\n",
       "      <th>417</th>\n",
       "      <td>1309</td>\n",
       "      <td>NaN</td>\n",
       "      <td>3</td>\n",
       "      <td>NaN</td>\n",
       "      <td>1</td>\n",
       "      <td>1</td>\n",
       "      <td>22.3583</td>\n",
       "      <td>1</td>\n",
       "      <td>0</td>\n",
       "      <td>0</td>\n",
       "      <td>...</td>\n",
       "      <td>0</td>\n",
       "      <td>0</td>\n",
       "      <td>0</td>\n",
       "      <td>0</td>\n",
       "      <td>0</td>\n",
       "      <td>1</td>\n",
       "      <td>0</td>\n",
       "      <td>1</td>\n",
       "      <td>0</td>\n",
       "      <td>0</td>\n",
       "    </tr>\n",
       "  </tbody>\n",
       "</table>\n",
       "<p>5 rows × 28 columns</p>\n",
       "</div>"
      ],
      "text/plain": [
       "     PassengerId  Survived  Pclass   Age  SibSp  Parch      Fare  \\\n",
       "413         1305       NaN       3   NaN      0      0    8.0500   \n",
       "414         1306       NaN       1  39.0      0      0  108.9000   \n",
       "415         1307       NaN       3  38.5      0      0    7.2500   \n",
       "416         1308       NaN       3   NaN      0      0    8.0500   \n",
       "417         1309       NaN       3   NaN      1      1   22.3583   \n",
       "\n",
       "     Title_Master  Title_Miss  Title_Mr  ...  Letter__C  Letter__D  Letter__E  \\\n",
       "413             0           0         1  ...          0          0          0   \n",
       "414             0           0         0  ...          1          0          0   \n",
       "415             0           0         1  ...          0          0          0   \n",
       "416             0           0         1  ...          0          0          0   \n",
       "417             1           0         0  ...          0          0          0   \n",
       "\n",
       "     Letter__F  Letter__G  Letter__None  Letter__T  Male  Embarked__Q  \\\n",
       "413          0          0             1          0     1            0   \n",
       "414          0          0             0          0     0            0   \n",
       "415          0          0             1          0     1            0   \n",
       "416          0          0             1          0     1            0   \n",
       "417          0          0             1          0     1            0   \n",
       "\n",
       "     Embarked__S  \n",
       "413            1  \n",
       "414            0  \n",
       "415            1  \n",
       "416            1  \n",
       "417            0  \n",
       "\n",
       "[5 rows x 28 columns]"
      ]
     },
     "execution_count": 752,
     "metadata": {},
     "output_type": "execute_result"
    }
   ],
   "source": [
    "tt.tail()"
   ]
  },
  {
   "cell_type": "markdown",
   "id": "4014a94e",
   "metadata": {},
   "source": [
    "## Using Miss Forest"
   ]
  },
  {
   "cell_type": "code",
   "execution_count": 753,
   "id": "de1550d6",
   "metadata": {},
   "outputs": [
    {
     "data": {
      "text/plain": [
       "Index(['PassengerId', 'Survived', 'Pclass', 'Age', 'SibSp', 'Parch', 'Fare',\n",
       "       'Title_Master', 'Title_Miss', 'Title_Mr', 'Title_Mrs', 'Title_Nobility',\n",
       "       'Title_Officer', 'Title_Rev', 'Dup_Ticket', 'Ticket_Length',\n",
       "       'Dup_Cabin', 'Letter__B', 'Letter__C', 'Letter__D', 'Letter__E',\n",
       "       'Letter__F', 'Letter__G', 'Letter__None', 'Letter__T', 'Male',\n",
       "       'Embarked__Q', 'Embarked__S'],\n",
       "      dtype='object')"
      ]
     },
     "execution_count": 753,
     "metadata": {},
     "output_type": "execute_result"
    }
   ],
   "source": [
    "tt.columns"
   ]
  },
  {
   "cell_type": "markdown",
   "id": "82d41cf7",
   "metadata": {},
   "source": [
    "#### Split into train and test"
   ]
  },
  {
   "cell_type": "code",
   "execution_count": 754,
   "id": "3aec822b",
   "metadata": {},
   "outputs": [],
   "source": [
    "train = tt.iloc[0:891].copy()"
   ]
  },
  {
   "cell_type": "code",
   "execution_count": 755,
   "id": "01526e45",
   "metadata": {},
   "outputs": [],
   "source": [
    "test = tt.iloc[891:1309].copy()"
   ]
  },
  {
   "cell_type": "code",
   "execution_count": 758,
   "id": "8efffb41",
   "metadata": {},
   "outputs": [],
   "source": [
    "imputation_train = train[[#'PassengerId', \n",
    "    'Survived', 'Pclass', 'Age', 'SibSp', 'Parch', 'Fare',\n",
    "       'Title_Master', 'Title_Miss', 'Title_Mr', 'Title_Mrs',\n",
    "       'Title_Nobility', 'Title_Officer', 'Title_Rev', 'Dup_Ticket',\n",
    "       'Ticket_Length', 'Dup_Cabin', 'Male', 'Letter__B', 'Letter__C',\n",
    "       'Letter__D', 'Letter__E', 'Letter__F', 'Letter__G', 'Letter__None',\n",
    "       'Letter__T', 'Embarked__Q', 'Embarked__S']].copy()"
   ]
  },
  {
   "cell_type": "code",
   "execution_count": 762,
   "id": "cd6d513e",
   "metadata": {},
   "outputs": [],
   "source": [
    "imputation_test = test[[#'PassengerId', #'Survived', \n",
    "    'Pclass', 'Age', 'SibSp', 'Parch', 'Fare',\n",
    "       'Title_Master', 'Title_Miss', 'Title_Mr', 'Title_Mrs',\n",
    "       'Title_Nobility', 'Title_Officer', 'Title_Rev', 'Dup_Ticket',\n",
    "       'Ticket_Length', 'Dup_Cabin', 'Male', 'Letter__B', 'Letter__C',\n",
    "       'Letter__D', 'Letter__E', 'Letter__F', 'Letter__G', 'Letter__None',\n",
    "       'Letter__T', 'Embarked__Q', 'Embarked__S']].copy()"
   ]
  },
  {
   "cell_type": "markdown",
   "id": "9d9bb99b",
   "metadata": {},
   "source": [
    "#### Imputing train "
   ]
  },
  {
   "cell_type": "code",
   "execution_count": 763,
   "id": "6f3f9c13",
   "metadata": {},
   "outputs": [],
   "source": [
    "import sklearn.neighbors._base\n",
    "import sys\n",
    "sys.modules['sklearn.neighbors.base'] = sklearn.neighbors._base\n",
    "from missingpy import MissForest"
   ]
  },
  {
   "cell_type": "code",
   "execution_count": 764,
   "id": "9c244e65",
   "metadata": {},
   "outputs": [
    {
     "name": "stderr",
     "output_type": "stream",
     "text": [
      "C:\\Users\\euana\\anaconda3\\lib\\site-packages\\sklearn\\ensemble\\_forest.py:396: FutureWarning: Criterion 'mse' was deprecated in v1.0 and will be removed in version 1.2. Use `criterion='squared_error'` which is equivalent.\n",
      "  warn(\n"
     ]
    },
    {
     "name": "stdout",
     "output_type": "stream",
     "text": [
      "Iteration: 0\n"
     ]
    },
    {
     "name": "stderr",
     "output_type": "stream",
     "text": [
      "C:\\Users\\euana\\anaconda3\\lib\\site-packages\\sklearn\\ensemble\\_forest.py:396: FutureWarning: Criterion 'mse' was deprecated in v1.0 and will be removed in version 1.2. Use `criterion='squared_error'` which is equivalent.\n",
      "  warn(\n"
     ]
    },
    {
     "name": "stdout",
     "output_type": "stream",
     "text": [
      "Iteration: 1\n"
     ]
    },
    {
     "name": "stderr",
     "output_type": "stream",
     "text": [
      "C:\\Users\\euana\\anaconda3\\lib\\site-packages\\sklearn\\ensemble\\_forest.py:396: FutureWarning: Criterion 'mse' was deprecated in v1.0 and will be removed in version 1.2. Use `criterion='squared_error'` which is equivalent.\n",
      "  warn(\n"
     ]
    },
    {
     "name": "stdout",
     "output_type": "stream",
     "text": [
      "Iteration: 2\n"
     ]
    },
    {
     "name": "stderr",
     "output_type": "stream",
     "text": [
      "C:\\Users\\euana\\anaconda3\\lib\\site-packages\\sklearn\\ensemble\\_forest.py:396: FutureWarning: Criterion 'mse' was deprecated in v1.0 and will be removed in version 1.2. Use `criterion='squared_error'` which is equivalent.\n",
      "  warn(\n"
     ]
    },
    {
     "name": "stdout",
     "output_type": "stream",
     "text": [
      "Iteration: 3\n"
     ]
    }
   ],
   "source": [
    "imputer = MissForest()\n",
    "mf_train = imputer.fit_transform(imputation_train)\n",
    "mf_train = pd.DataFrame(mf_train, columns = imputation_train.columns)"
   ]
  },
  {
   "cell_type": "code",
   "execution_count": 765,
   "id": "0d90faa3",
   "metadata": {},
   "outputs": [
    {
     "data": {
      "text/plain": [
       "Survived          0\n",
       "Pclass            0\n",
       "Age               0\n",
       "SibSp             0\n",
       "Parch             0\n",
       "Fare              0\n",
       "Title_Master      0\n",
       "Title_Miss        0\n",
       "Title_Mr          0\n",
       "Title_Mrs         0\n",
       "Title_Nobility    0\n",
       "Title_Officer     0\n",
       "Title_Rev         0\n",
       "Dup_Ticket        0\n",
       "Ticket_Length     0\n",
       "Dup_Cabin         0\n",
       "Male              0\n",
       "Letter__B         0\n",
       "Letter__C         0\n",
       "Letter__D         0\n",
       "Letter__E         0\n",
       "Letter__F         0\n",
       "Letter__G         0\n",
       "Letter__None      0\n",
       "Letter__T         0\n",
       "Embarked__Q       0\n",
       "Embarked__S       0\n",
       "dtype: int64"
      ]
     },
     "execution_count": 765,
     "metadata": {},
     "output_type": "execute_result"
    }
   ],
   "source": [
    "mf_train.isna().sum()"
   ]
  },
  {
   "cell_type": "markdown",
   "id": "db7e4ccd",
   "metadata": {},
   "source": [
    "#### Imputing test"
   ]
  },
  {
   "cell_type": "code",
   "execution_count": 766,
   "id": "0e7b7b35",
   "metadata": {},
   "outputs": [
    {
     "name": "stderr",
     "output_type": "stream",
     "text": [
      "C:\\Users\\euana\\anaconda3\\lib\\site-packages\\sklearn\\ensemble\\_forest.py:396: FutureWarning: Criterion 'mse' was deprecated in v1.0 and will be removed in version 1.2. Use `criterion='squared_error'` which is equivalent.\n",
      "  warn(\n",
      "C:\\Users\\euana\\anaconda3\\lib\\site-packages\\sklearn\\ensemble\\_forest.py:396: FutureWarning: Criterion 'mse' was deprecated in v1.0 and will be removed in version 1.2. Use `criterion='squared_error'` which is equivalent.\n",
      "  warn(\n"
     ]
    },
    {
     "name": "stdout",
     "output_type": "stream",
     "text": [
      "Iteration: 0\n"
     ]
    },
    {
     "name": "stderr",
     "output_type": "stream",
     "text": [
      "C:\\Users\\euana\\anaconda3\\lib\\site-packages\\sklearn\\ensemble\\_forest.py:396: FutureWarning: Criterion 'mse' was deprecated in v1.0 and will be removed in version 1.2. Use `criterion='squared_error'` which is equivalent.\n",
      "  warn(\n",
      "C:\\Users\\euana\\anaconda3\\lib\\site-packages\\sklearn\\ensemble\\_forest.py:396: FutureWarning: Criterion 'mse' was deprecated in v1.0 and will be removed in version 1.2. Use `criterion='squared_error'` which is equivalent.\n",
      "  warn(\n"
     ]
    },
    {
     "name": "stdout",
     "output_type": "stream",
     "text": [
      "Iteration: 1\n"
     ]
    },
    {
     "name": "stderr",
     "output_type": "stream",
     "text": [
      "C:\\Users\\euana\\anaconda3\\lib\\site-packages\\sklearn\\ensemble\\_forest.py:396: FutureWarning: Criterion 'mse' was deprecated in v1.0 and will be removed in version 1.2. Use `criterion='squared_error'` which is equivalent.\n",
      "  warn(\n",
      "C:\\Users\\euana\\anaconda3\\lib\\site-packages\\sklearn\\ensemble\\_forest.py:396: FutureWarning: Criterion 'mse' was deprecated in v1.0 and will be removed in version 1.2. Use `criterion='squared_error'` which is equivalent.\n",
      "  warn(\n"
     ]
    },
    {
     "name": "stdout",
     "output_type": "stream",
     "text": [
      "Iteration: 2\n"
     ]
    },
    {
     "name": "stderr",
     "output_type": "stream",
     "text": [
      "C:\\Users\\euana\\anaconda3\\lib\\site-packages\\sklearn\\ensemble\\_forest.py:396: FutureWarning: Criterion 'mse' was deprecated in v1.0 and will be removed in version 1.2. Use `criterion='squared_error'` which is equivalent.\n",
      "  warn(\n",
      "C:\\Users\\euana\\anaconda3\\lib\\site-packages\\sklearn\\ensemble\\_forest.py:396: FutureWarning: Criterion 'mse' was deprecated in v1.0 and will be removed in version 1.2. Use `criterion='squared_error'` which is equivalent.\n",
      "  warn(\n"
     ]
    },
    {
     "name": "stdout",
     "output_type": "stream",
     "text": [
      "Iteration: 3\n"
     ]
    }
   ],
   "source": [
    "imputer = MissForest()\n",
    "mf_test = imputer.fit_transform(imputation_test)\n",
    "mf_test = pd.DataFrame(mf_test, columns = imputation_test.columns)"
   ]
  },
  {
   "cell_type": "code",
   "execution_count": 767,
   "id": "1f5e6be4",
   "metadata": {},
   "outputs": [
    {
     "data": {
      "text/plain": [
       "Pclass            0\n",
       "Age               0\n",
       "SibSp             0\n",
       "Parch             0\n",
       "Fare              0\n",
       "Title_Master      0\n",
       "Title_Miss        0\n",
       "Title_Mr          0\n",
       "Title_Mrs         0\n",
       "Title_Nobility    0\n",
       "Title_Officer     0\n",
       "Title_Rev         0\n",
       "Dup_Ticket        0\n",
       "Ticket_Length     0\n",
       "Dup_Cabin         0\n",
       "Male              0\n",
       "Letter__B         0\n",
       "Letter__C         0\n",
       "Letter__D         0\n",
       "Letter__E         0\n",
       "Letter__F         0\n",
       "Letter__G         0\n",
       "Letter__None      0\n",
       "Letter__T         0\n",
       "Embarked__Q       0\n",
       "Embarked__S       0\n",
       "dtype: int64"
      ]
     },
     "execution_count": 767,
     "metadata": {},
     "output_type": "execute_result"
    }
   ],
   "source": [
    "mf_test.isna().sum()"
   ]
  },
  {
   "cell_type": "markdown",
   "id": "e2845d11",
   "metadata": {},
   "source": [
    "#### Re-joining train and test"
   ]
  },
  {
   "cell_type": "code",
   "execution_count": 768,
   "id": "692b2e7c",
   "metadata": {},
   "outputs": [],
   "source": [
    "mf_train['PassengerId'] = train['PassengerId']"
   ]
  },
  {
   "cell_type": "code",
   "execution_count": 769,
   "id": "84988009",
   "metadata": {},
   "outputs": [],
   "source": [
    "mf_test['PassengerId'] = test['PassengerId']"
   ]
  },
  {
   "cell_type": "markdown",
   "id": "1bf39de1",
   "metadata": {},
   "source": [
    "# Exploring the relationship between Survived and other Features"
   ]
  },
  {
   "cell_type": "code",
   "execution_count": 788,
   "id": "272b98c9",
   "metadata": {},
   "outputs": [],
   "source": [
    "survived = round((mf_train.query('Survived == 1').shape[0]/mf_train.shape[0])*100,1)"
   ]
  },
  {
   "cell_type": "code",
   "execution_count": 789,
   "id": "fcb198b5",
   "metadata": {},
   "outputs": [],
   "source": [
    "death = 100 - survived"
   ]
  },
  {
   "cell_type": "code",
   "execution_count": 791,
   "id": "6c602455",
   "metadata": {},
   "outputs": [
    {
     "name": "stdout",
     "output_type": "stream",
     "text": [
      "38.4% survived, and 61.6% did not survive.\n"
     ]
    }
   ],
   "source": [
    "print(f\"{survived}% survived, and {death}% did not survive.\")"
   ]
  },
  {
   "cell_type": "markdown",
   "id": "8f286094",
   "metadata": {},
   "source": [
    "## Pclass"
   ]
  },
  {
   "cell_type": "code",
   "execution_count": 844,
   "id": "5db6d8b7",
   "metadata": {},
   "outputs": [],
   "source": [
    "Pclass_totals = mf_train.Pclass.value_counts()"
   ]
  },
  {
   "cell_type": "code",
   "execution_count": 852,
   "id": "6026231a",
   "metadata": {},
   "outputs": [
    {
     "data": {
      "text/plain": [
       "3.0    491\n",
       "1.0    216\n",
       "2.0    184\n",
       "Name: Pclass, dtype: int64"
      ]
     },
     "execution_count": 852,
     "metadata": {},
     "output_type": "execute_result"
    }
   ],
   "source": [
    "Pclass_totals"
   ]
  },
  {
   "cell_type": "code",
   "execution_count": 845,
   "id": "23be49f9",
   "metadata": {},
   "outputs": [],
   "source": [
    "Pclass_percentage = mf_train.Pclass.value_counts(normalize=True).round(2)"
   ]
  },
  {
   "cell_type": "code",
   "execution_count": 846,
   "id": "eef32c04",
   "metadata": {},
   "outputs": [
    {
     "data": {
      "text/plain": [
       "3.0    491\n",
       "1.0    216\n",
       "2.0    184\n",
       "Name: Pclass, dtype: int64"
      ]
     },
     "execution_count": 846,
     "metadata": {},
     "output_type": "execute_result"
    }
   ],
   "source": [
    "Pclass_totals"
   ]
  },
  {
   "cell_type": "code",
   "execution_count": 847,
   "id": "bf3109ef",
   "metadata": {},
   "outputs": [
    {
     "data": {
      "text/plain": [
       "3.0    0.55\n",
       "1.0    0.24\n",
       "2.0    0.21\n",
       "Name: Pclass, dtype: float64"
      ]
     },
     "execution_count": 847,
     "metadata": {},
     "output_type": "execute_result"
    }
   ],
   "source": [
    "Pclass_percentage"
   ]
  },
  {
   "cell_type": "code",
   "execution_count": 831,
   "id": "1a0838ce",
   "metadata": {},
   "outputs": [],
   "source": [
    "Pclass_survived = train.groupby('Pclass').Survived.value_counts()"
   ]
  },
  {
   "cell_type": "code",
   "execution_count": 832,
   "id": "9aa7dd30",
   "metadata": {},
   "outputs": [
    {
     "data": {
      "text/plain": [
       "<AxesSubplot:xlabel='Survived'>"
      ]
     },
     "execution_count": 832,
     "metadata": {},
     "output_type": "execute_result"
    },
    {
     "data": {
      "image/png": "[encoded data removed]",
      "text/plain": [
       "<Figure size 640x480 with 1 Axes>"
      ]
     },
     "metadata": {},
     "output_type": "display_data"
    }
   ],
   "source": [
    "Pclass_survived.unstack(level=0).plot(kind='bar', subplots=False, colormap=\"cividis\")"
   ]
  },
  {
   "cell_type": "code",
   "execution_count": 833,
   "id": "e675d371",
   "metadata": {},
   "outputs": [],
   "source": [
    "Pclass_survived_normalized = train.groupby('Pclass').Survived.value_counts(normalize=True)"
   ]
  },
  {
   "cell_type": "code",
   "execution_count": 834,
   "id": "1902723f",
   "metadata": {},
   "outputs": [
    {
     "data": {
      "text/plain": [
       "<AxesSubplot:xlabel='Survived'>"
      ]
     },
     "execution_count": 834,
     "metadata": {},
     "output_type": "execute_result"
    },
    {
     "data": {
      "image/png": "[encoded data removed]",
      "text/plain": [
       "<Figure size 640x480 with 1 Axes>"
      ]
     },
     "metadata": {},
     "output_type": "display_data"
    }
   ],
   "source": [
    "Pclass_survived_normalized.unstack(level=0).plot(kind='bar', subplots=False, colormap=\"cividis\")"
   ]
  },
  {
   "cell_type": "code",
   "execution_count": 850,
   "id": "e4ddbc8d",
   "metadata": {},
   "outputs": [],
   "source": [
    "Pclass_survived_combined = pd.concat([Pclass_survived,\n",
    "                                      Pclass_survived_normalized],\n",
    "                                      axis=1,\n",
    "                                      keys=('Proportion', 'Count', 'Percentage')).round(2)\n"
   ]
  },
  {
   "cell_type": "code",
   "execution_count": 851,
   "id": "ca989ae4",
   "metadata": {},
   "outputs": [
    {
     "data": {
      "text/html": [
       "<div>\n",
       "<style scoped>\n",
       "    .dataframe tbody tr th:only-of-type {\n",
       "        vertical-align: middle;\n",
       "    }\n",
       "\n",
       "    .dataframe tbody tr th {\n",
       "        vertical-align: top;\n",
       "    }\n",
       "\n",
       "    .dataframe thead th {\n",
       "        text-align: right;\n",
       "    }\n",
       "</style>\n",
       "<table border=\"1\" class=\"dataframe\">\n",
       "  <thead>\n",
       "    <tr style=\"text-align: right;\">\n",
       "      <th></th>\n",
       "      <th></th>\n",
       "      <th>Proportion</th>\n",
       "      <th>Count</th>\n",
       "    </tr>\n",
       "    <tr>\n",
       "      <th>Pclass</th>\n",
       "      <th>Survived</th>\n",
       "      <th></th>\n",
       "      <th></th>\n",
       "    </tr>\n",
       "  </thead>\n",
       "  <tbody>\n",
       "    <tr>\n",
       "      <th rowspan=\"2\" valign=\"top\">1</th>\n",
       "      <th>1.0</th>\n",
       "      <td>136</td>\n",
       "      <td>0.63</td>\n",
       "    </tr>\n",
       "    <tr>\n",
       "      <th>0.0</th>\n",
       "      <td>80</td>\n",
       "      <td>0.37</td>\n",
       "    </tr>\n",
       "    <tr>\n",
       "      <th rowspan=\"2\" valign=\"top\">2</th>\n",
       "      <th>0.0</th>\n",
       "      <td>97</td>\n",
       "      <td>0.53</td>\n",
       "    </tr>\n",
       "    <tr>\n",
       "      <th>1.0</th>\n",
       "      <td>87</td>\n",
       "      <td>0.47</td>\n",
       "    </tr>\n",
       "    <tr>\n",
       "      <th rowspan=\"2\" valign=\"top\">3</th>\n",
       "      <th>0.0</th>\n",
       "      <td>372</td>\n",
       "      <td>0.76</td>\n",
       "    </tr>\n",
       "    <tr>\n",
       "      <th>1.0</th>\n",
       "      <td>119</td>\n",
       "      <td>0.24</td>\n",
       "    </tr>\n",
       "  </tbody>\n",
       "</table>\n",
       "</div>"
      ],
      "text/plain": [
       "                 Proportion  Count\n",
       "Pclass Survived                   \n",
       "1      1.0              136   0.63\n",
       "       0.0               80   0.37\n",
       "2      0.0               97   0.53\n",
       "       1.0               87   0.47\n",
       "3      0.0              372   0.76\n",
       "       1.0              119   0.24"
      ]
     },
     "execution_count": 851,
     "metadata": {},
     "output_type": "execute_result"
    }
   ],
   "source": [
    "Pclass_survived_combined"
   ]
  },
  {
   "cell_type": "code",
   "execution_count": 803,
   "id": "d0038713",
   "metadata": {},
   "outputs": [],
   "source": [
    "Pclass_mean_survived = mf_train[['Pclass', 'Survived']].groupby(['Pclass'], as_index=False).mean()"
   ]
  },
  {
   "cell_type": "code",
   "execution_count": 800,
   "id": "3e4b1f56",
   "metadata": {},
   "outputs": [
    {
     "data": {
      "text/html": [
       "<div>\n",
       "<style scoped>\n",
       "    .dataframe tbody tr th:only-of-type {\n",
       "        vertical-align: middle;\n",
       "    }\n",
       "\n",
       "    .dataframe tbody tr th {\n",
       "        vertical-align: top;\n",
       "    }\n",
       "\n",
       "    .dataframe thead th {\n",
       "        text-align: right;\n",
       "    }\n",
       "</style>\n",
       "<table border=\"1\" class=\"dataframe\">\n",
       "  <thead>\n",
       "    <tr style=\"text-align: right;\">\n",
       "      <th></th>\n",
       "      <th>Pclass</th>\n",
       "      <th>Survived</th>\n",
       "    </tr>\n",
       "  </thead>\n",
       "  <tbody>\n",
       "    <tr>\n",
       "      <th>0</th>\n",
       "      <td>1.0</td>\n",
       "      <td>0.629630</td>\n",
       "    </tr>\n",
       "    <tr>\n",
       "      <th>1</th>\n",
       "      <td>2.0</td>\n",
       "      <td>0.472826</td>\n",
       "    </tr>\n",
       "    <tr>\n",
       "      <th>2</th>\n",
       "      <td>3.0</td>\n",
       "      <td>0.242363</td>\n",
       "    </tr>\n",
       "  </tbody>\n",
       "</table>\n",
       "</div>"
      ],
      "text/plain": [
       "   Pclass  Survived\n",
       "0     1.0  0.629630\n",
       "1     2.0  0.472826\n",
       "2     3.0  0.242363"
      ]
     },
     "execution_count": 800,
     "metadata": {},
     "output_type": "execute_result"
    }
   ],
   "source": [
    "Pclass_mean_survived"
   ]
  },
  {
   "cell_type": "code",
   "execution_count": 812,
   "id": "9f61baf3",
   "metadata": {},
   "outputs": [
    {
     "data": {
      "image/png": "[encoded data removed]",
      "text/plain": [
       "<Figure size 640x480 with 1 Axes>"
      ]
     },
     "metadata": {},
     "output_type": "display_data"
    }
   ],
   "source": [
    "ax = sns.barplot(data=mf_train, x=\"Pclass\", y=\"Survived\", palette=\"winter\")"
   ]
  },
  {
   "cell_type": "code",
   "execution_count": 813,
   "id": "16413641",
   "metadata": {},
   "outputs": [
    {
     "data": {
      "image/png": "[encoded data removed]",
      "text/plain": [
       "<Figure size 640x480 with 1 Axes>"
      ]
     },
     "metadata": {},
     "output_type": "display_data"
    }
   ],
   "source": [
    "ax = sns.barplot(data=mf_train, x=\"Pclass\", y=\"Survived\", hue=\"Male\", palette=\"winter\")"
   ]
  },
  {
   "cell_type": "markdown",
   "id": "4d19db95",
   "metadata": {},
   "source": [
    "NOTES: The lower Pclass number (higher class) the better the chance of survival. Pclass 3 accounts for 55% of all passengers in the mf_train dataset but has Survived at 24%, compared to Pclass 1 which accounts for 24.3% of all passenger with Survived at 62.96%. "
   ]
  },
  {
   "cell_type": "markdown",
   "id": "4b6ced0d",
   "metadata": {},
   "source": [
    "# Sex"
   ]
  },
  {
   "cell_type": "code",
   "execution_count": 872,
   "id": "3b2803bf",
   "metadata": {},
   "outputs": [],
   "source": [
    "Sex_totals = mf_train.Male.value_counts()"
   ]
  },
  {
   "cell_type": "code",
   "execution_count": 873,
   "id": "0da5c1c4",
   "metadata": {},
   "outputs": [],
   "source": [
    "Sex_percentage = mf_train.Male.value_counts(normalize=True).round(2)"
   ]
  },
  {
   "cell_type": "code",
   "execution_count": 874,
   "id": "315a834e",
   "metadata": {},
   "outputs": [
    {
     "data": {
      "text/plain": [
       "(1.0    577\n",
       " 0.0    314\n",
       " Name: Male, dtype: int64,\n",
       " 1.0    0.65\n",
       " 0.0    0.35\n",
       " Name: Male, dtype: float64)"
      ]
     },
     "execution_count": 874,
     "metadata": {},
     "output_type": "execute_result"
    }
   ],
   "source": [
    "Sex_totals, Sex_percentage"
   ]
  },
  {
   "cell_type": "code",
   "execution_count": 859,
   "id": "f829bea3",
   "metadata": {},
   "outputs": [],
   "source": [
    "Sex_survived = mf_train.groupby('Male').Survived.value_counts()"
   ]
  },
  {
   "cell_type": "code",
   "execution_count": 865,
   "id": "5b44ae97",
   "metadata": {},
   "outputs": [],
   "source": [
    "Sex_survived_normalized = mf_train.groupby('Male').Survived.value_counts(normalize=True).round(2)"
   ]
  },
  {
   "cell_type": "code",
   "execution_count": 866,
   "id": "728b6abb",
   "metadata": {},
   "outputs": [
    {
     "data": {
      "text/plain": [
       "(Male  Survived\n",
       " 0.0   1.0         233\n",
       "       0.0          81\n",
       " 1.0   0.0         468\n",
       "       1.0         109\n",
       " Name: Survived, dtype: int64,\n",
       " Male  Survived\n",
       " 0.0   1.0         0.74\n",
       "       0.0         0.26\n",
       " 1.0   0.0         0.81\n",
       "       1.0         0.19\n",
       " Name: Survived, dtype: float64)"
      ]
     },
     "execution_count": 866,
     "metadata": {},
     "output_type": "execute_result"
    }
   ],
   "source": [
    "Sex_survived, Sex_survived_normalized"
   ]
  },
  {
   "cell_type": "code",
   "execution_count": 870,
   "id": "11bc6114",
   "metadata": {},
   "outputs": [
    {
     "data": {
      "text/plain": [
       "<AxesSubplot:xlabel='Survived'>"
      ]
     },
     "execution_count": 870,
     "metadata": {},
     "output_type": "execute_result"
    },
    {
     "data": {
      "image/png": "[encoded data removed]",
      "text/plain": [
       "<Figure size 640x480 with 1 Axes>"
      ]
     },
     "metadata": {},
     "output_type": "display_data"
    }
   ],
   "source": [
    "Sex_survived.unstack(level=0).plot(kind='bar', subplots=False)"
   ]
  },
  {
   "cell_type": "code",
   "execution_count": 871,
   "id": "2f2132ff",
   "metadata": {},
   "outputs": [
    {
     "data": {
      "text/plain": [
       "<AxesSubplot:xlabel='Survived'>"
      ]
     },
     "execution_count": 871,
     "metadata": {},
     "output_type": "execute_result"
    },
    {
     "data": {
      "image/png": "[encoded data removed]",
      "text/plain": [
       "<Figure size 640x480 with 1 Axes>"
      ]
     },
     "metadata": {},
     "output_type": "display_data"
    }
   ],
   "source": [
    "Sex_survived_normalized.unstack(level=0).plot(kind='bar', subplots=False)"
   ]
  },
  {
   "cell_type": "code",
   "execution_count": 868,
   "id": "d42d9c15",
   "metadata": {},
   "outputs": [],
   "source": [
    "Sex_survived_combined = pd.concat([Sex_survived,\n",
    "                 Sex_survived_normalized],\n",
    "                 axis=1,\n",
    "                 keys=('Proportion', 'Count', 'Percentage')).round(2)\n"
   ]
  },
  {
   "cell_type": "code",
   "execution_count": 869,
   "id": "c45c0fde",
   "metadata": {},
   "outputs": [
    {
     "data": {
      "text/html": [
       "<div>\n",
       "<style scoped>\n",
       "    .dataframe tbody tr th:only-of-type {\n",
       "        vertical-align: middle;\n",
       "    }\n",
       "\n",
       "    .dataframe tbody tr th {\n",
       "        vertical-align: top;\n",
       "    }\n",
       "\n",
       "    .dataframe thead th {\n",
       "        text-align: right;\n",
       "    }\n",
       "</style>\n",
       "<table border=\"1\" class=\"dataframe\">\n",
       "  <thead>\n",
       "    <tr style=\"text-align: right;\">\n",
       "      <th></th>\n",
       "      <th></th>\n",
       "      <th>Proportion</th>\n",
       "      <th>Count</th>\n",
       "    </tr>\n",
       "    <tr>\n",
       "      <th>Male</th>\n",
       "      <th>Survived</th>\n",
       "      <th></th>\n",
       "      <th></th>\n",
       "    </tr>\n",
       "  </thead>\n",
       "  <tbody>\n",
       "    <tr>\n",
       "      <th rowspan=\"2\" valign=\"top\">0.0</th>\n",
       "      <th>1.0</th>\n",
       "      <td>233</td>\n",
       "      <td>0.74</td>\n",
       "    </tr>\n",
       "    <tr>\n",
       "      <th>0.0</th>\n",
       "      <td>81</td>\n",
       "      <td>0.26</td>\n",
       "    </tr>\n",
       "    <tr>\n",
       "      <th rowspan=\"2\" valign=\"top\">1.0</th>\n",
       "      <th>0.0</th>\n",
       "      <td>468</td>\n",
       "      <td>0.81</td>\n",
       "    </tr>\n",
       "    <tr>\n",
       "      <th>1.0</th>\n",
       "      <td>109</td>\n",
       "      <td>0.19</td>\n",
       "    </tr>\n",
       "  </tbody>\n",
       "</table>\n",
       "</div>"
      ],
      "text/plain": [
       "               Proportion  Count\n",
       "Male Survived                   \n",
       "0.0  1.0              233   0.74\n",
       "     0.0               81   0.26\n",
       "1.0  0.0              468   0.81\n",
       "     1.0              109   0.19"
      ]
     },
     "execution_count": 869,
     "metadata": {},
     "output_type": "execute_result"
    }
   ],
   "source": [
    "Sex_survived_combined"
   ]
  },
  {
   "cell_type": "markdown",
   "id": "deae7da1",
   "metadata": {},
   "source": [
    "NOTES: Female has 74% survival rate, compared to Male 19%. Of the 891 passengers in our data, 65% were men and 35% were men."
   ]
  },
  {
   "cell_type": "markdown",
   "id": "973b738e",
   "metadata": {},
   "source": [
    "## Age"
   ]
  },
  {
   "cell_type": "code",
   "execution_count": 888,
   "id": "0fe70fe9",
   "metadata": {},
   "outputs": [
    {
     "data": {
      "image/png": "[encoded data removed]",
      "text/plain": [
       "<Figure size 640x480 with 1 Axes>"
      ]
     },
     "metadata": {},
     "output_type": "display_data"
    }
   ],
   "source": [
    "ax = sns.histplot(data=mf_train, x=\"Age\", stat=\"percent\", kde=True)"
   ]
  },
  {
   "cell_type": "code",
   "execution_count": 887,
   "id": "e0b7d2de",
   "metadata": {},
   "outputs": [
    {
     "data": {
      "image/png": "[encoded data removed]",
      "text/plain": [
       "<Figure size 640x480 with 1 Axes>"
      ]
     },
     "metadata": {},
     "output_type": "display_data"
    }
   ],
   "source": [
    "ax = sns.histplot(data=mf_train, x=\"Age\", stat=\"percent\", binwidth=10, kde=True)"
   ]
  },
  {
   "cell_type": "code",
   "execution_count": 900,
   "id": "b85081d7",
   "metadata": {},
   "outputs": [
    {
     "data": {
      "image/png": "[encoded data removed]",
      "text/plain": [
       "<Figure size 640x480 with 1 Axes>"
      ]
     },
     "metadata": {},
     "output_type": "display_data"
    }
   ],
   "source": [
    "ax = sns.histplot(data=mf_train, x=\"Age\", stat=\"percent\", bins=5, hue=\"Survived\")"
   ]
  },
  {
   "cell_type": "code",
   "execution_count": 899,
   "id": "a06275a5",
   "metadata": {},
   "outputs": [
    {
     "data": {
      "image/png": "[encoded data removed]",
      "text/plain": [
       "<Figure size 640x480 with 1 Axes>"
      ]
     },
     "metadata": {},
     "output_type": "display_data"
    }
   ],
   "source": [
    "ax = sns.histplot(data=mf_train, x=\"Age\", stat=\"percent\", element=\"step\", bins=5, hue=\"Survived\")"
   ]
  },
  {
   "cell_type": "code",
   "execution_count": 897,
   "id": "895a5fd0",
   "metadata": {},
   "outputs": [
    {
     "data": {
      "image/png": "[encoded data removed]",
      "text/plain": [
       "<Figure size 640x480 with 1 Axes>"
      ]
     },
     "metadata": {},
     "output_type": "display_data"
    }
   ],
   "source": [
    "ax = sns.histplot(data=mf_train, x=\"Age\", stat=\"percent\", hue=\"Survived\", bins=5)"
   ]
  },
  {
   "cell_type": "markdown",
   "id": "47604f32",
   "metadata": {},
   "source": [
    "NOTES: Age closely resembles a gaussian distribution, with a long right-tail. Over 50% are passengers are under the age of 30. Speaking to Age's relationship with survival, only under 16's chance of surviving was greater than that of not surviving. At the other under of the distribution, over 64's chance of surviving was very slim."
   ]
  },
  {
   "cell_type": "markdown",
   "id": "fc790b2a",
   "metadata": {},
   "source": [
    "## SibSp"
   ]
  },
  {
   "cell_type": "code",
   "execution_count": 936,
   "id": "a853e059",
   "metadata": {},
   "outputs": [
    {
     "data": {
      "text/plain": [
       "283"
      ]
     },
     "execution_count": 936,
     "metadata": {},
     "output_type": "execute_result"
    }
   ],
   "source": [
    "mf_train.query('SibSp > 0 ').shape[0]"
   ]
  },
  {
   "cell_type": "code",
   "execution_count": 901,
   "id": "f6069c41",
   "metadata": {},
   "outputs": [
    {
     "data": {
      "text/plain": [
       "0.0    608\n",
       "1.0    209\n",
       "2.0     28\n",
       "4.0     18\n",
       "3.0     16\n",
       "8.0      7\n",
       "5.0      5\n",
       "Name: SibSp, dtype: int64"
      ]
     },
     "execution_count": 901,
     "metadata": {},
     "output_type": "execute_result"
    }
   ],
   "source": [
    "mf_train.SibSp.value_counts()"
   ]
  },
  {
   "cell_type": "code",
   "execution_count": 910,
   "id": "8410e40c",
   "metadata": {},
   "outputs": [
    {
     "data": {
      "text/html": [
       "<div>\n",
       "<style scoped>\n",
       "    .dataframe tbody tr th:only-of-type {\n",
       "        vertical-align: middle;\n",
       "    }\n",
       "\n",
       "    .dataframe tbody tr th {\n",
       "        vertical-align: top;\n",
       "    }\n",
       "\n",
       "    .dataframe thead th {\n",
       "        text-align: right;\n",
       "    }\n",
       "</style>\n",
       "<table border=\"1\" class=\"dataframe\">\n",
       "  <thead>\n",
       "    <tr style=\"text-align: right;\">\n",
       "      <th></th>\n",
       "      <th>Survived</th>\n",
       "      <th>Pclass</th>\n",
       "      <th>Age</th>\n",
       "      <th>SibSp</th>\n",
       "      <th>Parch</th>\n",
       "      <th>Fare</th>\n",
       "      <th>Title_Master</th>\n",
       "      <th>Title_Miss</th>\n",
       "      <th>Title_Mr</th>\n",
       "      <th>Title_Mrs</th>\n",
       "      <th>...</th>\n",
       "      <th>Letter__C</th>\n",
       "      <th>Letter__D</th>\n",
       "      <th>Letter__E</th>\n",
       "      <th>Letter__F</th>\n",
       "      <th>Letter__G</th>\n",
       "      <th>Letter__None</th>\n",
       "      <th>Letter__T</th>\n",
       "      <th>Embarked__Q</th>\n",
       "      <th>Embarked__S</th>\n",
       "      <th>PassengerId</th>\n",
       "    </tr>\n",
       "  </thead>\n",
       "  <tbody>\n",
       "    <tr>\n",
       "      <th>159</th>\n",
       "      <td>0.0</td>\n",
       "      <td>3.0</td>\n",
       "      <td>8.598967</td>\n",
       "      <td>8.0</td>\n",
       "      <td>2.0</td>\n",
       "      <td>69.55</td>\n",
       "      <td>1.0</td>\n",
       "      <td>0.0</td>\n",
       "      <td>0.0</td>\n",
       "      <td>0.0</td>\n",
       "      <td>...</td>\n",
       "      <td>0.0</td>\n",
       "      <td>0.0</td>\n",
       "      <td>0.0</td>\n",
       "      <td>0.0</td>\n",
       "      <td>0.0</td>\n",
       "      <td>1.0</td>\n",
       "      <td>0.0</td>\n",
       "      <td>0.0</td>\n",
       "      <td>1.0</td>\n",
       "      <td>160</td>\n",
       "    </tr>\n",
       "    <tr>\n",
       "      <th>180</th>\n",
       "      <td>0.0</td>\n",
       "      <td>3.0</td>\n",
       "      <td>16.625167</td>\n",
       "      <td>8.0</td>\n",
       "      <td>2.0</td>\n",
       "      <td>69.55</td>\n",
       "      <td>0.0</td>\n",
       "      <td>1.0</td>\n",
       "      <td>0.0</td>\n",
       "      <td>0.0</td>\n",
       "      <td>...</td>\n",
       "      <td>0.0</td>\n",
       "      <td>0.0</td>\n",
       "      <td>0.0</td>\n",
       "      <td>0.0</td>\n",
       "      <td>0.0</td>\n",
       "      <td>1.0</td>\n",
       "      <td>0.0</td>\n",
       "      <td>0.0</td>\n",
       "      <td>1.0</td>\n",
       "      <td>181</td>\n",
       "    </tr>\n",
       "    <tr>\n",
       "      <th>201</th>\n",
       "      <td>0.0</td>\n",
       "      <td>3.0</td>\n",
       "      <td>18.133000</td>\n",
       "      <td>8.0</td>\n",
       "      <td>2.0</td>\n",
       "      <td>69.55</td>\n",
       "      <td>0.0</td>\n",
       "      <td>0.0</td>\n",
       "      <td>1.0</td>\n",
       "      <td>0.0</td>\n",
       "      <td>...</td>\n",
       "      <td>0.0</td>\n",
       "      <td>0.0</td>\n",
       "      <td>0.0</td>\n",
       "      <td>0.0</td>\n",
       "      <td>0.0</td>\n",
       "      <td>1.0</td>\n",
       "      <td>0.0</td>\n",
       "      <td>0.0</td>\n",
       "      <td>1.0</td>\n",
       "      <td>202</td>\n",
       "    </tr>\n",
       "    <tr>\n",
       "      <th>324</th>\n",
       "      <td>0.0</td>\n",
       "      <td>3.0</td>\n",
       "      <td>18.133000</td>\n",
       "      <td>8.0</td>\n",
       "      <td>2.0</td>\n",
       "      <td>69.55</td>\n",
       "      <td>0.0</td>\n",
       "      <td>0.0</td>\n",
       "      <td>1.0</td>\n",
       "      <td>0.0</td>\n",
       "      <td>...</td>\n",
       "      <td>0.0</td>\n",
       "      <td>0.0</td>\n",
       "      <td>0.0</td>\n",
       "      <td>0.0</td>\n",
       "      <td>0.0</td>\n",
       "      <td>1.0</td>\n",
       "      <td>0.0</td>\n",
       "      <td>0.0</td>\n",
       "      <td>1.0</td>\n",
       "      <td>325</td>\n",
       "    </tr>\n",
       "    <tr>\n",
       "      <th>792</th>\n",
       "      <td>0.0</td>\n",
       "      <td>3.0</td>\n",
       "      <td>16.625167</td>\n",
       "      <td>8.0</td>\n",
       "      <td>2.0</td>\n",
       "      <td>69.55</td>\n",
       "      <td>0.0</td>\n",
       "      <td>1.0</td>\n",
       "      <td>0.0</td>\n",
       "      <td>0.0</td>\n",
       "      <td>...</td>\n",
       "      <td>0.0</td>\n",
       "      <td>0.0</td>\n",
       "      <td>0.0</td>\n",
       "      <td>0.0</td>\n",
       "      <td>0.0</td>\n",
       "      <td>1.0</td>\n",
       "      <td>0.0</td>\n",
       "      <td>0.0</td>\n",
       "      <td>1.0</td>\n",
       "      <td>793</td>\n",
       "    </tr>\n",
       "    <tr>\n",
       "      <th>846</th>\n",
       "      <td>0.0</td>\n",
       "      <td>3.0</td>\n",
       "      <td>18.133000</td>\n",
       "      <td>8.0</td>\n",
       "      <td>2.0</td>\n",
       "      <td>69.55</td>\n",
       "      <td>0.0</td>\n",
       "      <td>0.0</td>\n",
       "      <td>1.0</td>\n",
       "      <td>0.0</td>\n",
       "      <td>...</td>\n",
       "      <td>0.0</td>\n",
       "      <td>0.0</td>\n",
       "      <td>0.0</td>\n",
       "      <td>0.0</td>\n",
       "      <td>0.0</td>\n",
       "      <td>1.0</td>\n",
       "      <td>0.0</td>\n",
       "      <td>0.0</td>\n",
       "      <td>1.0</td>\n",
       "      <td>847</td>\n",
       "    </tr>\n",
       "    <tr>\n",
       "      <th>863</th>\n",
       "      <td>0.0</td>\n",
       "      <td>3.0</td>\n",
       "      <td>16.625167</td>\n",
       "      <td>8.0</td>\n",
       "      <td>2.0</td>\n",
       "      <td>69.55</td>\n",
       "      <td>0.0</td>\n",
       "      <td>1.0</td>\n",
       "      <td>0.0</td>\n",
       "      <td>0.0</td>\n",
       "      <td>...</td>\n",
       "      <td>0.0</td>\n",
       "      <td>0.0</td>\n",
       "      <td>0.0</td>\n",
       "      <td>0.0</td>\n",
       "      <td>0.0</td>\n",
       "      <td>1.0</td>\n",
       "      <td>0.0</td>\n",
       "      <td>0.0</td>\n",
       "      <td>1.0</td>\n",
       "      <td>864</td>\n",
       "    </tr>\n",
       "  </tbody>\n",
       "</table>\n",
       "<p>7 rows × 28 columns</p>\n",
       "</div>"
      ],
      "text/plain": [
       "     Survived  Pclass        Age  SibSp  Parch   Fare  Title_Master  \\\n",
       "159       0.0     3.0   8.598967    8.0    2.0  69.55           1.0   \n",
       "180       0.0     3.0  16.625167    8.0    2.0  69.55           0.0   \n",
       "201       0.0     3.0  18.133000    8.0    2.0  69.55           0.0   \n",
       "324       0.0     3.0  18.133000    8.0    2.0  69.55           0.0   \n",
       "792       0.0     3.0  16.625167    8.0    2.0  69.55           0.0   \n",
       "846       0.0     3.0  18.133000    8.0    2.0  69.55           0.0   \n",
       "863       0.0     3.0  16.625167    8.0    2.0  69.55           0.0   \n",
       "\n",
       "     Title_Miss  Title_Mr  Title_Mrs  ...  Letter__C  Letter__D  Letter__E  \\\n",
       "159         0.0       0.0        0.0  ...        0.0        0.0        0.0   \n",
       "180         1.0       0.0        0.0  ...        0.0        0.0        0.0   \n",
       "201         0.0       1.0        0.0  ...        0.0        0.0        0.0   \n",
       "324         0.0       1.0        0.0  ...        0.0        0.0        0.0   \n",
       "792         1.0       0.0        0.0  ...        0.0        0.0        0.0   \n",
       "846         0.0       1.0        0.0  ...        0.0        0.0        0.0   \n",
       "863         1.0       0.0        0.0  ...        0.0        0.0        0.0   \n",
       "\n",
       "     Letter__F  Letter__G  Letter__None  Letter__T  Embarked__Q  Embarked__S  \\\n",
       "159        0.0        0.0           1.0        0.0          0.0          1.0   \n",
       "180        0.0        0.0           1.0        0.0          0.0          1.0   \n",
       "201        0.0        0.0           1.0        0.0          0.0          1.0   \n",
       "324        0.0        0.0           1.0        0.0          0.0          1.0   \n",
       "792        0.0        0.0           1.0        0.0          0.0          1.0   \n",
       "846        0.0        0.0           1.0        0.0          0.0          1.0   \n",
       "863        0.0        0.0           1.0        0.0          0.0          1.0   \n",
       "\n",
       "     PassengerId  \n",
       "159          160  \n",
       "180          181  \n",
       "201          202  \n",
       "324          325  \n",
       "792          793  \n",
       "846          847  \n",
       "863          864  \n",
       "\n",
       "[7 rows x 28 columns]"
      ]
     },
     "execution_count": 910,
     "metadata": {},
     "output_type": "execute_result"
    }
   ],
   "source": [
    "mf_train.query('SibSp == 8')"
   ]
  },
  {
   "cell_type": "markdown",
   "id": "d4968d37",
   "metadata": {},
   "source": [
    "NB: The number of SibSp does not mean all are listed in the train dataset."
   ]
  },
  {
   "cell_type": "code",
   "execution_count": 904,
   "id": "ef631278",
   "metadata": {},
   "outputs": [],
   "source": [
    "SibSp_survived = mf_train.groupby('SibSp').Survived.value_counts().round(2)"
   ]
  },
  {
   "cell_type": "code",
   "execution_count": 906,
   "id": "33c6545f",
   "metadata": {},
   "outputs": [],
   "source": [
    "SibSp_survived_normalized = mf_train.groupby('SibSp').Survived.value_counts(normalize=True).round(2)"
   ]
  },
  {
   "cell_type": "code",
   "execution_count": 967,
   "id": "eb6412b9",
   "metadata": {},
   "outputs": [],
   "source": [
    "SibSp_survived_combined = pd.concat([SibSp_survived,\n",
    "                 SibSp_survived_normalized],\n",
    "                 axis=1,\n",
    "                 keys=('Count', 'Percentage')).round(2)\n"
   ]
  },
  {
   "cell_type": "code",
   "execution_count": 968,
   "id": "2b807aa3",
   "metadata": {},
   "outputs": [
    {
     "data": {
      "text/html": [
       "<div>\n",
       "<style scoped>\n",
       "    .dataframe tbody tr th:only-of-type {\n",
       "        vertical-align: middle;\n",
       "    }\n",
       "\n",
       "    .dataframe tbody tr th {\n",
       "        vertical-align: top;\n",
       "    }\n",
       "\n",
       "    .dataframe thead th {\n",
       "        text-align: right;\n",
       "    }\n",
       "</style>\n",
       "<table border=\"1\" class=\"dataframe\">\n",
       "  <thead>\n",
       "    <tr style=\"text-align: right;\">\n",
       "      <th></th>\n",
       "      <th></th>\n",
       "      <th>Count</th>\n",
       "      <th>Percentage</th>\n",
       "    </tr>\n",
       "    <tr>\n",
       "      <th></th>\n",
       "      <th>Survived</th>\n",
       "      <th></th>\n",
       "      <th></th>\n",
       "    </tr>\n",
       "  </thead>\n",
       "  <tbody>\n",
       "    <tr>\n",
       "      <th rowspan=\"2\" valign=\"top\">0.0</th>\n",
       "      <th>0.0</th>\n",
       "      <td>445.0</td>\n",
       "      <td>0.65</td>\n",
       "    </tr>\n",
       "    <tr>\n",
       "      <th>1.0</th>\n",
       "      <td>233.0</td>\n",
       "      <td>0.35</td>\n",
       "    </tr>\n",
       "    <tr>\n",
       "      <th rowspan=\"2\" valign=\"top\">1.0</th>\n",
       "      <th>1.0</th>\n",
       "      <td>65.0</td>\n",
       "      <td>0.54</td>\n",
       "    </tr>\n",
       "    <tr>\n",
       "      <th>0.0</th>\n",
       "      <td>53.0</td>\n",
       "      <td>0.46</td>\n",
       "    </tr>\n",
       "    <tr>\n",
       "      <th rowspan=\"2\" valign=\"top\">2.0</th>\n",
       "      <th>0.0</th>\n",
       "      <td>40.0</td>\n",
       "      <td>0.54</td>\n",
       "    </tr>\n",
       "    <tr>\n",
       "      <th>1.0</th>\n",
       "      <td>40.0</td>\n",
       "      <td>0.46</td>\n",
       "    </tr>\n",
       "    <tr>\n",
       "      <th rowspan=\"2\" valign=\"top\">3.0</th>\n",
       "      <th>1.0</th>\n",
       "      <td>3.0</td>\n",
       "      <td>0.25</td>\n",
       "    </tr>\n",
       "    <tr>\n",
       "      <th>0.0</th>\n",
       "      <td>2.0</td>\n",
       "      <td>0.75</td>\n",
       "    </tr>\n",
       "    <tr>\n",
       "      <th>4.0</th>\n",
       "      <th>0.0</th>\n",
       "      <td>4.0</td>\n",
       "      <td>0.83</td>\n",
       "    </tr>\n",
       "    <tr>\n",
       "      <th rowspan=\"2\" valign=\"top\">5.0</th>\n",
       "      <th>0.0</th>\n",
       "      <td>4.0</td>\n",
       "      <td>1.00</td>\n",
       "    </tr>\n",
       "    <tr>\n",
       "      <th>1.0</th>\n",
       "      <td>1.0</td>\n",
       "      <td>NaN</td>\n",
       "    </tr>\n",
       "    <tr>\n",
       "      <th>6.0</th>\n",
       "      <th>0.0</th>\n",
       "      <td>1.0</td>\n",
       "      <td>NaN</td>\n",
       "    </tr>\n",
       "    <tr>\n",
       "      <th>4.0</th>\n",
       "      <th>1.0</th>\n",
       "      <td>NaN</td>\n",
       "      <td>0.17</td>\n",
       "    </tr>\n",
       "    <tr>\n",
       "      <th>8.0</th>\n",
       "      <th>0.0</th>\n",
       "      <td>NaN</td>\n",
       "      <td>1.00</td>\n",
       "    </tr>\n",
       "  </tbody>\n",
       "</table>\n",
       "</div>"
      ],
      "text/plain": [
       "              Count  Percentage\n",
       "    Survived                   \n",
       "0.0 0.0       445.0        0.65\n",
       "    1.0       233.0        0.35\n",
       "1.0 1.0        65.0        0.54\n",
       "    0.0        53.0        0.46\n",
       "2.0 0.0        40.0        0.54\n",
       "    1.0        40.0        0.46\n",
       "3.0 1.0         3.0        0.25\n",
       "    0.0         2.0        0.75\n",
       "4.0 0.0         4.0        0.83\n",
       "5.0 0.0         4.0        1.00\n",
       "    1.0         1.0         NaN\n",
       "6.0 0.0         1.0         NaN\n",
       "4.0 1.0         NaN        0.17\n",
       "8.0 0.0         NaN        1.00"
      ]
     },
     "execution_count": 968,
     "metadata": {},
     "output_type": "execute_result"
    }
   ],
   "source": [
    "SibSp_survived_combined"
   ]
  },
  {
   "cell_type": "code",
   "execution_count": 924,
   "id": "9668c90b",
   "metadata": {},
   "outputs": [
    {
     "data": {
      "image/png": "[encoded data removed]",
      "text/plain": [
       "<Figure size 640x480 with 1 Axes>"
      ]
     },
     "metadata": {},
     "output_type": "display_data"
    }
   ],
   "source": [
    "ax = sns.barplot(data=mf_train, x=\"SibSp\", y=\"Survived\")"
   ]
  },
  {
   "cell_type": "code",
   "execution_count": 931,
   "id": "684ca826",
   "metadata": {},
   "outputs": [
    {
     "data": {
      "image/png": "[encoded data removed]",
      "text/plain": [
       "<Figure size 640x480 with 1 Axes>"
      ]
     },
     "metadata": {},
     "output_type": "display_data"
    }
   ],
   "source": [
    "ax = sns.histplot(data=mf_train, x=\"SibSp\", stat=\"percent\", element=\"step\", bins=8, hue=\"Survived\")"
   ]
  },
  {
   "cell_type": "code",
   "execution_count": 932,
   "id": "cf9865ea",
   "metadata": {},
   "outputs": [
    {
     "data": {
      "image/png": "[encoded data removed]",
      "text/plain": [
       "<Figure size 640x480 with 1 Axes>"
      ]
     },
     "metadata": {},
     "output_type": "display_data"
    }
   ],
   "source": [
    "ax = sns.histplot(data=mf_train.query('SibSp > 0'), x=\"SibSp\", stat=\"percent\", element=\"step\", bins=7, hue=\"Survived\")"
   ]
  },
  {
   "cell_type": "markdown",
   "id": "54a335b6",
   "metadata": {},
   "source": [
    "NOTES: Of 891 passengers, 283 have SibSp. Having 1 or 2 SibSp increase chance of survival of above average, compared to any other value which has a below average chance of survival. I imagine that this is accounted for by married couples or small families. Having 3 or more siblings dramatically decreases chances of survival. "
   ]
  },
  {
   "cell_type": "markdown",
   "id": "eb365ee2",
   "metadata": {},
   "source": [
    "## Parch"
   ]
  },
  {
   "cell_type": "code",
   "execution_count": 937,
   "id": "23da0465",
   "metadata": {},
   "outputs": [
    {
     "data": {
      "text/plain": [
       "213"
      ]
     },
     "execution_count": 937,
     "metadata": {},
     "output_type": "execute_result"
    }
   ],
   "source": [
    "mf_train.query('Parch > 0 ').shape[0]"
   ]
  },
  {
   "cell_type": "code",
   "execution_count": 935,
   "id": "15011701",
   "metadata": {},
   "outputs": [
    {
     "data": {
      "text/plain": [
       "0.0    678\n",
       "1.0    118\n",
       "2.0     80\n",
       "5.0      5\n",
       "3.0      5\n",
       "4.0      4\n",
       "6.0      1\n",
       "Name: Parch, dtype: int64"
      ]
     },
     "execution_count": 935,
     "metadata": {},
     "output_type": "execute_result"
    }
   ],
   "source": [
    "mf_train.Parch.value_counts()"
   ]
  },
  {
   "cell_type": "code",
   "execution_count": 970,
   "id": "ad798e56",
   "metadata": {},
   "outputs": [],
   "source": [
    "Parch_survived = mf_train.groupby('Parch').Survived.value_counts()"
   ]
  },
  {
   "cell_type": "code",
   "execution_count": 973,
   "id": "af6631d0",
   "metadata": {},
   "outputs": [
    {
     "data": {
      "text/plain": [
       "Parch  Survived\n",
       "0.0    0.0         445\n",
       "       1.0         233\n",
       "1.0    1.0          65\n",
       "       0.0          53\n",
       "2.0    0.0          40\n",
       "       1.0          40\n",
       "3.0    1.0           3\n",
       "       0.0           2\n",
       "4.0    0.0           4\n",
       "5.0    0.0           4\n",
       "       1.0           1\n",
       "6.0    0.0           1\n",
       "Name: Survived, dtype: int64"
      ]
     },
     "execution_count": 973,
     "metadata": {},
     "output_type": "execute_result"
    }
   ],
   "source": [
    "Parch_survived"
   ]
  },
  {
   "cell_type": "code",
   "execution_count": 971,
   "id": "6a30d8ea",
   "metadata": {},
   "outputs": [],
   "source": [
    "Parch_survived_normalized = mf_train.groupby('Parch').Survived.value_counts(normalize=True)"
   ]
  },
  {
   "cell_type": "code",
   "execution_count": 974,
   "id": "d8513121",
   "metadata": {},
   "outputs": [
    {
     "data": {
      "text/plain": [
       "Parch  Survived\n",
       "0.0    0.0         0.656342\n",
       "       1.0         0.343658\n",
       "1.0    1.0         0.550847\n",
       "       0.0         0.449153\n",
       "2.0    0.0         0.500000\n",
       "       1.0         0.500000\n",
       "3.0    1.0         0.600000\n",
       "       0.0         0.400000\n",
       "4.0    0.0         1.000000\n",
       "5.0    0.0         0.800000\n",
       "       1.0         0.200000\n",
       "6.0    0.0         1.000000\n",
       "Name: Survived, dtype: float64"
      ]
     },
     "execution_count": 974,
     "metadata": {},
     "output_type": "execute_result"
    }
   ],
   "source": [
    "Parch_survived_normalized"
   ]
  },
  {
   "cell_type": "code",
   "execution_count": 977,
   "id": "91191e27",
   "metadata": {},
   "outputs": [],
   "source": [
    "Parch_survived_combined = pd.concat([Parch_survived,\n",
    "                 Parch_survived_normalized],\n",
    "                 axis=1,\n",
    "                 keys=('Count', 'Percentage')).round(2)"
   ]
  },
  {
   "cell_type": "code",
   "execution_count": 978,
   "id": "b3cffa11",
   "metadata": {},
   "outputs": [
    {
     "data": {
      "text/html": [
       "<div>\n",
       "<style scoped>\n",
       "    .dataframe tbody tr th:only-of-type {\n",
       "        vertical-align: middle;\n",
       "    }\n",
       "\n",
       "    .dataframe tbody tr th {\n",
       "        vertical-align: top;\n",
       "    }\n",
       "\n",
       "    .dataframe thead th {\n",
       "        text-align: right;\n",
       "    }\n",
       "</style>\n",
       "<table border=\"1\" class=\"dataframe\">\n",
       "  <thead>\n",
       "    <tr style=\"text-align: right;\">\n",
       "      <th></th>\n",
       "      <th></th>\n",
       "      <th>Count</th>\n",
       "      <th>Percentage</th>\n",
       "    </tr>\n",
       "    <tr>\n",
       "      <th>Parch</th>\n",
       "      <th>Survived</th>\n",
       "      <th></th>\n",
       "      <th></th>\n",
       "    </tr>\n",
       "  </thead>\n",
       "  <tbody>\n",
       "    <tr>\n",
       "      <th rowspan=\"2\" valign=\"top\">0.0</th>\n",
       "      <th>0.0</th>\n",
       "      <td>445</td>\n",
       "      <td>0.66</td>\n",
       "    </tr>\n",
       "    <tr>\n",
       "      <th>1.0</th>\n",
       "      <td>233</td>\n",
       "      <td>0.34</td>\n",
       "    </tr>\n",
       "    <tr>\n",
       "      <th rowspan=\"2\" valign=\"top\">1.0</th>\n",
       "      <th>1.0</th>\n",
       "      <td>65</td>\n",
       "      <td>0.55</td>\n",
       "    </tr>\n",
       "    <tr>\n",
       "      <th>0.0</th>\n",
       "      <td>53</td>\n",
       "      <td>0.45</td>\n",
       "    </tr>\n",
       "    <tr>\n",
       "      <th rowspan=\"2\" valign=\"top\">2.0</th>\n",
       "      <th>0.0</th>\n",
       "      <td>40</td>\n",
       "      <td>0.50</td>\n",
       "    </tr>\n",
       "    <tr>\n",
       "      <th>1.0</th>\n",
       "      <td>40</td>\n",
       "      <td>0.50</td>\n",
       "    </tr>\n",
       "    <tr>\n",
       "      <th rowspan=\"2\" valign=\"top\">3.0</th>\n",
       "      <th>1.0</th>\n",
       "      <td>3</td>\n",
       "      <td>0.60</td>\n",
       "    </tr>\n",
       "    <tr>\n",
       "      <th>0.0</th>\n",
       "      <td>2</td>\n",
       "      <td>0.40</td>\n",
       "    </tr>\n",
       "    <tr>\n",
       "      <th>4.0</th>\n",
       "      <th>0.0</th>\n",
       "      <td>4</td>\n",
       "      <td>1.00</td>\n",
       "    </tr>\n",
       "    <tr>\n",
       "      <th rowspan=\"2\" valign=\"top\">5.0</th>\n",
       "      <th>0.0</th>\n",
       "      <td>4</td>\n",
       "      <td>0.80</td>\n",
       "    </tr>\n",
       "    <tr>\n",
       "      <th>1.0</th>\n",
       "      <td>1</td>\n",
       "      <td>0.20</td>\n",
       "    </tr>\n",
       "    <tr>\n",
       "      <th>6.0</th>\n",
       "      <th>0.0</th>\n",
       "      <td>1</td>\n",
       "      <td>1.00</td>\n",
       "    </tr>\n",
       "  </tbody>\n",
       "</table>\n",
       "</div>"
      ],
      "text/plain": [
       "                Count  Percentage\n",
       "Parch Survived                   \n",
       "0.0   0.0         445        0.66\n",
       "      1.0         233        0.34\n",
       "1.0   1.0          65        0.55\n",
       "      0.0          53        0.45\n",
       "2.0   0.0          40        0.50\n",
       "      1.0          40        0.50\n",
       "3.0   1.0           3        0.60\n",
       "      0.0           2        0.40\n",
       "4.0   0.0           4        1.00\n",
       "5.0   0.0           4        0.80\n",
       "      1.0           1        0.20\n",
       "6.0   0.0           1        1.00"
      ]
     },
     "execution_count": 978,
     "metadata": {},
     "output_type": "execute_result"
    }
   ],
   "source": [
    "Parch_survived_combined"
   ]
  },
  {
   "cell_type": "code",
   "execution_count": 969,
   "id": "a43b0386",
   "metadata": {},
   "outputs": [
    {
     "data": {
      "image/png": "[encoded data removed]",
      "text/plain": [
       "<Figure size 640x480 with 1 Axes>"
      ]
     },
     "metadata": {},
     "output_type": "display_data"
    }
   ],
   "source": [
    "ax = sns.barplot(data=mf_train, x=\"Parch\", y=\"Survived\")"
   ]
  },
  {
   "cell_type": "code",
   "execution_count": 981,
   "id": "670b8f74",
   "metadata": {},
   "outputs": [
    {
     "data": {
      "image/png": "[encoded data removed]",
      "text/plain": [
       "<Figure size 640x480 with 1 Axes>"
      ]
     },
     "metadata": {},
     "output_type": "display_data"
    }
   ],
   "source": [
    "ax = sns.histplot(data=mf_train, x=\"Parch\", stat=\"percent\", element=\"step\", bins=6, hue=\"Survived\")"
   ]
  },
  {
   "cell_type": "code",
   "execution_count": 983,
   "id": "265bc87c",
   "metadata": {},
   "outputs": [
    {
     "data": {
      "image/png": "[encoded data removed]",
      "text/plain": [
       "<Figure size 640x480 with 1 Axes>"
      ]
     },
     "metadata": {},
     "output_type": "display_data"
    }
   ],
   "source": [
    "ax = sns.histplot(data=mf_train.query('Parch > 0'), x=\"Parch\", stat=\"percent\", element=\"step\", bins=5, hue=\"Survived\")"
   ]
  },
  {
   "cell_type": "markdown",
   "id": "11597d1d",
   "metadata": {},
   "source": [
    "NOTES: Nearly 300 passengers, or 1/3 of the data, have Parch relations. Having 1, 2 or 3 Parch relation increase chance of survival of above average, compared to any other value which has a below average chance of survival. Greater than 3 Parch relationships greatly decreases chance of survival, where as having none means a little below average chance of survival."
   ]
  },
  {
   "cell_type": "markdown",
   "id": "95af1280",
   "metadata": {},
   "source": [
    "## Fare"
   ]
  },
  {
   "cell_type": "code",
   "execution_count": 1000,
   "id": "29be1d72",
   "metadata": {},
   "outputs": [
    {
     "data": {
      "image/png": "[encoded data removed]",
      "text/plain": [
       "<Figure size 577.472x500 with 1 Axes>"
      ]
     },
     "metadata": {},
     "output_type": "display_data"
    }
   ],
   "source": [
    "ax = sns.displot(data=mf_train, x=\"Fare\", hue=\"Survived\", kde=True, binwidth=10)"
   ]
  },
  {
   "cell_type": "code",
   "execution_count": 1001,
   "id": "295266ff",
   "metadata": {},
   "outputs": [
    {
     "data": {
      "image/png": "[encoded data removed]",
      "text/plain": [
       "<Figure size 577.472x500 with 1 Axes>"
      ]
     },
     "metadata": {},
     "output_type": "display_data"
    }
   ],
   "source": [
    "ax = sns.displot(data=mf_train.query('Fare>50'), x=\"Fare\", hue=\"Survived\", kde=True, binwidth=10)"
   ]
  },
  {
   "cell_type": "code",
   "execution_count": null,
   "id": "7df96e3d",
   "metadata": {},
   "outputs": [],
   "source": []
  },
  {
   "cell_type": "markdown",
   "id": "4bde0c74",
   "metadata": {},
   "source": [
    "## Title"
   ]
  },
  {
   "cell_type": "markdown",
   "id": "e95a05b7",
   "metadata": {},
   "source": [
    "## Ticket"
   ]
  },
  {
   "cell_type": "markdown",
   "id": "664e95ad",
   "metadata": {},
   "source": [
    "### Duplicate Ticket"
   ]
  },
  {
   "cell_type": "markdown",
   "id": "eae0dc01",
   "metadata": {},
   "source": [
    "### Ticket Length"
   ]
  },
  {
   "cell_type": "markdown",
   "id": "41f1ddf8",
   "metadata": {},
   "source": [
    "## Cabin"
   ]
  },
  {
   "cell_type": "markdown",
   "id": "c52f9218",
   "metadata": {},
   "source": [
    "### Duplicate Cabin"
   ]
  },
  {
   "cell_type": "markdown",
   "id": "608a6720",
   "metadata": {},
   "source": [
    "### Cabin Letter"
   ]
  },
  {
   "cell_type": "markdown",
   "id": "25c3d1b3",
   "metadata": {},
   "source": [
    "## Embarked"
   ]
  }
 ],
 "metadata": {
  "kernelspec": {
   "display_name": "Python 3 (ipykernel)",
   "language": "python",
   "name": "python3"
  },
  "language_info": {
   "codemirror_mode": {
    "name": "ipython",
    "version": 3
   },
   "file_extension": ".py",
   "mimetype": "text/x-python",
   "name": "python",
   "nbconvert_exporter": "python",
   "pygments_lexer": "ipython3",
   "version": "3.9.13"
  }
 },
 "nbformat": 4,
 "nbformat_minor": 5
}
