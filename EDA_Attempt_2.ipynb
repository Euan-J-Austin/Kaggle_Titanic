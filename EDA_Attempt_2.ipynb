{
 "cells": [
  {
   "cell_type": "markdown",
   "id": "26bb1acf",
   "metadata": {},
   "source": [
    "# Import"
   ]
  },
  {
   "cell_type": "code",
   "execution_count": 716,
   "id": "6696a857",
   "metadata": {},
   "outputs": [],
   "source": [
    "import pandas as pd\n",
    "import numpy as np\n",
    "import matplotlib.pyplot as plt\n",
    "%matplotlib inline\n",
    "import seaborn as sns\n",
    "sns.set()\n",
    "import mytools as mt"
   ]
  },
  {
   "cell_type": "code",
   "execution_count": 717,
   "id": "236f5b56",
   "metadata": {},
   "outputs": [],
   "source": [
    "train = pd.read_csv(\"train.csv\")\n",
    "test = pd.read_csv(\"test.csv\")\n",
    "tt = pd.concat([train, test])"
   ]
  },
  {
   "cell_type": "markdown",
   "id": "edd8a73c",
   "metadata": {},
   "source": [
    "# Describing the data"
   ]
  },
  {
   "cell_type": "code",
   "execution_count": 718,
   "id": "18b8611a",
   "metadata": {},
   "outputs": [
    {
     "name": "stdout",
     "output_type": "stream",
     "text": [
      "SHAPE:\n",
      "(891, 12)\n",
      "\n",
      "DESCRIPTION:\n",
      "       PassengerId    Survived      Pclass         Age       SibSp  \\\n",
      "count   891.000000  891.000000  891.000000  714.000000  891.000000   \n",
      "mean    446.000000    0.383838    2.308642   29.699118    0.523008   \n",
      "std     257.353842    0.486592    0.836071   14.526497    1.102743   \n",
      "min       1.000000    0.000000    1.000000    0.420000    0.000000   \n",
      "25%     223.500000    0.000000    2.000000   20.125000    0.000000   \n",
      "50%     446.000000    0.000000    3.000000   28.000000    0.000000   \n",
      "75%     668.500000    1.000000    3.000000   38.000000    1.000000   \n",
      "max     891.000000    1.000000    3.000000   80.000000    8.000000   \n",
      "\n",
      "            Parch        Fare  \n",
      "count  891.000000  891.000000  \n",
      "mean     0.381594   32.204208  \n",
      "std      0.806057   49.693429  \n",
      "min      0.000000    0.000000  \n",
      "25%      0.000000    7.910400  \n",
      "50%      0.000000   14.454200  \n",
      "75%      0.000000   31.000000  \n",
      "max      6.000000  512.329200  \n",
      "\n",
      "DESCRIPTION OF OBJECT DATA TYPES:\n",
      "                           Name   Sex  Ticket    Cabin Embarked\n",
      "count                       891   891     891      204      889\n",
      "unique                      891     2     681      147        3\n",
      "top     Braund, Mr. Owen Harris  male  347082  B96 B98        S\n",
      "freq                          1   577       7        4      644\n",
      "\n",
      "DATATYPES:\n",
      "PassengerId      int64\n",
      "Survived         int64\n",
      "Pclass           int64\n",
      "Name            object\n",
      "Sex             object\n",
      "Age            float64\n",
      "SibSp            int64\n",
      "Parch            int64\n",
      "Ticket          object\n",
      "Fare           float64\n",
      "Cabin           object\n",
      "Embarked        object\n",
      "dtype: object\n",
      "\n",
      "NULL VALUES:\n",
      "PassengerId      0\n",
      "Survived         0\n",
      "Pclass           0\n",
      "Name             0\n",
      "Sex              0\n",
      "Age            177\n",
      "SibSp            0\n",
      "Parch            0\n",
      "Ticket           0\n",
      "Fare             0\n",
      "Cabin          687\n",
      "Embarked         2\n",
      "dtype: int64\n",
      "\n"
     ]
    }
   ],
   "source": [
    "mt.glance(train)"
   ]
  },
  {
   "cell_type": "code",
   "execution_count": 719,
   "id": "5c39d53a",
   "metadata": {},
   "outputs": [
    {
     "name": "stdout",
     "output_type": "stream",
     "text": [
      "SHAPE:\n",
      "(418, 11)\n",
      "\n",
      "DESCRIPTION:\n",
      "       PassengerId      Pclass         Age       SibSp       Parch        Fare\n",
      "count   418.000000  418.000000  332.000000  418.000000  418.000000  417.000000\n",
      "mean   1100.500000    2.265550   30.272590    0.447368    0.392344   35.627188\n",
      "std     120.810458    0.841838   14.181209    0.896760    0.981429   55.907576\n",
      "min     892.000000    1.000000    0.170000    0.000000    0.000000    0.000000\n",
      "25%     996.250000    1.000000   21.000000    0.000000    0.000000    7.895800\n",
      "50%    1100.500000    3.000000   27.000000    0.000000    0.000000   14.454200\n",
      "75%    1204.750000    3.000000   39.000000    1.000000    0.000000   31.500000\n",
      "max    1309.000000    3.000000   76.000000    8.000000    9.000000  512.329200\n",
      "\n",
      "DESCRIPTION OF OBJECT DATA TYPES:\n",
      "                    Name   Sex    Ticket            Cabin Embarked\n",
      "count                418   418       418               91      418\n",
      "unique               418     2       363               76        3\n",
      "top     Kelly, Mr. James  male  PC 17608  B57 B59 B63 B66        S\n",
      "freq                   1   266         5                3      270\n",
      "\n",
      "DATATYPES:\n",
      "PassengerId      int64\n",
      "Pclass           int64\n",
      "Name            object\n",
      "Sex             object\n",
      "Age            float64\n",
      "SibSp            int64\n",
      "Parch            int64\n",
      "Ticket          object\n",
      "Fare           float64\n",
      "Cabin           object\n",
      "Embarked        object\n",
      "dtype: object\n",
      "\n",
      "NULL VALUES:\n",
      "PassengerId      0\n",
      "Pclass           0\n",
      "Name             0\n",
      "Sex              0\n",
      "Age             86\n",
      "SibSp            0\n",
      "Parch            0\n",
      "Ticket           0\n",
      "Fare             1\n",
      "Cabin          327\n",
      "Embarked         0\n",
      "dtype: int64\n",
      "\n"
     ]
    }
   ],
   "source": [
    "mt.glance(test)"
   ]
  },
  {
   "cell_type": "markdown",
   "id": "e8b7a187",
   "metadata": {},
   "source": [
    "# Imputing missing values"
   ]
  },
  {
   "cell_type": "markdown",
   "id": "d57e8dbf",
   "metadata": {},
   "source": [
    "## Extraction and Clean-up"
   ]
  },
  {
   "cell_type": "markdown",
   "id": "9d2aca8c",
   "metadata": {},
   "source": [
    "needs further clean-up, get dummies and other modifications"
   ]
  },
  {
   "cell_type": "code",
   "execution_count": 720,
   "id": "eb5bad8a",
   "metadata": {},
   "outputs": [
    {
     "data": {
      "text/plain": [
       "Index(['PassengerId', 'Survived', 'Pclass', 'Name', 'Sex', 'Age', 'SibSp',\n",
       "       'Parch', 'Ticket', 'Fare', 'Cabin', 'Embarked'],\n",
       "      dtype='object')"
      ]
     },
     "execution_count": 720,
     "metadata": {},
     "output_type": "execute_result"
    }
   ],
   "source": [
    "tt.columns"
   ]
  },
  {
   "cell_type": "markdown",
   "id": "a46fb223",
   "metadata": {},
   "source": [
    "### Name"
   ]
  },
  {
   "cell_type": "code",
   "execution_count": 721,
   "id": "22613136",
   "metadata": {},
   "outputs": [],
   "source": [
    "tt['Title']=tt.Name.apply(lambda x: x.split('.')[0].split(',')[1].strip())"
   ]
  },
  {
   "cell_type": "markdown",
   "id": "3688b69d",
   "metadata": {},
   "source": [
    "#### Titles"
   ]
  },
  {
   "cell_type": "code",
   "execution_count": 722,
   "id": "c9c8f071",
   "metadata": {},
   "outputs": [
    {
     "data": {
      "text/plain": [
       "Mr              757\n",
       "Miss            260\n",
       "Mrs             197\n",
       "Master           61\n",
       "Rev               8\n",
       "Dr                8\n",
       "Col               4\n",
       "Mlle              2\n",
       "Major             2\n",
       "Ms                2\n",
       "Lady              1\n",
       "Sir               1\n",
       "Mme               1\n",
       "Don               1\n",
       "Capt              1\n",
       "the Countess      1\n",
       "Jonkheer          1\n",
       "Dona              1\n",
       "Name: Title, dtype: int64"
      ]
     },
     "execution_count": 722,
     "metadata": {},
     "output_type": "execute_result"
    }
   ],
   "source": [
    "tt.Title.value_counts()"
   ]
  },
  {
   "cell_type": "code",
   "execution_count": 723,
   "id": "e68addac",
   "metadata": {},
   "outputs": [
    {
     "data": {
      "text/plain": [
       "Title         Sex   \n",
       "Capt          male      0.000000\n",
       "Col           male      0.500000\n",
       "Don           male      0.000000\n",
       "Dona          female         NaN\n",
       "Dr            female    1.000000\n",
       "              male      0.333333\n",
       "Jonkheer      male      0.000000\n",
       "Lady          female    1.000000\n",
       "Major         male      0.500000\n",
       "Master        male      0.575000\n",
       "Miss          female    0.697802\n",
       "Mlle          female    1.000000\n",
       "Mme           female    1.000000\n",
       "Mr            male      0.156673\n",
       "Mrs           female    0.792000\n",
       "Ms            female    1.000000\n",
       "Rev           male      0.000000\n",
       "Sir           male      1.000000\n",
       "the Countess  female    1.000000\n",
       "Name: Survived, dtype: float64"
      ]
     },
     "execution_count": 723,
     "metadata": {},
     "output_type": "execute_result"
    }
   ],
   "source": [
    "tt.groupby(['Title', 'Sex']).Survived.mean()"
   ]
  },
  {
   "cell_type": "markdown",
   "id": "9f979b15",
   "metadata": {},
   "source": [
    "Group the Officers together, leave Dr and Rev as they seem to have separate rates of survival."
   ]
  },
  {
   "cell_type": "code",
   "execution_count": 724,
   "id": "93518ff8",
   "metadata": {},
   "outputs": [],
   "source": [
    "newtitles = {\n",
    "    \"Capt\":       \"Officer\",\n",
    "    \"Col\":        \"Officer\",\n",
    "    \"Major\":      \"Officer\",\n",
    "    \"Jonkheer\":   \"Nobility\",\n",
    "    \"Don\":        \"Nobility\",\n",
    "    \"Sir\" :       \"Nobility\",\n",
    "    \"Dr\":         \"Dr\",\n",
    "    \"Rev\":        \"Rev\",\n",
    "    \"the Countess\":\"Nobility\",\n",
    "    \"Dona\":       \"Nobility\",\n",
    "    \"Mme\":        \"Mrs\",\n",
    "    \"Mlle\":       \"Miss\",\n",
    "    \"Ms\":         \"Mrs\",\n",
    "    \"Mr\":        \"Mr\",\n",
    "    \"Mrs\":       \"Mrs\",\n",
    "    \"Miss\":      \"Miss\",\n",
    "    \"Master\":    \"Master\",\n",
    "    \"Lady\":      \"Nobility\"\n",
    "}"
   ]
  },
  {
   "cell_type": "code",
   "execution_count": 725,
   "id": "03c6f5a9",
   "metadata": {},
   "outputs": [],
   "source": [
    "tt['Title'] = tt.Title.map(newtitles).copy()"
   ]
  },
  {
   "cell_type": "code",
   "execution_count": 726,
   "id": "277faef9",
   "metadata": {},
   "outputs": [
    {
     "data": {
      "text/plain": [
       "Mr          757\n",
       "Miss        262\n",
       "Mrs         200\n",
       "Master       61\n",
       "Rev           8\n",
       "Dr            8\n",
       "Officer       7\n",
       "Nobility      6\n",
       "Name: Title, dtype: int64"
      ]
     },
     "execution_count": 726,
     "metadata": {},
     "output_type": "execute_result"
    }
   ],
   "source": [
    "tt.Title.value_counts()"
   ]
  },
  {
   "cell_type": "code",
   "execution_count": 727,
   "id": "05ea87d9",
   "metadata": {},
   "outputs": [],
   "source": [
    "tt = tt.drop('Name', axis=1)"
   ]
  },
  {
   "cell_type": "code",
   "execution_count": 728,
   "id": "3971d535",
   "metadata": {},
   "outputs": [],
   "source": [
    "tt = pd.get_dummies(tt, columns=['Title'], drop_first=True, prefix ='Title')"
   ]
  },
  {
   "cell_type": "code",
   "execution_count": 729,
   "id": "a4ae43b2",
   "metadata": {},
   "outputs": [
    {
     "data": {
      "text/html": [
       "<div>\n",
       "<style scoped>\n",
       "    .dataframe tbody tr th:only-of-type {\n",
       "        vertical-align: middle;\n",
       "    }\n",
       "\n",
       "    .dataframe tbody tr th {\n",
       "        vertical-align: top;\n",
       "    }\n",
       "\n",
       "    .dataframe thead th {\n",
       "        text-align: right;\n",
       "    }\n",
       "</style>\n",
       "<table border=\"1\" class=\"dataframe\">\n",
       "  <thead>\n",
       "    <tr style=\"text-align: right;\">\n",
       "      <th></th>\n",
       "      <th>PassengerId</th>\n",
       "      <th>Survived</th>\n",
       "      <th>Pclass</th>\n",
       "      <th>Sex</th>\n",
       "      <th>Age</th>\n",
       "      <th>SibSp</th>\n",
       "      <th>Parch</th>\n",
       "      <th>Ticket</th>\n",
       "      <th>Fare</th>\n",
       "      <th>Cabin</th>\n",
       "      <th>Embarked</th>\n",
       "      <th>Title_Master</th>\n",
       "      <th>Title_Miss</th>\n",
       "      <th>Title_Mr</th>\n",
       "      <th>Title_Mrs</th>\n",
       "      <th>Title_Nobility</th>\n",
       "      <th>Title_Officer</th>\n",
       "      <th>Title_Rev</th>\n",
       "    </tr>\n",
       "  </thead>\n",
       "  <tbody>\n",
       "    <tr>\n",
       "      <th>0</th>\n",
       "      <td>1</td>\n",
       "      <td>0.0</td>\n",
       "      <td>3</td>\n",
       "      <td>male</td>\n",
       "      <td>22.0</td>\n",
       "      <td>1</td>\n",
       "      <td>0</td>\n",
       "      <td>A/5 21171</td>\n",
       "      <td>7.2500</td>\n",
       "      <td>NaN</td>\n",
       "      <td>S</td>\n",
       "      <td>0</td>\n",
       "      <td>0</td>\n",
       "      <td>1</td>\n",
       "      <td>0</td>\n",
       "      <td>0</td>\n",
       "      <td>0</td>\n",
       "      <td>0</td>\n",
       "    </tr>\n",
       "    <tr>\n",
       "      <th>1</th>\n",
       "      <td>2</td>\n",
       "      <td>1.0</td>\n",
       "      <td>1</td>\n",
       "      <td>female</td>\n",
       "      <td>38.0</td>\n",
       "      <td>1</td>\n",
       "      <td>0</td>\n",
       "      <td>PC 17599</td>\n",
       "      <td>71.2833</td>\n",
       "      <td>C85</td>\n",
       "      <td>C</td>\n",
       "      <td>0</td>\n",
       "      <td>0</td>\n",
       "      <td>0</td>\n",
       "      <td>1</td>\n",
       "      <td>0</td>\n",
       "      <td>0</td>\n",
       "      <td>0</td>\n",
       "    </tr>\n",
       "    <tr>\n",
       "      <th>2</th>\n",
       "      <td>3</td>\n",
       "      <td>1.0</td>\n",
       "      <td>3</td>\n",
       "      <td>female</td>\n",
       "      <td>26.0</td>\n",
       "      <td>0</td>\n",
       "      <td>0</td>\n",
       "      <td>STON/O2. 3101282</td>\n",
       "      <td>7.9250</td>\n",
       "      <td>NaN</td>\n",
       "      <td>S</td>\n",
       "      <td>0</td>\n",
       "      <td>1</td>\n",
       "      <td>0</td>\n",
       "      <td>0</td>\n",
       "      <td>0</td>\n",
       "      <td>0</td>\n",
       "      <td>0</td>\n",
       "    </tr>\n",
       "    <tr>\n",
       "      <th>3</th>\n",
       "      <td>4</td>\n",
       "      <td>1.0</td>\n",
       "      <td>1</td>\n",
       "      <td>female</td>\n",
       "      <td>35.0</td>\n",
       "      <td>1</td>\n",
       "      <td>0</td>\n",
       "      <td>113803</td>\n",
       "      <td>53.1000</td>\n",
       "      <td>C123</td>\n",
       "      <td>S</td>\n",
       "      <td>0</td>\n",
       "      <td>0</td>\n",
       "      <td>0</td>\n",
       "      <td>1</td>\n",
       "      <td>0</td>\n",
       "      <td>0</td>\n",
       "      <td>0</td>\n",
       "    </tr>\n",
       "    <tr>\n",
       "      <th>4</th>\n",
       "      <td>5</td>\n",
       "      <td>0.0</td>\n",
       "      <td>3</td>\n",
       "      <td>male</td>\n",
       "      <td>35.0</td>\n",
       "      <td>0</td>\n",
       "      <td>0</td>\n",
       "      <td>373450</td>\n",
       "      <td>8.0500</td>\n",
       "      <td>NaN</td>\n",
       "      <td>S</td>\n",
       "      <td>0</td>\n",
       "      <td>0</td>\n",
       "      <td>1</td>\n",
       "      <td>0</td>\n",
       "      <td>0</td>\n",
       "      <td>0</td>\n",
       "      <td>0</td>\n",
       "    </tr>\n",
       "  </tbody>\n",
       "</table>\n",
       "</div>"
      ],
      "text/plain": [
       "   PassengerId  Survived  Pclass     Sex   Age  SibSp  Parch  \\\n",
       "0            1       0.0       3    male  22.0      1      0   \n",
       "1            2       1.0       1  female  38.0      1      0   \n",
       "2            3       1.0       3  female  26.0      0      0   \n",
       "3            4       1.0       1  female  35.0      1      0   \n",
       "4            5       0.0       3    male  35.0      0      0   \n",
       "\n",
       "             Ticket     Fare Cabin Embarked  Title_Master  Title_Miss  \\\n",
       "0         A/5 21171   7.2500   NaN        S             0           0   \n",
       "1          PC 17599  71.2833   C85        C             0           0   \n",
       "2  STON/O2. 3101282   7.9250   NaN        S             0           1   \n",
       "3            113803  53.1000  C123        S             0           0   \n",
       "4            373450   8.0500   NaN        S             0           0   \n",
       "\n",
       "   Title_Mr  Title_Mrs  Title_Nobility  Title_Officer  Title_Rev  \n",
       "0         1          0               0              0          0  \n",
       "1         0          1               0              0          0  \n",
       "2         0          0               0              0          0  \n",
       "3         0          1               0              0          0  \n",
       "4         1          0               0              0          0  "
      ]
     },
     "execution_count": 729,
     "metadata": {},
     "output_type": "execute_result"
    }
   ],
   "source": [
    "tt.head()"
   ]
  },
  {
   "cell_type": "markdown",
   "id": "79d84dad",
   "metadata": {},
   "source": [
    "### Ticket"
   ]
  },
  {
   "cell_type": "code",
   "execution_count": 730,
   "id": "73ba3c47",
   "metadata": {},
   "outputs": [],
   "source": [
    "tt['Dup_Ticket'] = tt.Ticket.duplicated()"
   ]
  },
  {
   "cell_type": "code",
   "execution_count": 731,
   "id": "66f053c3",
   "metadata": {},
   "outputs": [
    {
     "data": {
      "text/plain": [
       "12.008978675645341"
      ]
     },
     "execution_count": 731,
     "metadata": {},
     "output_type": "execute_result"
    }
   ],
   "source": [
    "(tt.query('Dup_Ticket == True and Survived == 0.0').shape[0]/891) * 100"
   ]
  },
  {
   "cell_type": "markdown",
   "id": "043098c1",
   "metadata": {},
   "source": [
    "Duplicate Ticket is not a good predictor of Survived, with both around 10% rate for Survived and Not Survived."
   ]
  },
  {
   "cell_type": "code",
   "execution_count": 732,
   "id": "31cd4542",
   "metadata": {},
   "outputs": [],
   "source": [
    "tt['Ticket_Length'] = tt.Ticket.apply(lambda x: len(x))"
   ]
  },
  {
   "cell_type": "code",
   "execution_count": 733,
   "id": "80ba2749",
   "metadata": {},
   "outputs": [
    {
     "name": "stderr",
     "output_type": "stream",
     "text": [
      "C:\\Users\\euana\\anaconda3\\lib\\site-packages\\seaborn\\distributions.py:2619: FutureWarning: `distplot` is a deprecated function and will be removed in a future version. Please adapt your code to use either `displot` (a figure-level function with similar flexibility) or `histplot` (an axes-level function for histograms).\n",
      "  warnings.warn(msg, FutureWarning)\n"
     ]
    },
    {
     "data": {
      "text/plain": [
       "<AxesSubplot:xlabel='Ticket_Length'>"
      ]
     },
     "execution_count": 733,
     "metadata": {},
     "output_type": "execute_result"
    },
    {
     "data": {
      "image/png": "[encoded data removed]",
      "text/plain": [
       "<Figure size 640x480 with 1 Axes>"
      ]
     },
     "metadata": {},
     "output_type": "display_data"
    }
   ],
   "source": [
    "sns.distplot(tt[tt.Survived==1].Ticket_Length, color='green', kde=False)\n",
    "sns.distplot(tt[tt.Survived==0].Ticket_Length, color='red', kde=False)"
   ]
  },
  {
   "cell_type": "code",
   "execution_count": 734,
   "id": "c80a888d",
   "metadata": {},
   "outputs": [
    {
     "data": {
      "text/plain": [
       "Title_Mr         -0.549199\n",
       "Pclass           -0.338481\n",
       "Age              -0.077221\n",
       "Title_Rev        -0.064988\n",
       "Ticket_Length    -0.055331\n",
       "SibSp            -0.035322\n",
       "PassengerId      -0.005007\n",
       "Title_Officer     0.002496\n",
       "Title_Nobility    0.033391\n",
       "Parch             0.081629\n",
       "Title_Master      0.085221\n",
       "Dup_Ticket        0.121766\n",
       "Fare              0.257307\n",
       "Title_Miss        0.332795\n",
       "Title_Mrs         0.344935\n",
       "Survived          1.000000\n",
       "Name: Survived, dtype: float64"
      ]
     },
     "execution_count": 734,
     "metadata": {},
     "output_type": "execute_result"
    }
   ],
   "source": [
    "tt.iloc[0:891].corr()['Survived'].sort_values()"
   ]
  },
  {
   "cell_type": "code",
   "execution_count": 735,
   "id": "54b41aa2",
   "metadata": {},
   "outputs": [],
   "source": [
    "tt = tt.drop('Ticket', axis=1).copy()"
   ]
  },
  {
   "cell_type": "code",
   "execution_count": 736,
   "id": "ea5fb379",
   "metadata": {},
   "outputs": [
    {
     "data": {
      "text/plain": [
       "Index(['PassengerId', 'Survived', 'Pclass', 'Sex', 'Age', 'SibSp', 'Parch',\n",
       "       'Fare', 'Cabin', 'Embarked', 'Title_Master', 'Title_Miss', 'Title_Mr',\n",
       "       'Title_Mrs', 'Title_Nobility', 'Title_Officer', 'Title_Rev',\n",
       "       'Dup_Ticket', 'Ticket_Length'],\n",
       "      dtype='object')"
      ]
     },
     "execution_count": 736,
     "metadata": {},
     "output_type": "execute_result"
    }
   ],
   "source": [
    "tt.columns"
   ]
  },
  {
   "cell_type": "markdown",
   "id": "9b88b2bf",
   "metadata": {},
   "source": [
    "### Cabin"
   ]
  },
  {
   "cell_type": "markdown",
   "id": "5adbdba0",
   "metadata": {},
   "source": [
    "#### Duplicate Cabins"
   ]
  },
  {
   "cell_type": "code",
   "execution_count": 737,
   "id": "d462e498",
   "metadata": {},
   "outputs": [],
   "source": [
    "tt['Dup_Cabin'] = tt.Cabin.duplicated()"
   ]
  },
  {
   "cell_type": "code",
   "execution_count": 738,
   "id": "157cd5ec",
   "metadata": {},
   "outputs": [
    {
     "data": {
      "text/plain": [
       "28.058361391694724"
      ]
     },
     "execution_count": 738,
     "metadata": {},
     "output_type": "execute_result"
    }
   ],
   "source": [
    "(tt.iloc[0:891].query('Dup_Cabin == True and Survived == 1').shape[0]/891) * 100"
   ]
  },
  {
   "cell_type": "markdown",
   "id": "8dfece45",
   "metadata": {},
   "source": [
    "Duplicate Cabin is a good predictor of not surviving, with 55.33% in a duplicate cabin not surviving. "
   ]
  },
  {
   "cell_type": "code",
   "execution_count": 739,
   "id": "8c7fc460",
   "metadata": {},
   "outputs": [
    {
     "data": {
      "text/plain": [
       "PassengerId          0\n",
       "Survived           418\n",
       "Pclass               0\n",
       "Sex                  0\n",
       "Age                263\n",
       "SibSp                0\n",
       "Parch                0\n",
       "Fare                 1\n",
       "Cabin             1014\n",
       "Embarked             2\n",
       "Title_Master         0\n",
       "Title_Miss           0\n",
       "Title_Mr             0\n",
       "Title_Mrs            0\n",
       "Title_Nobility       0\n",
       "Title_Officer        0\n",
       "Title_Rev            0\n",
       "Dup_Ticket           0\n",
       "Ticket_Length        0\n",
       "Dup_Cabin            0\n",
       "dtype: int64"
      ]
     },
     "execution_count": 739,
     "metadata": {},
     "output_type": "execute_result"
    }
   ],
   "source": [
    "tt.isna().sum()"
   ]
  },
  {
   "cell_type": "markdown",
   "id": "6a23e98c",
   "metadata": {},
   "source": [
    "#### Get cabin letter"
   ]
  },
  {
   "cell_type": "code",
   "execution_count": 740,
   "id": "e47e851e",
   "metadata": {},
   "outputs": [],
   "source": [
    "temp = []"
   ]
  },
  {
   "cell_type": "code",
   "execution_count": 741,
   "id": "75ea14d3",
   "metadata": {},
   "outputs": [],
   "source": [
    "for x in tt.Cabin:\n",
    "    if type(x) != float:\n",
    "        temp.append(x[0])\n",
    "    else:\n",
    "        temp.append('None')"
   ]
  },
  {
   "cell_type": "code",
   "execution_count": 742,
   "id": "30b0e8aa",
   "metadata": {},
   "outputs": [],
   "source": [
    "tt['Cabin_Letter'] = temp"
   ]
  },
  {
   "cell_type": "code",
   "execution_count": 743,
   "id": "eb4a0858",
   "metadata": {},
   "outputs": [
    {
     "data": {
      "text/html": [
       "<div>\n",
       "<style scoped>\n",
       "    .dataframe tbody tr th:only-of-type {\n",
       "        vertical-align: middle;\n",
       "    }\n",
       "\n",
       "    .dataframe tbody tr th {\n",
       "        vertical-align: top;\n",
       "    }\n",
       "\n",
       "    .dataframe thead th {\n",
       "        text-align: right;\n",
       "    }\n",
       "</style>\n",
       "<table border=\"1\" class=\"dataframe\">\n",
       "  <thead>\n",
       "    <tr style=\"text-align: right;\">\n",
       "      <th></th>\n",
       "      <th>PassengerId</th>\n",
       "      <th>Survived</th>\n",
       "      <th>Pclass</th>\n",
       "      <th>Sex</th>\n",
       "      <th>Age</th>\n",
       "      <th>SibSp</th>\n",
       "      <th>Parch</th>\n",
       "      <th>Fare</th>\n",
       "      <th>Cabin</th>\n",
       "      <th>Embarked</th>\n",
       "      <th>...</th>\n",
       "      <th>Title_Miss</th>\n",
       "      <th>Title_Mr</th>\n",
       "      <th>Title_Mrs</th>\n",
       "      <th>Title_Nobility</th>\n",
       "      <th>Title_Officer</th>\n",
       "      <th>Title_Rev</th>\n",
       "      <th>Dup_Ticket</th>\n",
       "      <th>Ticket_Length</th>\n",
       "      <th>Dup_Cabin</th>\n",
       "      <th>Cabin_Letter</th>\n",
       "    </tr>\n",
       "  </thead>\n",
       "  <tbody>\n",
       "    <tr>\n",
       "      <th>0</th>\n",
       "      <td>1</td>\n",
       "      <td>0.0</td>\n",
       "      <td>3</td>\n",
       "      <td>male</td>\n",
       "      <td>22.0</td>\n",
       "      <td>1</td>\n",
       "      <td>0</td>\n",
       "      <td>7.2500</td>\n",
       "      <td>NaN</td>\n",
       "      <td>S</td>\n",
       "      <td>...</td>\n",
       "      <td>0</td>\n",
       "      <td>1</td>\n",
       "      <td>0</td>\n",
       "      <td>0</td>\n",
       "      <td>0</td>\n",
       "      <td>0</td>\n",
       "      <td>False</td>\n",
       "      <td>9</td>\n",
       "      <td>False</td>\n",
       "      <td>None</td>\n",
       "    </tr>\n",
       "    <tr>\n",
       "      <th>1</th>\n",
       "      <td>2</td>\n",
       "      <td>1.0</td>\n",
       "      <td>1</td>\n",
       "      <td>female</td>\n",
       "      <td>38.0</td>\n",
       "      <td>1</td>\n",
       "      <td>0</td>\n",
       "      <td>71.2833</td>\n",
       "      <td>C85</td>\n",
       "      <td>C</td>\n",
       "      <td>...</td>\n",
       "      <td>0</td>\n",
       "      <td>0</td>\n",
       "      <td>1</td>\n",
       "      <td>0</td>\n",
       "      <td>0</td>\n",
       "      <td>0</td>\n",
       "      <td>False</td>\n",
       "      <td>8</td>\n",
       "      <td>False</td>\n",
       "      <td>C</td>\n",
       "    </tr>\n",
       "    <tr>\n",
       "      <th>2</th>\n",
       "      <td>3</td>\n",
       "      <td>1.0</td>\n",
       "      <td>3</td>\n",
       "      <td>female</td>\n",
       "      <td>26.0</td>\n",
       "      <td>0</td>\n",
       "      <td>0</td>\n",
       "      <td>7.9250</td>\n",
       "      <td>NaN</td>\n",
       "      <td>S</td>\n",
       "      <td>...</td>\n",
       "      <td>1</td>\n",
       "      <td>0</td>\n",
       "      <td>0</td>\n",
       "      <td>0</td>\n",
       "      <td>0</td>\n",
       "      <td>0</td>\n",
       "      <td>False</td>\n",
       "      <td>16</td>\n",
       "      <td>True</td>\n",
       "      <td>None</td>\n",
       "    </tr>\n",
       "    <tr>\n",
       "      <th>3</th>\n",
       "      <td>4</td>\n",
       "      <td>1.0</td>\n",
       "      <td>1</td>\n",
       "      <td>female</td>\n",
       "      <td>35.0</td>\n",
       "      <td>1</td>\n",
       "      <td>0</td>\n",
       "      <td>53.1000</td>\n",
       "      <td>C123</td>\n",
       "      <td>S</td>\n",
       "      <td>...</td>\n",
       "      <td>0</td>\n",
       "      <td>0</td>\n",
       "      <td>1</td>\n",
       "      <td>0</td>\n",
       "      <td>0</td>\n",
       "      <td>0</td>\n",
       "      <td>False</td>\n",
       "      <td>6</td>\n",
       "      <td>False</td>\n",
       "      <td>C</td>\n",
       "    </tr>\n",
       "    <tr>\n",
       "      <th>4</th>\n",
       "      <td>5</td>\n",
       "      <td>0.0</td>\n",
       "      <td>3</td>\n",
       "      <td>male</td>\n",
       "      <td>35.0</td>\n",
       "      <td>0</td>\n",
       "      <td>0</td>\n",
       "      <td>8.0500</td>\n",
       "      <td>NaN</td>\n",
       "      <td>S</td>\n",
       "      <td>...</td>\n",
       "      <td>0</td>\n",
       "      <td>1</td>\n",
       "      <td>0</td>\n",
       "      <td>0</td>\n",
       "      <td>0</td>\n",
       "      <td>0</td>\n",
       "      <td>False</td>\n",
       "      <td>6</td>\n",
       "      <td>True</td>\n",
       "      <td>None</td>\n",
       "    </tr>\n",
       "  </tbody>\n",
       "</table>\n",
       "<p>5 rows × 21 columns</p>\n",
       "</div>"
      ],
      "text/plain": [
       "   PassengerId  Survived  Pclass     Sex   Age  SibSp  Parch     Fare Cabin  \\\n",
       "0            1       0.0       3    male  22.0      1      0   7.2500   NaN   \n",
       "1            2       1.0       1  female  38.0      1      0  71.2833   C85   \n",
       "2            3       1.0       3  female  26.0      0      0   7.9250   NaN   \n",
       "3            4       1.0       1  female  35.0      1      0  53.1000  C123   \n",
       "4            5       0.0       3    male  35.0      0      0   8.0500   NaN   \n",
       "\n",
       "  Embarked  ...  Title_Miss  Title_Mr  Title_Mrs  Title_Nobility  \\\n",
       "0        S  ...           0         1          0               0   \n",
       "1        C  ...           0         0          1               0   \n",
       "2        S  ...           1         0          0               0   \n",
       "3        S  ...           0         0          1               0   \n",
       "4        S  ...           0         1          0               0   \n",
       "\n",
       "   Title_Officer  Title_Rev  Dup_Ticket  Ticket_Length  Dup_Cabin  \\\n",
       "0              0          0       False              9      False   \n",
       "1              0          0       False              8      False   \n",
       "2              0          0       False             16       True   \n",
       "3              0          0       False              6      False   \n",
       "4              0          0       False              6       True   \n",
       "\n",
       "   Cabin_Letter  \n",
       "0          None  \n",
       "1             C  \n",
       "2          None  \n",
       "3             C  \n",
       "4          None  \n",
       "\n",
       "[5 rows x 21 columns]"
      ]
     },
     "execution_count": 743,
     "metadata": {},
     "output_type": "execute_result"
    }
   ],
   "source": [
    "tt.head()"
   ]
  },
  {
   "cell_type": "code",
   "execution_count": 744,
   "id": "38a010e1",
   "metadata": {},
   "outputs": [
    {
     "data": {
      "text/plain": [
       "<AxesSubplot:xlabel='Cabin_Letter', ylabel='Survived'>"
      ]
     },
     "execution_count": 744,
     "metadata": {},
     "output_type": "execute_result"
    },
    {
     "data": {
      "image/png": "[encoded data removed]",
      "text/plain": [
       "<Figure size 640x480 with 1 Axes>"
      ]
     },
     "metadata": {},
     "output_type": "display_data"
    }
   ],
   "source": [
    "sns.barplot(data=tt, x=\"Cabin_Letter\", y=\"Survived\")"
   ]
  },
  {
   "cell_type": "code",
   "execution_count": 745,
   "id": "d483e35f",
   "metadata": {},
   "outputs": [],
   "source": [
    "tt = tt.drop(\"Cabin\", axis=1).copy()"
   ]
  },
  {
   "cell_type": "code",
   "execution_count": 746,
   "id": "71c675ed",
   "metadata": {},
   "outputs": [],
   "source": [
    "tt = pd.get_dummies(tt, columns=['Cabin_Letter'], drop_first=True, prefix ='Letter_')"
   ]
  },
  {
   "cell_type": "markdown",
   "id": "53cbfa54",
   "metadata": {},
   "source": [
    "## Sex"
   ]
  },
  {
   "cell_type": "code",
   "execution_count": 747,
   "id": "5f948851",
   "metadata": {},
   "outputs": [],
   "source": [
    "tt['Male'] = pd.get_dummies(tt.Sex,drop_first=True)"
   ]
  },
  {
   "cell_type": "code",
   "execution_count": 748,
   "id": "2c89f746",
   "metadata": {},
   "outputs": [],
   "source": [
    "tt = tt.drop('Sex', axis=1)"
   ]
  },
  {
   "cell_type": "code",
   "execution_count": 749,
   "id": "464b9692",
   "metadata": {},
   "outputs": [
    {
     "data": {
      "text/html": [
       "<div>\n",
       "<style scoped>\n",
       "    .dataframe tbody tr th:only-of-type {\n",
       "        vertical-align: middle;\n",
       "    }\n",
       "\n",
       "    .dataframe tbody tr th {\n",
       "        vertical-align: top;\n",
       "    }\n",
       "\n",
       "    .dataframe thead th {\n",
       "        text-align: right;\n",
       "    }\n",
       "</style>\n",
       "<table border=\"1\" class=\"dataframe\">\n",
       "  <thead>\n",
       "    <tr style=\"text-align: right;\">\n",
       "      <th></th>\n",
       "      <th>PassengerId</th>\n",
       "      <th>Survived</th>\n",
       "      <th>Pclass</th>\n",
       "      <th>Age</th>\n",
       "      <th>SibSp</th>\n",
       "      <th>Parch</th>\n",
       "      <th>Fare</th>\n",
       "      <th>Embarked</th>\n",
       "      <th>Title_Master</th>\n",
       "      <th>Title_Miss</th>\n",
       "      <th>...</th>\n",
       "      <th>Dup_Cabin</th>\n",
       "      <th>Letter__B</th>\n",
       "      <th>Letter__C</th>\n",
       "      <th>Letter__D</th>\n",
       "      <th>Letter__E</th>\n",
       "      <th>Letter__F</th>\n",
       "      <th>Letter__G</th>\n",
       "      <th>Letter__None</th>\n",
       "      <th>Letter__T</th>\n",
       "      <th>Male</th>\n",
       "    </tr>\n",
       "  </thead>\n",
       "  <tbody>\n",
       "    <tr>\n",
       "      <th>0</th>\n",
       "      <td>1</td>\n",
       "      <td>0.0</td>\n",
       "      <td>3</td>\n",
       "      <td>22.0</td>\n",
       "      <td>1</td>\n",
       "      <td>0</td>\n",
       "      <td>7.2500</td>\n",
       "      <td>S</td>\n",
       "      <td>0</td>\n",
       "      <td>0</td>\n",
       "      <td>...</td>\n",
       "      <td>False</td>\n",
       "      <td>0</td>\n",
       "      <td>0</td>\n",
       "      <td>0</td>\n",
       "      <td>0</td>\n",
       "      <td>0</td>\n",
       "      <td>0</td>\n",
       "      <td>1</td>\n",
       "      <td>0</td>\n",
       "      <td>1</td>\n",
       "    </tr>\n",
       "    <tr>\n",
       "      <th>1</th>\n",
       "      <td>2</td>\n",
       "      <td>1.0</td>\n",
       "      <td>1</td>\n",
       "      <td>38.0</td>\n",
       "      <td>1</td>\n",
       "      <td>0</td>\n",
       "      <td>71.2833</td>\n",
       "      <td>C</td>\n",
       "      <td>0</td>\n",
       "      <td>0</td>\n",
       "      <td>...</td>\n",
       "      <td>False</td>\n",
       "      <td>0</td>\n",
       "      <td>1</td>\n",
       "      <td>0</td>\n",
       "      <td>0</td>\n",
       "      <td>0</td>\n",
       "      <td>0</td>\n",
       "      <td>0</td>\n",
       "      <td>0</td>\n",
       "      <td>0</td>\n",
       "    </tr>\n",
       "    <tr>\n",
       "      <th>2</th>\n",
       "      <td>3</td>\n",
       "      <td>1.0</td>\n",
       "      <td>3</td>\n",
       "      <td>26.0</td>\n",
       "      <td>0</td>\n",
       "      <td>0</td>\n",
       "      <td>7.9250</td>\n",
       "      <td>S</td>\n",
       "      <td>0</td>\n",
       "      <td>1</td>\n",
       "      <td>...</td>\n",
       "      <td>True</td>\n",
       "      <td>0</td>\n",
       "      <td>0</td>\n",
       "      <td>0</td>\n",
       "      <td>0</td>\n",
       "      <td>0</td>\n",
       "      <td>0</td>\n",
       "      <td>1</td>\n",
       "      <td>0</td>\n",
       "      <td>0</td>\n",
       "    </tr>\n",
       "    <tr>\n",
       "      <th>3</th>\n",
       "      <td>4</td>\n",
       "      <td>1.0</td>\n",
       "      <td>1</td>\n",
       "      <td>35.0</td>\n",
       "      <td>1</td>\n",
       "      <td>0</td>\n",
       "      <td>53.1000</td>\n",
       "      <td>S</td>\n",
       "      <td>0</td>\n",
       "      <td>0</td>\n",
       "      <td>...</td>\n",
       "      <td>False</td>\n",
       "      <td>0</td>\n",
       "      <td>1</td>\n",
       "      <td>0</td>\n",
       "      <td>0</td>\n",
       "      <td>0</td>\n",
       "      <td>0</td>\n",
       "      <td>0</td>\n",
       "      <td>0</td>\n",
       "      <td>0</td>\n",
       "    </tr>\n",
       "    <tr>\n",
       "      <th>4</th>\n",
       "      <td>5</td>\n",
       "      <td>0.0</td>\n",
       "      <td>3</td>\n",
       "      <td>35.0</td>\n",
       "      <td>0</td>\n",
       "      <td>0</td>\n",
       "      <td>8.0500</td>\n",
       "      <td>S</td>\n",
       "      <td>0</td>\n",
       "      <td>0</td>\n",
       "      <td>...</td>\n",
       "      <td>True</td>\n",
       "      <td>0</td>\n",
       "      <td>0</td>\n",
       "      <td>0</td>\n",
       "      <td>0</td>\n",
       "      <td>0</td>\n",
       "      <td>0</td>\n",
       "      <td>1</td>\n",
       "      <td>0</td>\n",
       "      <td>1</td>\n",
       "    </tr>\n",
       "  </tbody>\n",
       "</table>\n",
       "<p>5 rows × 27 columns</p>\n",
       "</div>"
      ],
      "text/plain": [
       "   PassengerId  Survived  Pclass   Age  SibSp  Parch     Fare Embarked  \\\n",
       "0            1       0.0       3  22.0      1      0   7.2500        S   \n",
       "1            2       1.0       1  38.0      1      0  71.2833        C   \n",
       "2            3       1.0       3  26.0      0      0   7.9250        S   \n",
       "3            4       1.0       1  35.0      1      0  53.1000        S   \n",
       "4            5       0.0       3  35.0      0      0   8.0500        S   \n",
       "\n",
       "   Title_Master  Title_Miss  ...  Dup_Cabin  Letter__B  Letter__C  Letter__D  \\\n",
       "0             0           0  ...      False          0          0          0   \n",
       "1             0           0  ...      False          0          1          0   \n",
       "2             0           1  ...       True          0          0          0   \n",
       "3             0           0  ...      False          0          1          0   \n",
       "4             0           0  ...       True          0          0          0   \n",
       "\n",
       "   Letter__E  Letter__F  Letter__G  Letter__None  Letter__T  Male  \n",
       "0          0          0          0             1          0     1  \n",
       "1          0          0          0             0          0     0  \n",
       "2          0          0          0             1          0     0  \n",
       "3          0          0          0             0          0     0  \n",
       "4          0          0          0             1          0     1  \n",
       "\n",
       "[5 rows x 27 columns]"
      ]
     },
     "execution_count": 749,
     "metadata": {},
     "output_type": "execute_result"
    }
   ],
   "source": [
    "tt.head()"
   ]
  },
  {
   "cell_type": "markdown",
   "id": "bcb2c1cd",
   "metadata": {},
   "source": [
    "### Embarked"
   ]
  },
  {
   "cell_type": "code",
   "execution_count": 750,
   "id": "ba26cf12",
   "metadata": {},
   "outputs": [],
   "source": [
    "tt = pd.get_dummies(tt, columns=['Embarked'], drop_first=True, prefix ='Embarked_')"
   ]
  },
  {
   "cell_type": "code",
   "execution_count": 751,
   "id": "c1a20e73",
   "metadata": {},
   "outputs": [
    {
     "data": {
      "text/html": [
       "<div>\n",
       "<style scoped>\n",
       "    .dataframe tbody tr th:only-of-type {\n",
       "        vertical-align: middle;\n",
       "    }\n",
       "\n",
       "    .dataframe tbody tr th {\n",
       "        vertical-align: top;\n",
       "    }\n",
       "\n",
       "    .dataframe thead th {\n",
       "        text-align: right;\n",
       "    }\n",
       "</style>\n",
       "<table border=\"1\" class=\"dataframe\">\n",
       "  <thead>\n",
       "    <tr style=\"text-align: right;\">\n",
       "      <th></th>\n",
       "      <th>PassengerId</th>\n",
       "      <th>Survived</th>\n",
       "      <th>Pclass</th>\n",
       "      <th>Age</th>\n",
       "      <th>SibSp</th>\n",
       "      <th>Parch</th>\n",
       "      <th>Fare</th>\n",
       "      <th>Title_Master</th>\n",
       "      <th>Title_Miss</th>\n",
       "      <th>Title_Mr</th>\n",
       "      <th>...</th>\n",
       "      <th>Letter__C</th>\n",
       "      <th>Letter__D</th>\n",
       "      <th>Letter__E</th>\n",
       "      <th>Letter__F</th>\n",
       "      <th>Letter__G</th>\n",
       "      <th>Letter__None</th>\n",
       "      <th>Letter__T</th>\n",
       "      <th>Male</th>\n",
       "      <th>Embarked__Q</th>\n",
       "      <th>Embarked__S</th>\n",
       "    </tr>\n",
       "  </thead>\n",
       "  <tbody>\n",
       "    <tr>\n",
       "      <th>0</th>\n",
       "      <td>1</td>\n",
       "      <td>0.0</td>\n",
       "      <td>3</td>\n",
       "      <td>22.0</td>\n",
       "      <td>1</td>\n",
       "      <td>0</td>\n",
       "      <td>7.2500</td>\n",
       "      <td>0</td>\n",
       "      <td>0</td>\n",
       "      <td>1</td>\n",
       "      <td>...</td>\n",
       "      <td>0</td>\n",
       "      <td>0</td>\n",
       "      <td>0</td>\n",
       "      <td>0</td>\n",
       "      <td>0</td>\n",
       "      <td>1</td>\n",
       "      <td>0</td>\n",
       "      <td>1</td>\n",
       "      <td>0</td>\n",
       "      <td>1</td>\n",
       "    </tr>\n",
       "    <tr>\n",
       "      <th>1</th>\n",
       "      <td>2</td>\n",
       "      <td>1.0</td>\n",
       "      <td>1</td>\n",
       "      <td>38.0</td>\n",
       "      <td>1</td>\n",
       "      <td>0</td>\n",
       "      <td>71.2833</td>\n",
       "      <td>0</td>\n",
       "      <td>0</td>\n",
       "      <td>0</td>\n",
       "      <td>...</td>\n",
       "      <td>1</td>\n",
       "      <td>0</td>\n",
       "      <td>0</td>\n",
       "      <td>0</td>\n",
       "      <td>0</td>\n",
       "      <td>0</td>\n",
       "      <td>0</td>\n",
       "      <td>0</td>\n",
       "      <td>0</td>\n",
       "      <td>0</td>\n",
       "    </tr>\n",
       "    <tr>\n",
       "      <th>2</th>\n",
       "      <td>3</td>\n",
       "      <td>1.0</td>\n",
       "      <td>3</td>\n",
       "      <td>26.0</td>\n",
       "      <td>0</td>\n",
       "      <td>0</td>\n",
       "      <td>7.9250</td>\n",
       "      <td>0</td>\n",
       "      <td>1</td>\n",
       "      <td>0</td>\n",
       "      <td>...</td>\n",
       "      <td>0</td>\n",
       "      <td>0</td>\n",
       "      <td>0</td>\n",
       "      <td>0</td>\n",
       "      <td>0</td>\n",
       "      <td>1</td>\n",
       "      <td>0</td>\n",
       "      <td>0</td>\n",
       "      <td>0</td>\n",
       "      <td>1</td>\n",
       "    </tr>\n",
       "    <tr>\n",
       "      <th>3</th>\n",
       "      <td>4</td>\n",
       "      <td>1.0</td>\n",
       "      <td>1</td>\n",
       "      <td>35.0</td>\n",
       "      <td>1</td>\n",
       "      <td>0</td>\n",
       "      <td>53.1000</td>\n",
       "      <td>0</td>\n",
       "      <td>0</td>\n",
       "      <td>0</td>\n",
       "      <td>...</td>\n",
       "      <td>1</td>\n",
       "      <td>0</td>\n",
       "      <td>0</td>\n",
       "      <td>0</td>\n",
       "      <td>0</td>\n",
       "      <td>0</td>\n",
       "      <td>0</td>\n",
       "      <td>0</td>\n",
       "      <td>0</td>\n",
       "      <td>1</td>\n",
       "    </tr>\n",
       "    <tr>\n",
       "      <th>4</th>\n",
       "      <td>5</td>\n",
       "      <td>0.0</td>\n",
       "      <td>3</td>\n",
       "      <td>35.0</td>\n",
       "      <td>0</td>\n",
       "      <td>0</td>\n",
       "      <td>8.0500</td>\n",
       "      <td>0</td>\n",
       "      <td>0</td>\n",
       "      <td>1</td>\n",
       "      <td>...</td>\n",
       "      <td>0</td>\n",
       "      <td>0</td>\n",
       "      <td>0</td>\n",
       "      <td>0</td>\n",
       "      <td>0</td>\n",
       "      <td>1</td>\n",
       "      <td>0</td>\n",
       "      <td>1</td>\n",
       "      <td>0</td>\n",
       "      <td>1</td>\n",
       "    </tr>\n",
       "  </tbody>\n",
       "</table>\n",
       "<p>5 rows × 28 columns</p>\n",
       "</div>"
      ],
      "text/plain": [
       "   PassengerId  Survived  Pclass   Age  SibSp  Parch     Fare  Title_Master  \\\n",
       "0            1       0.0       3  22.0      1      0   7.2500             0   \n",
       "1            2       1.0       1  38.0      1      0  71.2833             0   \n",
       "2            3       1.0       3  26.0      0      0   7.9250             0   \n",
       "3            4       1.0       1  35.0      1      0  53.1000             0   \n",
       "4            5       0.0       3  35.0      0      0   8.0500             0   \n",
       "\n",
       "   Title_Miss  Title_Mr  ...  Letter__C  Letter__D  Letter__E  Letter__F  \\\n",
       "0           0         1  ...          0          0          0          0   \n",
       "1           0         0  ...          1          0          0          0   \n",
       "2           1         0  ...          0          0          0          0   \n",
       "3           0         0  ...          1          0          0          0   \n",
       "4           0         1  ...          0          0          0          0   \n",
       "\n",
       "   Letter__G  Letter__None  Letter__T  Male  Embarked__Q  Embarked__S  \n",
       "0          0             1          0     1            0            1  \n",
       "1          0             0          0     0            0            0  \n",
       "2          0             1          0     0            0            1  \n",
       "3          0             0          0     0            0            1  \n",
       "4          0             1          0     1            0            1  \n",
       "\n",
       "[5 rows x 28 columns]"
      ]
     },
     "execution_count": 751,
     "metadata": {},
     "output_type": "execute_result"
    }
   ],
   "source": [
    "tt.head()"
   ]
  },
  {
   "cell_type": "code",
   "execution_count": 752,
   "id": "d272c46d",
   "metadata": {},
   "outputs": [
    {
     "data": {
      "text/html": [
       "<div>\n",
       "<style scoped>\n",
       "    .dataframe tbody tr th:only-of-type {\n",
       "        vertical-align: middle;\n",
       "    }\n",
       "\n",
       "    .dataframe tbody tr th {\n",
       "        vertical-align: top;\n",
       "    }\n",
       "\n",
       "    .dataframe thead th {\n",
       "        text-align: right;\n",
       "    }\n",
       "</style>\n",
       "<table border=\"1\" class=\"dataframe\">\n",
       "  <thead>\n",
       "    <tr style=\"text-align: right;\">\n",
       "      <th></th>\n",
       "      <th>PassengerId</th>\n",
       "      <th>Survived</th>\n",
       "      <th>Pclass</th>\n",
       "      <th>Age</th>\n",
       "      <th>SibSp</th>\n",
       "      <th>Parch</th>\n",
       "      <th>Fare</th>\n",
       "      <th>Title_Master</th>\n",
       "      <th>Title_Miss</th>\n",
       "      <th>Title_Mr</th>\n",
       "      <th>...</th>\n",
       "      <th>Letter__C</th>\n",
       "      <th>Letter__D</th>\n",
       "      <th>Letter__E</th>\n",
       "      <th>Letter__F</th>\n",
       "      <th>Letter__G</th>\n",
       "      <th>Letter__None</th>\n",
       "      <th>Letter__T</th>\n",
       "      <th>Male</th>\n",
       "      <th>Embarked__Q</th>\n",
       "      <th>Embarked__S</th>\n",
       "    </tr>\n",
       "  </thead>\n",
       "  <tbody>\n",
       "    <tr>\n",
       "      <th>413</th>\n",
       "      <td>1305</td>\n",
       "      <td>NaN</td>\n",
       "      <td>3</td>\n",
       "      <td>NaN</td>\n",
       "      <td>0</td>\n",
       "      <td>0</td>\n",
       "      <td>8.0500</td>\n",
       "      <td>0</td>\n",
       "      <td>0</td>\n",
       "      <td>1</td>\n",
       "      <td>...</td>\n",
       "      <td>0</td>\n",
       "      <td>0</td>\n",
       "      <td>0</td>\n",
       "      <td>0</td>\n",
       "      <td>0</td>\n",
       "      <td>1</td>\n",
       "      <td>0</td>\n",
       "      <td>1</td>\n",
       "      <td>0</td>\n",
       "      <td>1</td>\n",
       "    </tr>\n",
       "    <tr>\n",
       "      <th>414</th>\n",
       "      <td>1306</td>\n",
       "      <td>NaN</td>\n",
       "      <td>1</td>\n",
       "      <td>39.0</td>\n",
       "      <td>0</td>\n",
       "      <td>0</td>\n",
       "      <td>108.9000</td>\n",
       "      <td>0</td>\n",
       "      <td>0</td>\n",
       "      <td>0</td>\n",
       "      <td>...</td>\n",
       "      <td>1</td>\n",
       "      <td>0</td>\n",
       "      <td>0</td>\n",
       "      <td>0</td>\n",
       "      <td>0</td>\n",
       "      <td>0</td>\n",
       "      <td>0</td>\n",
       "      <td>0</td>\n",
       "      <td>0</td>\n",
       "      <td>0</td>\n",
       "    </tr>\n",
       "    <tr>\n",
       "      <th>415</th>\n",
       "      <td>1307</td>\n",
       "      <td>NaN</td>\n",
       "      <td>3</td>\n",
       "      <td>38.5</td>\n",
       "      <td>0</td>\n",
       "      <td>0</td>\n",
       "      <td>7.2500</td>\n",
       "      <td>0</td>\n",
       "      <td>0</td>\n",
       "      <td>1</td>\n",
       "      <td>...</td>\n",
       "      <td>0</td>\n",
       "      <td>0</td>\n",
       "      <td>0</td>\n",
       "      <td>0</td>\n",
       "      <td>0</td>\n",
       "      <td>1</td>\n",
       "      <td>0</td>\n",
       "      <td>1</td>\n",
       "      <td>0</td>\n",
       "      <td>1</td>\n",
       "    </tr>\n",
       "    <tr>\n",
       "      <th>416</th>\n",
       "      <td>1308</td>\n",
       "      <td>NaN</td>\n",
       "      <td>3</td>\n",
       "      <td>NaN</td>\n",
       "      <td>0</td>\n",
       "      <td>0</td>\n",
       "      <td>8.0500</td>\n",
       "      <td>0</td>\n",
       "      <td>0</td>\n",
       "      <td>1</td>\n",
       "      <td>...</td>\n",
       "      <td>0</td>\n",
       "      <td>0</td>\n",
       "      <td>0</td>\n",
       "      <td>0</td>\n",
       "      <td>0</td>\n",
       "      <td>1</td>\n",
       "      <td>0</td>\n",
       "      <td>1</td>\n",
       "      <td>0</td>\n",
       "      <td>1</td>\n",
       "    </tr>\n",
       "    <tr>\n",
       "      <th>417</th>\n",
       "      <td>1309</td>\n",
       "      <td>NaN</td>\n",
       "      <td>3</td>\n",
       "      <td>NaN</td>\n",
       "      <td>1</td>\n",
       "      <td>1</td>\n",
       "      <td>22.3583</td>\n",
       "      <td>1</td>\n",
       "      <td>0</td>\n",
       "      <td>0</td>\n",
       "      <td>...</td>\n",
       "      <td>0</td>\n",
       "      <td>0</td>\n",
       "      <td>0</td>\n",
       "      <td>0</td>\n",
       "      <td>0</td>\n",
       "      <td>1</td>\n",
       "      <td>0</td>\n",
       "      <td>1</td>\n",
       "      <td>0</td>\n",
       "      <td>0</td>\n",
       "    </tr>\n",
       "  </tbody>\n",
       "</table>\n",
       "<p>5 rows × 28 columns</p>\n",
       "</div>"
      ],
      "text/plain": [
       "     PassengerId  Survived  Pclass   Age  SibSp  Parch      Fare  \\\n",
       "413         1305       NaN       3   NaN      0      0    8.0500   \n",
       "414         1306       NaN       1  39.0      0      0  108.9000   \n",
       "415         1307       NaN       3  38.5      0      0    7.2500   \n",
       "416         1308       NaN       3   NaN      0      0    8.0500   \n",
       "417         1309       NaN       3   NaN      1      1   22.3583   \n",
       "\n",
       "     Title_Master  Title_Miss  Title_Mr  ...  Letter__C  Letter__D  Letter__E  \\\n",
       "413             0           0         1  ...          0          0          0   \n",
       "414             0           0         0  ...          1          0          0   \n",
       "415             0           0         1  ...          0          0          0   \n",
       "416             0           0         1  ...          0          0          0   \n",
       "417             1           0         0  ...          0          0          0   \n",
       "\n",
       "     Letter__F  Letter__G  Letter__None  Letter__T  Male  Embarked__Q  \\\n",
       "413          0          0             1          0     1            0   \n",
       "414          0          0             0          0     0            0   \n",
       "415          0          0             1          0     1            0   \n",
       "416          0          0             1          0     1            0   \n",
       "417          0          0             1          0     1            0   \n",
       "\n",
       "     Embarked__S  \n",
       "413            1  \n",
       "414            0  \n",
       "415            1  \n",
       "416            1  \n",
       "417            0  \n",
       "\n",
       "[5 rows x 28 columns]"
      ]
     },
     "execution_count": 752,
     "metadata": {},
     "output_type": "execute_result"
    }
   ],
   "source": [
    "tt.tail()"
   ]
  },
  {
   "cell_type": "markdown",
   "id": "4014a94e",
   "metadata": {},
   "source": [
    "## Using Miss Forest"
   ]
  },
  {
   "cell_type": "code",
   "execution_count": 753,
   "id": "7f0c9ee8",
   "metadata": {},
   "outputs": [
    {
     "data": {
      "text/plain": [
       "Index(['PassengerId', 'Survived', 'Pclass', 'Age', 'SibSp', 'Parch', 'Fare',\n",
       "       'Title_Master', 'Title_Miss', 'Title_Mr', 'Title_Mrs', 'Title_Nobility',\n",
       "       'Title_Officer', 'Title_Rev', 'Dup_Ticket', 'Ticket_Length',\n",
       "       'Dup_Cabin', 'Letter__B', 'Letter__C', 'Letter__D', 'Letter__E',\n",
       "       'Letter__F', 'Letter__G', 'Letter__None', 'Letter__T', 'Male',\n",
       "       'Embarked__Q', 'Embarked__S'],\n",
       "      dtype='object')"
      ]
     },
     "execution_count": 753,
     "metadata": {},
     "output_type": "execute_result"
    }
   ],
   "source": [
    "tt.columns"
   ]
  },
  {
   "cell_type": "markdown",
   "id": "6e6faee5",
   "metadata": {},
   "source": [
    "#### Split into train and test"
   ]
  },
  {
   "cell_type": "code",
   "execution_count": 754,
   "id": "2418e508",
   "metadata": {},
   "outputs": [],
   "source": [
    "train = tt.iloc[0:891].copy()"
   ]
  },
  {
   "cell_type": "code",
   "execution_count": 755,
   "id": "9e250890",
   "metadata": {},
   "outputs": [],
   "source": [
    "test = tt.iloc[891:1309].copy()"
   ]
  },
  {
   "cell_type": "code",
   "execution_count": 758,
   "id": "dec193e2",
   "metadata": {},
   "outputs": [],
   "source": [
    "imputation_train = train[[#'PassengerId', \n",
    "    'Survived', 'Pclass', 'Age', 'SibSp', 'Parch', 'Fare',\n",
    "       'Title_Master', 'Title_Miss', 'Title_Mr', 'Title_Mrs',\n",
    "       'Title_Nobility', 'Title_Officer', 'Title_Rev', 'Dup_Ticket',\n",
    "       'Ticket_Length', 'Dup_Cabin', 'Male', 'Letter__B', 'Letter__C',\n",
    "       'Letter__D', 'Letter__E', 'Letter__F', 'Letter__G', 'Letter__None',\n",
    "       'Letter__T', 'Embarked__Q', 'Embarked__S']].copy()"
   ]
  },
  {
   "cell_type": "code",
   "execution_count": 762,
   "id": "71c4f052",
   "metadata": {},
   "outputs": [],
   "source": [
    "imputation_test = test[[#'PassengerId', #'Survived', \n",
    "    'Pclass', 'Age', 'SibSp', 'Parch', 'Fare',\n",
    "       'Title_Master', 'Title_Miss', 'Title_Mr', 'Title_Mrs',\n",
    "       'Title_Nobility', 'Title_Officer', 'Title_Rev', 'Dup_Ticket',\n",
    "       'Ticket_Length', 'Dup_Cabin', 'Male', 'Letter__B', 'Letter__C',\n",
    "       'Letter__D', 'Letter__E', 'Letter__F', 'Letter__G', 'Letter__None',\n",
    "       'Letter__T', 'Embarked__Q', 'Embarked__S']].copy()"
   ]
  },
  {
   "cell_type": "markdown",
   "id": "7e5ec643",
   "metadata": {},
   "source": [
    "#### Imputing train "
   ]
  },
  {
   "cell_type": "code",
   "execution_count": 763,
   "id": "6f3f9c13",
   "metadata": {},
   "outputs": [],
   "source": [
    "import sklearn.neighbors._base\n",
    "import sys\n",
    "sys.modules['sklearn.neighbors.base'] = sklearn.neighbors._base\n",
    "from missingpy import MissForest"
   ]
  },
  {
   "cell_type": "code",
   "execution_count": 764,
   "id": "70cb392b",
   "metadata": {},
   "outputs": [
    {
     "name": "stderr",
     "output_type": "stream",
     "text": [
      "C:\\Users\\euana\\anaconda3\\lib\\site-packages\\sklearn\\ensemble\\_forest.py:396: FutureWarning: Criterion 'mse' was deprecated in v1.0 and will be removed in version 1.2. Use `criterion='squared_error'` which is equivalent.\n",
      "  warn(\n"
     ]
    },
    {
     "name": "stdout",
     "output_type": "stream",
     "text": [
      "Iteration: 0\n"
     ]
    },
    {
     "name": "stderr",
     "output_type": "stream",
     "text": [
      "C:\\Users\\euana\\anaconda3\\lib\\site-packages\\sklearn\\ensemble\\_forest.py:396: FutureWarning: Criterion 'mse' was deprecated in v1.0 and will be removed in version 1.2. Use `criterion='squared_error'` which is equivalent.\n",
      "  warn(\n"
     ]
    },
    {
     "name": "stdout",
     "output_type": "stream",
     "text": [
      "Iteration: 1\n"
     ]
    },
    {
     "name": "stderr",
     "output_type": "stream",
     "text": [
      "C:\\Users\\euana\\anaconda3\\lib\\site-packages\\sklearn\\ensemble\\_forest.py:396: FutureWarning: Criterion 'mse' was deprecated in v1.0 and will be removed in version 1.2. Use `criterion='squared_error'` which is equivalent.\n",
      "  warn(\n"
     ]
    },
    {
     "name": "stdout",
     "output_type": "stream",
     "text": [
      "Iteration: 2\n"
     ]
    },
    {
     "name": "stderr",
     "output_type": "stream",
     "text": [
      "C:\\Users\\euana\\anaconda3\\lib\\site-packages\\sklearn\\ensemble\\_forest.py:396: FutureWarning: Criterion 'mse' was deprecated in v1.0 and will be removed in version 1.2. Use `criterion='squared_error'` which is equivalent.\n",
      "  warn(\n"
     ]
    },
    {
     "name": "stdout",
     "output_type": "stream",
     "text": [
      "Iteration: 3\n"
     ]
    }
   ],
   "source": [
    "imputer = MissForest()\n",
    "mf_train = imputer.fit_transform(imputation_train)\n",
    "mf_train = pd.DataFrame(mf_train, columns = imputation_train.columns)"
   ]
  },
  {
   "cell_type": "code",
   "execution_count": 765,
   "id": "087c0e14",
   "metadata": {},
   "outputs": [
    {
     "data": {
      "text/plain": [
       "Survived          0\n",
       "Pclass            0\n",
       "Age               0\n",
       "SibSp             0\n",
       "Parch             0\n",
       "Fare              0\n",
       "Title_Master      0\n",
       "Title_Miss        0\n",
       "Title_Mr          0\n",
       "Title_Mrs         0\n",
       "Title_Nobility    0\n",
       "Title_Officer     0\n",
       "Title_Rev         0\n",
       "Dup_Ticket        0\n",
       "Ticket_Length     0\n",
       "Dup_Cabin         0\n",
       "Male              0\n",
       "Letter__B         0\n",
       "Letter__C         0\n",
       "Letter__D         0\n",
       "Letter__E         0\n",
       "Letter__F         0\n",
       "Letter__G         0\n",
       "Letter__None      0\n",
       "Letter__T         0\n",
       "Embarked__Q       0\n",
       "Embarked__S       0\n",
       "dtype: int64"
      ]
     },
     "execution_count": 765,
     "metadata": {},
     "output_type": "execute_result"
    }
   ],
   "source": [
    "mf_train.isna().sum()"
   ]
  },
  {
   "cell_type": "markdown",
   "id": "20fcb8c6",
   "metadata": {},
   "source": [
    "#### Imputing test"
   ]
  },
  {
   "cell_type": "code",
   "execution_count": 766,
   "id": "fc2c3a9c",
   "metadata": {},
   "outputs": [
    {
     "name": "stderr",
     "output_type": "stream",
     "text": [
      "C:\\Users\\euana\\anaconda3\\lib\\site-packages\\sklearn\\ensemble\\_forest.py:396: FutureWarning: Criterion 'mse' was deprecated in v1.0 and will be removed in version 1.2. Use `criterion='squared_error'` which is equivalent.\n",
      "  warn(\n",
      "C:\\Users\\euana\\anaconda3\\lib\\site-packages\\sklearn\\ensemble\\_forest.py:396: FutureWarning: Criterion 'mse' was deprecated in v1.0 and will be removed in version 1.2. Use `criterion='squared_error'` which is equivalent.\n",
      "  warn(\n"
     ]
    },
    {
     "name": "stdout",
     "output_type": "stream",
     "text": [
      "Iteration: 0\n"
     ]
    },
    {
     "name": "stderr",
     "output_type": "stream",
     "text": [
      "C:\\Users\\euana\\anaconda3\\lib\\site-packages\\sklearn\\ensemble\\_forest.py:396: FutureWarning: Criterion 'mse' was deprecated in v1.0 and will be removed in version 1.2. Use `criterion='squared_error'` which is equivalent.\n",
      "  warn(\n",
      "C:\\Users\\euana\\anaconda3\\lib\\site-packages\\sklearn\\ensemble\\_forest.py:396: FutureWarning: Criterion 'mse' was deprecated in v1.0 and will be removed in version 1.2. Use `criterion='squared_error'` which is equivalent.\n",
      "  warn(\n"
     ]
    },
    {
     "name": "stdout",
     "output_type": "stream",
     "text": [
      "Iteration: 1\n"
     ]
    },
    {
     "name": "stderr",
     "output_type": "stream",
     "text": [
      "C:\\Users\\euana\\anaconda3\\lib\\site-packages\\sklearn\\ensemble\\_forest.py:396: FutureWarning: Criterion 'mse' was deprecated in v1.0 and will be removed in version 1.2. Use `criterion='squared_error'` which is equivalent.\n",
      "  warn(\n",
      "C:\\Users\\euana\\anaconda3\\lib\\site-packages\\sklearn\\ensemble\\_forest.py:396: FutureWarning: Criterion 'mse' was deprecated in v1.0 and will be removed in version 1.2. Use `criterion='squared_error'` which is equivalent.\n",
      "  warn(\n"
     ]
    },
    {
     "name": "stdout",
     "output_type": "stream",
     "text": [
      "Iteration: 2\n"
     ]
    },
    {
     "name": "stderr",
     "output_type": "stream",
     "text": [
      "C:\\Users\\euana\\anaconda3\\lib\\site-packages\\sklearn\\ensemble\\_forest.py:396: FutureWarning: Criterion 'mse' was deprecated in v1.0 and will be removed in version 1.2. Use `criterion='squared_error'` which is equivalent.\n",
      "  warn(\n",
      "C:\\Users\\euana\\anaconda3\\lib\\site-packages\\sklearn\\ensemble\\_forest.py:396: FutureWarning: Criterion 'mse' was deprecated in v1.0 and will be removed in version 1.2. Use `criterion='squared_error'` which is equivalent.\n",
      "  warn(\n"
     ]
    },
    {
     "name": "stdout",
     "output_type": "stream",
     "text": [
      "Iteration: 3\n"
     ]
    }
   ],
   "source": [
    "imputer = MissForest()\n",
    "mf_test = imputer.fit_transform(imputation_test)\n",
    "mf_test = pd.DataFrame(mf_test, columns = imputation_test.columns)"
   ]
  },
  {
   "cell_type": "code",
   "execution_count": 767,
   "id": "8051c405",
   "metadata": {},
   "outputs": [
    {
     "data": {
      "text/plain": [
       "Pclass            0\n",
       "Age               0\n",
       "SibSp             0\n",
       "Parch             0\n",
       "Fare              0\n",
       "Title_Master      0\n",
       "Title_Miss        0\n",
       "Title_Mr          0\n",
       "Title_Mrs         0\n",
       "Title_Nobility    0\n",
       "Title_Officer     0\n",
       "Title_Rev         0\n",
       "Dup_Ticket        0\n",
       "Ticket_Length     0\n",
       "Dup_Cabin         0\n",
       "Male              0\n",
       "Letter__B         0\n",
       "Letter__C         0\n",
       "Letter__D         0\n",
       "Letter__E         0\n",
       "Letter__F         0\n",
       "Letter__G         0\n",
       "Letter__None      0\n",
       "Letter__T         0\n",
       "Embarked__Q       0\n",
       "Embarked__S       0\n",
       "dtype: int64"
      ]
     },
     "execution_count": 767,
     "metadata": {},
     "output_type": "execute_result"
    }
   ],
   "source": [
    "mf_test.isna().sum()"
   ]
  },
  {
   "cell_type": "markdown",
   "id": "d3e11984",
   "metadata": {},
   "source": [
    "#### Re-joining train and test"
   ]
  },
  {
   "cell_type": "code",
   "execution_count": 768,
   "id": "5c645496",
   "metadata": {},
   "outputs": [],
   "source": [
    "mf_train['PassengerId'] = train['PassengerId']"
   ]
  },
  {
   "cell_type": "code",
   "execution_count": 769,
   "id": "19c05462",
   "metadata": {},
   "outputs": [],
   "source": [
    "mf_test['PassengerId'] = test['PassengerId']"
   ]
  },
  {
   "cell_type": "markdown",
   "id": "28d038e2",
   "metadata": {},
   "source": [
    "# Exploring the relationship between Survived and other Features"
   ]
  },
  {
   "cell_type": "code",
   "execution_count": 788,
   "id": "d0bf8239",
   "metadata": {},
   "outputs": [],
   "source": [
    "survived = round((mf_train.query('Survived == 1').shape[0]/mf_train.shape[0])*100,1)"
   ]
  },
  {
   "cell_type": "code",
   "execution_count": 789,
   "id": "40937cc4",
   "metadata": {},
   "outputs": [],
   "source": [
    "death = 100 - survived"
   ]
  },
  {
   "cell_type": "code",
   "execution_count": 791,
   "id": "d7f3272c",
   "metadata": {},
   "outputs": [
    {
     "name": "stdout",
     "output_type": "stream",
     "text": [
      "38.4% survived, and 61.6% did not survive.\n"
     ]
    }
   ],
   "source": [
    "print(f\"{survived}% survived, and {death}% did not survive.\")"
   ]
  },
  {
   "cell_type": "markdown",
   "id": "01665be4",
   "metadata": {},
   "source": [
    "## Pclass"
   ]
  },
  {
   "cell_type": "code",
   "execution_count": 793,
   "id": "dc67769d",
   "metadata": {},
   "outputs": [
    {
     "data": {
      "text/plain": [
       "3.0    491\n",
       "1.0    216\n",
       "2.0    184\n",
       "Name: Pclass, dtype: int64"
      ]
     },
     "execution_count": 793,
     "metadata": {},
     "output_type": "execute_result"
    }
   ],
   "source": [
    "mf_train.Pclass.value_counts()"
   ]
  },
  {
   "cell_type": "code",
   "execution_count": 794,
   "id": "bbec3d70",
   "metadata": {},
   "outputs": [],
   "source": [
    "Pclass_survived = train.groupby('Pclass').Survived.value_counts()"
   ]
  },
  {
   "cell_type": "code",
   "execution_count": 795,
   "id": "a50075cb",
   "metadata": {},
   "outputs": [
    {
     "data": {
      "text/plain": [
       "Pclass  Survived\n",
       "1       1.0         136\n",
       "        0.0          80\n",
       "2       0.0          97\n",
       "        1.0          87\n",
       "3       0.0         372\n",
       "        1.0         119\n",
       "Name: Survived, dtype: int64"
      ]
     },
     "execution_count": 795,
     "metadata": {},
     "output_type": "execute_result"
    }
   ],
   "source": [
    "Pclass_survived"
   ]
  },
  {
   "cell_type": "code",
   "execution_count": 798,
   "id": "a02628e6",
   "metadata": {},
   "outputs": [
    {
     "data": {
      "text/plain": [
       "<AxesSubplot:xlabel='Survived'>"
      ]
     },
     "execution_count": 798,
     "metadata": {},
     "output_type": "execute_result"
    },
    {
     "data": {
      "image/png": "[encoded data removed]",
      "text/plain": [
       "<Figure size 640x480 with 1 Axes>"
      ]
     },
     "metadata": {},
     "output_type": "display_data"
    }
   ],
   "source": [
    "Pclass_survived.unstack(level=0).plot(kind='bar', subplots=False, colormap=\"cividis\")"
   ]
  },
  {
   "cell_type": "code",
   "execution_count": 803,
   "id": "bd8472b2",
   "metadata": {},
   "outputs": [],
   "source": [
    "Pclass_mean_survived = mf_train[['Pclass', 'Survived']].groupby(['Pclass'], as_index=False).mean()"
   ]
  },
  {
   "cell_type": "code",
   "execution_count": 800,
   "id": "15747331",
   "metadata": {},
   "outputs": [
    {
     "data": {
      "text/html": [
       "<div>\n",
       "<style scoped>\n",
       "    .dataframe tbody tr th:only-of-type {\n",
       "        vertical-align: middle;\n",
       "    }\n",
       "\n",
       "    .dataframe tbody tr th {\n",
       "        vertical-align: top;\n",
       "    }\n",
       "\n",
       "    .dataframe thead th {\n",
       "        text-align: right;\n",
       "    }\n",
       "</style>\n",
       "<table border=\"1\" class=\"dataframe\">\n",
       "  <thead>\n",
       "    <tr style=\"text-align: right;\">\n",
       "      <th></th>\n",
       "      <th>Pclass</th>\n",
       "      <th>Survived</th>\n",
       "    </tr>\n",
       "  </thead>\n",
       "  <tbody>\n",
       "    <tr>\n",
       "      <th>0</th>\n",
       "      <td>1.0</td>\n",
       "      <td>0.629630</td>\n",
       "    </tr>\n",
       "    <tr>\n",
       "      <th>1</th>\n",
       "      <td>2.0</td>\n",
       "      <td>0.472826</td>\n",
       "    </tr>\n",
       "    <tr>\n",
       "      <th>2</th>\n",
       "      <td>3.0</td>\n",
       "      <td>0.242363</td>\n",
       "    </tr>\n",
       "  </tbody>\n",
       "</table>\n",
       "</div>"
      ],
      "text/plain": [
       "   Pclass  Survived\n",
       "0     1.0  0.629630\n",
       "1     2.0  0.472826\n",
       "2     3.0  0.242363"
      ]
     },
     "execution_count": 800,
     "metadata": {},
     "output_type": "execute_result"
    }
   ],
   "source": [
    "Pclass_mean_survived"
   ]
  },
  {
   "cell_type": "code",
   "execution_count": 810,
   "id": "bc8121a8",
   "metadata": {},
   "outputs": [
    {
     "data": {
      "text/plain": [
       "Index(['Survived', 'Pclass', 'Age', 'SibSp', 'Parch', 'Fare', 'Title_Master',\n",
       "       'Title_Miss', 'Title_Mr', 'Title_Mrs', 'Title_Nobility',\n",
       "       'Title_Officer', 'Title_Rev', 'Dup_Ticket', 'Ticket_Length',\n",
       "       'Dup_Cabin', 'Male', 'Letter__B', 'Letter__C', 'Letter__D', 'Letter__E',\n",
       "       'Letter__F', 'Letter__G', 'Letter__None', 'Letter__T', 'Embarked__Q',\n",
       "       'Embarked__S', 'PassengerId'],\n",
       "      dtype='object')"
      ]
     },
     "execution_count": 810,
     "metadata": {},
     "output_type": "execute_result"
    }
   ],
   "source": [
    "mf_train.columns"
   ]
  },
  {
   "cell_type": "code",
   "execution_count": 812,
   "id": "44b67c93",
   "metadata": {},
   "outputs": [
    {
     "data": {
      "image/png": "[encoded data removed]",
      "text/plain": [
       "<Figure size 640x480 with 1 Axes>"
      ]
     },
     "metadata": {},
     "output_type": "display_data"
    }
   ],
   "source": [
    "ax = sns.barplot(data=mf_train, x=\"Pclass\", y=\"Survived\", palette=\"winter\")"
   ]
  },
  {
   "cell_type": "code",
   "execution_count": 813,
   "id": "5d0bbd78",
   "metadata": {},
   "outputs": [
    {
     "data": {
      "image/png": "[encoded data removed]",
      "text/plain": [
       "<Figure size 640x480 with 1 Axes>"
      ]
     },
     "metadata": {},
     "output_type": "display_data"
    }
   ],
   "source": [
    "ax = sns.barplot(data=mf_train, x=\"Pclass\", y=\"Survived\", hue=\"Male\", palette=\"winter\")"
   ]
  },
  {
   "cell_type": "markdown",
   "id": "fe1b71f2",
   "metadata": {},
   "source": [
    "NOTES: The lower Pclass number (higher class) the better the chance of survival. Pclass 3 accounts for 55% of all passengers in the mf_train dataset but has Survived at 24%, compared to Pclass 1 which accounts for 24.3% of all passenger with Survived at 62.96%. "
   ]
  },
  {
   "cell_type": "markdown",
   "id": "40c98cb3",
   "metadata": {},
   "source": [
    "# Sex"
   ]
  },
  {
   "cell_type": "markdown",
   "id": "fa5c0538",
   "metadata": {},
   "source": [
    "## Age"
   ]
  },
  {
   "cell_type": "markdown",
   "id": "711e6aa3",
   "metadata": {},
   "source": [
    "## SibSp"
   ]
  },
  {
   "cell_type": "markdown",
   "id": "42fc7c21",
   "metadata": {},
   "source": [
    "## Parch"
   ]
  },
  {
   "cell_type": "markdown",
   "id": "baf41652",
   "metadata": {},
   "source": [
    "## Fare"
   ]
  },
  {
   "cell_type": "markdown",
   "id": "bbd175d6",
   "metadata": {},
   "source": [
    "## Title"
   ]
  },
  {
   "cell_type": "markdown",
   "id": "3ca9c1db",
   "metadata": {},
   "source": [
    "## Ticket"
   ]
  },
  {
   "cell_type": "markdown",
   "id": "1ec5b295",
   "metadata": {},
   "source": [
    "### Duplicate Ticket"
   ]
  },
  {
   "cell_type": "markdown",
   "id": "cca10216",
   "metadata": {},
   "source": [
    "### Ticket Length"
   ]
  },
  {
   "cell_type": "markdown",
   "id": "4a0cd463",
   "metadata": {},
   "source": [
    "## Cabin"
   ]
  },
  {
   "cell_type": "markdown",
   "id": "8bd42fd3",
   "metadata": {},
   "source": [
    "### Duplicate Cabin"
   ]
  },
  {
   "cell_type": "markdown",
   "id": "eecf40e4",
   "metadata": {},
   "source": [
    "### Cabin Letter"
   ]
  },
  {
   "cell_type": "markdown",
   "id": "1c19cf81",
   "metadata": {},
   "source": [
    "## Embarked"
   ]
  }
 ],
 "metadata": {
  "kernelspec": {
   "display_name": "Python 3 (ipykernel)",
   "language": "python",
   "name": "python3"
  },
  "language_info": {
   "codemirror_mode": {
    "name": "ipython",
    "version": 3
   },
   "file_extension": ".py",
   "mimetype": "text/x-python",
   "name": "python",
   "nbconvert_exporter": "python",
   "pygments_lexer": "ipython3",
   "version": "3.9.13"
  }
 },
 "nbformat": 4,
 "nbformat_minor": 5
}
