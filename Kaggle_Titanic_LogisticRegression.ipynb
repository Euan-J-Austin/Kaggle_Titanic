{
 "cells": [
  {
   "cell_type": "code",
   "execution_count": 369,
   "id": "eedc85d9",
   "metadata": {},
   "outputs": [],
   "source": [
    "import pandas as pd\n",
    "import statsmodels.api as sm\n",
    "import seaborn as sns\n",
    "import numpy as np\n",
    "from sklearn.model_selection import train_test_split\n",
    "from sklearn.metrics import confusion_matrix\n",
    "from sklearn.metrics import classification_report"
   ]
  },
  {
   "cell_type": "code",
   "execution_count": 379,
   "id": "5a7a9e55",
   "metadata": {},
   "outputs": [],
   "source": [
    "df = pd.read_csv('df_post_eda.csv', index_col=0) \n",
    "#index_col = 0 drops that Unnamed: 0 column"
   ]
  },
  {
   "cell_type": "code",
   "execution_count": 380,
   "id": "0b094e09",
   "metadata": {},
   "outputs": [
    {
     "data": {
      "text/html": [
       "<div>\n",
       "<style scoped>\n",
       "    .dataframe tbody tr th:only-of-type {\n",
       "        vertical-align: middle;\n",
       "    }\n",
       "\n",
       "    .dataframe tbody tr th {\n",
       "        vertical-align: top;\n",
       "    }\n",
       "\n",
       "    .dataframe thead th {\n",
       "        text-align: right;\n",
       "    }\n",
       "</style>\n",
       "<table border=\"1\" class=\"dataframe\">\n",
       "  <thead>\n",
       "    <tr style=\"text-align: right;\">\n",
       "      <th></th>\n",
       "      <th>y</th>\n",
       "      <th>Class</th>\n",
       "      <th>Sex</th>\n",
       "      <th>Age</th>\n",
       "      <th>SibSp</th>\n",
       "      <th>ParCh</th>\n",
       "      <th>Fare</th>\n",
       "    </tr>\n",
       "  </thead>\n",
       "  <tbody>\n",
       "    <tr>\n",
       "      <th>0</th>\n",
       "      <td>0</td>\n",
       "      <td>3</td>\n",
       "      <td>male</td>\n",
       "      <td>22.0</td>\n",
       "      <td>1</td>\n",
       "      <td>0</td>\n",
       "      <td>7.2500</td>\n",
       "    </tr>\n",
       "    <tr>\n",
       "      <th>1</th>\n",
       "      <td>1</td>\n",
       "      <td>1</td>\n",
       "      <td>female</td>\n",
       "      <td>38.0</td>\n",
       "      <td>1</td>\n",
       "      <td>0</td>\n",
       "      <td>71.2833</td>\n",
       "    </tr>\n",
       "    <tr>\n",
       "      <th>2</th>\n",
       "      <td>1</td>\n",
       "      <td>3</td>\n",
       "      <td>female</td>\n",
       "      <td>26.0</td>\n",
       "      <td>0</td>\n",
       "      <td>0</td>\n",
       "      <td>7.9250</td>\n",
       "    </tr>\n",
       "    <tr>\n",
       "      <th>3</th>\n",
       "      <td>1</td>\n",
       "      <td>1</td>\n",
       "      <td>female</td>\n",
       "      <td>35.0</td>\n",
       "      <td>1</td>\n",
       "      <td>0</td>\n",
       "      <td>53.1000</td>\n",
       "    </tr>\n",
       "    <tr>\n",
       "      <th>4</th>\n",
       "      <td>0</td>\n",
       "      <td>3</td>\n",
       "      <td>male</td>\n",
       "      <td>35.0</td>\n",
       "      <td>0</td>\n",
       "      <td>0</td>\n",
       "      <td>8.0500</td>\n",
       "    </tr>\n",
       "  </tbody>\n",
       "</table>\n",
       "</div>"
      ],
      "text/plain": [
       "   y  Class     Sex   Age  SibSp  ParCh     Fare\n",
       "0  0      3    male  22.0      1      0   7.2500\n",
       "1  1      1  female  38.0      1      0  71.2833\n",
       "2  1      3  female  26.0      0      0   7.9250\n",
       "3  1      1  female  35.0      1      0  53.1000\n",
       "4  0      3    male  35.0      0      0   8.0500"
      ]
     },
     "execution_count": 380,
     "metadata": {},
     "output_type": "execute_result"
    }
   ],
   "source": [
    "df.head()"
   ]
  },
  {
   "cell_type": "code",
   "execution_count": 381,
   "id": "3cb8998d",
   "metadata": {},
   "outputs": [],
   "source": [
    "df = pd.get_dummies(data=df,drop_first=True).copy()"
   ]
  },
  {
   "cell_type": "code",
   "execution_count": 382,
   "id": "163aef9d",
   "metadata": {
    "scrolled": true
   },
   "outputs": [
    {
     "data": {
      "text/html": [
       "<div>\n",
       "<style scoped>\n",
       "    .dataframe tbody tr th:only-of-type {\n",
       "        vertical-align: middle;\n",
       "    }\n",
       "\n",
       "    .dataframe tbody tr th {\n",
       "        vertical-align: top;\n",
       "    }\n",
       "\n",
       "    .dataframe thead th {\n",
       "        text-align: right;\n",
       "    }\n",
       "</style>\n",
       "<table border=\"1\" class=\"dataframe\">\n",
       "  <thead>\n",
       "    <tr style=\"text-align: right;\">\n",
       "      <th></th>\n",
       "      <th>y</th>\n",
       "      <th>Class</th>\n",
       "      <th>Age</th>\n",
       "      <th>SibSp</th>\n",
       "      <th>ParCh</th>\n",
       "      <th>Fare</th>\n",
       "      <th>Sex_male</th>\n",
       "    </tr>\n",
       "  </thead>\n",
       "  <tbody>\n",
       "    <tr>\n",
       "      <th>0</th>\n",
       "      <td>0</td>\n",
       "      <td>3</td>\n",
       "      <td>22.0</td>\n",
       "      <td>1</td>\n",
       "      <td>0</td>\n",
       "      <td>7.2500</td>\n",
       "      <td>1</td>\n",
       "    </tr>\n",
       "    <tr>\n",
       "      <th>1</th>\n",
       "      <td>1</td>\n",
       "      <td>1</td>\n",
       "      <td>38.0</td>\n",
       "      <td>1</td>\n",
       "      <td>0</td>\n",
       "      <td>71.2833</td>\n",
       "      <td>0</td>\n",
       "    </tr>\n",
       "    <tr>\n",
       "      <th>2</th>\n",
       "      <td>1</td>\n",
       "      <td>3</td>\n",
       "      <td>26.0</td>\n",
       "      <td>0</td>\n",
       "      <td>0</td>\n",
       "      <td>7.9250</td>\n",
       "      <td>0</td>\n",
       "    </tr>\n",
       "    <tr>\n",
       "      <th>3</th>\n",
       "      <td>1</td>\n",
       "      <td>1</td>\n",
       "      <td>35.0</td>\n",
       "      <td>1</td>\n",
       "      <td>0</td>\n",
       "      <td>53.1000</td>\n",
       "      <td>0</td>\n",
       "    </tr>\n",
       "    <tr>\n",
       "      <th>4</th>\n",
       "      <td>0</td>\n",
       "      <td>3</td>\n",
       "      <td>35.0</td>\n",
       "      <td>0</td>\n",
       "      <td>0</td>\n",
       "      <td>8.0500</td>\n",
       "      <td>1</td>\n",
       "    </tr>\n",
       "    <tr>\n",
       "      <th>...</th>\n",
       "      <td>...</td>\n",
       "      <td>...</td>\n",
       "      <td>...</td>\n",
       "      <td>...</td>\n",
       "      <td>...</td>\n",
       "      <td>...</td>\n",
       "      <td>...</td>\n",
       "    </tr>\n",
       "    <tr>\n",
       "      <th>886</th>\n",
       "      <td>0</td>\n",
       "      <td>2</td>\n",
       "      <td>27.0</td>\n",
       "      <td>0</td>\n",
       "      <td>0</td>\n",
       "      <td>13.0000</td>\n",
       "      <td>1</td>\n",
       "    </tr>\n",
       "    <tr>\n",
       "      <th>887</th>\n",
       "      <td>1</td>\n",
       "      <td>1</td>\n",
       "      <td>19.0</td>\n",
       "      <td>0</td>\n",
       "      <td>0</td>\n",
       "      <td>30.0000</td>\n",
       "      <td>0</td>\n",
       "    </tr>\n",
       "    <tr>\n",
       "      <th>888</th>\n",
       "      <td>0</td>\n",
       "      <td>3</td>\n",
       "      <td>NaN</td>\n",
       "      <td>1</td>\n",
       "      <td>2</td>\n",
       "      <td>23.4500</td>\n",
       "      <td>0</td>\n",
       "    </tr>\n",
       "    <tr>\n",
       "      <th>889</th>\n",
       "      <td>1</td>\n",
       "      <td>1</td>\n",
       "      <td>26.0</td>\n",
       "      <td>0</td>\n",
       "      <td>0</td>\n",
       "      <td>30.0000</td>\n",
       "      <td>1</td>\n",
       "    </tr>\n",
       "    <tr>\n",
       "      <th>890</th>\n",
       "      <td>0</td>\n",
       "      <td>3</td>\n",
       "      <td>32.0</td>\n",
       "      <td>0</td>\n",
       "      <td>0</td>\n",
       "      <td>7.7500</td>\n",
       "      <td>1</td>\n",
       "    </tr>\n",
       "  </tbody>\n",
       "</table>\n",
       "<p>891 rows × 7 columns</p>\n",
       "</div>"
      ],
      "text/plain": [
       "     y  Class   Age  SibSp  ParCh     Fare  Sex_male\n",
       "0    0      3  22.0      1      0   7.2500         1\n",
       "1    1      1  38.0      1      0  71.2833         0\n",
       "2    1      3  26.0      0      0   7.9250         0\n",
       "3    1      1  35.0      1      0  53.1000         0\n",
       "4    0      3  35.0      0      0   8.0500         1\n",
       "..  ..    ...   ...    ...    ...      ...       ...\n",
       "886  0      2  27.0      0      0  13.0000         1\n",
       "887  1      1  19.0      0      0  30.0000         0\n",
       "888  0      3   NaN      1      2  23.4500         0\n",
       "889  1      1  26.0      0      0  30.0000         1\n",
       "890  0      3  32.0      0      0   7.7500         1\n",
       "\n",
       "[891 rows x 7 columns]"
      ]
     },
     "execution_count": 382,
     "metadata": {},
     "output_type": "execute_result"
    }
   ],
   "source": [
    "df ##convert Class to dummies "
   ]
  },
  {
   "cell_type": "code",
   "execution_count": 383,
   "id": "ce0b5576",
   "metadata": {},
   "outputs": [],
   "source": [
    "Class_dummies = pd.get_dummies(data=df[\"Class\"], prefix='Class', drop_first='True')"
   ]
  },
  {
   "cell_type": "code",
   "execution_count": 384,
   "id": "a7c1fb20",
   "metadata": {},
   "outputs": [],
   "source": [
    "df = df.join(Class_dummies).copy()"
   ]
  },
  {
   "cell_type": "code",
   "execution_count": 385,
   "id": "af0555a0",
   "metadata": {},
   "outputs": [],
   "source": [
    "df = df.drop(['Class'], axis=1).copy()"
   ]
  },
  {
   "cell_type": "code",
   "execution_count": 386,
   "id": "285f9436",
   "metadata": {},
   "outputs": [
    {
     "data": {
      "text/html": [
       "<div>\n",
       "<style scoped>\n",
       "    .dataframe tbody tr th:only-of-type {\n",
       "        vertical-align: middle;\n",
       "    }\n",
       "\n",
       "    .dataframe tbody tr th {\n",
       "        vertical-align: top;\n",
       "    }\n",
       "\n",
       "    .dataframe thead th {\n",
       "        text-align: right;\n",
       "    }\n",
       "</style>\n",
       "<table border=\"1\" class=\"dataframe\">\n",
       "  <thead>\n",
       "    <tr style=\"text-align: right;\">\n",
       "      <th></th>\n",
       "      <th>y</th>\n",
       "      <th>Age</th>\n",
       "      <th>SibSp</th>\n",
       "      <th>ParCh</th>\n",
       "      <th>Fare</th>\n",
       "      <th>Sex_male</th>\n",
       "      <th>Class_2</th>\n",
       "      <th>Class_3</th>\n",
       "    </tr>\n",
       "  </thead>\n",
       "  <tbody>\n",
       "  </tbody>\n",
       "</table>\n",
       "</div>"
      ],
      "text/plain": [
       "Empty DataFrame\n",
       "Columns: [y, Age, SibSp, ParCh, Fare, Sex_male, Class_2, Class_3]\n",
       "Index: []"
      ]
     },
     "execution_count": 386,
     "metadata": {},
     "output_type": "execute_result"
    }
   ],
   "source": [
    "df.head(0)"
   ]
  },
  {
   "cell_type": "code",
   "execution_count": 387,
   "id": "76817051",
   "metadata": {},
   "outputs": [],
   "source": [
    "df.to_csv('for_impute.csv', index=False)"
   ]
  },
  {
   "cell_type": "markdown",
   "id": "fd372b90",
   "metadata": {},
   "source": [
    "# Drop NaN"
   ]
  },
  {
   "cell_type": "markdown",
   "id": "82b0cb32",
   "metadata": {},
   "source": [
    "Will use Miss Forest to impute later"
   ]
  },
  {
   "cell_type": "code",
   "execution_count": 86,
   "id": "303f7c56",
   "metadata": {},
   "outputs": [],
   "source": [
    "df = df.dropna().copy()"
   ]
  },
  {
   "cell_type": "code",
   "execution_count": 87,
   "id": "36ff7187",
   "metadata": {},
   "outputs": [
    {
     "data": {
      "text/plain": [
       "(714, 8)"
      ]
     },
     "execution_count": 87,
     "metadata": {},
     "output_type": "execute_result"
    }
   ],
   "source": [
    "df.shape"
   ]
  },
  {
   "cell_type": "code",
   "execution_count": 88,
   "id": "3d3ab280",
   "metadata": {},
   "outputs": [
    {
     "name": "stderr",
     "output_type": "stream",
     "text": [
      "C:\\Users\\euana\\AppData\\Local\\Temp\\ipykernel_24460\\2301651827.py:1: FutureWarning: Passing a set as an indexer is deprecated and will raise in a future version. Use a list instead.\n",
      "  sns.heatmap(df[{'y', 'Class_2', 'Class_3', 'Fare'}].corr(),\n"
     ]
    },
    {
     "data": {
      "text/plain": [
       "<AxesSubplot:>"
      ]
     },
     "execution_count": 88,
     "metadata": {},
     "output_type": "execute_result"
    },
    {
     "data": {
      "image/png": "[encoded data removed]",
      "text/plain": [
       "<Figure size 640x480 with 2 Axes>"
      ]
     },
     "metadata": {},
     "output_type": "display_data"
    }
   ],
   "source": [
    "sns.heatmap(df[{'y', 'Class_2', 'Class_3', 'Fare'}].corr(),\n",
    "           annot = True,\n",
    "           linewidth = 0.65,\n",
    "           linecolor='orange',\n",
    "           cmap='Reds',\n",
    "           fmt='.1g')"
   ]
  },
  {
   "cell_type": "markdown",
   "id": "889d7395",
   "metadata": {},
   "source": [
    "# Logistic Regression"
   ]
  },
  {
   "cell_type": "code",
   "execution_count": 67,
   "id": "ec658511",
   "metadata": {},
   "outputs": [],
   "source": [
    "y = df.y.copy()\n",
    "x = df.drop('y', axis = 1)\n",
    "x = sm.add_constant(x)"
   ]
  },
  {
   "cell_type": "code",
   "execution_count": 68,
   "id": "cb54a0d4",
   "metadata": {},
   "outputs": [],
   "source": [
    "x_train, x_test, y_train, y_test = train_test_split(x, y,\n",
    "                                                    test_size = 0.2,\n",
    "                                                    random_state = 1502)"
   ]
  },
  {
   "cell_type": "code",
   "execution_count": 69,
   "id": "601ee49d",
   "metadata": {},
   "outputs": [
    {
     "data": {
      "text/plain": [
       "414    1\n",
       "706    1\n",
       "276    0\n",
       "882    0\n",
       "616    0\n",
       "      ..\n",
       "779    1\n",
       "559    1\n",
       "66     1\n",
       "143    0\n",
       "588    0\n",
       "Name: y, Length: 571, dtype: int64"
      ]
     },
     "execution_count": 69,
     "metadata": {},
     "output_type": "execute_result"
    }
   ],
   "source": [
    "y_train"
   ]
  },
  {
   "cell_type": "code",
   "execution_count": 70,
   "id": "68ee65d0",
   "metadata": {},
   "outputs": [
    {
     "name": "stdout",
     "output_type": "stream",
     "text": [
      "Optimization terminated successfully.\n",
      "         Current function value: 0.454162\n",
      "         Iterations 6\n"
     ]
    }
   ],
   "source": [
    "model = sm.Logit(y_train, x_train).fit()"
   ]
  },
  {
   "cell_type": "code",
   "execution_count": 71,
   "id": "bb043a3c",
   "metadata": {},
   "outputs": [
    {
     "data": {
      "text/html": [
       "<table class=\"simpletable\">\n",
       "<caption>Logit Regression Results</caption>\n",
       "<tr>\n",
       "  <th>Dep. Variable:</th>           <td>y</td>        <th>  No. Observations:  </th>  <td>   571</td>  \n",
       "</tr>\n",
       "<tr>\n",
       "  <th>Model:</th>                 <td>Logit</td>      <th>  Df Residuals:      </th>  <td>   563</td>  \n",
       "</tr>\n",
       "<tr>\n",
       "  <th>Method:</th>                 <td>MLE</td>       <th>  Df Model:          </th>  <td>     7</td>  \n",
       "</tr>\n",
       "<tr>\n",
       "  <th>Date:</th>            <td>Thu, 22 Jun 2023</td> <th>  Pseudo R-squ.:     </th>  <td>0.3242</td>  \n",
       "</tr>\n",
       "<tr>\n",
       "  <th>Time:</th>                <td>20:45:27</td>     <th>  Log-Likelihood:    </th> <td> -259.33</td> \n",
       "</tr>\n",
       "<tr>\n",
       "  <th>converged:</th>             <td>True</td>       <th>  LL-Null:           </th> <td> -383.71</td> \n",
       "</tr>\n",
       "<tr>\n",
       "  <th>Covariance Type:</th>     <td>nonrobust</td>    <th>  LLR p-value:       </th> <td>5.047e-50</td>\n",
       "</tr>\n",
       "</table>\n",
       "<table class=\"simpletable\">\n",
       "<tr>\n",
       "      <td></td>        <th>coef</th>     <th>std err</th>      <th>z</th>      <th>P>|z|</th>  <th>[0.025</th>    <th>0.975]</th>  \n",
       "</tr>\n",
       "<tr>\n",
       "  <th>const</th>    <td>    4.2443</td> <td>      nan</td> <td>      nan</td> <td>   nan</td> <td>      nan</td> <td>      nan</td>\n",
       "</tr>\n",
       "<tr>\n",
       "  <th>Class</th>    <td>   -0.2903</td> <td>      nan</td> <td>      nan</td> <td>   nan</td> <td>      nan</td> <td>      nan</td>\n",
       "</tr>\n",
       "<tr>\n",
       "  <th>Age</th>      <td>   -0.0422</td> <td>    0.009</td> <td>   -4.688</td> <td> 0.000</td> <td>   -0.060</td> <td>   -0.025</td>\n",
       "</tr>\n",
       "<tr>\n",
       "  <th>SibSp</th>    <td>   -0.3728</td> <td>    0.141</td> <td>   -2.638</td> <td> 0.008</td> <td>   -0.650</td> <td>   -0.096</td>\n",
       "</tr>\n",
       "<tr>\n",
       "  <th>ParCh</th>    <td>    0.0163</td> <td>    0.141</td> <td>    0.116</td> <td> 0.908</td> <td>   -0.259</td> <td>    0.292</td>\n",
       "</tr>\n",
       "<tr>\n",
       "  <th>Fare</th>     <td>    0.0015</td> <td>    0.003</td> <td>    0.496</td> <td> 0.620</td> <td>   -0.004</td> <td>    0.007</td>\n",
       "</tr>\n",
       "<tr>\n",
       "  <th>Sex_male</th> <td>   -2.5689</td> <td>    0.241</td> <td>  -10.655</td> <td> 0.000</td> <td>   -3.041</td> <td>   -2.096</td>\n",
       "</tr>\n",
       "<tr>\n",
       "  <th>Class_2</th>  <td>   -1.0437</td> <td>      nan</td> <td>      nan</td> <td>   nan</td> <td>      nan</td> <td>      nan</td>\n",
       "</tr>\n",
       "<tr>\n",
       "  <th>Class_3</th>  <td>   -1.7455</td> <td>      nan</td> <td>      nan</td> <td>   nan</td> <td>      nan</td> <td>      nan</td>\n",
       "</tr>\n",
       "</table>"
      ],
      "text/plain": [
       "<class 'statsmodels.iolib.summary.Summary'>\n",
       "\"\"\"\n",
       "                           Logit Regression Results                           \n",
       "==============================================================================\n",
       "Dep. Variable:                      y   No. Observations:                  571\n",
       "Model:                          Logit   Df Residuals:                      563\n",
       "Method:                           MLE   Df Model:                            7\n",
       "Date:                Thu, 22 Jun 2023   Pseudo R-squ.:                  0.3242\n",
       "Time:                        20:45:27   Log-Likelihood:                -259.33\n",
       "converged:                       True   LL-Null:                       -383.71\n",
       "Covariance Type:            nonrobust   LLR p-value:                 5.047e-50\n",
       "==============================================================================\n",
       "                 coef    std err          z      P>|z|      [0.025      0.975]\n",
       "------------------------------------------------------------------------------\n",
       "const          4.2443        nan        nan        nan         nan         nan\n",
       "Class         -0.2903        nan        nan        nan         nan         nan\n",
       "Age           -0.0422      0.009     -4.688      0.000      -0.060      -0.025\n",
       "SibSp         -0.3728      0.141     -2.638      0.008      -0.650      -0.096\n",
       "ParCh          0.0163      0.141      0.116      0.908      -0.259       0.292\n",
       "Fare           0.0015      0.003      0.496      0.620      -0.004       0.007\n",
       "Sex_male      -2.5689      0.241    -10.655      0.000      -3.041      -2.096\n",
       "Class_2       -1.0437        nan        nan        nan         nan         nan\n",
       "Class_3       -1.7455        nan        nan        nan         nan         nan\n",
       "==============================================================================\n",
       "\"\"\""
      ]
     },
     "execution_count": 71,
     "metadata": {},
     "output_type": "execute_result"
    }
   ],
   "source": [
    "model.summary()"
   ]
  },
  {
   "cell_type": "markdown",
   "id": "2e64c440",
   "metadata": {},
   "source": [
    "Interpretation of model"
   ]
  },
  {
   "cell_type": "code",
   "execution_count": 72,
   "id": "7deb9aca",
   "metadata": {},
   "outputs": [
    {
     "data": {
      "text/html": [
       "<div>\n",
       "<style scoped>\n",
       "    .dataframe tbody tr th:only-of-type {\n",
       "        vertical-align: middle;\n",
       "    }\n",
       "\n",
       "    .dataframe tbody tr th {\n",
       "        vertical-align: top;\n",
       "    }\n",
       "\n",
       "    .dataframe thead th {\n",
       "        text-align: right;\n",
       "    }\n",
       "</style>\n",
       "<table border=\"1\" class=\"dataframe\">\n",
       "  <thead>\n",
       "    <tr style=\"text-align: right;\">\n",
       "      <th></th>\n",
       "      <th>coef</th>\n",
       "      <th>std err</th>\n",
       "      <th>z</th>\n",
       "      <th>P&gt;|z|</th>\n",
       "      <th>[0.025</th>\n",
       "      <th>0.975]</th>\n",
       "    </tr>\n",
       "  </thead>\n",
       "  <tbody>\n",
       "    <tr>\n",
       "      <th>const</th>\n",
       "      <td>4.2443</td>\n",
       "      <td>NaN</td>\n",
       "      <td>NaN</td>\n",
       "      <td>NaN</td>\n",
       "      <td>NaN</td>\n",
       "      <td>NaN</td>\n",
       "    </tr>\n",
       "    <tr>\n",
       "      <th>Class</th>\n",
       "      <td>-0.2903</td>\n",
       "      <td>NaN</td>\n",
       "      <td>NaN</td>\n",
       "      <td>NaN</td>\n",
       "      <td>NaN</td>\n",
       "      <td>NaN</td>\n",
       "    </tr>\n",
       "    <tr>\n",
       "      <th>Age</th>\n",
       "      <td>-0.0422</td>\n",
       "      <td>0.009</td>\n",
       "      <td>-4.688</td>\n",
       "      <td>0.000</td>\n",
       "      <td>-0.060</td>\n",
       "      <td>-0.025</td>\n",
       "    </tr>\n",
       "    <tr>\n",
       "      <th>SibSp</th>\n",
       "      <td>-0.3728</td>\n",
       "      <td>0.141</td>\n",
       "      <td>-2.638</td>\n",
       "      <td>0.008</td>\n",
       "      <td>-0.650</td>\n",
       "      <td>-0.096</td>\n",
       "    </tr>\n",
       "    <tr>\n",
       "      <th>ParCh</th>\n",
       "      <td>0.0163</td>\n",
       "      <td>0.141</td>\n",
       "      <td>0.116</td>\n",
       "      <td>0.908</td>\n",
       "      <td>-0.259</td>\n",
       "      <td>0.292</td>\n",
       "    </tr>\n",
       "    <tr>\n",
       "      <th>Fare</th>\n",
       "      <td>0.0015</td>\n",
       "      <td>0.003</td>\n",
       "      <td>0.496</td>\n",
       "      <td>0.620</td>\n",
       "      <td>-0.004</td>\n",
       "      <td>0.007</td>\n",
       "    </tr>\n",
       "    <tr>\n",
       "      <th>Sex_male</th>\n",
       "      <td>-2.5689</td>\n",
       "      <td>0.241</td>\n",
       "      <td>-10.655</td>\n",
       "      <td>0.000</td>\n",
       "      <td>-3.041</td>\n",
       "      <td>-2.096</td>\n",
       "    </tr>\n",
       "    <tr>\n",
       "      <th>Class_2</th>\n",
       "      <td>-1.0437</td>\n",
       "      <td>NaN</td>\n",
       "      <td>NaN</td>\n",
       "      <td>NaN</td>\n",
       "      <td>NaN</td>\n",
       "      <td>NaN</td>\n",
       "    </tr>\n",
       "    <tr>\n",
       "      <th>Class_3</th>\n",
       "      <td>-1.7455</td>\n",
       "      <td>NaN</td>\n",
       "      <td>NaN</td>\n",
       "      <td>NaN</td>\n",
       "      <td>NaN</td>\n",
       "      <td>NaN</td>\n",
       "    </tr>\n",
       "  </tbody>\n",
       "</table>\n",
       "</div>"
      ],
      "text/plain": [
       "            coef  std err       z  P>|z|  [0.025  0.975]\n",
       "const     4.2443      NaN     NaN    NaN     NaN     NaN\n",
       "Class    -0.2903      NaN     NaN    NaN     NaN     NaN\n",
       "Age      -0.0422    0.009  -4.688  0.000  -0.060  -0.025\n",
       "SibSp    -0.3728    0.141  -2.638  0.008  -0.650  -0.096\n",
       "ParCh     0.0163    0.141   0.116  0.908  -0.259   0.292\n",
       "Fare      0.0015    0.003   0.496  0.620  -0.004   0.007\n",
       "Sex_male -2.5689    0.241 -10.655  0.000  -3.041  -2.096\n",
       "Class_2  -1.0437      NaN     NaN    NaN     NaN     NaN\n",
       "Class_3  -1.7455      NaN     NaN    NaN     NaN     NaN"
      ]
     },
     "execution_count": 72,
     "metadata": {},
     "output_type": "execute_result"
    }
   ],
   "source": [
    "res = model.summary().tables[1]\n",
    "res_html = res.as_html()\n",
    "res_df = pd.read_html(res_html, header = 0, index_col = 0)[0]\n",
    "res_df"
   ]
  },
  {
   "cell_type": "code",
   "execution_count": 73,
   "id": "a2c67ddc",
   "metadata": {},
   "outputs": [
    {
     "data": {
      "text/html": [
       "<div>\n",
       "<style scoped>\n",
       "    .dataframe tbody tr th:only-of-type {\n",
       "        vertical-align: middle;\n",
       "    }\n",
       "\n",
       "    .dataframe tbody tr th {\n",
       "        vertical-align: top;\n",
       "    }\n",
       "\n",
       "    .dataframe thead th {\n",
       "        text-align: right;\n",
       "    }\n",
       "</style>\n",
       "<table border=\"1\" class=\"dataframe\">\n",
       "  <thead>\n",
       "    <tr style=\"text-align: right;\">\n",
       "      <th></th>\n",
       "      <th>coef</th>\n",
       "      <th>Probability</th>\n",
       "    </tr>\n",
       "  </thead>\n",
       "  <tbody>\n",
       "    <tr>\n",
       "      <th>Age</th>\n",
       "      <td>-0.0422</td>\n",
       "      <td>-4.13</td>\n",
       "    </tr>\n",
       "    <tr>\n",
       "      <th>SibSp</th>\n",
       "      <td>-0.3728</td>\n",
       "      <td>-31.12</td>\n",
       "    </tr>\n",
       "    <tr>\n",
       "      <th>Sex_male</th>\n",
       "      <td>-2.5689</td>\n",
       "      <td>-92.34</td>\n",
       "    </tr>\n",
       "  </tbody>\n",
       "</table>\n",
       "</div>"
      ],
      "text/plain": [
       "            coef  Probability\n",
       "Age      -0.0422        -4.13\n",
       "SibSp    -0.3728       -31.12\n",
       "Sex_male -2.5689       -92.34"
      ]
     },
     "execution_count": 73,
     "metadata": {},
     "output_type": "execute_result"
    }
   ],
   "source": [
    "coef_df = res_df.loc[res_df['P>|z|'] < 0.05, ['coef']]\n",
    "coef_df['Probability'] = round((np.exp(coef_df['coef']) - 1) * 100, 2)\n",
    "coef_df"
   ]
  },
  {
   "cell_type": "markdown",
   "id": "c287d5f2",
   "metadata": {},
   "source": [
    "# Assessing the model"
   ]
  },
  {
   "cell_type": "code",
   "execution_count": 114,
   "id": "f43809ec",
   "metadata": {},
   "outputs": [
    {
     "data": {
      "text/plain": [
       "array([1, 0, 1, 0, 0, 0, 1, 1, 0, 0, 0, 0, 1, 0, 1, 0, 0, 1, 1, 0, 1, 1,\n",
       "       0, 1, 0, 1, 1, 1, 1, 0, 0, 1, 0, 0, 1, 0, 0, 0, 1, 0, 0, 0, 1, 0,\n",
       "       1, 1, 0, 1, 0, 1, 1, 0, 0, 0, 0, 0, 0, 0, 0, 1, 0, 0, 1, 1, 0, 1,\n",
       "       1, 1, 1, 0, 0, 1, 0, 1, 0, 1, 1, 1, 1, 0, 0, 1, 1, 0, 0, 1, 0, 1,\n",
       "       0, 1, 0, 0, 0, 0, 0, 0, 1, 0, 0, 1, 0, 0, 0, 0, 0, 0, 1, 0, 0, 1,\n",
       "       1, 1, 0, 0, 0, 0, 0, 0, 1, 1, 0, 1, 1, 1, 1, 1, 0, 0, 0, 0, 0, 0,\n",
       "       0, 1, 0, 0, 1, 0, 0, 1, 0, 0, 0])"
      ]
     },
     "execution_count": 114,
     "metadata": {},
     "output_type": "execute_result"
    }
   ],
   "source": [
    "predictions = model.predict(x_test)\n",
    "predictions = np.where(predictions > 0.5, 1, 0)\n",
    "predictions"
   ]
  },
  {
   "cell_type": "markdown",
   "id": "6820f0af",
   "metadata": {},
   "source": [
    "Is the dataset balanced?"
   ]
  },
  {
   "cell_type": "code",
   "execution_count": 90,
   "id": "e54236d1",
   "metadata": {},
   "outputs": [
    {
     "data": {
      "text/plain": [
       "0.4405594405594406"
      ]
     },
     "execution_count": 90,
     "metadata": {},
     "output_type": "execute_result"
    }
   ],
   "source": [
    "y_test.mean()"
   ]
  },
  {
   "cell_type": "markdown",
   "id": "c48cf723",
   "metadata": {},
   "source": [
    "# Confusion matrix "
   ]
  },
  {
   "cell_type": "code",
   "execution_count": 91,
   "id": "d3a3407e",
   "metadata": {},
   "outputs": [
    {
     "data": {
      "text/plain": [
       "array([[70, 10],\n",
       "       [15, 48]], dtype=int64)"
      ]
     },
     "execution_count": 91,
     "metadata": {},
     "output_type": "execute_result"
    }
   ],
   "source": [
    "from sklearn.metrics import confusion_matrix\n",
    "confusion_matrix(y_test, predictions)\n",
    "#TN,FP, FN, TP"
   ]
  },
  {
   "cell_type": "code",
   "execution_count": 92,
   "id": "1c4bbcb7",
   "metadata": {},
   "outputs": [],
   "source": [
    "tn, fp, fn, tp = confusion_matrix(y_test, predictions).ravel()"
   ]
  },
  {
   "cell_type": "code",
   "execution_count": 93,
   "id": "b089f649",
   "metadata": {},
   "outputs": [
    {
     "data": {
      "text/plain": [
       "(70, 48, 10, 15)"
      ]
     },
     "execution_count": 93,
     "metadata": {},
     "output_type": "execute_result"
    }
   ],
   "source": [
    "tn, tp, fp, fn"
   ]
  },
  {
   "cell_type": "markdown",
   "id": "16f7af25",
   "metadata": {},
   "source": [
    "## Accuracy"
   ]
  },
  {
   "cell_type": "code",
   "execution_count": 108,
   "id": "2d2273c8",
   "metadata": {},
   "outputs": [],
   "source": [
    "acc = round(((tp + tn) / (tp + tn + fp + fn)) * 100 , 2)\n",
    "\n",
    "f1 = round((2 * tp / (2 * tp + fp + fn)) * 100, 2)\n",
    "\n",
    "specifity = round((tn / (tn + fp))*100, 2)\n",
    "\n",
    "sensitivity = round((tp / (tp + fn))*100, 2)"
   ]
  },
  {
   "cell_type": "code",
   "execution_count": 109,
   "id": "e8c865b0",
   "metadata": {},
   "outputs": [
    {
     "name": "stdout",
     "output_type": "stream",
     "text": [
      "Accuracy is 82.52%\n",
      "F1-score is 79.34%\n",
      "Specificity is 87.5%\n",
      "Sensitivity is 76.19%\n"
     ]
    }
   ],
   "source": [
    "print(f\"Accuracy is {acc}%\\nF1-score is {f1}%\\nSpecificity is {specifity}%\\nSensitivity is {sensitivity}%\")"
   ]
  },
  {
   "cell_type": "markdown",
   "id": "72226ff9",
   "metadata": {},
   "source": [
    "# Classification report"
   ]
  },
  {
   "cell_type": "code",
   "execution_count": 96,
   "id": "ef350fb2",
   "metadata": {},
   "outputs": [],
   "source": [
    "from sklearn.metrics import classification_report"
   ]
  },
  {
   "cell_type": "code",
   "execution_count": 97,
   "id": "c1974dfa",
   "metadata": {},
   "outputs": [
    {
     "name": "stdout",
     "output_type": "stream",
     "text": [
      "              precision    recall  f1-score   support\n",
      "\n",
      "           0       0.82      0.88      0.85        80\n",
      "           1       0.83      0.76      0.79        63\n",
      "\n",
      "    accuracy                           0.83       143\n",
      "   macro avg       0.83      0.82      0.82       143\n",
      "weighted avg       0.83      0.83      0.82       143\n",
      "\n"
     ]
    }
   ],
   "source": [
    "print(classification_report(y_test, predictions))"
   ]
  },
  {
   "cell_type": "markdown",
   "id": "0f9d7914",
   "metadata": {},
   "source": [
    "# Creating submission CSV"
   ]
  },
  {
   "cell_type": "markdown",
   "id": "55ed1a89",
   "metadata": {},
   "source": [
    "## Training data"
   ]
  },
  {
   "cell_type": "code",
   "execution_count": 171,
   "id": "99dfe4cb",
   "metadata": {},
   "outputs": [],
   "source": [
    "train = df.copy()"
   ]
  },
  {
   "cell_type": "code",
   "execution_count": 172,
   "id": "b61a2481",
   "metadata": {},
   "outputs": [],
   "source": [
    "train_y = train.y"
   ]
  },
  {
   "cell_type": "code",
   "execution_count": 173,
   "id": "9d7fce61",
   "metadata": {},
   "outputs": [
    {
     "data": {
      "text/plain": [
       "Index(['y', 'Age', 'SibSp', 'ParCh', 'Fare', 'Sex_male', 'Class_2', 'Class_3'], dtype='object')"
      ]
     },
     "execution_count": 173,
     "metadata": {},
     "output_type": "execute_result"
    }
   ],
   "source": [
    "train.columns"
   ]
  },
  {
   "cell_type": "code",
   "execution_count": 174,
   "id": "151fa32c",
   "metadata": {},
   "outputs": [],
   "source": [
    "predictors_cols = ['Age', 'SibSp', 'ParCh', 'Fare', 'Sex_male', 'Class_2', 'Class_3']"
   ]
  },
  {
   "cell_type": "code",
   "execution_count": 175,
   "id": "171ad5cc",
   "metadata": {},
   "outputs": [],
   "source": [
    "train_X = train[predictors_cols]"
   ]
  },
  {
   "cell_type": "code",
   "execution_count": 176,
   "id": "2490aeb0",
   "metadata": {},
   "outputs": [
    {
     "name": "stdout",
     "output_type": "stream",
     "text": [
      "Optimization terminated successfully.\n",
      "         Current function value: 0.499808\n",
      "         Iterations 6\n"
     ]
    }
   ],
   "source": [
    "my_model = sm.Logit(train_y, train_X).fit()"
   ]
  },
  {
   "cell_type": "markdown",
   "id": "71b8a719",
   "metadata": {},
   "source": [
    "## Test data"
   ]
  },
  {
   "cell_type": "code",
   "execution_count": 441,
   "id": "c2123c51",
   "metadata": {},
   "outputs": [],
   "source": [
    "test = pd.read_csv('test.csv')"
   ]
  },
  {
   "cell_type": "code",
   "execution_count": 442,
   "id": "a82494fd",
   "metadata": {},
   "outputs": [
    {
     "data": {
      "text/plain": [
       "(418, 11)"
      ]
     },
     "execution_count": 442,
     "metadata": {},
     "output_type": "execute_result"
    }
   ],
   "source": [
    "test.shape"
   ]
  },
  {
   "cell_type": "code",
   "execution_count": 443,
   "id": "b8a4cba0",
   "metadata": {},
   "outputs": [],
   "source": [
    "test = test[['PassengerId', 'Pclass', \n",
    "    #'Name', \n",
    "    'Sex', 'Age', 'SibSp','Parch',\n",
    "    #'Ticket', \n",
    "    'Fare', \n",
    "    #'Cabin', 'Embarked'\n",
    "   ]].copy()"
   ]
  },
  {
   "cell_type": "code",
   "execution_count": 444,
   "id": "8c278c0a",
   "metadata": {},
   "outputs": [],
   "source": [
    "test = test.rename(columns={'Pclass' : 'Class',\n",
    "                   'Parch': 'ParCh'}).copy()"
   ]
  },
  {
   "cell_type": "code",
   "execution_count": 445,
   "id": "4b922042",
   "metadata": {},
   "outputs": [],
   "source": [
    "test = test.astype({'Class': 'category', 'Sex': 'category'}).copy()"
   ]
  },
  {
   "cell_type": "code",
   "execution_count": 446,
   "id": "3cb78c39",
   "metadata": {},
   "outputs": [],
   "source": [
    "test = pd.get_dummies(data=test,drop_first=True).copy()"
   ]
  },
  {
   "cell_type": "code",
   "execution_count": 349,
   "id": "46e5ff7b",
   "metadata": {},
   "outputs": [],
   "source": [
    "#test = test.dropna().copy()\n",
    "#drop na for submission two"
   ]
  },
  {
   "cell_type": "code",
   "execution_count": 447,
   "id": "8699961d",
   "metadata": {},
   "outputs": [
    {
     "data": {
      "text/plain": [
       "PassengerId     0\n",
       "Age            86\n",
       "SibSp           0\n",
       "ParCh           0\n",
       "Fare            1\n",
       "Class_2         0\n",
       "Class_3         0\n",
       "Sex_male        0\n",
       "dtype: int64"
      ]
     },
     "execution_count": 447,
     "metadata": {},
     "output_type": "execute_result"
    }
   ],
   "source": [
    "test.isna().sum()"
   ]
  },
  {
   "cell_type": "code",
   "execution_count": 448,
   "id": "fa537c83",
   "metadata": {},
   "outputs": [
    {
     "data": {
      "text/plain": [
       "(Empty DataFrame\n",
       " Columns: [Age, SibSp, ParCh, Fare, Sex_male, Class_2, Class_3]\n",
       " Index: [],\n",
       " Empty DataFrame\n",
       " Columns: [PassengerId, Age, SibSp, ParCh, Fare, Class_2, Class_3, Sex_male]\n",
       " Index: [])"
      ]
     },
     "execution_count": 448,
     "metadata": {},
     "output_type": "execute_result"
    }
   ],
   "source": [
    "train_X.head(0), test.head(0)"
   ]
  },
  {
   "cell_type": "code",
   "execution_count": 450,
   "id": "a79115f3",
   "metadata": {},
   "outputs": [],
   "source": [
    "test.to_csv('test_for_imputation.csv', index=False)"
   ]
  },
  {
   "cell_type": "code",
   "execution_count": 354,
   "id": "84ef85f2",
   "metadata": {},
   "outputs": [],
   "source": [
    "test_X = test[predictors_cols]"
   ]
  },
  {
   "cell_type": "code",
   "execution_count": 355,
   "id": "90317cd4",
   "metadata": {},
   "outputs": [],
   "source": [
    "predicted = my_model.predict(test_X)\n",
    "predicted = (round(predicted, 0))"
   ]
  },
  {
   "cell_type": "code",
   "execution_count": 356,
   "id": "f19f2562",
   "metadata": {},
   "outputs": [
    {
     "name": "stdout",
     "output_type": "stream",
     "text": [
      "0      0.0\n",
      "1      1.0\n",
      "2      0.0\n",
      "3      0.0\n",
      "4      0.0\n",
      "      ... \n",
      "409    0.0\n",
      "411    1.0\n",
      "412    1.0\n",
      "414    1.0\n",
      "415    0.0\n",
      "Length: 331, dtype: float64\n"
     ]
    }
   ],
   "source": [
    "print(predicted)"
   ]
  },
  {
   "cell_type": "code",
   "execution_count": 357,
   "id": "76b06bbe",
   "metadata": {},
   "outputs": [
    {
     "data": {
      "text/plain": [
       "pandas.core.series.Series"
      ]
     },
     "execution_count": 357,
     "metadata": {},
     "output_type": "execute_result"
    }
   ],
   "source": [
    "type(predicted)"
   ]
  },
  {
   "cell_type": "code",
   "execution_count": 358,
   "id": "6da16a7c",
   "metadata": {},
   "outputs": [],
   "source": [
    "test['Survived'] = predicted"
   ]
  },
  {
   "cell_type": "code",
   "execution_count": 359,
   "id": "29bb03a6",
   "metadata": {},
   "outputs": [
    {
     "data": {
      "text/html": [
       "<div>\n",
       "<style scoped>\n",
       "    .dataframe tbody tr th:only-of-type {\n",
       "        vertical-align: middle;\n",
       "    }\n",
       "\n",
       "    .dataframe tbody tr th {\n",
       "        vertical-align: top;\n",
       "    }\n",
       "\n",
       "    .dataframe thead th {\n",
       "        text-align: right;\n",
       "    }\n",
       "</style>\n",
       "<table border=\"1\" class=\"dataframe\">\n",
       "  <thead>\n",
       "    <tr style=\"text-align: right;\">\n",
       "      <th></th>\n",
       "      <th>PassengerId</th>\n",
       "      <th>Age</th>\n",
       "      <th>SibSp</th>\n",
       "      <th>ParCh</th>\n",
       "      <th>Fare</th>\n",
       "      <th>Class_2</th>\n",
       "      <th>Class_3</th>\n",
       "      <th>Sex_male</th>\n",
       "      <th>Survived</th>\n",
       "    </tr>\n",
       "  </thead>\n",
       "  <tbody>\n",
       "    <tr>\n",
       "      <th>0</th>\n",
       "      <td>892</td>\n",
       "      <td>34.5</td>\n",
       "      <td>0</td>\n",
       "      <td>0</td>\n",
       "      <td>7.8292</td>\n",
       "      <td>0</td>\n",
       "      <td>1</td>\n",
       "      <td>1</td>\n",
       "      <td>0.0</td>\n",
       "    </tr>\n",
       "    <tr>\n",
       "      <th>1</th>\n",
       "      <td>893</td>\n",
       "      <td>47.0</td>\n",
       "      <td>1</td>\n",
       "      <td>0</td>\n",
       "      <td>7.0000</td>\n",
       "      <td>0</td>\n",
       "      <td>1</td>\n",
       "      <td>0</td>\n",
       "      <td>1.0</td>\n",
       "    </tr>\n",
       "    <tr>\n",
       "      <th>2</th>\n",
       "      <td>894</td>\n",
       "      <td>62.0</td>\n",
       "      <td>0</td>\n",
       "      <td>0</td>\n",
       "      <td>9.6875</td>\n",
       "      <td>1</td>\n",
       "      <td>0</td>\n",
       "      <td>1</td>\n",
       "      <td>0.0</td>\n",
       "    </tr>\n",
       "    <tr>\n",
       "      <th>3</th>\n",
       "      <td>895</td>\n",
       "      <td>27.0</td>\n",
       "      <td>0</td>\n",
       "      <td>0</td>\n",
       "      <td>8.6625</td>\n",
       "      <td>0</td>\n",
       "      <td>1</td>\n",
       "      <td>1</td>\n",
       "      <td>0.0</td>\n",
       "    </tr>\n",
       "    <tr>\n",
       "      <th>4</th>\n",
       "      <td>896</td>\n",
       "      <td>22.0</td>\n",
       "      <td>1</td>\n",
       "      <td>1</td>\n",
       "      <td>12.2875</td>\n",
       "      <td>0</td>\n",
       "      <td>1</td>\n",
       "      <td>0</td>\n",
       "      <td>0.0</td>\n",
       "    </tr>\n",
       "  </tbody>\n",
       "</table>\n",
       "</div>"
      ],
      "text/plain": [
       "   PassengerId   Age  SibSp  ParCh     Fare  Class_2  Class_3  Sex_male  \\\n",
       "0          892  34.5      0      0   7.8292        0        1         1   \n",
       "1          893  47.0      1      0   7.0000        0        1         0   \n",
       "2          894  62.0      0      0   9.6875        1        0         1   \n",
       "3          895  27.0      0      0   8.6625        0        1         1   \n",
       "4          896  22.0      1      1  12.2875        0        1         0   \n",
       "\n",
       "   Survived  \n",
       "0       0.0  \n",
       "1       1.0  \n",
       "2       0.0  \n",
       "3       0.0  \n",
       "4       0.0  "
      ]
     },
     "execution_count": 359,
     "metadata": {},
     "output_type": "execute_result"
    }
   ],
   "source": [
    "test.head()"
   ]
  },
  {
   "cell_type": "code",
   "execution_count": 360,
   "id": "71765ccb",
   "metadata": {},
   "outputs": [],
   "source": [
    "test = test[['PassengerId', \n",
    "                    #'Age', 'SibSp', \n",
    "                    #'ParCh', 'Fare', \n",
    "                    #'Class_2', 'Class_3',\n",
    "                   #'Sex_male', \n",
    "                    'Survived']].copy()"
   ]
  },
  {
   "cell_type": "code",
   "execution_count": 364,
   "id": "e0c3137d",
   "metadata": {},
   "outputs": [],
   "source": [
    "test = test.astype({'Survived': 'int64'})"
   ]
  },
  {
   "cell_type": "code",
   "execution_count": 367,
   "id": "2c9a7677",
   "metadata": {
    "scrolled": true
   },
   "outputs": [
    {
     "data": {
      "text/html": [
       "<div>\n",
       "<style scoped>\n",
       "    .dataframe tbody tr th:only-of-type {\n",
       "        vertical-align: middle;\n",
       "    }\n",
       "\n",
       "    .dataframe tbody tr th {\n",
       "        vertical-align: top;\n",
       "    }\n",
       "\n",
       "    .dataframe thead th {\n",
       "        text-align: right;\n",
       "    }\n",
       "</style>\n",
       "<table border=\"1\" class=\"dataframe\">\n",
       "  <thead>\n",
       "    <tr style=\"text-align: right;\">\n",
       "      <th></th>\n",
       "      <th>PassengerId</th>\n",
       "      <th>Survived</th>\n",
       "    </tr>\n",
       "  </thead>\n",
       "  <tbody>\n",
       "    <tr>\n",
       "      <th>0</th>\n",
       "      <td>892</td>\n",
       "      <td>0</td>\n",
       "    </tr>\n",
       "    <tr>\n",
       "      <th>1</th>\n",
       "      <td>893</td>\n",
       "      <td>1</td>\n",
       "    </tr>\n",
       "    <tr>\n",
       "      <th>2</th>\n",
       "      <td>894</td>\n",
       "      <td>0</td>\n",
       "    </tr>\n",
       "    <tr>\n",
       "      <th>3</th>\n",
       "      <td>895</td>\n",
       "      <td>0</td>\n",
       "    </tr>\n",
       "    <tr>\n",
       "      <th>4</th>\n",
       "      <td>896</td>\n",
       "      <td>0</td>\n",
       "    </tr>\n",
       "    <tr>\n",
       "      <th>...</th>\n",
       "      <td>...</td>\n",
       "      <td>...</td>\n",
       "    </tr>\n",
       "    <tr>\n",
       "      <th>409</th>\n",
       "      <td>1301</td>\n",
       "      <td>0</td>\n",
       "    </tr>\n",
       "    <tr>\n",
       "      <th>411</th>\n",
       "      <td>1303</td>\n",
       "      <td>1</td>\n",
       "    </tr>\n",
       "    <tr>\n",
       "      <th>412</th>\n",
       "      <td>1304</td>\n",
       "      <td>1</td>\n",
       "    </tr>\n",
       "    <tr>\n",
       "      <th>414</th>\n",
       "      <td>1306</td>\n",
       "      <td>1</td>\n",
       "    </tr>\n",
       "    <tr>\n",
       "      <th>415</th>\n",
       "      <td>1307</td>\n",
       "      <td>0</td>\n",
       "    </tr>\n",
       "  </tbody>\n",
       "</table>\n",
       "<p>331 rows × 2 columns</p>\n",
       "</div>"
      ],
      "text/plain": [
       "     PassengerId  Survived\n",
       "0            892         0\n",
       "1            893         1\n",
       "2            894         0\n",
       "3            895         0\n",
       "4            896         0\n",
       "..           ...       ...\n",
       "409         1301         0\n",
       "411         1303         1\n",
       "412         1304         1\n",
       "414         1306         1\n",
       "415         1307         0\n",
       "\n",
       "[331 rows x 2 columns]"
      ]
     },
     "execution_count": 367,
     "metadata": {},
     "output_type": "execute_result"
    }
   ],
   "source": [
    "test"
   ]
  },
  {
   "cell_type": "code",
   "execution_count": 368,
   "id": "6b712044",
   "metadata": {},
   "outputs": [],
   "source": [
    "test.to_csv('thirdsubmission.csv', index=False)"
   ]
  },
  {
   "cell_type": "markdown",
   "id": "d9d0ec34",
   "metadata": {},
   "source": [
    "# Model using KNN imputed values"
   ]
  },
  {
   "cell_type": "code",
   "execution_count": 495,
   "id": "ab53614b",
   "metadata": {},
   "outputs": [],
   "source": [
    "df_knn = pd.read_csv('KNN_imputed.csv')"
   ]
  },
  {
   "cell_type": "markdown",
   "id": "f24a9b09",
   "metadata": {},
   "source": [
    "## KNN model"
   ]
  },
  {
   "cell_type": "code",
   "execution_count": 513,
   "id": "6470c386",
   "metadata": {},
   "outputs": [
    {
     "name": "stdout",
     "output_type": "stream",
     "text": [
      "Optimization terminated successfully.\n",
      "         Current function value: 0.434901\n",
      "         Iterations 6\n"
     ]
    },
    {
     "data": {
      "text/plain": [
       "(891, 8)"
      ]
     },
     "execution_count": 513,
     "metadata": {},
     "output_type": "execute_result"
    }
   ],
   "source": [
    "y = df_knn.y.copy()\n",
    "x = df_knn.drop('y', axis = 1)\n",
    "x = sm.add_constant(x)\n",
    "x_train, x_test, y_train, y_test = train_test_split(x, y,\n",
    "                                                    test_size = 0.2,\n",
    "                                                    random_state = 1502)\n",
    "knn_model = sm.Logit(y_train, x_train).fit()\n",
    "x.shape"
   ]
  },
  {
   "cell_type": "markdown",
   "id": "35a59095",
   "metadata": {},
   "source": [
    "## Assess KNN model"
   ]
  },
  {
   "cell_type": "code",
   "execution_count": 497,
   "id": "30a67ea1",
   "metadata": {},
   "outputs": [],
   "source": [
    "def assess_model(m):\n",
    "    res = m.summary().tables[1]\n",
    "    res_html = res.as_html()\n",
    "    res_df = pd.read_html(res_html, header = 0, index_col = 0)[0]\n",
    "    coef_df = res_df.loc[res_df['P>|z|'] < 0.05, ['coef']]\n",
    "    coef_df['Probability'] = round((np.exp(coef_df['coef']) - 1) * 100, 2)\n",
    "    coef_df\n",
    "    balance = y_test.mean()\n",
    "    predictions = model.predict(x_test)\n",
    "    predictions = np.where(predictions > 0.5, 1, 0)\n",
    "    tn, fp, fn, tp = confusion_matrix(y_test, predictions).ravel()\n",
    "    acc = round(((tp + tn) / (tp + tn + fp + fn)) * 100 , 2)\n",
    "    f1 = round((2 * tp / (2 * tp + fp + fn)) * 100, 2)\n",
    "    specifity = round((tn / (tn + fp))*100, 2)\n",
    "    sensitivity = round((tp / (tp + fn))*100, 2)\n",
    "    print(model.summary().tables[0])\n",
    "    print(coef_df)\n",
    "    print(balance) \n",
    "    return print(f\"Accuracy is {acc}%\\nF1-score is {f1}%\\nSpecificity is {specifity}%\\nSensitivity is {sensitivity}%\")"
   ]
  },
  {
   "cell_type": "code",
   "execution_count": 498,
   "id": "cbab5e15",
   "metadata": {},
   "outputs": [
    {
     "name": "stdout",
     "output_type": "stream",
     "text": [
      "                           Logit Regression Results                           \n",
      "==============================================================================\n",
      "Dep. Variable:                      y   No. Observations:                  712\n",
      "Model:                          Logit   Df Residuals:                      704\n",
      "Method:                           MLE   Df Model:                            7\n",
      "Date:                Sat, 24 Jun 2023   Pseudo R-squ.:                  0.3467\n",
      "Time:                        10:58:19   Log-Likelihood:                -309.65\n",
      "converged:                       True   LL-Null:                       -473.99\n",
      "Covariance Type:            nonrobust   LLR p-value:                 4.489e-67\n",
      "==============================================================================\n",
      "            coef  Probability\n",
      "const     4.3316      7506.59\n",
      "Age      -0.0488        -4.76\n",
      "SibSp    -0.4171       -34.10\n",
      "Sex_male -2.7328       -93.50\n",
      "Class_2  -1.2687       -71.88\n",
      "Class_3  -2.4095       -91.01\n",
      "0.3854748603351955\n",
      "Accuracy is 79.33%\n",
      "F1-score is 70.87%\n",
      "Specificity is 88.18%\n",
      "Sensitivity is 65.22%\n"
     ]
    }
   ],
   "source": [
    "assess_model(knn_model)"
   ]
  },
  {
   "cell_type": "markdown",
   "id": "f9a9dab0",
   "metadata": {},
   "source": [
    "# Model using Miss Forest values"
   ]
  },
  {
   "cell_type": "code",
   "execution_count": 502,
   "id": "188b7d92",
   "metadata": {},
   "outputs": [],
   "source": [
    "df_mf = pd.read_csv('MF_imputed.csv')"
   ]
  },
  {
   "cell_type": "markdown",
   "id": "7a616f71",
   "metadata": {},
   "source": [
    "## Miss Forest model"
   ]
  },
  {
   "cell_type": "code",
   "execution_count": 503,
   "id": "ac6e6266",
   "metadata": {},
   "outputs": [
    {
     "name": "stdout",
     "output_type": "stream",
     "text": [
      "Optimization terminated successfully.\n",
      "         Current function value: 0.434655\n",
      "         Iterations 6\n"
     ]
    }
   ],
   "source": [
    "y = df_mf.y.copy()\n",
    "x = df_mf.drop('y', axis = 1)\n",
    "x = sm.add_constant(x)\n",
    "x_train, x_test, y_train, y_test = train_test_split(x, y,\n",
    "                                                    test_size = 0.2,\n",
    "                                                    random_state = 1502)\n",
    "mf_model = sm.Logit(y_train, x_train).fit()"
   ]
  },
  {
   "cell_type": "markdown",
   "id": "9855e259",
   "metadata": {},
   "source": [
    "## Assess Miss Forest model"
   ]
  },
  {
   "cell_type": "code",
   "execution_count": 504,
   "id": "bb6b57a7",
   "metadata": {},
   "outputs": [
    {
     "name": "stdout",
     "output_type": "stream",
     "text": [
      "                           Logit Regression Results                           \n",
      "==============================================================================\n",
      "Dep. Variable:                      y   No. Observations:                  712\n",
      "Model:                          Logit   Df Residuals:                      704\n",
      "Method:                           MLE   Df Model:                            7\n",
      "Date:                Sat, 24 Jun 2023   Pseudo R-squ.:                  0.3467\n",
      "Time:                        11:00:16   Log-Likelihood:                -309.65\n",
      "converged:                       True   LL-Null:                       -473.99\n",
      "Covariance Type:            nonrobust   LLR p-value:                 4.489e-67\n",
      "==============================================================================\n",
      "            coef  Probability\n",
      "const     4.3566      7699.15\n",
      "Age      -0.0491        -4.79\n",
      "SibSp    -0.4544       -36.52\n",
      "Sex_male -2.7244       -93.44\n",
      "Class_2  -1.2974       -72.68\n",
      "Class_3  -2.4363       -91.25\n",
      "0.3854748603351955\n",
      "Accuracy is 79.33%\n",
      "F1-score is 70.4%\n",
      "Specificity is 89.09%\n",
      "Sensitivity is 63.77%\n"
     ]
    }
   ],
   "source": [
    "assess_model(mf_model)"
   ]
  },
  {
   "cell_type": "markdown",
   "id": "fb8f15a0",
   "metadata": {},
   "source": [
    "# Submissions with imputed values"
   ]
  },
  {
   "cell_type": "code",
   "execution_count": 479,
   "id": "8adda35d",
   "metadata": {},
   "outputs": [],
   "source": [
    "test_KNN = pd.read_csv('test_KNN_imputed.csv')\n",
    "test_MF = pd.read_csv('test_MF_imputed.csv')"
   ]
  },
  {
   "cell_type": "code",
   "execution_count": 480,
   "id": "69481c52",
   "metadata": {},
   "outputs": [
    {
     "data": {
      "text/html": [
       "<div>\n",
       "<style scoped>\n",
       "    .dataframe tbody tr th:only-of-type {\n",
       "        vertical-align: middle;\n",
       "    }\n",
       "\n",
       "    .dataframe tbody tr th {\n",
       "        vertical-align: top;\n",
       "    }\n",
       "\n",
       "    .dataframe thead th {\n",
       "        text-align: right;\n",
       "    }\n",
       "</style>\n",
       "<table border=\"1\" class=\"dataframe\">\n",
       "  <thead>\n",
       "    <tr style=\"text-align: right;\">\n",
       "      <th></th>\n",
       "      <th>PassengerId</th>\n",
       "      <th>Age</th>\n",
       "      <th>SibSp</th>\n",
       "      <th>ParCh</th>\n",
       "      <th>Fare</th>\n",
       "      <th>Class_2</th>\n",
       "      <th>Class_3</th>\n",
       "      <th>Sex_male</th>\n",
       "    </tr>\n",
       "  </thead>\n",
       "  <tbody>\n",
       "  </tbody>\n",
       "</table>\n",
       "</div>"
      ],
      "text/plain": [
       "Empty DataFrame\n",
       "Columns: [PassengerId, Age, SibSp, ParCh, Fare, Class_2, Class_3, Sex_male]\n",
       "Index: []"
      ]
     },
     "execution_count": 480,
     "metadata": {},
     "output_type": "execute_result"
    }
   ],
   "source": [
    "test_KNN.head(0)"
   ]
  },
  {
   "cell_type": "code",
   "execution_count": 481,
   "id": "77f40d32",
   "metadata": {},
   "outputs": [
    {
     "data": {
      "text/plain": [
       "PassengerId    float64\n",
       "Age            float64\n",
       "SibSp          float64\n",
       "ParCh          float64\n",
       "Fare           float64\n",
       "Class_2        float64\n",
       "Class_3        float64\n",
       "Sex_male       float64\n",
       "dtype: object"
      ]
     },
     "execution_count": 481,
     "metadata": {},
     "output_type": "execute_result"
    }
   ],
   "source": [
    "test_KNN.dtypes"
   ]
  },
  {
   "cell_type": "markdown",
   "id": "7655a822",
   "metadata": {},
   "source": [
    "## KNN"
   ]
  },
  {
   "cell_type": "code",
   "execution_count": 518,
   "id": "ffda3cb1",
   "metadata": {},
   "outputs": [],
   "source": [
    "def myfunc_2(d):\n",
    "    test_X = d[predictors_cols]\n",
    "    test_X = sm.add_constant(test_X)\n",
    "    predicted = mf_model.predict(test_X)\n",
    "    predicted = (round(predicted, 0))\n",
    "    d['Survived'] = predicted\n",
    "    test = d[['PassengerId', \n",
    "                        #'Age', 'SibSp', \n",
    "                        #'ParCh', 'Fare', \n",
    "                        #'Class_2', 'Class_3',\n",
    "                       #'Sex_male', \n",
    "                        'Survived']].copy()\n",
    "    test = test.astype({'Survived': 'int64', 'PassengerId': 'int32'})\n",
    "    test\n",
    "    return test.to_csv('MF_trained_KNN_test_submission.csv', index=False)"
   ]
  },
  {
   "cell_type": "code",
   "execution_count": 519,
   "id": "bd73941d",
   "metadata": {},
   "outputs": [],
   "source": [
    "myfunc_2(test_KNN)"
   ]
  },
  {
   "cell_type": "code",
   "execution_count": 520,
   "id": "846e0672",
   "metadata": {},
   "outputs": [],
   "source": [
    "temp = pd.read_csv('MF_trained_KNN_test_submission.csv')"
   ]
  },
  {
   "cell_type": "code",
   "execution_count": 521,
   "id": "be1b3ea6",
   "metadata": {},
   "outputs": [
    {
     "data": {
      "text/plain": [
       "(418, 2)"
      ]
     },
     "execution_count": 521,
     "metadata": {},
     "output_type": "execute_result"
    }
   ],
   "source": [
    "temp.shape"
   ]
  },
  {
   "cell_type": "code",
   "execution_count": 522,
   "id": "f448f974",
   "metadata": {},
   "outputs": [
    {
     "data": {
      "text/plain": [
       "PassengerId    int64\n",
       "Survived       int64\n",
       "dtype: object"
      ]
     },
     "execution_count": 522,
     "metadata": {},
     "output_type": "execute_result"
    }
   ],
   "source": [
    "temp.dtypes"
   ]
  },
  {
   "cell_type": "markdown",
   "id": "0b5be124",
   "metadata": {},
   "source": [
    "## MF"
   ]
  },
  {
   "cell_type": "code",
   "execution_count": 525,
   "id": "24d955cd",
   "metadata": {},
   "outputs": [],
   "source": [
    "def myfunc_2(d):\n",
    "    test_X = d[predictors_cols]\n",
    "    test_X = sm.add_constant(test_X)\n",
    "    predicted = knn_model.predict(test_X)\n",
    "    predicted = (round(predicted, 0))\n",
    "    d['Survived'] = predicted\n",
    "    test = d[['PassengerId', \n",
    "                        #'Age', 'SibSp', \n",
    "                        #'ParCh', 'Fare', \n",
    "                        #'Class_2', 'Class_3',\n",
    "                       #'Sex_male', \n",
    "                        'Survived']].copy()\n",
    "    test = test.astype({'Survived': 'int64', 'PassengerId': 'int32'})\n",
    "    test\n",
    "    return test.to_csv('KNN_trained_MF_test_submission.csv', index=False)"
   ]
  },
  {
   "cell_type": "code",
   "execution_count": 526,
   "id": "5755e209",
   "metadata": {},
   "outputs": [],
   "source": [
    "myfunc_2(test_MF)"
   ]
  },
  {
   "cell_type": "code",
   "execution_count": 527,
   "id": "2bac0ba9",
   "metadata": {},
   "outputs": [],
   "source": [
    "temp = pd.read_csv('KNN_trained_MF_test_submission.csv')"
   ]
  },
  {
   "cell_type": "code",
   "execution_count": 528,
   "id": "2437f632",
   "metadata": {},
   "outputs": [
    {
     "data": {
      "text/plain": [
       "(418, 2)"
      ]
     },
     "execution_count": 528,
     "metadata": {},
     "output_type": "execute_result"
    }
   ],
   "source": [
    "temp.shape"
   ]
  },
  {
   "cell_type": "code",
   "execution_count": 529,
   "id": "a7ce1149",
   "metadata": {},
   "outputs": [
    {
     "data": {
      "text/plain": [
       "PassengerId    int64\n",
       "Survived       int64\n",
       "dtype: object"
      ]
     },
     "execution_count": 529,
     "metadata": {},
     "output_type": "execute_result"
    }
   ],
   "source": [
    "temp.dtypes"
   ]
  }
 ],
 "metadata": {
  "kernelspec": {
   "display_name": "Python 3 (ipykernel)",
   "language": "python",
   "name": "python3"
  },
  "language_info": {
   "codemirror_mode": {
    "name": "ipython",
    "version": 3
   },
   "file_extension": ".py",
   "mimetype": "text/x-python",
   "name": "python",
   "nbconvert_exporter": "python",
   "pygments_lexer": "ipython3",
   "version": "3.9.13"
  }
 },
 "nbformat": 4,
 "nbformat_minor": 5
}
