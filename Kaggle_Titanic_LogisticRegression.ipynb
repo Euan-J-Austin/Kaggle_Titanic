{
 "cells": [
  {
   "cell_type": "code",
   "execution_count": 47,
   "id": "eedc85d9",
   "metadata": {},
   "outputs": [],
   "source": [
    "import pandas as pd\n",
    "import statsmodels.api as sm\n",
    "import seaborn as sns\n",
    "import numpy as np\n",
    "from sklearn.model_selection import train_test_split\n",
    "from sklearn.metrics import confusion_matrix\n",
    "from sklearn.metrics import classification_report"
   ]
  },
  {
   "cell_type": "code",
   "execution_count": 48,
   "id": "5a7a9e55",
   "metadata": {},
   "outputs": [],
   "source": [
    "df = pd.read_csv('MF_imputed.csv') \n",
    "#index_col = 0 drops that Unnamed: 0 column"
   ]
  },
  {
   "cell_type": "code",
   "execution_count": 49,
   "id": "bd4d6969",
   "metadata": {},
   "outputs": [
    {
     "data": {
      "text/html": [
       "<div>\n",
       "<style scoped>\n",
       "    .dataframe tbody tr th:only-of-type {\n",
       "        vertical-align: middle;\n",
       "    }\n",
       "\n",
       "    .dataframe tbody tr th {\n",
       "        vertical-align: top;\n",
       "    }\n",
       "\n",
       "    .dataframe thead th {\n",
       "        text-align: right;\n",
       "    }\n",
       "</style>\n",
       "<table border=\"1\" class=\"dataframe\">\n",
       "  <thead>\n",
       "    <tr style=\"text-align: right;\">\n",
       "      <th></th>\n",
       "      <th>y</th>\n",
       "      <th>Age</th>\n",
       "      <th>SibSp</th>\n",
       "      <th>ParCh</th>\n",
       "      <th>Fare</th>\n",
       "      <th>Duplicate_Cabin</th>\n",
       "      <th>Cab_Letter_B</th>\n",
       "      <th>Cab_Letter_C</th>\n",
       "      <th>Cab_Letter_D</th>\n",
       "      <th>Cab_Letter_E</th>\n",
       "      <th>...</th>\n",
       "      <th>Cab_Letter_G</th>\n",
       "      <th>Cab_Letter_None</th>\n",
       "      <th>Cab_Letter_T</th>\n",
       "      <th>Family_Size</th>\n",
       "      <th>Fare_Per_Person</th>\n",
       "      <th>Sex_male</th>\n",
       "      <th>Embarked__Q</th>\n",
       "      <th>Embarked__S</th>\n",
       "      <th>Class_2</th>\n",
       "      <th>Class_3</th>\n",
       "    </tr>\n",
       "  </thead>\n",
       "  <tbody>\n",
       "    <tr>\n",
       "      <th>0</th>\n",
       "      <td>0.0</td>\n",
       "      <td>22.0</td>\n",
       "      <td>1.0</td>\n",
       "      <td>0.0</td>\n",
       "      <td>7.2</td>\n",
       "      <td>0.0</td>\n",
       "      <td>0.0</td>\n",
       "      <td>0.0</td>\n",
       "      <td>0.0</td>\n",
       "      <td>0.0</td>\n",
       "      <td>...</td>\n",
       "      <td>0.0</td>\n",
       "      <td>1.0</td>\n",
       "      <td>0.0</td>\n",
       "      <td>1.0</td>\n",
       "      <td>3.6</td>\n",
       "      <td>1.0</td>\n",
       "      <td>0.0</td>\n",
       "      <td>1.0</td>\n",
       "      <td>0.0</td>\n",
       "      <td>1.0</td>\n",
       "    </tr>\n",
       "    <tr>\n",
       "      <th>1</th>\n",
       "      <td>1.0</td>\n",
       "      <td>38.0</td>\n",
       "      <td>1.0</td>\n",
       "      <td>0.0</td>\n",
       "      <td>71.3</td>\n",
       "      <td>0.0</td>\n",
       "      <td>0.0</td>\n",
       "      <td>1.0</td>\n",
       "      <td>0.0</td>\n",
       "      <td>0.0</td>\n",
       "      <td>...</td>\n",
       "      <td>0.0</td>\n",
       "      <td>0.0</td>\n",
       "      <td>0.0</td>\n",
       "      <td>1.0</td>\n",
       "      <td>35.6</td>\n",
       "      <td>0.0</td>\n",
       "      <td>0.0</td>\n",
       "      <td>0.0</td>\n",
       "      <td>0.0</td>\n",
       "      <td>0.0</td>\n",
       "    </tr>\n",
       "    <tr>\n",
       "      <th>2</th>\n",
       "      <td>1.0</td>\n",
       "      <td>26.0</td>\n",
       "      <td>0.0</td>\n",
       "      <td>0.0</td>\n",
       "      <td>7.9</td>\n",
       "      <td>0.0</td>\n",
       "      <td>0.0</td>\n",
       "      <td>0.0</td>\n",
       "      <td>0.0</td>\n",
       "      <td>0.0</td>\n",
       "      <td>...</td>\n",
       "      <td>0.0</td>\n",
       "      <td>1.0</td>\n",
       "      <td>0.0</td>\n",
       "      <td>0.0</td>\n",
       "      <td>7.9</td>\n",
       "      <td>0.0</td>\n",
       "      <td>0.0</td>\n",
       "      <td>1.0</td>\n",
       "      <td>0.0</td>\n",
       "      <td>1.0</td>\n",
       "    </tr>\n",
       "    <tr>\n",
       "      <th>3</th>\n",
       "      <td>1.0</td>\n",
       "      <td>35.0</td>\n",
       "      <td>1.0</td>\n",
       "      <td>0.0</td>\n",
       "      <td>53.1</td>\n",
       "      <td>1.0</td>\n",
       "      <td>0.0</td>\n",
       "      <td>1.0</td>\n",
       "      <td>0.0</td>\n",
       "      <td>0.0</td>\n",
       "      <td>...</td>\n",
       "      <td>0.0</td>\n",
       "      <td>0.0</td>\n",
       "      <td>0.0</td>\n",
       "      <td>1.0</td>\n",
       "      <td>26.6</td>\n",
       "      <td>0.0</td>\n",
       "      <td>0.0</td>\n",
       "      <td>1.0</td>\n",
       "      <td>0.0</td>\n",
       "      <td>0.0</td>\n",
       "    </tr>\n",
       "    <tr>\n",
       "      <th>4</th>\n",
       "      <td>0.0</td>\n",
       "      <td>35.0</td>\n",
       "      <td>0.0</td>\n",
       "      <td>0.0</td>\n",
       "      <td>8.0</td>\n",
       "      <td>0.0</td>\n",
       "      <td>0.0</td>\n",
       "      <td>0.0</td>\n",
       "      <td>0.0</td>\n",
       "      <td>0.0</td>\n",
       "      <td>...</td>\n",
       "      <td>0.0</td>\n",
       "      <td>1.0</td>\n",
       "      <td>0.0</td>\n",
       "      <td>0.0</td>\n",
       "      <td>8.0</td>\n",
       "      <td>1.0</td>\n",
       "      <td>0.0</td>\n",
       "      <td>1.0</td>\n",
       "      <td>0.0</td>\n",
       "      <td>1.0</td>\n",
       "    </tr>\n",
       "  </tbody>\n",
       "</table>\n",
       "<p>5 rows × 21 columns</p>\n",
       "</div>"
      ],
      "text/plain": [
       "     y   Age  SibSp  ParCh  Fare  Duplicate_Cabin  Cab_Letter_B  Cab_Letter_C  \\\n",
       "0  0.0  22.0    1.0    0.0   7.2              0.0           0.0           0.0   \n",
       "1  1.0  38.0    1.0    0.0  71.3              0.0           0.0           1.0   \n",
       "2  1.0  26.0    0.0    0.0   7.9              0.0           0.0           0.0   \n",
       "3  1.0  35.0    1.0    0.0  53.1              1.0           0.0           1.0   \n",
       "4  0.0  35.0    0.0    0.0   8.0              0.0           0.0           0.0   \n",
       "\n",
       "   Cab_Letter_D  Cab_Letter_E  ...  Cab_Letter_G  Cab_Letter_None  \\\n",
       "0           0.0           0.0  ...           0.0              1.0   \n",
       "1           0.0           0.0  ...           0.0              0.0   \n",
       "2           0.0           0.0  ...           0.0              1.0   \n",
       "3           0.0           0.0  ...           0.0              0.0   \n",
       "4           0.0           0.0  ...           0.0              1.0   \n",
       "\n",
       "   Cab_Letter_T  Family_Size  Fare_Per_Person  Sex_male  Embarked__Q  \\\n",
       "0           0.0          1.0              3.6       1.0          0.0   \n",
       "1           0.0          1.0             35.6       0.0          0.0   \n",
       "2           0.0          0.0              7.9       0.0          0.0   \n",
       "3           0.0          1.0             26.6       0.0          0.0   \n",
       "4           0.0          0.0              8.0       1.0          0.0   \n",
       "\n",
       "   Embarked__S  Class_2  Class_3  \n",
       "0          1.0      0.0      1.0  \n",
       "1          0.0      0.0      0.0  \n",
       "2          1.0      0.0      1.0  \n",
       "3          1.0      0.0      0.0  \n",
       "4          1.0      0.0      1.0  \n",
       "\n",
       "[5 rows x 21 columns]"
      ]
     },
     "execution_count": 49,
     "metadata": {},
     "output_type": "execute_result"
    }
   ],
   "source": [
    "df.head()"
   ]
  },
  {
   "cell_type": "code",
   "execution_count": 50,
   "id": "3d3ab280",
   "metadata": {},
   "outputs": [
    {
     "name": "stderr",
     "output_type": "stream",
     "text": [
      "C:\\Users\\euana\\AppData\\Local\\Temp\\ipykernel_28868\\1453810050.py:1: FutureWarning: Passing a set as an indexer is deprecated and will raise in a future version. Use a list instead.\n",
      "  sns.heatmap(df[{'y', 'Cab_Letter_None'}].corr(),\n"
     ]
    },
    {
     "data": {
      "text/plain": [
       "<AxesSubplot:>"
      ]
     },
     "execution_count": 50,
     "metadata": {},
     "output_type": "execute_result"
    },
    {
     "data": {
      "image/png": "[encoded data removed]",
      "text/plain": [
       "<Figure size 640x480 with 2 Axes>"
      ]
     },
     "metadata": {},
     "output_type": "display_data"
    }
   ],
   "source": [
    "sns.heatmap(df[{'y', 'Cab_Letter_None'}].corr(),\n",
    "           annot = True,\n",
    "           linewidth = 0.65,\n",
    "           linecolor='orange',\n",
    "           cmap='Reds',\n",
    "           fmt='.1g')"
   ]
  },
  {
   "cell_type": "markdown",
   "id": "889d7395",
   "metadata": {},
   "source": [
    "# Logistic Regression"
   ]
  },
  {
   "cell_type": "code",
   "execution_count": 51,
   "id": "c9c532a1",
   "metadata": {},
   "outputs": [
    {
     "data": {
      "text/plain": [
       "Index(['y', 'Age', 'SibSp', 'ParCh', 'Fare', 'Duplicate_Cabin', 'Cab_Letter_B',\n",
       "       'Cab_Letter_C', 'Cab_Letter_D', 'Cab_Letter_E', 'Cab_Letter_F',\n",
       "       'Cab_Letter_G', 'Cab_Letter_None', 'Cab_Letter_T', 'Family_Size',\n",
       "       'Fare_Per_Person', 'Sex_male', 'Embarked__Q', 'Embarked__S', 'Class_2',\n",
       "       'Class_3'],\n",
       "      dtype='object')"
      ]
     },
     "execution_count": 51,
     "metadata": {},
     "output_type": "execute_result"
    }
   ],
   "source": [
    "df.columns"
   ]
  },
  {
   "cell_type": "code",
   "execution_count": 52,
   "id": "594a681f",
   "metadata": {},
   "outputs": [],
   "source": [
    "# df = df[['y', \n",
    "#          'Age', \n",
    "#          #'SibSp', 'ParCh', 'Fare', 'Duplicate_Cabin', 'Cab_Letter_B',\n",
    "#        #'Cab_Letter_C', 'Cab_Letter_D', 'Cab_Letter_E', 'Cab_Letter_F',\n",
    "#        #'Cab_Letter_G', 'Cab_Letter_None', 'Cab_Letter_T', 'Family_Size',\n",
    "#        #'Fare_Per_Person', \n",
    "#          'Sex_male', \n",
    "#          #'Embarked__Q', \n",
    "#          'Embarked__S', \n",
    "#          #'Class_2',\n",
    "#        'Class_3']].copy()"
   ]
  },
  {
   "cell_type": "code",
   "execution_count": 53,
   "id": "ec658511",
   "metadata": {},
   "outputs": [],
   "source": [
    "y = df.y.copy()\n",
    "x = df.drop('y', axis = 1)\n",
    "x = sm.add_constant(x)"
   ]
  },
  {
   "cell_type": "code",
   "execution_count": 54,
   "id": "cb54a0d4",
   "metadata": {},
   "outputs": [],
   "source": [
    "x_train, x_test, y_train, y_test = train_test_split(x, y,\n",
    "                                                    test_size = 0.2,\n",
    "                                                    random_state = 1502)"
   ]
  },
  {
   "cell_type": "code",
   "execution_count": 55,
   "id": "601ee49d",
   "metadata": {},
   "outputs": [
    {
     "data": {
      "text/plain": [
       "385    0.0\n",
       "364    0.0\n",
       "506    1.0\n",
       "767    0.0\n",
       "161    1.0\n",
       "      ... \n",
       "757    0.0\n",
       "444    1.0\n",
       "49     0.0\n",
       "114    0.0\n",
       "466    0.0\n",
       "Name: y, Length: 712, dtype: float64"
      ]
     },
     "execution_count": 55,
     "metadata": {},
     "output_type": "execute_result"
    }
   ],
   "source": [
    "y_train"
   ]
  },
  {
   "cell_type": "code",
   "execution_count": 56,
   "id": "68ee65d0",
   "metadata": {},
   "outputs": [
    {
     "name": "stdout",
     "output_type": "stream",
     "text": [
      "Warning: Maximum number of iterations has been exceeded.\n",
      "         Current function value: 0.420817\n",
      "         Iterations: 35\n"
     ]
    },
    {
     "name": "stderr",
     "output_type": "stream",
     "text": [
      "C:\\Users\\euana\\anaconda3\\lib\\site-packages\\statsmodels\\base\\model.py:604: ConvergenceWarning: Maximum Likelihood optimization failed to converge. Check mle_retvals\n",
      "  warnings.warn(\"Maximum Likelihood optimization failed to \"\n"
     ]
    }
   ],
   "source": [
    "model = sm.Logit(y_train, x_train).fit()"
   ]
  },
  {
   "cell_type": "code",
   "execution_count": 57,
   "id": "bb043a3c",
   "metadata": {},
   "outputs": [
    {
     "data": {
      "text/html": [
       "<table class=\"simpletable\">\n",
       "<caption>Logit Regression Results</caption>\n",
       "<tr>\n",
       "  <th>Dep. Variable:</th>           <td>y</td>        <th>  No. Observations:  </th>  <td>   712</td>  \n",
       "</tr>\n",
       "<tr>\n",
       "  <th>Model:</th>                 <td>Logit</td>      <th>  Df Residuals:      </th>  <td>   692</td>  \n",
       "</tr>\n",
       "<tr>\n",
       "  <th>Method:</th>                 <td>MLE</td>       <th>  Df Model:          </th>  <td>    19</td>  \n",
       "</tr>\n",
       "<tr>\n",
       "  <th>Date:</th>            <td>Tue, 27 Jun 2023</td> <th>  Pseudo R-squ.:     </th>  <td>0.3679</td>  \n",
       "</tr>\n",
       "<tr>\n",
       "  <th>Time:</th>                <td>06:45:09</td>     <th>  Log-Likelihood:    </th> <td> -299.62</td> \n",
       "</tr>\n",
       "<tr>\n",
       "  <th>converged:</th>             <td>False</td>      <th>  LL-Null:           </th> <td> -473.99</td> \n",
       "</tr>\n",
       "<tr>\n",
       "  <th>Covariance Type:</th>     <td>nonrobust</td>    <th>  LLR p-value:       </th> <td>1.863e-62</td>\n",
       "</tr>\n",
       "</table>\n",
       "<table class=\"simpletable\">\n",
       "<tr>\n",
       "         <td></td>            <th>coef</th>     <th>std err</th>      <th>z</th>      <th>P>|z|</th>  <th>[0.025</th>    <th>0.975]</th>  \n",
       "</tr>\n",
       "<tr>\n",
       "  <th>const</th>           <td>    4.3539</td> <td>    0.903</td> <td>    4.821</td> <td> 0.000</td> <td>    2.584</td> <td>    6.124</td>\n",
       "</tr>\n",
       "<tr>\n",
       "  <th>Age</th>             <td>   -0.0493</td> <td>    0.009</td> <td>   -5.201</td> <td> 0.000</td> <td>   -0.068</td> <td>   -0.031</td>\n",
       "</tr>\n",
       "<tr>\n",
       "  <th>SibSp</th>           <td>   -0.2740</td> <td>      nan</td> <td>      nan</td> <td>   nan</td> <td>      nan</td> <td>      nan</td>\n",
       "</tr>\n",
       "<tr>\n",
       "  <th>ParCh</th>           <td>    0.1179</td> <td>      nan</td> <td>      nan</td> <td>   nan</td> <td>      nan</td> <td>      nan</td>\n",
       "</tr>\n",
       "<tr>\n",
       "  <th>Fare</th>            <td>   -0.0020</td> <td>    0.006</td> <td>   -0.357</td> <td> 0.721</td> <td>   -0.013</td> <td>    0.009</td>\n",
       "</tr>\n",
       "<tr>\n",
       "  <th>Duplicate_Cabin</th> <td>    0.9168</td> <td>    0.522</td> <td>    1.758</td> <td> 0.079</td> <td>   -0.105</td> <td>    1.939</td>\n",
       "</tr>\n",
       "<tr>\n",
       "  <th>Cab_Letter_B</th>    <td>    0.4638</td> <td>    0.937</td> <td>    0.495</td> <td> 0.621</td> <td>   -1.373</td> <td>    2.300</td>\n",
       "</tr>\n",
       "<tr>\n",
       "  <th>Cab_Letter_C</th>    <td>   -0.2465</td> <td>    0.872</td> <td>   -0.283</td> <td> 0.778</td> <td>   -1.956</td> <td>    1.463</td>\n",
       "</tr>\n",
       "<tr>\n",
       "  <th>Cab_Letter_D</th>    <td>    0.4669</td> <td>    0.926</td> <td>    0.504</td> <td> 0.614</td> <td>   -1.348</td> <td>    2.281</td>\n",
       "</tr>\n",
       "<tr>\n",
       "  <th>Cab_Letter_E</th>    <td>    0.9581</td> <td>    0.955</td> <td>    1.003</td> <td> 0.316</td> <td>   -0.914</td> <td>    2.830</td>\n",
       "</tr>\n",
       "<tr>\n",
       "  <th>Cab_Letter_F</th>    <td>    0.3377</td> <td>    1.349</td> <td>    0.250</td> <td> 0.802</td> <td>   -2.306</td> <td>    2.981</td>\n",
       "</tr>\n",
       "<tr>\n",
       "  <th>Cab_Letter_G</th>    <td>   -0.7996</td> <td>    1.619</td> <td>   -0.494</td> <td> 0.621</td> <td>   -3.972</td> <td>    2.373</td>\n",
       "</tr>\n",
       "<tr>\n",
       "  <th>Cab_Letter_None</th> <td>   -0.1520</td> <td>    0.841</td> <td>   -0.181</td> <td> 0.857</td> <td>   -1.800</td> <td>    1.496</td>\n",
       "</tr>\n",
       "<tr>\n",
       "  <th>Cab_Letter_T</th>    <td>  -16.9076</td> <td> 8469.682</td> <td>   -0.002</td> <td> 0.998</td> <td>-1.66e+04</td> <td> 1.66e+04</td>\n",
       "</tr>\n",
       "<tr>\n",
       "  <th>Family_Size</th>     <td>   -0.1561</td> <td>      nan</td> <td>      nan</td> <td>   nan</td> <td>      nan</td> <td>      nan</td>\n",
       "</tr>\n",
       "<tr>\n",
       "  <th>Fare_Per_Person</th> <td>    0.0034</td> <td>    0.008</td> <td>    0.407</td> <td> 0.684</td> <td>   -0.013</td> <td>    0.020</td>\n",
       "</tr>\n",
       "<tr>\n",
       "  <th>Sex_male</th>        <td>   -2.6910</td> <td>    0.232</td> <td>  -11.592</td> <td> 0.000</td> <td>   -3.146</td> <td>   -2.236</td>\n",
       "</tr>\n",
       "<tr>\n",
       "  <th>Embarked__Q</th>     <td>   -0.4644</td> <td>    0.449</td> <td>   -1.034</td> <td> 0.301</td> <td>   -1.345</td> <td>    0.416</td>\n",
       "</tr>\n",
       "<tr>\n",
       "  <th>Embarked__S</th>     <td>   -0.6759</td> <td>    0.282</td> <td>   -2.400</td> <td> 0.016</td> <td>   -1.228</td> <td>   -0.124</td>\n",
       "</tr>\n",
       "<tr>\n",
       "  <th>Class_2</th>         <td>   -0.6391</td> <td>    0.513</td> <td>   -1.245</td> <td> 0.213</td> <td>   -1.645</td> <td>    0.367</td>\n",
       "</tr>\n",
       "<tr>\n",
       "  <th>Class_3</th>         <td>   -1.7737</td> <td>    0.529</td> <td>   -3.355</td> <td> 0.001</td> <td>   -2.810</td> <td>   -0.737</td>\n",
       "</tr>\n",
       "</table>"
      ],
      "text/plain": [
       "<class 'statsmodels.iolib.summary.Summary'>\n",
       "\"\"\"\n",
       "                           Logit Regression Results                           \n",
       "==============================================================================\n",
       "Dep. Variable:                      y   No. Observations:                  712\n",
       "Model:                          Logit   Df Residuals:                      692\n",
       "Method:                           MLE   Df Model:                           19\n",
       "Date:                Tue, 27 Jun 2023   Pseudo R-squ.:                  0.3679\n",
       "Time:                        06:45:09   Log-Likelihood:                -299.62\n",
       "converged:                      False   LL-Null:                       -473.99\n",
       "Covariance Type:            nonrobust   LLR p-value:                 1.863e-62\n",
       "===================================================================================\n",
       "                      coef    std err          z      P>|z|      [0.025      0.975]\n",
       "-----------------------------------------------------------------------------------\n",
       "const               4.3539      0.903      4.821      0.000       2.584       6.124\n",
       "Age                -0.0493      0.009     -5.201      0.000      -0.068      -0.031\n",
       "SibSp              -0.2740        nan        nan        nan         nan         nan\n",
       "ParCh               0.1179        nan        nan        nan         nan         nan\n",
       "Fare               -0.0020      0.006     -0.357      0.721      -0.013       0.009\n",
       "Duplicate_Cabin     0.9168      0.522      1.758      0.079      -0.105       1.939\n",
       "Cab_Letter_B        0.4638      0.937      0.495      0.621      -1.373       2.300\n",
       "Cab_Letter_C       -0.2465      0.872     -0.283      0.778      -1.956       1.463\n",
       "Cab_Letter_D        0.4669      0.926      0.504      0.614      -1.348       2.281\n",
       "Cab_Letter_E        0.9581      0.955      1.003      0.316      -0.914       2.830\n",
       "Cab_Letter_F        0.3377      1.349      0.250      0.802      -2.306       2.981\n",
       "Cab_Letter_G       -0.7996      1.619     -0.494      0.621      -3.972       2.373\n",
       "Cab_Letter_None    -0.1520      0.841     -0.181      0.857      -1.800       1.496\n",
       "Cab_Letter_T      -16.9076   8469.682     -0.002      0.998   -1.66e+04    1.66e+04\n",
       "Family_Size        -0.1561        nan        nan        nan         nan         nan\n",
       "Fare_Per_Person     0.0034      0.008      0.407      0.684      -0.013       0.020\n",
       "Sex_male           -2.6910      0.232    -11.592      0.000      -3.146      -2.236\n",
       "Embarked__Q        -0.4644      0.449     -1.034      0.301      -1.345       0.416\n",
       "Embarked__S        -0.6759      0.282     -2.400      0.016      -1.228      -0.124\n",
       "Class_2            -0.6391      0.513     -1.245      0.213      -1.645       0.367\n",
       "Class_3            -1.7737      0.529     -3.355      0.001      -2.810      -0.737\n",
       "===================================================================================\n",
       "\"\"\""
      ]
     },
     "execution_count": 57,
     "metadata": {},
     "output_type": "execute_result"
    }
   ],
   "source": [
    "model.summary()"
   ]
  },
  {
   "cell_type": "markdown",
   "id": "2e64c440",
   "metadata": {},
   "source": [
    "Interpretation of model"
   ]
  },
  {
   "cell_type": "code",
   "execution_count": 58,
   "id": "7deb9aca",
   "metadata": {},
   "outputs": [
    {
     "data": {
      "text/html": [
       "<div>\n",
       "<style scoped>\n",
       "    .dataframe tbody tr th:only-of-type {\n",
       "        vertical-align: middle;\n",
       "    }\n",
       "\n",
       "    .dataframe tbody tr th {\n",
       "        vertical-align: top;\n",
       "    }\n",
       "\n",
       "    .dataframe thead th {\n",
       "        text-align: right;\n",
       "    }\n",
       "</style>\n",
       "<table border=\"1\" class=\"dataframe\">\n",
       "  <thead>\n",
       "    <tr style=\"text-align: right;\">\n",
       "      <th></th>\n",
       "      <th>coef</th>\n",
       "      <th>std err</th>\n",
       "      <th>z</th>\n",
       "      <th>P&gt;|z|</th>\n",
       "      <th>[0.025</th>\n",
       "      <th>0.975]</th>\n",
       "    </tr>\n",
       "  </thead>\n",
       "  <tbody>\n",
       "    <tr>\n",
       "      <th>const</th>\n",
       "      <td>4.3539</td>\n",
       "      <td>0.903</td>\n",
       "      <td>4.821</td>\n",
       "      <td>0.000</td>\n",
       "      <td>2.584</td>\n",
       "      <td>6.124</td>\n",
       "    </tr>\n",
       "    <tr>\n",
       "      <th>Age</th>\n",
       "      <td>-0.0493</td>\n",
       "      <td>0.009</td>\n",
       "      <td>-5.201</td>\n",
       "      <td>0.000</td>\n",
       "      <td>-0.068</td>\n",
       "      <td>-0.031</td>\n",
       "    </tr>\n",
       "    <tr>\n",
       "      <th>SibSp</th>\n",
       "      <td>-0.2740</td>\n",
       "      <td>NaN</td>\n",
       "      <td>NaN</td>\n",
       "      <td>NaN</td>\n",
       "      <td>NaN</td>\n",
       "      <td>NaN</td>\n",
       "    </tr>\n",
       "    <tr>\n",
       "      <th>ParCh</th>\n",
       "      <td>0.1179</td>\n",
       "      <td>NaN</td>\n",
       "      <td>NaN</td>\n",
       "      <td>NaN</td>\n",
       "      <td>NaN</td>\n",
       "      <td>NaN</td>\n",
       "    </tr>\n",
       "    <tr>\n",
       "      <th>Fare</th>\n",
       "      <td>-0.0020</td>\n",
       "      <td>0.006</td>\n",
       "      <td>-0.357</td>\n",
       "      <td>0.721</td>\n",
       "      <td>-0.013</td>\n",
       "      <td>0.009</td>\n",
       "    </tr>\n",
       "    <tr>\n",
       "      <th>Duplicate_Cabin</th>\n",
       "      <td>0.9168</td>\n",
       "      <td>0.522</td>\n",
       "      <td>1.758</td>\n",
       "      <td>0.079</td>\n",
       "      <td>-0.105</td>\n",
       "      <td>1.939</td>\n",
       "    </tr>\n",
       "    <tr>\n",
       "      <th>Cab_Letter_B</th>\n",
       "      <td>0.4638</td>\n",
       "      <td>0.937</td>\n",
       "      <td>0.495</td>\n",
       "      <td>0.621</td>\n",
       "      <td>-1.373</td>\n",
       "      <td>2.300</td>\n",
       "    </tr>\n",
       "    <tr>\n",
       "      <th>Cab_Letter_C</th>\n",
       "      <td>-0.2465</td>\n",
       "      <td>0.872</td>\n",
       "      <td>-0.283</td>\n",
       "      <td>0.778</td>\n",
       "      <td>-1.956</td>\n",
       "      <td>1.463</td>\n",
       "    </tr>\n",
       "    <tr>\n",
       "      <th>Cab_Letter_D</th>\n",
       "      <td>0.4669</td>\n",
       "      <td>0.926</td>\n",
       "      <td>0.504</td>\n",
       "      <td>0.614</td>\n",
       "      <td>-1.348</td>\n",
       "      <td>2.281</td>\n",
       "    </tr>\n",
       "    <tr>\n",
       "      <th>Cab_Letter_E</th>\n",
       "      <td>0.9581</td>\n",
       "      <td>0.955</td>\n",
       "      <td>1.003</td>\n",
       "      <td>0.316</td>\n",
       "      <td>-0.914</td>\n",
       "      <td>2.830</td>\n",
       "    </tr>\n",
       "    <tr>\n",
       "      <th>Cab_Letter_F</th>\n",
       "      <td>0.3377</td>\n",
       "      <td>1.349</td>\n",
       "      <td>0.250</td>\n",
       "      <td>0.802</td>\n",
       "      <td>-2.306</td>\n",
       "      <td>2.981</td>\n",
       "    </tr>\n",
       "    <tr>\n",
       "      <th>Cab_Letter_G</th>\n",
       "      <td>-0.7996</td>\n",
       "      <td>1.619</td>\n",
       "      <td>-0.494</td>\n",
       "      <td>0.621</td>\n",
       "      <td>-3.972</td>\n",
       "      <td>2.373</td>\n",
       "    </tr>\n",
       "    <tr>\n",
       "      <th>Cab_Letter_None</th>\n",
       "      <td>-0.1520</td>\n",
       "      <td>0.841</td>\n",
       "      <td>-0.181</td>\n",
       "      <td>0.857</td>\n",
       "      <td>-1.800</td>\n",
       "      <td>1.496</td>\n",
       "    </tr>\n",
       "    <tr>\n",
       "      <th>Cab_Letter_T</th>\n",
       "      <td>-16.9076</td>\n",
       "      <td>8469.682</td>\n",
       "      <td>-0.002</td>\n",
       "      <td>0.998</td>\n",
       "      <td>-16600.000</td>\n",
       "      <td>16600.000</td>\n",
       "    </tr>\n",
       "    <tr>\n",
       "      <th>Family_Size</th>\n",
       "      <td>-0.1561</td>\n",
       "      <td>NaN</td>\n",
       "      <td>NaN</td>\n",
       "      <td>NaN</td>\n",
       "      <td>NaN</td>\n",
       "      <td>NaN</td>\n",
       "    </tr>\n",
       "    <tr>\n",
       "      <th>Fare_Per_Person</th>\n",
       "      <td>0.0034</td>\n",
       "      <td>0.008</td>\n",
       "      <td>0.407</td>\n",
       "      <td>0.684</td>\n",
       "      <td>-0.013</td>\n",
       "      <td>0.020</td>\n",
       "    </tr>\n",
       "    <tr>\n",
       "      <th>Sex_male</th>\n",
       "      <td>-2.6910</td>\n",
       "      <td>0.232</td>\n",
       "      <td>-11.592</td>\n",
       "      <td>0.000</td>\n",
       "      <td>-3.146</td>\n",
       "      <td>-2.236</td>\n",
       "    </tr>\n",
       "    <tr>\n",
       "      <th>Embarked__Q</th>\n",
       "      <td>-0.4644</td>\n",
       "      <td>0.449</td>\n",
       "      <td>-1.034</td>\n",
       "      <td>0.301</td>\n",
       "      <td>-1.345</td>\n",
       "      <td>0.416</td>\n",
       "    </tr>\n",
       "    <tr>\n",
       "      <th>Embarked__S</th>\n",
       "      <td>-0.6759</td>\n",
       "      <td>0.282</td>\n",
       "      <td>-2.400</td>\n",
       "      <td>0.016</td>\n",
       "      <td>-1.228</td>\n",
       "      <td>-0.124</td>\n",
       "    </tr>\n",
       "    <tr>\n",
       "      <th>Class_2</th>\n",
       "      <td>-0.6391</td>\n",
       "      <td>0.513</td>\n",
       "      <td>-1.245</td>\n",
       "      <td>0.213</td>\n",
       "      <td>-1.645</td>\n",
       "      <td>0.367</td>\n",
       "    </tr>\n",
       "    <tr>\n",
       "      <th>Class_3</th>\n",
       "      <td>-1.7737</td>\n",
       "      <td>0.529</td>\n",
       "      <td>-3.355</td>\n",
       "      <td>0.001</td>\n",
       "      <td>-2.810</td>\n",
       "      <td>-0.737</td>\n",
       "    </tr>\n",
       "  </tbody>\n",
       "</table>\n",
       "</div>"
      ],
      "text/plain": [
       "                    coef   std err       z  P>|z|     [0.025     0.975]\n",
       "const             4.3539     0.903   4.821  0.000      2.584      6.124\n",
       "Age              -0.0493     0.009  -5.201  0.000     -0.068     -0.031\n",
       "SibSp            -0.2740       NaN     NaN    NaN        NaN        NaN\n",
       "ParCh             0.1179       NaN     NaN    NaN        NaN        NaN\n",
       "Fare             -0.0020     0.006  -0.357  0.721     -0.013      0.009\n",
       "Duplicate_Cabin   0.9168     0.522   1.758  0.079     -0.105      1.939\n",
       "Cab_Letter_B      0.4638     0.937   0.495  0.621     -1.373      2.300\n",
       "Cab_Letter_C     -0.2465     0.872  -0.283  0.778     -1.956      1.463\n",
       "Cab_Letter_D      0.4669     0.926   0.504  0.614     -1.348      2.281\n",
       "Cab_Letter_E      0.9581     0.955   1.003  0.316     -0.914      2.830\n",
       "Cab_Letter_F      0.3377     1.349   0.250  0.802     -2.306      2.981\n",
       "Cab_Letter_G     -0.7996     1.619  -0.494  0.621     -3.972      2.373\n",
       "Cab_Letter_None  -0.1520     0.841  -0.181  0.857     -1.800      1.496\n",
       "Cab_Letter_T    -16.9076  8469.682  -0.002  0.998 -16600.000  16600.000\n",
       "Family_Size      -0.1561       NaN     NaN    NaN        NaN        NaN\n",
       "Fare_Per_Person   0.0034     0.008   0.407  0.684     -0.013      0.020\n",
       "Sex_male         -2.6910     0.232 -11.592  0.000     -3.146     -2.236\n",
       "Embarked__Q      -0.4644     0.449  -1.034  0.301     -1.345      0.416\n",
       "Embarked__S      -0.6759     0.282  -2.400  0.016     -1.228     -0.124\n",
       "Class_2          -0.6391     0.513  -1.245  0.213     -1.645      0.367\n",
       "Class_3          -1.7737     0.529  -3.355  0.001     -2.810     -0.737"
      ]
     },
     "execution_count": 58,
     "metadata": {},
     "output_type": "execute_result"
    }
   ],
   "source": [
    "res = model.summary().tables[1]\n",
    "res_html = res.as_html()\n",
    "res_df = pd.read_html(res_html, header = 0, index_col = 0)[0]\n",
    "res_df"
   ]
  },
  {
   "cell_type": "code",
   "execution_count": 59,
   "id": "a2c67ddc",
   "metadata": {},
   "outputs": [
    {
     "data": {
      "text/html": [
       "<div>\n",
       "<style scoped>\n",
       "    .dataframe tbody tr th:only-of-type {\n",
       "        vertical-align: middle;\n",
       "    }\n",
       "\n",
       "    .dataframe tbody tr th {\n",
       "        vertical-align: top;\n",
       "    }\n",
       "\n",
       "    .dataframe thead th {\n",
       "        text-align: right;\n",
       "    }\n",
       "</style>\n",
       "<table border=\"1\" class=\"dataframe\">\n",
       "  <thead>\n",
       "    <tr style=\"text-align: right;\">\n",
       "      <th></th>\n",
       "      <th>coef</th>\n",
       "      <th>Probability</th>\n",
       "    </tr>\n",
       "  </thead>\n",
       "  <tbody>\n",
       "    <tr>\n",
       "      <th>const</th>\n",
       "      <td>4.3539</td>\n",
       "      <td>7678.12</td>\n",
       "    </tr>\n",
       "    <tr>\n",
       "      <th>Age</th>\n",
       "      <td>-0.0493</td>\n",
       "      <td>-4.81</td>\n",
       "    </tr>\n",
       "    <tr>\n",
       "      <th>Sex_male</th>\n",
       "      <td>-2.6910</td>\n",
       "      <td>-93.22</td>\n",
       "    </tr>\n",
       "    <tr>\n",
       "      <th>Embarked__S</th>\n",
       "      <td>-0.6759</td>\n",
       "      <td>-49.13</td>\n",
       "    </tr>\n",
       "    <tr>\n",
       "      <th>Class_3</th>\n",
       "      <td>-1.7737</td>\n",
       "      <td>-83.03</td>\n",
       "    </tr>\n",
       "  </tbody>\n",
       "</table>\n",
       "</div>"
      ],
      "text/plain": [
       "               coef  Probability\n",
       "const        4.3539      7678.12\n",
       "Age         -0.0493        -4.81\n",
       "Sex_male    -2.6910       -93.22\n",
       "Embarked__S -0.6759       -49.13\n",
       "Class_3     -1.7737       -83.03"
      ]
     },
     "execution_count": 59,
     "metadata": {},
     "output_type": "execute_result"
    }
   ],
   "source": [
    "coef_df = res_df.loc[res_df['P>|z|'] < 0.05, ['coef']]\n",
    "coef_df['Probability'] = round((np.exp(coef_df['coef']) - 1) * 100, 2)\n",
    "coef_df"
   ]
  },
  {
   "cell_type": "markdown",
   "id": "c287d5f2",
   "metadata": {},
   "source": [
    "# Assessing the model"
   ]
  },
  {
   "cell_type": "code",
   "execution_count": 60,
   "id": "f43809ec",
   "metadata": {},
   "outputs": [
    {
     "data": {
      "text/plain": [
       "array([1, 1, 0, 0, 0, 0, 0, 0, 1, 0, 0, 1, 1, 0, 1, 0, 0, 0, 1, 1, 0, 0,\n",
       "       0, 0, 0, 0, 0, 1, 1, 0, 0, 0, 0, 1, 0, 0, 1, 1, 0, 0, 0, 1, 0, 0,\n",
       "       1, 1, 0, 0, 0, 0, 1, 0, 0, 0, 0, 0, 1, 0, 0, 0, 0, 0, 0, 0, 0, 0,\n",
       "       1, 0, 0, 0, 1, 0, 0, 1, 0, 0, 0, 0, 0, 0, 1, 0, 1, 1, 1, 1, 0, 1,\n",
       "       0, 0, 1, 0, 0, 0, 1, 0, 0, 1, 0, 0, 1, 0, 0, 0, 1, 0, 1, 1, 1, 0,\n",
       "       0, 0, 0, 0, 1, 0, 0, 1, 0, 1, 0, 0, 1, 1, 0, 0, 1, 0, 0, 0, 0, 0,\n",
       "       0, 1, 1, 0, 0, 0, 0, 1, 1, 1, 0, 1, 1, 0, 1, 0, 1, 0, 1, 0, 0, 0,\n",
       "       1, 1, 0, 0, 1, 0, 0, 1, 0, 0, 1, 0, 0, 0, 1, 0, 0, 0, 0, 0, 1, 0,\n",
       "       1, 0, 0])"
      ]
     },
     "execution_count": 60,
     "metadata": {},
     "output_type": "execute_result"
    }
   ],
   "source": [
    "predictions = model.predict(x_test)\n",
    "predictions = np.where(predictions > 0.5, 1, 0)\n",
    "predictions"
   ]
  },
  {
   "cell_type": "markdown",
   "id": "6820f0af",
   "metadata": {},
   "source": [
    "Is the dataset balanced?"
   ]
  },
  {
   "cell_type": "code",
   "execution_count": 61,
   "id": "e54236d1",
   "metadata": {},
   "outputs": [
    {
     "data": {
      "text/plain": [
       "0.3854748603351955"
      ]
     },
     "execution_count": 61,
     "metadata": {},
     "output_type": "execute_result"
    }
   ],
   "source": [
    "y_test.mean()"
   ]
  },
  {
   "cell_type": "markdown",
   "id": "c48cf723",
   "metadata": {},
   "source": [
    "# Confusion matrix "
   ]
  },
  {
   "cell_type": "code",
   "execution_count": 62,
   "id": "d3a3407e",
   "metadata": {},
   "outputs": [
    {
     "data": {
      "text/plain": [
       "array([[99, 11],\n",
       "       [21, 48]], dtype=int64)"
      ]
     },
     "execution_count": 62,
     "metadata": {},
     "output_type": "execute_result"
    }
   ],
   "source": [
    "from sklearn.metrics import confusion_matrix\n",
    "confusion_matrix(y_test, predictions)\n",
    "#TN,FP, FN, TP"
   ]
  },
  {
   "cell_type": "code",
   "execution_count": 63,
   "id": "1c4bbcb7",
   "metadata": {},
   "outputs": [],
   "source": [
    "tn, fp, fn, tp = confusion_matrix(y_test, predictions).ravel()"
   ]
  },
  {
   "cell_type": "code",
   "execution_count": 64,
   "id": "b089f649",
   "metadata": {},
   "outputs": [
    {
     "data": {
      "text/plain": [
       "(99, 48, 11, 21)"
      ]
     },
     "execution_count": 64,
     "metadata": {},
     "output_type": "execute_result"
    }
   ],
   "source": [
    "tn, tp, fp, fn"
   ]
  },
  {
   "cell_type": "markdown",
   "id": "16f7af25",
   "metadata": {},
   "source": [
    "## Accuracy"
   ]
  },
  {
   "cell_type": "code",
   "execution_count": 65,
   "id": "2d2273c8",
   "metadata": {},
   "outputs": [],
   "source": [
    "acc = round(((tp + tn) / (tp + tn + fp + fn)) * 100 , 2)\n",
    "\n",
    "f1 = round((2 * tp / (2 * tp + fp + fn)) * 100, 2)\n",
    "\n",
    "specifity = round((tn / (tn + fp))*100, 2)\n",
    "\n",
    "sensitivity = round((tp / (tp + fn))*100, 2)"
   ]
  },
  {
   "cell_type": "code",
   "execution_count": 66,
   "id": "e8c865b0",
   "metadata": {},
   "outputs": [
    {
     "name": "stdout",
     "output_type": "stream",
     "text": [
      "Accuracy is 82.12%\n",
      "F1-score is 75.0%\n",
      "Specificity is 90.0%\n",
      "Sensitivity is 69.57%\n"
     ]
    }
   ],
   "source": [
    "print(f\"Accuracy is {acc}%\\nF1-score is {f1}%\\nSpecificity is {specifity}%\\nSensitivity is {sensitivity}%\")"
   ]
  },
  {
   "cell_type": "markdown",
   "id": "72226ff9",
   "metadata": {},
   "source": [
    "# Classification report"
   ]
  },
  {
   "cell_type": "code",
   "execution_count": 67,
   "id": "ef350fb2",
   "metadata": {},
   "outputs": [],
   "source": [
    "from sklearn.metrics import classification_report"
   ]
  },
  {
   "cell_type": "code",
   "execution_count": 30,
   "id": "c1974dfa",
   "metadata": {},
   "outputs": [
    {
     "name": "stdout",
     "output_type": "stream",
     "text": [
      "              precision    recall  f1-score   support\n",
      "\n",
      "         0.0       0.82      0.90      0.86       110\n",
      "         1.0       0.81      0.70      0.75        69\n",
      "\n",
      "    accuracy                           0.82       179\n",
      "   macro avg       0.82      0.80      0.81       179\n",
      "weighted avg       0.82      0.82      0.82       179\n",
      "\n"
     ]
    }
   ],
   "source": [
    "print(classification_report(y_test, predictions))"
   ]
  },
  {
   "cell_type": "markdown",
   "id": "0f9d7914",
   "metadata": {},
   "source": [
    "# Creating submission CSV"
   ]
  },
  {
   "cell_type": "markdown",
   "id": "55ed1a89",
   "metadata": {},
   "source": [
    "## Training data"
   ]
  },
  {
   "cell_type": "code",
   "execution_count": 135,
   "id": "99dfe4cb",
   "metadata": {},
   "outputs": [],
   "source": [
    "train = df.copy()"
   ]
  },
  {
   "cell_type": "code",
   "execution_count": 136,
   "id": "b61a2481",
   "metadata": {},
   "outputs": [],
   "source": [
    "train_y = train.y"
   ]
  },
  {
   "cell_type": "code",
   "execution_count": 137,
   "id": "9d7fce61",
   "metadata": {},
   "outputs": [
    {
     "data": {
      "text/plain": [
       "Index(['y', 'Age', 'SibSp', 'ParCh', 'Fare', 'Duplicate_Cabin', 'Cab_Letter_B',\n",
       "       'Cab_Letter_C', 'Cab_Letter_D', 'Cab_Letter_E', 'Cab_Letter_F',\n",
       "       'Cab_Letter_G', 'Cab_Letter_None', 'Cab_Letter_T', 'Family_Size',\n",
       "       'Fare_Per_Person', 'Sex_male', 'Embarked__Q', 'Embarked__S', 'Class_2',\n",
       "       'Class_3'],\n",
       "      dtype='object')"
      ]
     },
     "execution_count": 137,
     "metadata": {},
     "output_type": "execute_result"
    }
   ],
   "source": [
    "train.columns"
   ]
  },
  {
   "cell_type": "code",
   "execution_count": 138,
   "id": "151fa32c",
   "metadata": {},
   "outputs": [],
   "source": [
    "predictors_cols = ['Age', 'SibSp', 'ParCh', 'Fare', 'Duplicate_Cabin', 'Cab_Letter_B',\n",
    "       'Cab_Letter_C', 'Cab_Letter_D', 'Cab_Letter_E', 'Cab_Letter_F',\n",
    "       'Cab_Letter_G', 'Cab_Letter_None', 'Family_Size',\n",
    "       'Fare_Per_Person', 'Sex_male', 'Embarked__Q', 'Embarked__S', 'Class_2',\n",
    "       'Class_3'] #dropped Cab_Letter_T, only one instance and none in test data"
   ]
  },
  {
   "cell_type": "code",
   "execution_count": 139,
   "id": "171ad5cc",
   "metadata": {},
   "outputs": [],
   "source": [
    "train_X = train[predictors_cols]"
   ]
  },
  {
   "cell_type": "code",
   "execution_count": 140,
   "id": "2490aeb0",
   "metadata": {},
   "outputs": [
    {
     "name": "stdout",
     "output_type": "stream",
     "text": [
      "Optimization terminated successfully.\n",
      "         Current function value: 0.442753\n",
      "         Iterations 7\n"
     ]
    }
   ],
   "source": [
    "my_model = sm.Logit(train_y, train_X).fit()"
   ]
  },
  {
   "cell_type": "markdown",
   "id": "71b8a719",
   "metadata": {},
   "source": [
    "## Test data"
   ]
  },
  {
   "cell_type": "code",
   "execution_count": 147,
   "id": "c2123c51",
   "metadata": {},
   "outputs": [],
   "source": [
    "test = pd.read_csv('test.csv')"
   ]
  },
  {
   "cell_type": "code",
   "execution_count": 148,
   "id": "62e40213",
   "metadata": {},
   "outputs": [
    {
     "data": {
      "text/plain": [
       "Index(['PassengerId', 'Pclass', 'Name', 'Sex', 'Age', 'SibSp', 'Parch',\n",
       "       'Ticket', 'Fare', 'Cabin', 'Embarked'],\n",
       "      dtype='object')"
      ]
     },
     "execution_count": 148,
     "metadata": {},
     "output_type": "execute_result"
    }
   ],
   "source": [
    "test.columns"
   ]
  },
  {
   "cell_type": "code",
   "execution_count": 149,
   "id": "43443cd6",
   "metadata": {},
   "outputs": [],
   "source": [
    "Duplicate_Cabin = None"
   ]
  },
  {
   "cell_type": "code",
   "execution_count": 150,
   "id": "56e883f3",
   "metadata": {},
   "outputs": [],
   "source": [
    "test.loc[test['Cabin'].isna(), 'Duplicate_Cabin'] = 'n'\n",
    "test.loc[~test['Cabin'].isna() & ~test['Cabin'].duplicated(keep=False), 'Duplicate_Cabin'] = 'n'\n",
    "test.loc[~test['Cabin'].isna() & test['Cabin'].duplicated(keep=False), 'Duplicate_Cabin'] = 'y'"
   ]
  },
  {
   "cell_type": "code",
   "execution_count": 151,
   "id": "dfc8a294",
   "metadata": {},
   "outputs": [],
   "source": [
    "test['Duplicate_Cabin'] = pd.get_dummies(test['Duplicate_Cabin'], drop_first=True, prefix ='Yes_')"
   ]
  },
  {
   "cell_type": "code",
   "execution_count": 152,
   "id": "307af7cb",
   "metadata": {},
   "outputs": [
    {
     "data": {
      "text/plain": [
       "0    389\n",
       "1     29\n",
       "Name: Duplicate_Cabin, dtype: int64"
      ]
     },
     "execution_count": 152,
     "metadata": {},
     "output_type": "execute_result"
    }
   ],
   "source": [
    "test.Duplicate_Cabin.value_counts()"
   ]
  },
  {
   "cell_type": "code",
   "execution_count": 153,
   "id": "8380de37",
   "metadata": {},
   "outputs": [],
   "source": [
    "hodl = []"
   ]
  },
  {
   "cell_type": "code",
   "execution_count": 154,
   "id": "47f6b590",
   "metadata": {},
   "outputs": [],
   "source": [
    "for x in test.Cabin:\n",
    "    if type(x) != float:\n",
    "        hodl.append(x[0])\n",
    "    else:\n",
    "        hodl.append('None')"
   ]
  },
  {
   "cell_type": "code",
   "execution_count": 155,
   "id": "3ec82d3b",
   "metadata": {},
   "outputs": [],
   "source": [
    "test['Cabin_Letter'] = hodl"
   ]
  },
  {
   "cell_type": "code",
   "execution_count": 156,
   "id": "1395d128",
   "metadata": {},
   "outputs": [],
   "source": [
    "test = pd.get_dummies(test, columns=['Cabin_Letter'], drop_first=True, prefix='Cab_Letter').copy()"
   ]
  },
  {
   "cell_type": "code",
   "execution_count": 157,
   "id": "145990df",
   "metadata": {},
   "outputs": [],
   "source": [
    "test = test.drop(labels='Cabin', axis=1).copy()"
   ]
  },
  {
   "cell_type": "code",
   "execution_count": 158,
   "id": "6b5ce8d5",
   "metadata": {},
   "outputs": [],
   "source": [
    "test['Family_Size'] = test['SibSp']+test['Parch']"
   ]
  },
  {
   "cell_type": "code",
   "execution_count": 159,
   "id": "f9541307",
   "metadata": {},
   "outputs": [],
   "source": [
    "test['Fare_Per_Person']=test['Fare']/(test['Family_Size']+1)"
   ]
  },
  {
   "cell_type": "code",
   "execution_count": 160,
   "id": "a4cda7a6",
   "metadata": {},
   "outputs": [],
   "source": [
    "test = pd.get_dummies(test, columns=['Sex'], drop_first=True).copy()"
   ]
  },
  {
   "cell_type": "code",
   "execution_count": 161,
   "id": "b0a7daf2",
   "metadata": {},
   "outputs": [],
   "source": [
    "test = pd.get_dummies(test, columns=['Embarked'], prefix='Embarked_', drop_first=True).copy()"
   ]
  },
  {
   "cell_type": "code",
   "execution_count": 162,
   "id": "f56a69a8",
   "metadata": {},
   "outputs": [],
   "source": [
    "test = pd.get_dummies(test, columns=['Pclass'], prefix='Class', drop_first=True).copy()"
   ]
  },
  {
   "cell_type": "code",
   "execution_count": 163,
   "id": "77124b0e",
   "metadata": {},
   "outputs": [],
   "source": [
    "test = test.drop(labels='Name', axis=1)"
   ]
  },
  {
   "cell_type": "code",
   "execution_count": 165,
   "id": "fa537c83",
   "metadata": {},
   "outputs": [
    {
     "data": {
      "text/plain": [
       "(Index(['Age', 'SibSp', 'ParCh', 'Fare', 'Duplicate_Cabin', 'Cab_Letter_B',\n",
       "        'Cab_Letter_C', 'Cab_Letter_D', 'Cab_Letter_E', 'Cab_Letter_F',\n",
       "        'Cab_Letter_G', 'Cab_Letter_None', 'Family_Size', 'Fare_Per_Person',\n",
       "        'Sex_male', 'Embarked__Q', 'Embarked__S', 'Class_2', 'Class_3'],\n",
       "       dtype='object'),\n",
       " Index(['PassengerId', 'Age', 'SibSp', 'Parch', 'Ticket', 'Fare',\n",
       "        'Duplicate_Cabin', 'Cab_Letter_B', 'Cab_Letter_C', 'Cab_Letter_D',\n",
       "        'Cab_Letter_E', 'Cab_Letter_F', 'Cab_Letter_G', 'Cab_Letter_None',\n",
       "        'Family_Size', 'Fare_Per_Person', 'Sex_male', 'Embarked__Q',\n",
       "        'Embarked__S', 'Class_2', 'Class_3'],\n",
       "       dtype='object'))"
      ]
     },
     "execution_count": 165,
     "metadata": {},
     "output_type": "execute_result"
    }
   ],
   "source": [
    "train_X.columns, test.columns"
   ]
  },
  {
   "cell_type": "code",
   "execution_count": 166,
   "id": "a79115f3",
   "metadata": {},
   "outputs": [],
   "source": [
    "test.to_csv('test_for_imputation.csv', index=False)"
   ]
  },
  {
   "cell_type": "code",
   "execution_count": 177,
   "id": "b37e735c",
   "metadata": {},
   "outputs": [],
   "source": [
    "test = pd.read_csv('test_MF_imputed.csv')"
   ]
  },
  {
   "cell_type": "code",
   "execution_count": 178,
   "id": "cf243655",
   "metadata": {},
   "outputs": [
    {
     "data": {
      "text/plain": [
       "Index(['PassengerId', 'Age', 'SibSp', 'Parch', 'Fare', 'Duplicate_Cabin',\n",
       "       'Cab_Letter_B', 'Cab_Letter_C', 'Cab_Letter_D', 'Cab_Letter_E',\n",
       "       'Cab_Letter_F', 'Cab_Letter_G', 'Cab_Letter_None', 'Family_Size',\n",
       "       'Fare_Per_Person', 'Sex_male', 'Embarked__Q', 'Embarked__S', 'Class_2',\n",
       "       'Class_3'],\n",
       "      dtype='object')"
      ]
     },
     "execution_count": 178,
     "metadata": {},
     "output_type": "execute_result"
    }
   ],
   "source": [
    "test.columns"
   ]
  },
  {
   "cell_type": "code",
   "execution_count": 169,
   "id": "de31380c",
   "metadata": {},
   "outputs": [
    {
     "data": {
      "text/html": [
       "<div>\n",
       "<style scoped>\n",
       "    .dataframe tbody tr th:only-of-type {\n",
       "        vertical-align: middle;\n",
       "    }\n",
       "\n",
       "    .dataframe tbody tr th {\n",
       "        vertical-align: top;\n",
       "    }\n",
       "\n",
       "    .dataframe thead th {\n",
       "        text-align: right;\n",
       "    }\n",
       "</style>\n",
       "<table border=\"1\" class=\"dataframe\">\n",
       "  <thead>\n",
       "    <tr style=\"text-align: right;\">\n",
       "      <th></th>\n",
       "      <th>Age</th>\n",
       "      <th>SibSp</th>\n",
       "      <th>Parch</th>\n",
       "      <th>Fare</th>\n",
       "      <th>Duplicate_Cabin</th>\n",
       "      <th>Cab_Letter_B</th>\n",
       "      <th>Cab_Letter_C</th>\n",
       "      <th>Cab_Letter_D</th>\n",
       "      <th>Cab_Letter_E</th>\n",
       "      <th>Cab_Letter_F</th>\n",
       "      <th>Cab_Letter_G</th>\n",
       "      <th>Cab_Letter_None</th>\n",
       "      <th>Family_Size</th>\n",
       "      <th>Fare_Per_Person</th>\n",
       "      <th>Sex_male</th>\n",
       "      <th>Embarked__Q</th>\n",
       "      <th>Embarked__S</th>\n",
       "      <th>Class_2</th>\n",
       "      <th>Class_3</th>\n",
       "    </tr>\n",
       "  </thead>\n",
       "  <tbody>\n",
       "    <tr>\n",
       "      <th>0</th>\n",
       "      <td>34.5</td>\n",
       "      <td>0.0</td>\n",
       "      <td>0.0</td>\n",
       "      <td>7.8</td>\n",
       "      <td>0.0</td>\n",
       "      <td>0.0</td>\n",
       "      <td>0.0</td>\n",
       "      <td>0.0</td>\n",
       "      <td>0.0</td>\n",
       "      <td>0.0</td>\n",
       "      <td>0.0</td>\n",
       "      <td>1.0</td>\n",
       "      <td>0.0</td>\n",
       "      <td>7.8</td>\n",
       "      <td>1.0</td>\n",
       "      <td>1.0</td>\n",
       "      <td>0.0</td>\n",
       "      <td>0.0</td>\n",
       "      <td>1.0</td>\n",
       "    </tr>\n",
       "    <tr>\n",
       "      <th>1</th>\n",
       "      <td>47.0</td>\n",
       "      <td>1.0</td>\n",
       "      <td>0.0</td>\n",
       "      <td>7.0</td>\n",
       "      <td>0.0</td>\n",
       "      <td>0.0</td>\n",
       "      <td>0.0</td>\n",
       "      <td>0.0</td>\n",
       "      <td>0.0</td>\n",
       "      <td>0.0</td>\n",
       "      <td>0.0</td>\n",
       "      <td>1.0</td>\n",
       "      <td>1.0</td>\n",
       "      <td>3.5</td>\n",
       "      <td>0.0</td>\n",
       "      <td>0.0</td>\n",
       "      <td>1.0</td>\n",
       "      <td>0.0</td>\n",
       "      <td>1.0</td>\n",
       "    </tr>\n",
       "    <tr>\n",
       "      <th>2</th>\n",
       "      <td>62.0</td>\n",
       "      <td>0.0</td>\n",
       "      <td>0.0</td>\n",
       "      <td>9.7</td>\n",
       "      <td>0.0</td>\n",
       "      <td>0.0</td>\n",
       "      <td>0.0</td>\n",
       "      <td>0.0</td>\n",
       "      <td>0.0</td>\n",
       "      <td>0.0</td>\n",
       "      <td>0.0</td>\n",
       "      <td>1.0</td>\n",
       "      <td>0.0</td>\n",
       "      <td>9.7</td>\n",
       "      <td>1.0</td>\n",
       "      <td>1.0</td>\n",
       "      <td>0.0</td>\n",
       "      <td>1.0</td>\n",
       "      <td>0.0</td>\n",
       "    </tr>\n",
       "    <tr>\n",
       "      <th>3</th>\n",
       "      <td>27.0</td>\n",
       "      <td>0.0</td>\n",
       "      <td>0.0</td>\n",
       "      <td>8.7</td>\n",
       "      <td>0.0</td>\n",
       "      <td>0.0</td>\n",
       "      <td>0.0</td>\n",
       "      <td>0.0</td>\n",
       "      <td>0.0</td>\n",
       "      <td>0.0</td>\n",
       "      <td>0.0</td>\n",
       "      <td>1.0</td>\n",
       "      <td>0.0</td>\n",
       "      <td>8.7</td>\n",
       "      <td>1.0</td>\n",
       "      <td>0.0</td>\n",
       "      <td>1.0</td>\n",
       "      <td>0.0</td>\n",
       "      <td>1.0</td>\n",
       "    </tr>\n",
       "    <tr>\n",
       "      <th>4</th>\n",
       "      <td>22.0</td>\n",
       "      <td>1.0</td>\n",
       "      <td>1.0</td>\n",
       "      <td>12.3</td>\n",
       "      <td>0.0</td>\n",
       "      <td>0.0</td>\n",
       "      <td>0.0</td>\n",
       "      <td>0.0</td>\n",
       "      <td>0.0</td>\n",
       "      <td>0.0</td>\n",
       "      <td>0.0</td>\n",
       "      <td>1.0</td>\n",
       "      <td>2.0</td>\n",
       "      <td>4.1</td>\n",
       "      <td>0.0</td>\n",
       "      <td>0.0</td>\n",
       "      <td>1.0</td>\n",
       "      <td>0.0</td>\n",
       "      <td>1.0</td>\n",
       "    </tr>\n",
       "  </tbody>\n",
       "</table>\n",
       "</div>"
      ],
      "text/plain": [
       "    Age  SibSp  Parch  Fare  Duplicate_Cabin  Cab_Letter_B  Cab_Letter_C  \\\n",
       "0  34.5    0.0    0.0   7.8              0.0           0.0           0.0   \n",
       "1  47.0    1.0    0.0   7.0              0.0           0.0           0.0   \n",
       "2  62.0    0.0    0.0   9.7              0.0           0.0           0.0   \n",
       "3  27.0    0.0    0.0   8.7              0.0           0.0           0.0   \n",
       "4  22.0    1.0    1.0  12.3              0.0           0.0           0.0   \n",
       "\n",
       "   Cab_Letter_D  Cab_Letter_E  Cab_Letter_F  Cab_Letter_G  Cab_Letter_None  \\\n",
       "0           0.0           0.0           0.0           0.0              1.0   \n",
       "1           0.0           0.0           0.0           0.0              1.0   \n",
       "2           0.0           0.0           0.0           0.0              1.0   \n",
       "3           0.0           0.0           0.0           0.0              1.0   \n",
       "4           0.0           0.0           0.0           0.0              1.0   \n",
       "\n",
       "   Family_Size  Fare_Per_Person  Sex_male  Embarked__Q  Embarked__S  Class_2  \\\n",
       "0          0.0              7.8       1.0          1.0          0.0      0.0   \n",
       "1          1.0              3.5       0.0          0.0          1.0      0.0   \n",
       "2          0.0              9.7       1.0          1.0          0.0      1.0   \n",
       "3          0.0              8.7       1.0          0.0          1.0      0.0   \n",
       "4          2.0              4.1       0.0          0.0          1.0      0.0   \n",
       "\n",
       "   Class_3  \n",
       "0      1.0  \n",
       "1      1.0  \n",
       "2      0.0  \n",
       "3      1.0  \n",
       "4      1.0  "
      ]
     },
     "execution_count": 169,
     "metadata": {},
     "output_type": "execute_result"
    }
   ],
   "source": [
    "test.head()"
   ]
  },
  {
   "cell_type": "code",
   "execution_count": 181,
   "id": "84ef85f2",
   "metadata": {},
   "outputs": [],
   "source": [
    "test_X = test[[#'PassengerId', \n",
    "    'Age', 'SibSp', 'Parch', 'Fare', 'Duplicate_Cabin', 'Cab_Letter_B',\n",
    "       'Cab_Letter_C', 'Cab_Letter_D', 'Cab_Letter_E', 'Cab_Letter_F',\n",
    "       'Cab_Letter_G', 'Cab_Letter_None', 'Family_Size', 'Fare_Per_Person',\n",
    "       'Sex_male', 'Embarked__Q', 'Embarked__S', 'Class_2', 'Class_3']]"
   ]
  },
  {
   "cell_type": "code",
   "execution_count": 182,
   "id": "90317cd4",
   "metadata": {},
   "outputs": [],
   "source": [
    "predicted = my_model.predict(test_X)\n",
    "predicted = (round(predicted, 0))"
   ]
  },
  {
   "cell_type": "code",
   "execution_count": 183,
   "id": "f19f2562",
   "metadata": {},
   "outputs": [
    {
     "name": "stdout",
     "output_type": "stream",
     "text": [
      "0      0.0\n",
      "1      0.0\n",
      "2      0.0\n",
      "3      0.0\n",
      "4      1.0\n",
      "      ... \n",
      "413    0.0\n",
      "414    1.0\n",
      "415    0.0\n",
      "416    0.0\n",
      "417    0.0\n",
      "Length: 418, dtype: float64\n"
     ]
    }
   ],
   "source": [
    "print(predicted)"
   ]
  },
  {
   "cell_type": "code",
   "execution_count": 184,
   "id": "76b06bbe",
   "metadata": {},
   "outputs": [
    {
     "data": {
      "text/plain": [
       "pandas.core.series.Series"
      ]
     },
     "execution_count": 184,
     "metadata": {},
     "output_type": "execute_result"
    }
   ],
   "source": [
    "type(predicted)"
   ]
  },
  {
   "cell_type": "code",
   "execution_count": 185,
   "id": "6da16a7c",
   "metadata": {},
   "outputs": [],
   "source": [
    "test['Survived'] = predicted"
   ]
  },
  {
   "cell_type": "code",
   "execution_count": 186,
   "id": "29bb03a6",
   "metadata": {},
   "outputs": [
    {
     "data": {
      "text/html": [
       "<div>\n",
       "<style scoped>\n",
       "    .dataframe tbody tr th:only-of-type {\n",
       "        vertical-align: middle;\n",
       "    }\n",
       "\n",
       "    .dataframe tbody tr th {\n",
       "        vertical-align: top;\n",
       "    }\n",
       "\n",
       "    .dataframe thead th {\n",
       "        text-align: right;\n",
       "    }\n",
       "</style>\n",
       "<table border=\"1\" class=\"dataframe\">\n",
       "  <thead>\n",
       "    <tr style=\"text-align: right;\">\n",
       "      <th></th>\n",
       "      <th>PassengerId</th>\n",
       "      <th>Age</th>\n",
       "      <th>SibSp</th>\n",
       "      <th>Parch</th>\n",
       "      <th>Fare</th>\n",
       "      <th>Duplicate_Cabin</th>\n",
       "      <th>Cab_Letter_B</th>\n",
       "      <th>Cab_Letter_C</th>\n",
       "      <th>Cab_Letter_D</th>\n",
       "      <th>Cab_Letter_E</th>\n",
       "      <th>...</th>\n",
       "      <th>Cab_Letter_G</th>\n",
       "      <th>Cab_Letter_None</th>\n",
       "      <th>Family_Size</th>\n",
       "      <th>Fare_Per_Person</th>\n",
       "      <th>Sex_male</th>\n",
       "      <th>Embarked__Q</th>\n",
       "      <th>Embarked__S</th>\n",
       "      <th>Class_2</th>\n",
       "      <th>Class_3</th>\n",
       "      <th>Survived</th>\n",
       "    </tr>\n",
       "  </thead>\n",
       "  <tbody>\n",
       "    <tr>\n",
       "      <th>0</th>\n",
       "      <td>892.0</td>\n",
       "      <td>34.5</td>\n",
       "      <td>0.0</td>\n",
       "      <td>0.0</td>\n",
       "      <td>7.8</td>\n",
       "      <td>0.0</td>\n",
       "      <td>0.0</td>\n",
       "      <td>0.0</td>\n",
       "      <td>0.0</td>\n",
       "      <td>0.0</td>\n",
       "      <td>...</td>\n",
       "      <td>0.0</td>\n",
       "      <td>1.0</td>\n",
       "      <td>0.0</td>\n",
       "      <td>7.8</td>\n",
       "      <td>1.0</td>\n",
       "      <td>1.0</td>\n",
       "      <td>0.0</td>\n",
       "      <td>0.0</td>\n",
       "      <td>1.0</td>\n",
       "      <td>0.0</td>\n",
       "    </tr>\n",
       "    <tr>\n",
       "      <th>1</th>\n",
       "      <td>893.0</td>\n",
       "      <td>47.0</td>\n",
       "      <td>1.0</td>\n",
       "      <td>0.0</td>\n",
       "      <td>7.0</td>\n",
       "      <td>0.0</td>\n",
       "      <td>0.0</td>\n",
       "      <td>0.0</td>\n",
       "      <td>0.0</td>\n",
       "      <td>0.0</td>\n",
       "      <td>...</td>\n",
       "      <td>0.0</td>\n",
       "      <td>1.0</td>\n",
       "      <td>1.0</td>\n",
       "      <td>3.5</td>\n",
       "      <td>0.0</td>\n",
       "      <td>0.0</td>\n",
       "      <td>1.0</td>\n",
       "      <td>0.0</td>\n",
       "      <td>1.0</td>\n",
       "      <td>0.0</td>\n",
       "    </tr>\n",
       "    <tr>\n",
       "      <th>2</th>\n",
       "      <td>894.0</td>\n",
       "      <td>62.0</td>\n",
       "      <td>0.0</td>\n",
       "      <td>0.0</td>\n",
       "      <td>9.7</td>\n",
       "      <td>0.0</td>\n",
       "      <td>0.0</td>\n",
       "      <td>0.0</td>\n",
       "      <td>0.0</td>\n",
       "      <td>0.0</td>\n",
       "      <td>...</td>\n",
       "      <td>0.0</td>\n",
       "      <td>1.0</td>\n",
       "      <td>0.0</td>\n",
       "      <td>9.7</td>\n",
       "      <td>1.0</td>\n",
       "      <td>1.0</td>\n",
       "      <td>0.0</td>\n",
       "      <td>1.0</td>\n",
       "      <td>0.0</td>\n",
       "      <td>0.0</td>\n",
       "    </tr>\n",
       "    <tr>\n",
       "      <th>3</th>\n",
       "      <td>895.0</td>\n",
       "      <td>27.0</td>\n",
       "      <td>0.0</td>\n",
       "      <td>0.0</td>\n",
       "      <td>8.7</td>\n",
       "      <td>0.0</td>\n",
       "      <td>0.0</td>\n",
       "      <td>0.0</td>\n",
       "      <td>0.0</td>\n",
       "      <td>0.0</td>\n",
       "      <td>...</td>\n",
       "      <td>0.0</td>\n",
       "      <td>1.0</td>\n",
       "      <td>0.0</td>\n",
       "      <td>8.7</td>\n",
       "      <td>1.0</td>\n",
       "      <td>0.0</td>\n",
       "      <td>1.0</td>\n",
       "      <td>0.0</td>\n",
       "      <td>1.0</td>\n",
       "      <td>0.0</td>\n",
       "    </tr>\n",
       "    <tr>\n",
       "      <th>4</th>\n",
       "      <td>896.0</td>\n",
       "      <td>22.0</td>\n",
       "      <td>1.0</td>\n",
       "      <td>1.0</td>\n",
       "      <td>12.3</td>\n",
       "      <td>0.0</td>\n",
       "      <td>0.0</td>\n",
       "      <td>0.0</td>\n",
       "      <td>0.0</td>\n",
       "      <td>0.0</td>\n",
       "      <td>...</td>\n",
       "      <td>0.0</td>\n",
       "      <td>1.0</td>\n",
       "      <td>2.0</td>\n",
       "      <td>4.1</td>\n",
       "      <td>0.0</td>\n",
       "      <td>0.0</td>\n",
       "      <td>1.0</td>\n",
       "      <td>0.0</td>\n",
       "      <td>1.0</td>\n",
       "      <td>1.0</td>\n",
       "    </tr>\n",
       "  </tbody>\n",
       "</table>\n",
       "<p>5 rows × 21 columns</p>\n",
       "</div>"
      ],
      "text/plain": [
       "   PassengerId   Age  SibSp  Parch  Fare  Duplicate_Cabin  Cab_Letter_B  \\\n",
       "0        892.0  34.5    0.0    0.0   7.8              0.0           0.0   \n",
       "1        893.0  47.0    1.0    0.0   7.0              0.0           0.0   \n",
       "2        894.0  62.0    0.0    0.0   9.7              0.0           0.0   \n",
       "3        895.0  27.0    0.0    0.0   8.7              0.0           0.0   \n",
       "4        896.0  22.0    1.0    1.0  12.3              0.0           0.0   \n",
       "\n",
       "   Cab_Letter_C  Cab_Letter_D  Cab_Letter_E  ...  Cab_Letter_G  \\\n",
       "0           0.0           0.0           0.0  ...           0.0   \n",
       "1           0.0           0.0           0.0  ...           0.0   \n",
       "2           0.0           0.0           0.0  ...           0.0   \n",
       "3           0.0           0.0           0.0  ...           0.0   \n",
       "4           0.0           0.0           0.0  ...           0.0   \n",
       "\n",
       "   Cab_Letter_None  Family_Size  Fare_Per_Person  Sex_male  Embarked__Q  \\\n",
       "0              1.0          0.0              7.8       1.0          1.0   \n",
       "1              1.0          1.0              3.5       0.0          0.0   \n",
       "2              1.0          0.0              9.7       1.0          1.0   \n",
       "3              1.0          0.0              8.7       1.0          0.0   \n",
       "4              1.0          2.0              4.1       0.0          0.0   \n",
       "\n",
       "   Embarked__S  Class_2  Class_3  Survived  \n",
       "0          0.0      0.0      1.0       0.0  \n",
       "1          1.0      0.0      1.0       0.0  \n",
       "2          0.0      1.0      0.0       0.0  \n",
       "3          1.0      0.0      1.0       0.0  \n",
       "4          1.0      0.0      1.0       1.0  \n",
       "\n",
       "[5 rows x 21 columns]"
      ]
     },
     "execution_count": 186,
     "metadata": {},
     "output_type": "execute_result"
    }
   ],
   "source": [
    "test.head()"
   ]
  },
  {
   "cell_type": "code",
   "execution_count": 187,
   "id": "71765ccb",
   "metadata": {},
   "outputs": [],
   "source": [
    "test = test[['PassengerId', \n",
    "                    #'Age', 'SibSp', \n",
    "                    #'ParCh', 'Fare', \n",
    "                    #'Class_2', 'Class_3',\n",
    "                   #'Sex_male', \n",
    "                    'Survived']].copy()"
   ]
  },
  {
   "cell_type": "code",
   "execution_count": 192,
   "id": "bc204408",
   "metadata": {},
   "outputs": [
    {
     "data": {
      "text/plain": [
       "PassengerId    float64\n",
       "Survived         int64\n",
       "dtype: object"
      ]
     },
     "execution_count": 192,
     "metadata": {},
     "output_type": "execute_result"
    }
   ],
   "source": [
    "test.dtypes"
   ]
  },
  {
   "cell_type": "code",
   "execution_count": 193,
   "id": "e0c3137d",
   "metadata": {},
   "outputs": [],
   "source": [
    "test = test.astype({'Survived': 'int64', 'PassengerId': 'int32'})"
   ]
  },
  {
   "cell_type": "code",
   "execution_count": 194,
   "id": "435fe86c",
   "metadata": {},
   "outputs": [
    {
     "data": {
      "text/plain": [
       "PassengerId    int32\n",
       "Survived       int64\n",
       "dtype: object"
      ]
     },
     "execution_count": 194,
     "metadata": {},
     "output_type": "execute_result"
    }
   ],
   "source": [
    "test.dtypes"
   ]
  },
  {
   "cell_type": "code",
   "execution_count": 195,
   "id": "2c9a7677",
   "metadata": {
    "scrolled": true
   },
   "outputs": [
    {
     "data": {
      "text/html": [
       "<div>\n",
       "<style scoped>\n",
       "    .dataframe tbody tr th:only-of-type {\n",
       "        vertical-align: middle;\n",
       "    }\n",
       "\n",
       "    .dataframe tbody tr th {\n",
       "        vertical-align: top;\n",
       "    }\n",
       "\n",
       "    .dataframe thead th {\n",
       "        text-align: right;\n",
       "    }\n",
       "</style>\n",
       "<table border=\"1\" class=\"dataframe\">\n",
       "  <thead>\n",
       "    <tr style=\"text-align: right;\">\n",
       "      <th></th>\n",
       "      <th>PassengerId</th>\n",
       "      <th>Survived</th>\n",
       "    </tr>\n",
       "  </thead>\n",
       "  <tbody>\n",
       "    <tr>\n",
       "      <th>0</th>\n",
       "      <td>892</td>\n",
       "      <td>0</td>\n",
       "    </tr>\n",
       "    <tr>\n",
       "      <th>1</th>\n",
       "      <td>893</td>\n",
       "      <td>0</td>\n",
       "    </tr>\n",
       "    <tr>\n",
       "      <th>2</th>\n",
       "      <td>894</td>\n",
       "      <td>0</td>\n",
       "    </tr>\n",
       "    <tr>\n",
       "      <th>3</th>\n",
       "      <td>895</td>\n",
       "      <td>0</td>\n",
       "    </tr>\n",
       "    <tr>\n",
       "      <th>4</th>\n",
       "      <td>896</td>\n",
       "      <td>1</td>\n",
       "    </tr>\n",
       "    <tr>\n",
       "      <th>...</th>\n",
       "      <td>...</td>\n",
       "      <td>...</td>\n",
       "    </tr>\n",
       "    <tr>\n",
       "      <th>413</th>\n",
       "      <td>1305</td>\n",
       "      <td>0</td>\n",
       "    </tr>\n",
       "    <tr>\n",
       "      <th>414</th>\n",
       "      <td>1306</td>\n",
       "      <td>1</td>\n",
       "    </tr>\n",
       "    <tr>\n",
       "      <th>415</th>\n",
       "      <td>1307</td>\n",
       "      <td>0</td>\n",
       "    </tr>\n",
       "    <tr>\n",
       "      <th>416</th>\n",
       "      <td>1308</td>\n",
       "      <td>0</td>\n",
       "    </tr>\n",
       "    <tr>\n",
       "      <th>417</th>\n",
       "      <td>1309</td>\n",
       "      <td>0</td>\n",
       "    </tr>\n",
       "  </tbody>\n",
       "</table>\n",
       "<p>418 rows × 2 columns</p>\n",
       "</div>"
      ],
      "text/plain": [
       "     PassengerId  Survived\n",
       "0            892         0\n",
       "1            893         0\n",
       "2            894         0\n",
       "3            895         0\n",
       "4            896         1\n",
       "..           ...       ...\n",
       "413         1305         0\n",
       "414         1306         1\n",
       "415         1307         0\n",
       "416         1308         0\n",
       "417         1309         0\n",
       "\n",
       "[418 rows x 2 columns]"
      ]
     },
     "execution_count": 195,
     "metadata": {},
     "output_type": "execute_result"
    }
   ],
   "source": [
    "test"
   ]
  },
  {
   "cell_type": "code",
   "execution_count": 196,
   "id": "6b712044",
   "metadata": {},
   "outputs": [],
   "source": [
    "test.to_csv('sixthsubmission.csv', index=False)"
   ]
  },
  {
   "cell_type": "markdown",
   "id": "d9d0ec34",
   "metadata": {},
   "source": [
    "# Model using KNN imputed values"
   ]
  },
  {
   "cell_type": "code",
   "execution_count": null,
   "id": "ab53614b",
   "metadata": {},
   "outputs": [],
   "source": [
    "df_knn = pd.read_csv('KNN_imputed.csv')"
   ]
  },
  {
   "cell_type": "markdown",
   "id": "f24a9b09",
   "metadata": {},
   "source": [
    "## KNN model"
   ]
  },
  {
   "cell_type": "code",
   "execution_count": null,
   "id": "6470c386",
   "metadata": {},
   "outputs": [],
   "source": [
    "y = df_knn.y.copy()\n",
    "x = df_knn.drop('y', axis = 1)\n",
    "x = sm.add_constant(x)\n",
    "x_train, x_test, y_train, y_test = train_test_split(x, y,\n",
    "                                                    test_size = 0.2,\n",
    "                                                    random_state = 1502)\n",
    "knn_model = sm.Logit(y_train, x_train).fit()\n",
    "x.shape"
   ]
  },
  {
   "cell_type": "markdown",
   "id": "35a59095",
   "metadata": {},
   "source": [
    "## Assess KNN model"
   ]
  },
  {
   "cell_type": "code",
   "execution_count": null,
   "id": "30a67ea1",
   "metadata": {},
   "outputs": [],
   "source": [
    "def assess_model(m):\n",
    "    res = m.summary().tables[1]\n",
    "    res_html = res.as_html()\n",
    "    res_df = pd.read_html(res_html, header = 0, index_col = 0)[0]\n",
    "    coef_df = res_df.loc[res_df['P>|z|'] < 0.05, ['coef']]\n",
    "    coef_df['Probability'] = round((np.exp(coef_df['coef']) - 1) * 100, 2)\n",
    "    coef_df\n",
    "    balance = y_test.mean()\n",
    "    predictions = model.predict(x_test)\n",
    "    predictions = np.where(predictions > 0.5, 1, 0)\n",
    "    tn, fp, fn, tp = confusion_matrix(y_test, predictions).ravel()\n",
    "    acc = round(((tp + tn) / (tp + tn + fp + fn)) * 100 , 2)\n",
    "    f1 = round((2 * tp / (2 * tp + fp + fn)) * 100, 2)\n",
    "    specifity = round((tn / (tn + fp))*100, 2)\n",
    "    sensitivity = round((tp / (tp + fn))*100, 2)\n",
    "    print(model.summary().tables[0])\n",
    "    print(coef_df)\n",
    "    print(balance) \n",
    "    return print(f\"Accuracy is {acc}%\\nF1-score is {f1}%\\nSpecificity is {specifity}%\\nSensitivity is {sensitivity}%\")"
   ]
  },
  {
   "cell_type": "code",
   "execution_count": null,
   "id": "cbab5e15",
   "metadata": {},
   "outputs": [],
   "source": [
    "assess_model(knn_model)"
   ]
  },
  {
   "cell_type": "markdown",
   "id": "f9a9dab0",
   "metadata": {},
   "source": [
    "# Model using Miss Forest values"
   ]
  },
  {
   "cell_type": "code",
   "execution_count": null,
   "id": "188b7d92",
   "metadata": {},
   "outputs": [],
   "source": [
    "df_mf = pd.read_csv('MF_imputed.csv')"
   ]
  },
  {
   "cell_type": "markdown",
   "id": "7a616f71",
   "metadata": {},
   "source": [
    "## Miss Forest model"
   ]
  },
  {
   "cell_type": "code",
   "execution_count": null,
   "id": "ac6e6266",
   "metadata": {},
   "outputs": [],
   "source": [
    "y = df_mf.y.copy()\n",
    "x = df_mf.drop('y', axis = 1)\n",
    "x = sm.add_constant(x)\n",
    "x_train, x_test, y_train, y_test = train_test_split(x, y,\n",
    "                                                    test_size = 0.2,\n",
    "                                                    random_state = 1502)\n",
    "mf_model = sm.Logit(y_train, x_train).fit()"
   ]
  },
  {
   "cell_type": "markdown",
   "id": "9855e259",
   "metadata": {},
   "source": [
    "## Assess Miss Forest model"
   ]
  },
  {
   "cell_type": "code",
   "execution_count": null,
   "id": "bb6b57a7",
   "metadata": {},
   "outputs": [],
   "source": [
    "assess_model(mf_model)"
   ]
  },
  {
   "cell_type": "markdown",
   "id": "fb8f15a0",
   "metadata": {},
   "source": [
    "# Submissions with imputed values"
   ]
  },
  {
   "cell_type": "code",
   "execution_count": null,
   "id": "8adda35d",
   "metadata": {},
   "outputs": [],
   "source": [
    "test_KNN = pd.read_csv('test_KNN_imputed.csv')\n",
    "test_MF = pd.read_csv('test_MF_imputed.csv')"
   ]
  },
  {
   "cell_type": "code",
   "execution_count": null,
   "id": "69481c52",
   "metadata": {},
   "outputs": [],
   "source": [
    "test_KNN.head(0)"
   ]
  },
  {
   "cell_type": "code",
   "execution_count": null,
   "id": "77f40d32",
   "metadata": {},
   "outputs": [],
   "source": [
    "test_KNN.dtypes"
   ]
  },
  {
   "cell_type": "markdown",
   "id": "7655a822",
   "metadata": {},
   "source": [
    "## KNN"
   ]
  },
  {
   "cell_type": "code",
   "execution_count": null,
   "id": "ffda3cb1",
   "metadata": {},
   "outputs": [],
   "source": [
    "def myfunc_2(d):\n",
    "    test_X = d[predictors_cols]\n",
    "    test_X = sm.add_constant(test_X)\n",
    "    predicted = mf_model.predict(test_X)\n",
    "    predicted = (round(predicted, 0))\n",
    "    d['Survived'] = predicted\n",
    "    test = d[['PassengerId', \n",
    "                        #'Age', 'SibSp', \n",
    "                        #'ParCh', 'Fare', \n",
    "                        #'Class_2', 'Class_3',\n",
    "                       #'Sex_male', \n",
    "                        'Survived']].copy()\n",
    "    test = test.astype({'Survived': 'int64', 'PassengerId': 'int32'})\n",
    "    test\n",
    "    return test.to_csv('MF_trained_KNN_test_submission.csv', index=False)"
   ]
  },
  {
   "cell_type": "code",
   "execution_count": null,
   "id": "bd73941d",
   "metadata": {},
   "outputs": [],
   "source": [
    "myfunc_2(test_KNN)"
   ]
  },
  {
   "cell_type": "code",
   "execution_count": null,
   "id": "846e0672",
   "metadata": {},
   "outputs": [],
   "source": [
    "temp = pd.read_csv('MF_trained_KNN_test_submission.csv')"
   ]
  },
  {
   "cell_type": "code",
   "execution_count": null,
   "id": "be1b3ea6",
   "metadata": {},
   "outputs": [],
   "source": [
    "temp.shape"
   ]
  },
  {
   "cell_type": "code",
   "execution_count": null,
   "id": "f448f974",
   "metadata": {},
   "outputs": [],
   "source": [
    "temp.dtypes"
   ]
  },
  {
   "cell_type": "markdown",
   "id": "0b5be124",
   "metadata": {},
   "source": [
    "## MF"
   ]
  },
  {
   "cell_type": "code",
   "execution_count": null,
   "id": "24d955cd",
   "metadata": {},
   "outputs": [],
   "source": [
    "def myfunc_2(d):\n",
    "    test_X = d[predictors_cols]\n",
    "    test_X = sm.add_constant(test_X)\n",
    "    predicted = knn_model.predict(test_X)\n",
    "    predicted = (round(predicted, 0))\n",
    "    d['Survived'] = predicted\n",
    "    test = d[['PassengerId', \n",
    "                        #'Age', 'SibSp', \n",
    "                        #'ParCh', 'Fare', \n",
    "                        #'Class_2', 'Class_3',\n",
    "                       #'Sex_male', \n",
    "                        'Survived']].copy()\n",
    "    test = test.astype({'Survived': 'int64', 'PassengerId': 'int32'})\n",
    "    test\n",
    "    return test.to_csv('KNN_trained_MF_test_submission.csv', index=False)"
   ]
  },
  {
   "cell_type": "code",
   "execution_count": null,
   "id": "5755e209",
   "metadata": {},
   "outputs": [],
   "source": [
    "myfunc_2(test_MF)"
   ]
  },
  {
   "cell_type": "code",
   "execution_count": null,
   "id": "2bac0ba9",
   "metadata": {},
   "outputs": [],
   "source": [
    "temp = pd.read_csv('KNN_trained_MF_test_submission.csv')"
   ]
  },
  {
   "cell_type": "code",
   "execution_count": null,
   "id": "2437f632",
   "metadata": {},
   "outputs": [],
   "source": [
    "temp.shape"
   ]
  },
  {
   "cell_type": "code",
   "execution_count": null,
   "id": "a7ce1149",
   "metadata": {},
   "outputs": [],
   "source": [
    "temp.dtypes"
   ]
  }
 ],
 "metadata": {
  "kernelspec": {
   "display_name": "Python 3 (ipykernel)",
   "language": "python",
   "name": "python3"
  },
  "language_info": {
   "codemirror_mode": {
    "name": "ipython",
    "version": 3
   },
   "file_extension": ".py",
   "mimetype": "text/x-python",
   "name": "python",
   "nbconvert_exporter": "python",
   "pygments_lexer": "ipython3",
   "version": "3.9.13"
  }
 },
 "nbformat": 4,
 "nbformat_minor": 5
}
