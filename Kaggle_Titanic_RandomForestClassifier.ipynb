{
 "cells": [
  {
   "cell_type": "code",
   "execution_count": 1,
   "id": "679c57d0",
   "metadata": {},
   "outputs": [],
   "source": [
    "import numpy as np\n",
    "import pandas as pd"
   ]
  },
  {
   "cell_type": "code",
   "execution_count": 19,
   "id": "86385305",
   "metadata": {},
   "outputs": [],
   "source": [
    "df = pd.read_csv(\"MF_imputed.csv\")"
   ]
  },
  {
   "cell_type": "code",
   "execution_count": 20,
   "id": "d02c26c9",
   "metadata": {},
   "outputs": [
    {
     "data": {
      "text/html": [
       "<div>\n",
       "<style scoped>\n",
       "    .dataframe tbody tr th:only-of-type {\n",
       "        vertical-align: middle;\n",
       "    }\n",
       "\n",
       "    .dataframe tbody tr th {\n",
       "        vertical-align: top;\n",
       "    }\n",
       "\n",
       "    .dataframe thead th {\n",
       "        text-align: right;\n",
       "    }\n",
       "</style>\n",
       "<table border=\"1\" class=\"dataframe\">\n",
       "  <thead>\n",
       "    <tr style=\"text-align: right;\">\n",
       "      <th></th>\n",
       "      <th>y</th>\n",
       "      <th>Age</th>\n",
       "      <th>SibSp</th>\n",
       "      <th>ParCh</th>\n",
       "      <th>Fare</th>\n",
       "      <th>Duplicate_Cabin</th>\n",
       "      <th>Cab_Letter_B</th>\n",
       "      <th>Cab_Letter_C</th>\n",
       "      <th>Cab_Letter_D</th>\n",
       "      <th>Cab_Letter_E</th>\n",
       "      <th>...</th>\n",
       "      <th>Cab_Letter_G</th>\n",
       "      <th>Cab_Letter_None</th>\n",
       "      <th>Cab_Letter_T</th>\n",
       "      <th>Family_Size</th>\n",
       "      <th>Fare_Per_Person</th>\n",
       "      <th>Sex_male</th>\n",
       "      <th>Embarked__Q</th>\n",
       "      <th>Embarked__S</th>\n",
       "      <th>Class_2</th>\n",
       "      <th>Class_3</th>\n",
       "    </tr>\n",
       "  </thead>\n",
       "  <tbody>\n",
       "    <tr>\n",
       "      <th>0</th>\n",
       "      <td>0.0</td>\n",
       "      <td>22.0</td>\n",
       "      <td>1.0</td>\n",
       "      <td>0.0</td>\n",
       "      <td>7.2</td>\n",
       "      <td>0.0</td>\n",
       "      <td>0.0</td>\n",
       "      <td>0.0</td>\n",
       "      <td>0.0</td>\n",
       "      <td>0.0</td>\n",
       "      <td>...</td>\n",
       "      <td>0.0</td>\n",
       "      <td>1.0</td>\n",
       "      <td>0.0</td>\n",
       "      <td>1.0</td>\n",
       "      <td>3.6</td>\n",
       "      <td>1.0</td>\n",
       "      <td>0.0</td>\n",
       "      <td>1.0</td>\n",
       "      <td>0.0</td>\n",
       "      <td>1.0</td>\n",
       "    </tr>\n",
       "    <tr>\n",
       "      <th>1</th>\n",
       "      <td>1.0</td>\n",
       "      <td>38.0</td>\n",
       "      <td>1.0</td>\n",
       "      <td>0.0</td>\n",
       "      <td>71.3</td>\n",
       "      <td>0.0</td>\n",
       "      <td>0.0</td>\n",
       "      <td>1.0</td>\n",
       "      <td>0.0</td>\n",
       "      <td>0.0</td>\n",
       "      <td>...</td>\n",
       "      <td>0.0</td>\n",
       "      <td>0.0</td>\n",
       "      <td>0.0</td>\n",
       "      <td>1.0</td>\n",
       "      <td>35.6</td>\n",
       "      <td>0.0</td>\n",
       "      <td>0.0</td>\n",
       "      <td>0.0</td>\n",
       "      <td>0.0</td>\n",
       "      <td>0.0</td>\n",
       "    </tr>\n",
       "    <tr>\n",
       "      <th>2</th>\n",
       "      <td>1.0</td>\n",
       "      <td>26.0</td>\n",
       "      <td>0.0</td>\n",
       "      <td>0.0</td>\n",
       "      <td>7.9</td>\n",
       "      <td>0.0</td>\n",
       "      <td>0.0</td>\n",
       "      <td>0.0</td>\n",
       "      <td>0.0</td>\n",
       "      <td>0.0</td>\n",
       "      <td>...</td>\n",
       "      <td>0.0</td>\n",
       "      <td>1.0</td>\n",
       "      <td>0.0</td>\n",
       "      <td>0.0</td>\n",
       "      <td>7.9</td>\n",
       "      <td>0.0</td>\n",
       "      <td>0.0</td>\n",
       "      <td>1.0</td>\n",
       "      <td>0.0</td>\n",
       "      <td>1.0</td>\n",
       "    </tr>\n",
       "    <tr>\n",
       "      <th>3</th>\n",
       "      <td>1.0</td>\n",
       "      <td>35.0</td>\n",
       "      <td>1.0</td>\n",
       "      <td>0.0</td>\n",
       "      <td>53.1</td>\n",
       "      <td>1.0</td>\n",
       "      <td>0.0</td>\n",
       "      <td>1.0</td>\n",
       "      <td>0.0</td>\n",
       "      <td>0.0</td>\n",
       "      <td>...</td>\n",
       "      <td>0.0</td>\n",
       "      <td>0.0</td>\n",
       "      <td>0.0</td>\n",
       "      <td>1.0</td>\n",
       "      <td>26.6</td>\n",
       "      <td>0.0</td>\n",
       "      <td>0.0</td>\n",
       "      <td>1.0</td>\n",
       "      <td>0.0</td>\n",
       "      <td>0.0</td>\n",
       "    </tr>\n",
       "    <tr>\n",
       "      <th>4</th>\n",
       "      <td>0.0</td>\n",
       "      <td>35.0</td>\n",
       "      <td>0.0</td>\n",
       "      <td>0.0</td>\n",
       "      <td>8.0</td>\n",
       "      <td>0.0</td>\n",
       "      <td>0.0</td>\n",
       "      <td>0.0</td>\n",
       "      <td>0.0</td>\n",
       "      <td>0.0</td>\n",
       "      <td>...</td>\n",
       "      <td>0.0</td>\n",
       "      <td>1.0</td>\n",
       "      <td>0.0</td>\n",
       "      <td>0.0</td>\n",
       "      <td>8.0</td>\n",
       "      <td>1.0</td>\n",
       "      <td>0.0</td>\n",
       "      <td>1.0</td>\n",
       "      <td>0.0</td>\n",
       "      <td>1.0</td>\n",
       "    </tr>\n",
       "  </tbody>\n",
       "</table>\n",
       "<p>5 rows × 21 columns</p>\n",
       "</div>"
      ],
      "text/plain": [
       "     y   Age  SibSp  ParCh  Fare  Duplicate_Cabin  Cab_Letter_B  Cab_Letter_C  \\\n",
       "0  0.0  22.0    1.0    0.0   7.2              0.0           0.0           0.0   \n",
       "1  1.0  38.0    1.0    0.0  71.3              0.0           0.0           1.0   \n",
       "2  1.0  26.0    0.0    0.0   7.9              0.0           0.0           0.0   \n",
       "3  1.0  35.0    1.0    0.0  53.1              1.0           0.0           1.0   \n",
       "4  0.0  35.0    0.0    0.0   8.0              0.0           0.0           0.0   \n",
       "\n",
       "   Cab_Letter_D  Cab_Letter_E  ...  Cab_Letter_G  Cab_Letter_None  \\\n",
       "0           0.0           0.0  ...           0.0              1.0   \n",
       "1           0.0           0.0  ...           0.0              0.0   \n",
       "2           0.0           0.0  ...           0.0              1.0   \n",
       "3           0.0           0.0  ...           0.0              0.0   \n",
       "4           0.0           0.0  ...           0.0              1.0   \n",
       "\n",
       "   Cab_Letter_T  Family_Size  Fare_Per_Person  Sex_male  Embarked__Q  \\\n",
       "0           0.0          1.0              3.6       1.0          0.0   \n",
       "1           0.0          1.0             35.6       0.0          0.0   \n",
       "2           0.0          0.0              7.9       0.0          0.0   \n",
       "3           0.0          1.0             26.6       0.0          0.0   \n",
       "4           0.0          0.0              8.0       1.0          0.0   \n",
       "\n",
       "   Embarked__S  Class_2  Class_3  \n",
       "0          1.0      0.0      1.0  \n",
       "1          0.0      0.0      0.0  \n",
       "2          1.0      0.0      1.0  \n",
       "3          1.0      0.0      0.0  \n",
       "4          1.0      0.0      1.0  \n",
       "\n",
       "[5 rows x 21 columns]"
      ]
     },
     "execution_count": 20,
     "metadata": {},
     "output_type": "execute_result"
    }
   ],
   "source": [
    "df.head()"
   ]
  },
  {
   "cell_type": "code",
   "execution_count": 21,
   "id": "dec165d3",
   "metadata": {},
   "outputs": [],
   "source": [
    "df = df.astype({'y': 'int64'}).copy()"
   ]
  },
  {
   "cell_type": "code",
   "execution_count": 24,
   "id": "5f7ec189",
   "metadata": {},
   "outputs": [
    {
     "data": {
      "text/html": [
       "<div>\n",
       "<style scoped>\n",
       "    .dataframe tbody tr th:only-of-type {\n",
       "        vertical-align: middle;\n",
       "    }\n",
       "\n",
       "    .dataframe tbody tr th {\n",
       "        vertical-align: top;\n",
       "    }\n",
       "\n",
       "    .dataframe thead th {\n",
       "        text-align: right;\n",
       "    }\n",
       "</style>\n",
       "<table border=\"1\" class=\"dataframe\">\n",
       "  <thead>\n",
       "    <tr style=\"text-align: right;\">\n",
       "      <th></th>\n",
       "      <th>y</th>\n",
       "      <th>Age</th>\n",
       "      <th>SibSp</th>\n",
       "      <th>ParCh</th>\n",
       "      <th>Fare</th>\n",
       "      <th>Duplicate_Cabin</th>\n",
       "      <th>Cab_Letter_B</th>\n",
       "      <th>Cab_Letter_C</th>\n",
       "      <th>Cab_Letter_D</th>\n",
       "      <th>Cab_Letter_E</th>\n",
       "      <th>...</th>\n",
       "      <th>Cab_Letter_G</th>\n",
       "      <th>Cab_Letter_None</th>\n",
       "      <th>Cab_Letter_T</th>\n",
       "      <th>Family_Size</th>\n",
       "      <th>Fare_Per_Person</th>\n",
       "      <th>Sex_male</th>\n",
       "      <th>Embarked__Q</th>\n",
       "      <th>Embarked__S</th>\n",
       "      <th>Class_2</th>\n",
       "      <th>Class_3</th>\n",
       "    </tr>\n",
       "  </thead>\n",
       "  <tbody>\n",
       "    <tr>\n",
       "      <th>0</th>\n",
       "      <td>0</td>\n",
       "      <td>22.0</td>\n",
       "      <td>1.0</td>\n",
       "      <td>0.0</td>\n",
       "      <td>7.2</td>\n",
       "      <td>0.0</td>\n",
       "      <td>0.0</td>\n",
       "      <td>0.0</td>\n",
       "      <td>0.0</td>\n",
       "      <td>0.0</td>\n",
       "      <td>...</td>\n",
       "      <td>0.0</td>\n",
       "      <td>1.0</td>\n",
       "      <td>0.0</td>\n",
       "      <td>1.0</td>\n",
       "      <td>3.6</td>\n",
       "      <td>1.0</td>\n",
       "      <td>0.0</td>\n",
       "      <td>1.0</td>\n",
       "      <td>0.0</td>\n",
       "      <td>1.0</td>\n",
       "    </tr>\n",
       "    <tr>\n",
       "      <th>1</th>\n",
       "      <td>1</td>\n",
       "      <td>38.0</td>\n",
       "      <td>1.0</td>\n",
       "      <td>0.0</td>\n",
       "      <td>71.3</td>\n",
       "      <td>0.0</td>\n",
       "      <td>0.0</td>\n",
       "      <td>1.0</td>\n",
       "      <td>0.0</td>\n",
       "      <td>0.0</td>\n",
       "      <td>...</td>\n",
       "      <td>0.0</td>\n",
       "      <td>0.0</td>\n",
       "      <td>0.0</td>\n",
       "      <td>1.0</td>\n",
       "      <td>35.6</td>\n",
       "      <td>0.0</td>\n",
       "      <td>0.0</td>\n",
       "      <td>0.0</td>\n",
       "      <td>0.0</td>\n",
       "      <td>0.0</td>\n",
       "    </tr>\n",
       "    <tr>\n",
       "      <th>2</th>\n",
       "      <td>1</td>\n",
       "      <td>26.0</td>\n",
       "      <td>0.0</td>\n",
       "      <td>0.0</td>\n",
       "      <td>7.9</td>\n",
       "      <td>0.0</td>\n",
       "      <td>0.0</td>\n",
       "      <td>0.0</td>\n",
       "      <td>0.0</td>\n",
       "      <td>0.0</td>\n",
       "      <td>...</td>\n",
       "      <td>0.0</td>\n",
       "      <td>1.0</td>\n",
       "      <td>0.0</td>\n",
       "      <td>0.0</td>\n",
       "      <td>7.9</td>\n",
       "      <td>0.0</td>\n",
       "      <td>0.0</td>\n",
       "      <td>1.0</td>\n",
       "      <td>0.0</td>\n",
       "      <td>1.0</td>\n",
       "    </tr>\n",
       "    <tr>\n",
       "      <th>3</th>\n",
       "      <td>1</td>\n",
       "      <td>35.0</td>\n",
       "      <td>1.0</td>\n",
       "      <td>0.0</td>\n",
       "      <td>53.1</td>\n",
       "      <td>1.0</td>\n",
       "      <td>0.0</td>\n",
       "      <td>1.0</td>\n",
       "      <td>0.0</td>\n",
       "      <td>0.0</td>\n",
       "      <td>...</td>\n",
       "      <td>0.0</td>\n",
       "      <td>0.0</td>\n",
       "      <td>0.0</td>\n",
       "      <td>1.0</td>\n",
       "      <td>26.6</td>\n",
       "      <td>0.0</td>\n",
       "      <td>0.0</td>\n",
       "      <td>1.0</td>\n",
       "      <td>0.0</td>\n",
       "      <td>0.0</td>\n",
       "    </tr>\n",
       "    <tr>\n",
       "      <th>4</th>\n",
       "      <td>0</td>\n",
       "      <td>35.0</td>\n",
       "      <td>0.0</td>\n",
       "      <td>0.0</td>\n",
       "      <td>8.0</td>\n",
       "      <td>0.0</td>\n",
       "      <td>0.0</td>\n",
       "      <td>0.0</td>\n",
       "      <td>0.0</td>\n",
       "      <td>0.0</td>\n",
       "      <td>...</td>\n",
       "      <td>0.0</td>\n",
       "      <td>1.0</td>\n",
       "      <td>0.0</td>\n",
       "      <td>0.0</td>\n",
       "      <td>8.0</td>\n",
       "      <td>1.0</td>\n",
       "      <td>0.0</td>\n",
       "      <td>1.0</td>\n",
       "      <td>0.0</td>\n",
       "      <td>1.0</td>\n",
       "    </tr>\n",
       "  </tbody>\n",
       "</table>\n",
       "<p>5 rows × 21 columns</p>\n",
       "</div>"
      ],
      "text/plain": [
       "   y   Age  SibSp  ParCh  Fare  Duplicate_Cabin  Cab_Letter_B  Cab_Letter_C  \\\n",
       "0  0  22.0    1.0    0.0   7.2              0.0           0.0           0.0   \n",
       "1  1  38.0    1.0    0.0  71.3              0.0           0.0           1.0   \n",
       "2  1  26.0    0.0    0.0   7.9              0.0           0.0           0.0   \n",
       "3  1  35.0    1.0    0.0  53.1              1.0           0.0           1.0   \n",
       "4  0  35.0    0.0    0.0   8.0              0.0           0.0           0.0   \n",
       "\n",
       "   Cab_Letter_D  Cab_Letter_E  ...  Cab_Letter_G  Cab_Letter_None  \\\n",
       "0           0.0           0.0  ...           0.0              1.0   \n",
       "1           0.0           0.0  ...           0.0              0.0   \n",
       "2           0.0           0.0  ...           0.0              1.0   \n",
       "3           0.0           0.0  ...           0.0              0.0   \n",
       "4           0.0           0.0  ...           0.0              1.0   \n",
       "\n",
       "   Cab_Letter_T  Family_Size  Fare_Per_Person  Sex_male  Embarked__Q  \\\n",
       "0           0.0          1.0              3.6       1.0          0.0   \n",
       "1           0.0          1.0             35.6       0.0          0.0   \n",
       "2           0.0          0.0              7.9       0.0          0.0   \n",
       "3           0.0          1.0             26.6       0.0          0.0   \n",
       "4           0.0          0.0              8.0       1.0          0.0   \n",
       "\n",
       "   Embarked__S  Class_2  Class_3  \n",
       "0          1.0      0.0      1.0  \n",
       "1          0.0      0.0      0.0  \n",
       "2          1.0      0.0      1.0  \n",
       "3          1.0      0.0      0.0  \n",
       "4          1.0      0.0      1.0  \n",
       "\n",
       "[5 rows x 21 columns]"
      ]
     },
     "execution_count": 24,
     "metadata": {},
     "output_type": "execute_result"
    }
   ],
   "source": [
    "df.head()"
   ]
  },
  {
   "cell_type": "markdown",
   "id": "2de568be",
   "metadata": {},
   "source": [
    "# Isolate X and Y "
   ]
  },
  {
   "cell_type": "code",
   "execution_count": 25,
   "id": "64995a49",
   "metadata": {},
   "outputs": [
    {
     "data": {
      "text/html": [
       "<div>\n",
       "<style scoped>\n",
       "    .dataframe tbody tr th:only-of-type {\n",
       "        vertical-align: middle;\n",
       "    }\n",
       "\n",
       "    .dataframe tbody tr th {\n",
       "        vertical-align: top;\n",
       "    }\n",
       "\n",
       "    .dataframe thead th {\n",
       "        text-align: right;\n",
       "    }\n",
       "</style>\n",
       "<table border=\"1\" class=\"dataframe\">\n",
       "  <thead>\n",
       "    <tr style=\"text-align: right;\">\n",
       "      <th></th>\n",
       "      <th>Age</th>\n",
       "      <th>SibSp</th>\n",
       "      <th>ParCh</th>\n",
       "      <th>Fare</th>\n",
       "      <th>Duplicate_Cabin</th>\n",
       "      <th>Cab_Letter_B</th>\n",
       "      <th>Cab_Letter_C</th>\n",
       "      <th>Cab_Letter_D</th>\n",
       "      <th>Cab_Letter_E</th>\n",
       "      <th>Cab_Letter_F</th>\n",
       "      <th>Cab_Letter_G</th>\n",
       "      <th>Cab_Letter_None</th>\n",
       "      <th>Cab_Letter_T</th>\n",
       "      <th>Family_Size</th>\n",
       "      <th>Fare_Per_Person</th>\n",
       "      <th>Sex_male</th>\n",
       "      <th>Embarked__Q</th>\n",
       "      <th>Embarked__S</th>\n",
       "      <th>Class_2</th>\n",
       "      <th>Class_3</th>\n",
       "    </tr>\n",
       "  </thead>\n",
       "  <tbody>\n",
       "    <tr>\n",
       "      <th>0</th>\n",
       "      <td>22.0</td>\n",
       "      <td>1.0</td>\n",
       "      <td>0.0</td>\n",
       "      <td>7.2</td>\n",
       "      <td>0.0</td>\n",
       "      <td>0.0</td>\n",
       "      <td>0.0</td>\n",
       "      <td>0.0</td>\n",
       "      <td>0.0</td>\n",
       "      <td>0.0</td>\n",
       "      <td>0.0</td>\n",
       "      <td>1.0</td>\n",
       "      <td>0.0</td>\n",
       "      <td>1.0</td>\n",
       "      <td>3.6</td>\n",
       "      <td>1.0</td>\n",
       "      <td>0.0</td>\n",
       "      <td>1.0</td>\n",
       "      <td>0.0</td>\n",
       "      <td>1.0</td>\n",
       "    </tr>\n",
       "    <tr>\n",
       "      <th>1</th>\n",
       "      <td>38.0</td>\n",
       "      <td>1.0</td>\n",
       "      <td>0.0</td>\n",
       "      <td>71.3</td>\n",
       "      <td>0.0</td>\n",
       "      <td>0.0</td>\n",
       "      <td>1.0</td>\n",
       "      <td>0.0</td>\n",
       "      <td>0.0</td>\n",
       "      <td>0.0</td>\n",
       "      <td>0.0</td>\n",
       "      <td>0.0</td>\n",
       "      <td>0.0</td>\n",
       "      <td>1.0</td>\n",
       "      <td>35.6</td>\n",
       "      <td>0.0</td>\n",
       "      <td>0.0</td>\n",
       "      <td>0.0</td>\n",
       "      <td>0.0</td>\n",
       "      <td>0.0</td>\n",
       "    </tr>\n",
       "    <tr>\n",
       "      <th>2</th>\n",
       "      <td>26.0</td>\n",
       "      <td>0.0</td>\n",
       "      <td>0.0</td>\n",
       "      <td>7.9</td>\n",
       "      <td>0.0</td>\n",
       "      <td>0.0</td>\n",
       "      <td>0.0</td>\n",
       "      <td>0.0</td>\n",
       "      <td>0.0</td>\n",
       "      <td>0.0</td>\n",
       "      <td>0.0</td>\n",
       "      <td>1.0</td>\n",
       "      <td>0.0</td>\n",
       "      <td>0.0</td>\n",
       "      <td>7.9</td>\n",
       "      <td>0.0</td>\n",
       "      <td>0.0</td>\n",
       "      <td>1.0</td>\n",
       "      <td>0.0</td>\n",
       "      <td>1.0</td>\n",
       "    </tr>\n",
       "    <tr>\n",
       "      <th>3</th>\n",
       "      <td>35.0</td>\n",
       "      <td>1.0</td>\n",
       "      <td>0.0</td>\n",
       "      <td>53.1</td>\n",
       "      <td>1.0</td>\n",
       "      <td>0.0</td>\n",
       "      <td>1.0</td>\n",
       "      <td>0.0</td>\n",
       "      <td>0.0</td>\n",
       "      <td>0.0</td>\n",
       "      <td>0.0</td>\n",
       "      <td>0.0</td>\n",
       "      <td>0.0</td>\n",
       "      <td>1.0</td>\n",
       "      <td>26.6</td>\n",
       "      <td>0.0</td>\n",
       "      <td>0.0</td>\n",
       "      <td>1.0</td>\n",
       "      <td>0.0</td>\n",
       "      <td>0.0</td>\n",
       "    </tr>\n",
       "    <tr>\n",
       "      <th>4</th>\n",
       "      <td>35.0</td>\n",
       "      <td>0.0</td>\n",
       "      <td>0.0</td>\n",
       "      <td>8.0</td>\n",
       "      <td>0.0</td>\n",
       "      <td>0.0</td>\n",
       "      <td>0.0</td>\n",
       "      <td>0.0</td>\n",
       "      <td>0.0</td>\n",
       "      <td>0.0</td>\n",
       "      <td>0.0</td>\n",
       "      <td>1.0</td>\n",
       "      <td>0.0</td>\n",
       "      <td>0.0</td>\n",
       "      <td>8.0</td>\n",
       "      <td>1.0</td>\n",
       "      <td>0.0</td>\n",
       "      <td>1.0</td>\n",
       "      <td>0.0</td>\n",
       "      <td>1.0</td>\n",
       "    </tr>\n",
       "  </tbody>\n",
       "</table>\n",
       "</div>"
      ],
      "text/plain": [
       "    Age  SibSp  ParCh  Fare  Duplicate_Cabin  Cab_Letter_B  Cab_Letter_C  \\\n",
       "0  22.0    1.0    0.0   7.2              0.0           0.0           0.0   \n",
       "1  38.0    1.0    0.0  71.3              0.0           0.0           1.0   \n",
       "2  26.0    0.0    0.0   7.9              0.0           0.0           0.0   \n",
       "3  35.0    1.0    0.0  53.1              1.0           0.0           1.0   \n",
       "4  35.0    0.0    0.0   8.0              0.0           0.0           0.0   \n",
       "\n",
       "   Cab_Letter_D  Cab_Letter_E  Cab_Letter_F  Cab_Letter_G  Cab_Letter_None  \\\n",
       "0           0.0           0.0           0.0           0.0              1.0   \n",
       "1           0.0           0.0           0.0           0.0              0.0   \n",
       "2           0.0           0.0           0.0           0.0              1.0   \n",
       "3           0.0           0.0           0.0           0.0              0.0   \n",
       "4           0.0           0.0           0.0           0.0              1.0   \n",
       "\n",
       "   Cab_Letter_T  Family_Size  Fare_Per_Person  Sex_male  Embarked__Q  \\\n",
       "0           0.0          1.0              3.6       1.0          0.0   \n",
       "1           0.0          1.0             35.6       0.0          0.0   \n",
       "2           0.0          0.0              7.9       0.0          0.0   \n",
       "3           0.0          1.0             26.6       0.0          0.0   \n",
       "4           0.0          0.0              8.0       1.0          0.0   \n",
       "\n",
       "   Embarked__S  Class_2  Class_3  \n",
       "0          1.0      0.0      1.0  \n",
       "1          0.0      0.0      0.0  \n",
       "2          1.0      0.0      1.0  \n",
       "3          1.0      0.0      0.0  \n",
       "4          1.0      0.0      1.0  "
      ]
     },
     "execution_count": 25,
     "metadata": {},
     "output_type": "execute_result"
    }
   ],
   "source": [
    "y = df.y\n",
    "X = df.drop(columns='y',axis=1)\n",
    "X.head()"
   ]
  },
  {
   "cell_type": "markdown",
   "id": "f7526099",
   "metadata": {},
   "source": [
    "# Train, Test, Split"
   ]
  },
  {
   "cell_type": "code",
   "execution_count": 26,
   "id": "fd62e904",
   "metadata": {},
   "outputs": [],
   "source": [
    "from sklearn.model_selection import train_test_split"
   ]
  },
  {
   "cell_type": "code",
   "execution_count": 27,
   "id": "7fd3e363",
   "metadata": {},
   "outputs": [
    {
     "data": {
      "text/plain": [
       "0.3838383838383838"
      ]
     },
     "execution_count": 27,
     "metadata": {},
     "output_type": "execute_result"
    }
   ],
   "source": [
    "df.y.mean()"
   ]
  },
  {
   "cell_type": "markdown",
   "id": "f267a262",
   "metadata": {},
   "source": [
    "Data is imblanaced, 38% survived so we will use stratify to ensure balanced split"
   ]
  },
  {
   "cell_type": "code",
   "execution_count": 28,
   "id": "06cad044",
   "metadata": {},
   "outputs": [],
   "source": [
    "X_train, X_test, y_train, y_test = train_test_split(X, y,\n",
    "                                                    test_size = 0.2,\n",
    "                                                    random_state = 1502,\n",
    "                                                    stratify = y)"
   ]
  },
  {
   "cell_type": "markdown",
   "id": "9af71988",
   "metadata": {},
   "source": [
    "# RandomForestClassifier"
   ]
  },
  {
   "cell_type": "code",
   "execution_count": 29,
   "id": "dad617ed",
   "metadata": {},
   "outputs": [],
   "source": [
    "from sklearn.ensemble import RandomForestClassifier"
   ]
  },
  {
   "cell_type": "code",
   "execution_count": 30,
   "id": "67e5fd9b",
   "metadata": {},
   "outputs": [
    {
     "data": {
      "text/plain": [
       "RandomForestClassifier(n_estimators=300, random_state=1502)"
      ]
     },
     "execution_count": 30,
     "metadata": {},
     "output_type": "execute_result"
    }
   ],
   "source": [
    "model = RandomForestClassifier(n_estimators = 300,\n",
    "                               random_state = 1502)\n",
    "model.fit(X_train, y_train)"
   ]
  },
  {
   "cell_type": "markdown",
   "id": "8db0d16f",
   "metadata": {},
   "source": [
    "# Predictions"
   ]
  },
  {
   "cell_type": "code",
   "execution_count": 31,
   "id": "52a43e2d",
   "metadata": {},
   "outputs": [
    {
     "data": {
      "text/plain": [
       "array([1, 0, 1, 0, 1], dtype=int64)"
      ]
     },
     "execution_count": 31,
     "metadata": {},
     "output_type": "execute_result"
    }
   ],
   "source": [
    "predictions = model.predict(X_test)\n",
    "predictions[:5]"
   ]
  },
  {
   "cell_type": "markdown",
   "id": "6510e18a",
   "metadata": {},
   "source": [
    "# Assessing the model"
   ]
  },
  {
   "cell_type": "code",
   "execution_count": 32,
   "id": "33525f57",
   "metadata": {},
   "outputs": [],
   "source": [
    "from sklearn.metrics import classification_report, f1_score"
   ]
  },
  {
   "cell_type": "code",
   "execution_count": 33,
   "id": "95b0b996",
   "metadata": {},
   "outputs": [
    {
     "name": "stdout",
     "output_type": "stream",
     "text": [
      "              precision    recall  f1-score   support\n",
      "\n",
      "           0       0.83      0.85      0.84       110\n",
      "           1       0.76      0.72      0.74        69\n",
      "\n",
      "    accuracy                           0.80       179\n",
      "   macro avg       0.79      0.79      0.79       179\n",
      "weighted avg       0.80      0.80      0.80       179\n",
      "\n"
     ]
    }
   ],
   "source": [
    "print(classification_report(y_test, predictions))"
   ]
  },
  {
   "cell_type": "code",
   "execution_count": 34,
   "id": "82c458a3",
   "metadata": {},
   "outputs": [
    {
     "data": {
      "text/plain": [
       "0.7407407407407408"
      ]
     },
     "execution_count": 34,
     "metadata": {},
     "output_type": "execute_result"
    }
   ],
   "source": [
    "f1_score(y_test, predictions)"
   ]
  },
  {
   "cell_type": "markdown",
   "id": "fb1ba411",
   "metadata": {},
   "source": [
    "# Feature importance"
   ]
  },
  {
   "cell_type": "code",
   "execution_count": 35,
   "id": "f25572f4",
   "metadata": {},
   "outputs": [
    {
     "data": {
      "text/plain": [
       "Age                0.268583\n",
       "Sex_male           0.216740\n",
       "Fare_Per_Person    0.135852\n",
       "Fare               0.126798\n",
       "Class_3            0.041614\n",
       "Family_Size        0.036431\n",
       "Cab_Letter_None    0.032338\n",
       "SibSp              0.025512\n",
       "Embarked__S        0.021135\n",
       "ParCh              0.020438\n",
       "Duplicate_Cabin    0.017284\n",
       "Class_2            0.013371\n",
       "Cab_Letter_E       0.010719\n",
       "Embarked__Q        0.010560\n",
       "Cab_Letter_D       0.007267\n",
       "Cab_Letter_C       0.007007\n",
       "Cab_Letter_B       0.004436\n",
       "Cab_Letter_F       0.002329\n",
       "Cab_Letter_G       0.001090\n",
       "Cab_Letter_T       0.000498\n",
       "dtype: float64"
      ]
     },
     "execution_count": 35,
     "metadata": {},
     "output_type": "execute_result"
    }
   ],
   "source": [
    "importance = pd.Series(model.feature_importances_,\n",
    "                       index = X_train.columns.values)\n",
    "\n",
    "importance.sort_values(ascending=False)"
   ]
  },
  {
   "cell_type": "markdown",
   "id": "bb55ae71",
   "metadata": {},
   "source": [
    "# Improving the model with parameter tuning"
   ]
  },
  {
   "cell_type": "markdown",
   "id": "b11a56d9",
   "metadata": {},
   "source": [
    "We're tuning the number of estimators and number of trees"
   ]
  },
  {
   "cell_type": "code",
   "execution_count": 36,
   "id": "dc7ae199",
   "metadata": {},
   "outputs": [],
   "source": [
    "from sklearn.model_selection import ParameterGrid"
   ]
  },
  {
   "cell_type": "code",
   "execution_count": 51,
   "id": "5fccf3d1",
   "metadata": {},
   "outputs": [
    {
     "data": {
      "text/plain": [
       "{'n_estimators': range(200, 250, 5)}"
      ]
     },
     "execution_count": 51,
     "metadata": {},
     "output_type": "execute_result"
    }
   ],
   "source": [
    "param_grid = {'n_estimators': range(200,250,5)}\n",
    "param_grid"
   ]
  },
  {
   "cell_type": "code",
   "execution_count": 52,
   "id": "1f987d36",
   "metadata": {},
   "outputs": [
    {
     "data": {
      "text/plain": [
       "<sklearn.model_selection._search.ParameterGrid at 0x169ea43a040>"
      ]
     },
     "execution_count": 52,
     "metadata": {},
     "output_type": "execute_result"
    }
   ],
   "source": [
    "grid = ParameterGrid(param_grid)\n",
    "grid"
   ]
  },
  {
   "cell_type": "code",
   "execution_count": 53,
   "id": "ce6bac6b",
   "metadata": {},
   "outputs": [],
   "source": [
    "#Storing results\n",
    "f1score = []\n",
    "number = []\n",
    "i = 0\n",
    "for p in grid:\n",
    "  model = RandomForestClassifier(n_estimators = p['n_estimators'],\n",
    "                                 random_state = 1502)\n",
    "  model.fit(X_train, y_train)\n",
    "  predictions = model.predict(X_test)\n",
    "  f1 = f1_score(y_test, predictions)\n",
    "  f1score.append(f1)\n",
    "  number.append(grid[i])\n",
    "  i += 1"
   ]
  },
  {
   "cell_type": "code",
   "execution_count": 54,
   "id": "5f902da1",
   "metadata": {},
   "outputs": [],
   "source": [
    "results = pd.DataFrame((zip(number,f1score)),columns=['n_estimators', 'f1score'])"
   ]
  },
  {
   "cell_type": "code",
   "execution_count": 55,
   "id": "a038b85c",
   "metadata": {},
   "outputs": [
    {
     "data": {
      "text/html": [
       "<div>\n",
       "<style scoped>\n",
       "    .dataframe tbody tr th:only-of-type {\n",
       "        vertical-align: middle;\n",
       "    }\n",
       "\n",
       "    .dataframe tbody tr th {\n",
       "        vertical-align: top;\n",
       "    }\n",
       "\n",
       "    .dataframe thead th {\n",
       "        text-align: right;\n",
       "    }\n",
       "</style>\n",
       "<table border=\"1\" class=\"dataframe\">\n",
       "  <thead>\n",
       "    <tr style=\"text-align: right;\">\n",
       "      <th></th>\n",
       "      <th>n_estimators</th>\n",
       "      <th>f1score</th>\n",
       "    </tr>\n",
       "  </thead>\n",
       "  <tbody>\n",
       "    <tr>\n",
       "      <th>1</th>\n",
       "      <td>{'n_estimators': 205}</td>\n",
       "      <td>0.746269</td>\n",
       "    </tr>\n",
       "    <tr>\n",
       "      <th>2</th>\n",
       "      <td>{'n_estimators': 210}</td>\n",
       "      <td>0.746269</td>\n",
       "    </tr>\n",
       "    <tr>\n",
       "      <th>3</th>\n",
       "      <td>{'n_estimators': 215}</td>\n",
       "      <td>0.746269</td>\n",
       "    </tr>\n",
       "    <tr>\n",
       "      <th>4</th>\n",
       "      <td>{'n_estimators': 220}</td>\n",
       "      <td>0.746269</td>\n",
       "    </tr>\n",
       "    <tr>\n",
       "      <th>5</th>\n",
       "      <td>{'n_estimators': 225}</td>\n",
       "      <td>0.746269</td>\n",
       "    </tr>\n",
       "    <tr>\n",
       "      <th>6</th>\n",
       "      <td>{'n_estimators': 230}</td>\n",
       "      <td>0.746269</td>\n",
       "    </tr>\n",
       "    <tr>\n",
       "      <th>7</th>\n",
       "      <td>{'n_estimators': 235}</td>\n",
       "      <td>0.746269</td>\n",
       "    </tr>\n",
       "    <tr>\n",
       "      <th>8</th>\n",
       "      <td>{'n_estimators': 240}</td>\n",
       "      <td>0.746269</td>\n",
       "    </tr>\n",
       "    <tr>\n",
       "      <th>0</th>\n",
       "      <td>{'n_estimators': 200}</td>\n",
       "      <td>0.740741</td>\n",
       "    </tr>\n",
       "    <tr>\n",
       "      <th>9</th>\n",
       "      <td>{'n_estimators': 245}</td>\n",
       "      <td>0.740741</td>\n",
       "    </tr>\n",
       "  </tbody>\n",
       "</table>\n",
       "</div>"
      ],
      "text/plain": [
       "            n_estimators   f1score\n",
       "1  {'n_estimators': 205}  0.746269\n",
       "2  {'n_estimators': 210}  0.746269\n",
       "3  {'n_estimators': 215}  0.746269\n",
       "4  {'n_estimators': 220}  0.746269\n",
       "5  {'n_estimators': 225}  0.746269\n",
       "6  {'n_estimators': 230}  0.746269\n",
       "7  {'n_estimators': 235}  0.746269\n",
       "8  {'n_estimators': 240}  0.746269\n",
       "0  {'n_estimators': 200}  0.740741\n",
       "9  {'n_estimators': 245}  0.740741"
      ]
     },
     "execution_count": 55,
     "metadata": {},
     "output_type": "execute_result"
    }
   ],
   "source": [
    "results.sort_values('f1score', ascending=False)"
   ]
  },
  {
   "cell_type": "code",
   "execution_count": 45,
   "id": "edeed1dc",
   "metadata": {},
   "outputs": [
    {
     "name": "stdout",
     "output_type": "stream",
     "text": [
      "0.7462686567164178\n"
     ]
    }
   ],
   "source": [
    "print(max(f1score))"
   ]
  },
  {
   "cell_type": "markdown",
   "id": "d1d0df41",
   "metadata": {},
   "source": [
    "#  Submission"
   ]
  },
  {
   "cell_type": "markdown",
   "id": "2cbf6abe",
   "metadata": {},
   "source": [
    "## Trained model"
   ]
  },
  {
   "cell_type": "code",
   "execution_count": 56,
   "id": "bc3db31a",
   "metadata": {},
   "outputs": [],
   "source": [
    "train = df.copy()\n",
    "train_y = train.y"
   ]
  },
  {
   "cell_type": "code",
   "execution_count": 57,
   "id": "b82dcb0e",
   "metadata": {},
   "outputs": [
    {
     "data": {
      "text/plain": [
       "Index(['y', 'Age', 'SibSp', 'ParCh', 'Fare', 'Duplicate_Cabin', 'Cab_Letter_B',\n",
       "       'Cab_Letter_C', 'Cab_Letter_D', 'Cab_Letter_E', 'Cab_Letter_F',\n",
       "       'Cab_Letter_G', 'Cab_Letter_None', 'Cab_Letter_T', 'Family_Size',\n",
       "       'Fare_Per_Person', 'Sex_male', 'Embarked__Q', 'Embarked__S', 'Class_2',\n",
       "       'Class_3'],\n",
       "      dtype='object')"
      ]
     },
     "execution_count": 57,
     "metadata": {},
     "output_type": "execute_result"
    }
   ],
   "source": [
    "train.columns"
   ]
  },
  {
   "cell_type": "code",
   "execution_count": 59,
   "id": "ecd5cf5c",
   "metadata": {},
   "outputs": [],
   "source": [
    "predictors_cols = ['Age', 'SibSp', 'ParCh', 'Fare', 'Duplicate_Cabin', 'Cab_Letter_B',\n",
    "       'Cab_Letter_C', 'Cab_Letter_D', 'Cab_Letter_E', 'Cab_Letter_F',\n",
    "       'Cab_Letter_G', 'Cab_Letter_None', 'Cab_Letter_T', 'Family_Size',\n",
    "       'Fare_Per_Person', 'Sex_male', 'Embarked__Q', 'Embarked__S', 'Class_2',\n",
    "       'Class_3']"
   ]
  },
  {
   "cell_type": "code",
   "execution_count": 60,
   "id": "abd42cb8",
   "metadata": {},
   "outputs": [],
   "source": [
    "train_X = train[predictors_cols]"
   ]
  },
  {
   "cell_type": "code",
   "execution_count": 61,
   "id": "1bceeb1d",
   "metadata": {},
   "outputs": [
    {
     "data": {
      "text/plain": [
       "RandomForestClassifier(n_estimators=205, random_state=1502)"
      ]
     },
     "execution_count": 61,
     "metadata": {},
     "output_type": "execute_result"
    }
   ],
   "source": [
    "model = RandomForestClassifier(n_estimators = 205,\n",
    "                               random_state = 1502)\n",
    "model.fit(train_X, train_y)"
   ]
  },
  {
   "cell_type": "markdown",
   "id": "ce324573",
   "metadata": {},
   "source": [
    "## Test data"
   ]
  },
  {
   "cell_type": "code",
   "execution_count": null,
   "id": "1c1e173d",
   "metadata": {},
   "outputs": [],
   "source": [
    "test = pd.read_csv('test_MF_imputed.csv')"
   ]
  },
  {
   "cell_type": "code",
   "execution_count": null,
   "id": "e0280657",
   "metadata": {},
   "outputs": [],
   "source": [
    "test.shape"
   ]
  },
  {
   "cell_type": "code",
   "execution_count": null,
   "id": "6673bc8d",
   "metadata": {},
   "outputs": [],
   "source": [
    "test.head()"
   ]
  },
  {
   "cell_type": "code",
   "execution_count": null,
   "id": "935fe66f",
   "metadata": {},
   "outputs": [],
   "source": [
    "train_X.head(0), test.head(0)"
   ]
  },
  {
   "cell_type": "code",
   "execution_count": null,
   "id": "e8542c1a",
   "metadata": {},
   "outputs": [],
   "source": [
    "test_X = test[predictors_cols]"
   ]
  },
  {
   "cell_type": "code",
   "execution_count": null,
   "id": "300c777a",
   "metadata": {},
   "outputs": [],
   "source": [
    "predicted = model.predict(test_X)"
   ]
  },
  {
   "cell_type": "code",
   "execution_count": null,
   "id": "7b3a26a5",
   "metadata": {},
   "outputs": [],
   "source": [
    "test['Survived'] = predicted"
   ]
  },
  {
   "cell_type": "code",
   "execution_count": null,
   "id": "daf2dc70",
   "metadata": {},
   "outputs": [],
   "source": [
    "test.head()"
   ]
  },
  {
   "cell_type": "code",
   "execution_count": null,
   "id": "8a0caec6",
   "metadata": {},
   "outputs": [],
   "source": [
    "test = test[['PassengerId', \n",
    "                    #'Age', 'SibSp', \n",
    "                    #'ParCh', 'Fare', \n",
    "                    #'Class_2', 'Class_3',\n",
    "                   #'Sex_male', \n",
    "                    'Survived']].copy()"
   ]
  },
  {
   "cell_type": "code",
   "execution_count": null,
   "id": "6fa71dcf",
   "metadata": {},
   "outputs": [],
   "source": [
    "test.dtypes"
   ]
  },
  {
   "cell_type": "code",
   "execution_count": null,
   "id": "3e709e84",
   "metadata": {},
   "outputs": [],
   "source": [
    "test = test.astype({'PassengerId': 'int64'}).copy()"
   ]
  },
  {
   "cell_type": "code",
   "execution_count": null,
   "id": "f807df53",
   "metadata": {},
   "outputs": [],
   "source": [
    "test.dtypes"
   ]
  },
  {
   "cell_type": "code",
   "execution_count": null,
   "id": "128f55c0",
   "metadata": {},
   "outputs": [],
   "source": [
    "test.to_csv('RandomForestClassifier_Submission.csv', index=False)"
   ]
  }
 ],
 "metadata": {
  "kernelspec": {
   "display_name": "Python 3 (ipykernel)",
   "language": "python",
   "name": "python3"
  },
  "language_info": {
   "codemirror_mode": {
    "name": "ipython",
    "version": 3
   },
   "file_extension": ".py",
   "mimetype": "text/x-python",
   "name": "python",
   "nbconvert_exporter": "python",
   "pygments_lexer": "ipython3",
   "version": "3.9.13"
  }
 },
 "nbformat": 4,
 "nbformat_minor": 5
}
