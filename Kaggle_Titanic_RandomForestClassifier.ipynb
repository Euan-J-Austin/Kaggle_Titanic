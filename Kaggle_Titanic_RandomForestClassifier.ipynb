{
 "cells": [
  {
   "cell_type": "code",
   "execution_count": 37,
   "id": "679c57d0",
   "metadata": {},
   "outputs": [],
   "source": [
    "import numpy as np\n",
    "import pandas as pd"
   ]
  },
  {
   "cell_type": "code",
   "execution_count": 38,
   "id": "86385305",
   "metadata": {},
   "outputs": [],
   "source": [
    "df = pd.read_csv(\"MF_imputed.csv\")"
   ]
  },
  {
   "cell_type": "code",
   "execution_count": 39,
   "id": "d02c26c9",
   "metadata": {},
   "outputs": [
    {
     "data": {
      "text/html": [
       "<div>\n",
       "<style scoped>\n",
       "    .dataframe tbody tr th:only-of-type {\n",
       "        vertical-align: middle;\n",
       "    }\n",
       "\n",
       "    .dataframe tbody tr th {\n",
       "        vertical-align: top;\n",
       "    }\n",
       "\n",
       "    .dataframe thead th {\n",
       "        text-align: right;\n",
       "    }\n",
       "</style>\n",
       "<table border=\"1\" class=\"dataframe\">\n",
       "  <thead>\n",
       "    <tr style=\"text-align: right;\">\n",
       "      <th></th>\n",
       "      <th>y</th>\n",
       "      <th>Age</th>\n",
       "      <th>SibSp</th>\n",
       "      <th>ParCh</th>\n",
       "      <th>Fare</th>\n",
       "      <th>Sex_male</th>\n",
       "      <th>Class_2</th>\n",
       "      <th>Class_3</th>\n",
       "    </tr>\n",
       "  </thead>\n",
       "  <tbody>\n",
       "    <tr>\n",
       "      <th>0</th>\n",
       "      <td>0.0</td>\n",
       "      <td>22.0</td>\n",
       "      <td>1.0</td>\n",
       "      <td>0.0</td>\n",
       "      <td>7.2</td>\n",
       "      <td>1.0</td>\n",
       "      <td>0.0</td>\n",
       "      <td>1.0</td>\n",
       "    </tr>\n",
       "    <tr>\n",
       "      <th>1</th>\n",
       "      <td>1.0</td>\n",
       "      <td>38.0</td>\n",
       "      <td>1.0</td>\n",
       "      <td>0.0</td>\n",
       "      <td>71.3</td>\n",
       "      <td>0.0</td>\n",
       "      <td>0.0</td>\n",
       "      <td>0.0</td>\n",
       "    </tr>\n",
       "    <tr>\n",
       "      <th>2</th>\n",
       "      <td>1.0</td>\n",
       "      <td>26.0</td>\n",
       "      <td>0.0</td>\n",
       "      <td>0.0</td>\n",
       "      <td>7.9</td>\n",
       "      <td>0.0</td>\n",
       "      <td>0.0</td>\n",
       "      <td>1.0</td>\n",
       "    </tr>\n",
       "    <tr>\n",
       "      <th>3</th>\n",
       "      <td>1.0</td>\n",
       "      <td>35.0</td>\n",
       "      <td>1.0</td>\n",
       "      <td>0.0</td>\n",
       "      <td>53.1</td>\n",
       "      <td>0.0</td>\n",
       "      <td>0.0</td>\n",
       "      <td>0.0</td>\n",
       "    </tr>\n",
       "    <tr>\n",
       "      <th>4</th>\n",
       "      <td>0.0</td>\n",
       "      <td>35.0</td>\n",
       "      <td>0.0</td>\n",
       "      <td>0.0</td>\n",
       "      <td>8.0</td>\n",
       "      <td>1.0</td>\n",
       "      <td>0.0</td>\n",
       "      <td>1.0</td>\n",
       "    </tr>\n",
       "  </tbody>\n",
       "</table>\n",
       "</div>"
      ],
      "text/plain": [
       "     y   Age  SibSp  ParCh  Fare  Sex_male  Class_2  Class_3\n",
       "0  0.0  22.0    1.0    0.0   7.2       1.0      0.0      1.0\n",
       "1  1.0  38.0    1.0    0.0  71.3       0.0      0.0      0.0\n",
       "2  1.0  26.0    0.0    0.0   7.9       0.0      0.0      1.0\n",
       "3  1.0  35.0    1.0    0.0  53.1       0.0      0.0      0.0\n",
       "4  0.0  35.0    0.0    0.0   8.0       1.0      0.0      1.0"
      ]
     },
     "execution_count": 39,
     "metadata": {},
     "output_type": "execute_result"
    }
   ],
   "source": [
    "df.head()"
   ]
  },
  {
   "cell_type": "code",
   "execution_count": 42,
   "id": "dec165d3",
   "metadata": {},
   "outputs": [],
   "source": [
    "df = df.astype({'y': 'int64'}).copy()"
   ]
  },
  {
   "cell_type": "code",
   "execution_count": 43,
   "id": "5f7ec189",
   "metadata": {},
   "outputs": [
    {
     "data": {
      "text/html": [
       "<div>\n",
       "<style scoped>\n",
       "    .dataframe tbody tr th:only-of-type {\n",
       "        vertical-align: middle;\n",
       "    }\n",
       "\n",
       "    .dataframe tbody tr th {\n",
       "        vertical-align: top;\n",
       "    }\n",
       "\n",
       "    .dataframe thead th {\n",
       "        text-align: right;\n",
       "    }\n",
       "</style>\n",
       "<table border=\"1\" class=\"dataframe\">\n",
       "  <thead>\n",
       "    <tr style=\"text-align: right;\">\n",
       "      <th></th>\n",
       "      <th>y</th>\n",
       "      <th>Age</th>\n",
       "      <th>SibSp</th>\n",
       "      <th>ParCh</th>\n",
       "      <th>Fare</th>\n",
       "      <th>Sex_male</th>\n",
       "      <th>Class_2</th>\n",
       "      <th>Class_3</th>\n",
       "    </tr>\n",
       "  </thead>\n",
       "  <tbody>\n",
       "    <tr>\n",
       "      <th>0</th>\n",
       "      <td>0</td>\n",
       "      <td>22.0</td>\n",
       "      <td>1.0</td>\n",
       "      <td>0.0</td>\n",
       "      <td>7.2</td>\n",
       "      <td>1.0</td>\n",
       "      <td>0.0</td>\n",
       "      <td>1.0</td>\n",
       "    </tr>\n",
       "    <tr>\n",
       "      <th>1</th>\n",
       "      <td>1</td>\n",
       "      <td>38.0</td>\n",
       "      <td>1.0</td>\n",
       "      <td>0.0</td>\n",
       "      <td>71.3</td>\n",
       "      <td>0.0</td>\n",
       "      <td>0.0</td>\n",
       "      <td>0.0</td>\n",
       "    </tr>\n",
       "    <tr>\n",
       "      <th>2</th>\n",
       "      <td>1</td>\n",
       "      <td>26.0</td>\n",
       "      <td>0.0</td>\n",
       "      <td>0.0</td>\n",
       "      <td>7.9</td>\n",
       "      <td>0.0</td>\n",
       "      <td>0.0</td>\n",
       "      <td>1.0</td>\n",
       "    </tr>\n",
       "    <tr>\n",
       "      <th>3</th>\n",
       "      <td>1</td>\n",
       "      <td>35.0</td>\n",
       "      <td>1.0</td>\n",
       "      <td>0.0</td>\n",
       "      <td>53.1</td>\n",
       "      <td>0.0</td>\n",
       "      <td>0.0</td>\n",
       "      <td>0.0</td>\n",
       "    </tr>\n",
       "    <tr>\n",
       "      <th>4</th>\n",
       "      <td>0</td>\n",
       "      <td>35.0</td>\n",
       "      <td>0.0</td>\n",
       "      <td>0.0</td>\n",
       "      <td>8.0</td>\n",
       "      <td>1.0</td>\n",
       "      <td>0.0</td>\n",
       "      <td>1.0</td>\n",
       "    </tr>\n",
       "  </tbody>\n",
       "</table>\n",
       "</div>"
      ],
      "text/plain": [
       "   y   Age  SibSp  ParCh  Fare  Sex_male  Class_2  Class_3\n",
       "0  0  22.0    1.0    0.0   7.2       1.0      0.0      1.0\n",
       "1  1  38.0    1.0    0.0  71.3       0.0      0.0      0.0\n",
       "2  1  26.0    0.0    0.0   7.9       0.0      0.0      1.0\n",
       "3  1  35.0    1.0    0.0  53.1       0.0      0.0      0.0\n",
       "4  0  35.0    0.0    0.0   8.0       1.0      0.0      1.0"
      ]
     },
     "execution_count": 43,
     "metadata": {},
     "output_type": "execute_result"
    }
   ],
   "source": [
    "df.head()"
   ]
  },
  {
   "cell_type": "markdown",
   "id": "2de568be",
   "metadata": {},
   "source": [
    "# Isolate X and Y "
   ]
  },
  {
   "cell_type": "code",
   "execution_count": 152,
   "id": "64995a49",
   "metadata": {},
   "outputs": [
    {
     "data": {
      "text/html": [
       "<div>\n",
       "<style scoped>\n",
       "    .dataframe tbody tr th:only-of-type {\n",
       "        vertical-align: middle;\n",
       "    }\n",
       "\n",
       "    .dataframe tbody tr th {\n",
       "        vertical-align: top;\n",
       "    }\n",
       "\n",
       "    .dataframe thead th {\n",
       "        text-align: right;\n",
       "    }\n",
       "</style>\n",
       "<table border=\"1\" class=\"dataframe\">\n",
       "  <thead>\n",
       "    <tr style=\"text-align: right;\">\n",
       "      <th></th>\n",
       "      <th>Age</th>\n",
       "      <th>SibSp</th>\n",
       "      <th>ParCh</th>\n",
       "      <th>Fare</th>\n",
       "      <th>Sex_male</th>\n",
       "      <th>Class_2</th>\n",
       "      <th>Class_3</th>\n",
       "    </tr>\n",
       "  </thead>\n",
       "  <tbody>\n",
       "    <tr>\n",
       "      <th>0</th>\n",
       "      <td>22.0</td>\n",
       "      <td>1.0</td>\n",
       "      <td>0.0</td>\n",
       "      <td>7.2</td>\n",
       "      <td>1.0</td>\n",
       "      <td>0.0</td>\n",
       "      <td>1.0</td>\n",
       "    </tr>\n",
       "    <tr>\n",
       "      <th>1</th>\n",
       "      <td>38.0</td>\n",
       "      <td>1.0</td>\n",
       "      <td>0.0</td>\n",
       "      <td>71.3</td>\n",
       "      <td>0.0</td>\n",
       "      <td>0.0</td>\n",
       "      <td>0.0</td>\n",
       "    </tr>\n",
       "    <tr>\n",
       "      <th>2</th>\n",
       "      <td>26.0</td>\n",
       "      <td>0.0</td>\n",
       "      <td>0.0</td>\n",
       "      <td>7.9</td>\n",
       "      <td>0.0</td>\n",
       "      <td>0.0</td>\n",
       "      <td>1.0</td>\n",
       "    </tr>\n",
       "    <tr>\n",
       "      <th>3</th>\n",
       "      <td>35.0</td>\n",
       "      <td>1.0</td>\n",
       "      <td>0.0</td>\n",
       "      <td>53.1</td>\n",
       "      <td>0.0</td>\n",
       "      <td>0.0</td>\n",
       "      <td>0.0</td>\n",
       "    </tr>\n",
       "    <tr>\n",
       "      <th>4</th>\n",
       "      <td>35.0</td>\n",
       "      <td>0.0</td>\n",
       "      <td>0.0</td>\n",
       "      <td>8.0</td>\n",
       "      <td>1.0</td>\n",
       "      <td>0.0</td>\n",
       "      <td>1.0</td>\n",
       "    </tr>\n",
       "  </tbody>\n",
       "</table>\n",
       "</div>"
      ],
      "text/plain": [
       "    Age  SibSp  ParCh  Fare  Sex_male  Class_2  Class_3\n",
       "0  22.0    1.0    0.0   7.2       1.0      0.0      1.0\n",
       "1  38.0    1.0    0.0  71.3       0.0      0.0      0.0\n",
       "2  26.0    0.0    0.0   7.9       0.0      0.0      1.0\n",
       "3  35.0    1.0    0.0  53.1       0.0      0.0      0.0\n",
       "4  35.0    0.0    0.0   8.0       1.0      0.0      1.0"
      ]
     },
     "execution_count": 152,
     "metadata": {},
     "output_type": "execute_result"
    }
   ],
   "source": [
    "y = df.y\n",
    "X = df.drop(columns='y',axis=1)\n",
    "X.head()"
   ]
  },
  {
   "cell_type": "markdown",
   "id": "f7526099",
   "metadata": {},
   "source": [
    "# Train, Test, Split"
   ]
  },
  {
   "cell_type": "code",
   "execution_count": 46,
   "id": "fd62e904",
   "metadata": {},
   "outputs": [],
   "source": [
    "from sklearn.model_selection import train_test_split"
   ]
  },
  {
   "cell_type": "code",
   "execution_count": 153,
   "id": "7fd3e363",
   "metadata": {},
   "outputs": [
    {
     "data": {
      "text/plain": [
       "0.3838383838383838"
      ]
     },
     "execution_count": 153,
     "metadata": {},
     "output_type": "execute_result"
    }
   ],
   "source": [
    "df.y.mean()"
   ]
  },
  {
   "cell_type": "markdown",
   "id": "f267a262",
   "metadata": {},
   "source": [
    "Data is imblanaced, 38% survived so we will use stratify to ensure balanced split"
   ]
  },
  {
   "cell_type": "code",
   "execution_count": 154,
   "id": "06cad044",
   "metadata": {},
   "outputs": [],
   "source": [
    "X_train, X_test, y_train, y_test = train_test_split(X, y,\n",
    "                                                    test_size = 0.2,\n",
    "                                                    random_state = 1502,\n",
    "                                                    stratify = y)"
   ]
  },
  {
   "cell_type": "markdown",
   "id": "9af71988",
   "metadata": {},
   "source": [
    "# RandomForestClassifier"
   ]
  },
  {
   "cell_type": "code",
   "execution_count": 155,
   "id": "dad617ed",
   "metadata": {},
   "outputs": [],
   "source": [
    "from sklearn.ensemble import RandomForestClassifier"
   ]
  },
  {
   "cell_type": "code",
   "execution_count": 164,
   "id": "67e5fd9b",
   "metadata": {},
   "outputs": [
    {
     "data": {
      "text/plain": [
       "RandomForestClassifier(n_estimators=425, random_state=1502)"
      ]
     },
     "execution_count": 164,
     "metadata": {},
     "output_type": "execute_result"
    }
   ],
   "source": [
    "model = RandomForestClassifier(n_estimators = 425,\n",
    "                               random_state = 1502)\n",
    "model.fit(X_train, y_train)"
   ]
  },
  {
   "cell_type": "markdown",
   "id": "8db0d16f",
   "metadata": {},
   "source": [
    "# Predictions"
   ]
  },
  {
   "cell_type": "code",
   "execution_count": 165,
   "id": "52a43e2d",
   "metadata": {},
   "outputs": [
    {
     "data": {
      "text/plain": [
       "array([1, 0, 1, 0, 1], dtype=int64)"
      ]
     },
     "execution_count": 165,
     "metadata": {},
     "output_type": "execute_result"
    }
   ],
   "source": [
    "predictions = model.predict(X_test)\n",
    "predictions[:5]"
   ]
  },
  {
   "cell_type": "markdown",
   "id": "6510e18a",
   "metadata": {},
   "source": [
    "# Assessing the model"
   ]
  },
  {
   "cell_type": "code",
   "execution_count": 52,
   "id": "33525f57",
   "metadata": {},
   "outputs": [],
   "source": [
    "from sklearn.metrics import classification_report, f1_score"
   ]
  },
  {
   "cell_type": "code",
   "execution_count": 166,
   "id": "95b0b996",
   "metadata": {},
   "outputs": [
    {
     "name": "stdout",
     "output_type": "stream",
     "text": [
      "              precision    recall  f1-score   support\n",
      "\n",
      "           0       0.85      0.89      0.87       110\n",
      "           1       0.81      0.75      0.78        69\n",
      "\n",
      "    accuracy                           0.84       179\n",
      "   macro avg       0.83      0.82      0.83       179\n",
      "weighted avg       0.84      0.84      0.84       179\n",
      "\n"
     ]
    }
   ],
   "source": [
    "print(classification_report(y_test, predictions))"
   ]
  },
  {
   "cell_type": "code",
   "execution_count": 167,
   "id": "82c458a3",
   "metadata": {},
   "outputs": [
    {
     "data": {
      "text/plain": [
       "0.7819548872180452"
      ]
     },
     "execution_count": 167,
     "metadata": {},
     "output_type": "execute_result"
    }
   ],
   "source": [
    "f1_score(y_test, predictions)"
   ]
  },
  {
   "cell_type": "markdown",
   "id": "fb1ba411",
   "metadata": {},
   "source": [
    "# Feature importance"
   ]
  },
  {
   "cell_type": "code",
   "execution_count": 168,
   "id": "f25572f4",
   "metadata": {},
   "outputs": [
    {
     "data": {
      "text/plain": [
       "Age         0.322797\n",
       "Sex_male    0.263035\n",
       "Fare        0.244380\n",
       "Class_3     0.071713\n",
       "SibSp       0.045439\n",
       "ParCh       0.035527\n",
       "Class_2     0.017109\n",
       "dtype: float64"
      ]
     },
     "execution_count": 168,
     "metadata": {},
     "output_type": "execute_result"
    }
   ],
   "source": [
    "importance = pd.Series(model.feature_importances_,\n",
    "                       index = X_train.columns.values)\n",
    "\n",
    "importance.sort_values(ascending=False)"
   ]
  },
  {
   "cell_type": "markdown",
   "id": "bb55ae71",
   "metadata": {},
   "source": [
    "# Improving the model with parameter tuning"
   ]
  },
  {
   "cell_type": "markdown",
   "id": "b11a56d9",
   "metadata": {},
   "source": [
    "We're tuning the number of estimators and number of trees"
   ]
  },
  {
   "cell_type": "code",
   "execution_count": 58,
   "id": "dc7ae199",
   "metadata": {},
   "outputs": [],
   "source": [
    "from sklearn.model_selection import ParameterGrid"
   ]
  },
  {
   "cell_type": "code",
   "execution_count": 147,
   "id": "5fccf3d1",
   "metadata": {},
   "outputs": [
    {
     "data": {
      "text/plain": [
       "{'n_estimators': range(425, 450)}"
      ]
     },
     "execution_count": 147,
     "metadata": {},
     "output_type": "execute_result"
    }
   ],
   "source": [
    "param_grid = {'n_estimators': range(425,450,1)}\n",
    "param_grid"
   ]
  },
  {
   "cell_type": "code",
   "execution_count": 148,
   "id": "1f987d36",
   "metadata": {},
   "outputs": [
    {
     "data": {
      "text/plain": [
       "<sklearn.model_selection._search.ParameterGrid at 0x1acbdfa5970>"
      ]
     },
     "execution_count": 148,
     "metadata": {},
     "output_type": "execute_result"
    }
   ],
   "source": [
    "grid = ParameterGrid(param_grid)\n",
    "grid"
   ]
  },
  {
   "cell_type": "code",
   "execution_count": 149,
   "id": "ce6bac6b",
   "metadata": {},
   "outputs": [],
   "source": [
    "#Storing results\n",
    "f1score = []\n",
    "number = []\n",
    "i = 0\n",
    "for p in grid:\n",
    "  model = RandomForestClassifier(n_estimators = p['n_estimators'],\n",
    "                                 random_state = 1502)\n",
    "  model.fit(X_train, y_train)\n",
    "  predictions = model.predict(X_test)\n",
    "  f1 = f1_score(y_test, predictions)\n",
    "  f1score.append(f1)\n",
    "  number.append(grid[i])\n",
    "  i += 1"
   ]
  },
  {
   "cell_type": "code",
   "execution_count": 150,
   "id": "5f902da1",
   "metadata": {},
   "outputs": [],
   "source": [
    "results = pd.DataFrame((zip(number,f1score)),columns=['n_estimators', 'f1score'])"
   ]
  },
  {
   "cell_type": "code",
   "execution_count": 151,
   "id": "a038b85c",
   "metadata": {},
   "outputs": [
    {
     "data": {
      "text/html": [
       "<div>\n",
       "<style scoped>\n",
       "    .dataframe tbody tr th:only-of-type {\n",
       "        vertical-align: middle;\n",
       "    }\n",
       "\n",
       "    .dataframe tbody tr th {\n",
       "        vertical-align: top;\n",
       "    }\n",
       "\n",
       "    .dataframe thead th {\n",
       "        text-align: right;\n",
       "    }\n",
       "</style>\n",
       "<table border=\"1\" class=\"dataframe\">\n",
       "  <thead>\n",
       "    <tr style=\"text-align: right;\">\n",
       "      <th></th>\n",
       "      <th>n_estimators</th>\n",
       "      <th>f1score</th>\n",
       "    </tr>\n",
       "  </thead>\n",
       "  <tbody>\n",
       "    <tr>\n",
       "      <th>0</th>\n",
       "      <td>{'n_estimators': 425}</td>\n",
       "      <td>0.781955</td>\n",
       "    </tr>\n",
       "    <tr>\n",
       "      <th>13</th>\n",
       "      <td>{'n_estimators': 438}</td>\n",
       "      <td>0.781955</td>\n",
       "    </tr>\n",
       "    <tr>\n",
       "      <th>23</th>\n",
       "      <td>{'n_estimators': 448}</td>\n",
       "      <td>0.781955</td>\n",
       "    </tr>\n",
       "    <tr>\n",
       "      <th>22</th>\n",
       "      <td>{'n_estimators': 447}</td>\n",
       "      <td>0.781955</td>\n",
       "    </tr>\n",
       "    <tr>\n",
       "      <th>21</th>\n",
       "      <td>{'n_estimators': 446}</td>\n",
       "      <td>0.781955</td>\n",
       "    </tr>\n",
       "    <tr>\n",
       "      <th>20</th>\n",
       "      <td>{'n_estimators': 445}</td>\n",
       "      <td>0.781955</td>\n",
       "    </tr>\n",
       "    <tr>\n",
       "      <th>19</th>\n",
       "      <td>{'n_estimators': 444}</td>\n",
       "      <td>0.781955</td>\n",
       "    </tr>\n",
       "    <tr>\n",
       "      <th>18</th>\n",
       "      <td>{'n_estimators': 443}</td>\n",
       "      <td>0.781955</td>\n",
       "    </tr>\n",
       "    <tr>\n",
       "      <th>17</th>\n",
       "      <td>{'n_estimators': 442}</td>\n",
       "      <td>0.781955</td>\n",
       "    </tr>\n",
       "    <tr>\n",
       "      <th>16</th>\n",
       "      <td>{'n_estimators': 441}</td>\n",
       "      <td>0.781955</td>\n",
       "    </tr>\n",
       "    <tr>\n",
       "      <th>15</th>\n",
       "      <td>{'n_estimators': 440}</td>\n",
       "      <td>0.781955</td>\n",
       "    </tr>\n",
       "    <tr>\n",
       "      <th>14</th>\n",
       "      <td>{'n_estimators': 439}</td>\n",
       "      <td>0.781955</td>\n",
       "    </tr>\n",
       "    <tr>\n",
       "      <th>12</th>\n",
       "      <td>{'n_estimators': 437}</td>\n",
       "      <td>0.781955</td>\n",
       "    </tr>\n",
       "    <tr>\n",
       "      <th>1</th>\n",
       "      <td>{'n_estimators': 426}</td>\n",
       "      <td>0.781955</td>\n",
       "    </tr>\n",
       "    <tr>\n",
       "      <th>11</th>\n",
       "      <td>{'n_estimators': 436}</td>\n",
       "      <td>0.781955</td>\n",
       "    </tr>\n",
       "    <tr>\n",
       "      <th>10</th>\n",
       "      <td>{'n_estimators': 435}</td>\n",
       "      <td>0.781955</td>\n",
       "    </tr>\n",
       "    <tr>\n",
       "      <th>9</th>\n",
       "      <td>{'n_estimators': 434}</td>\n",
       "      <td>0.781955</td>\n",
       "    </tr>\n",
       "    <tr>\n",
       "      <th>7</th>\n",
       "      <td>{'n_estimators': 432}</td>\n",
       "      <td>0.781955</td>\n",
       "    </tr>\n",
       "    <tr>\n",
       "      <th>6</th>\n",
       "      <td>{'n_estimators': 431}</td>\n",
       "      <td>0.781955</td>\n",
       "    </tr>\n",
       "    <tr>\n",
       "      <th>5</th>\n",
       "      <td>{'n_estimators': 430}</td>\n",
       "      <td>0.781955</td>\n",
       "    </tr>\n",
       "    <tr>\n",
       "      <th>4</th>\n",
       "      <td>{'n_estimators': 429}</td>\n",
       "      <td>0.781955</td>\n",
       "    </tr>\n",
       "    <tr>\n",
       "      <th>3</th>\n",
       "      <td>{'n_estimators': 428}</td>\n",
       "      <td>0.781955</td>\n",
       "    </tr>\n",
       "    <tr>\n",
       "      <th>24</th>\n",
       "      <td>{'n_estimators': 449}</td>\n",
       "      <td>0.781955</td>\n",
       "    </tr>\n",
       "    <tr>\n",
       "      <th>8</th>\n",
       "      <td>{'n_estimators': 433}</td>\n",
       "      <td>0.776119</td>\n",
       "    </tr>\n",
       "    <tr>\n",
       "      <th>2</th>\n",
       "      <td>{'n_estimators': 427}</td>\n",
       "      <td>0.776119</td>\n",
       "    </tr>\n",
       "  </tbody>\n",
       "</table>\n",
       "</div>"
      ],
      "text/plain": [
       "             n_estimators   f1score\n",
       "0   {'n_estimators': 425}  0.781955\n",
       "13  {'n_estimators': 438}  0.781955\n",
       "23  {'n_estimators': 448}  0.781955\n",
       "22  {'n_estimators': 447}  0.781955\n",
       "21  {'n_estimators': 446}  0.781955\n",
       "20  {'n_estimators': 445}  0.781955\n",
       "19  {'n_estimators': 444}  0.781955\n",
       "18  {'n_estimators': 443}  0.781955\n",
       "17  {'n_estimators': 442}  0.781955\n",
       "16  {'n_estimators': 441}  0.781955\n",
       "15  {'n_estimators': 440}  0.781955\n",
       "14  {'n_estimators': 439}  0.781955\n",
       "12  {'n_estimators': 437}  0.781955\n",
       "1   {'n_estimators': 426}  0.781955\n",
       "11  {'n_estimators': 436}  0.781955\n",
       "10  {'n_estimators': 435}  0.781955\n",
       "9   {'n_estimators': 434}  0.781955\n",
       "7   {'n_estimators': 432}  0.781955\n",
       "6   {'n_estimators': 431}  0.781955\n",
       "5   {'n_estimators': 430}  0.781955\n",
       "4   {'n_estimators': 429}  0.781955\n",
       "3   {'n_estimators': 428}  0.781955\n",
       "24  {'n_estimators': 449}  0.781955\n",
       "8   {'n_estimators': 433}  0.776119\n",
       "2   {'n_estimators': 427}  0.776119"
      ]
     },
     "execution_count": 151,
     "metadata": {},
     "output_type": "execute_result"
    }
   ],
   "source": [
    "results.sort_values('f1score', ascending=False)"
   ]
  },
  {
   "cell_type": "code",
   "execution_count": 144,
   "id": "edeed1dc",
   "metadata": {},
   "outputs": [
    {
     "name": "stdout",
     "output_type": "stream",
     "text": [
      "0.7819548872180452\n"
     ]
    }
   ],
   "source": [
    "print(max(f1score))"
   ]
  },
  {
   "cell_type": "markdown",
   "id": "d1d0df41",
   "metadata": {},
   "source": [
    "#  Submission"
   ]
  },
  {
   "cell_type": "markdown",
   "id": "2cbf6abe",
   "metadata": {},
   "source": [
    "## Trained model"
   ]
  },
  {
   "cell_type": "code",
   "execution_count": 169,
   "id": "bc3db31a",
   "metadata": {},
   "outputs": [],
   "source": [
    "train = df.copy()\n",
    "train_y = train.y"
   ]
  },
  {
   "cell_type": "code",
   "execution_count": 170,
   "id": "b82dcb0e",
   "metadata": {},
   "outputs": [
    {
     "data": {
      "text/plain": [
       "Index(['y', 'Age', 'SibSp', 'ParCh', 'Fare', 'Sex_male', 'Class_2', 'Class_3'], dtype='object')"
      ]
     },
     "execution_count": 170,
     "metadata": {},
     "output_type": "execute_result"
    }
   ],
   "source": [
    "train.columns"
   ]
  },
  {
   "cell_type": "code",
   "execution_count": 171,
   "id": "ecd5cf5c",
   "metadata": {},
   "outputs": [],
   "source": [
    "predictors_cols = ['Age', 'SibSp', 'ParCh', 'Fare', 'Sex_male', 'Class_2', 'Class_3']"
   ]
  },
  {
   "cell_type": "code",
   "execution_count": 172,
   "id": "abd42cb8",
   "metadata": {},
   "outputs": [],
   "source": [
    "train_X = train[predictors_cols]"
   ]
  },
  {
   "cell_type": "code",
   "execution_count": 175,
   "id": "1bceeb1d",
   "metadata": {},
   "outputs": [
    {
     "data": {
      "text/plain": [
       "RandomForestClassifier(n_estimators=425, random_state=1502)"
      ]
     },
     "execution_count": 175,
     "metadata": {},
     "output_type": "execute_result"
    }
   ],
   "source": [
    "model = RandomForestClassifier(n_estimators = 425,\n",
    "                               random_state = 1502)\n",
    "model.fit(train_X, train_y)"
   ]
  },
  {
   "cell_type": "markdown",
   "id": "ce324573",
   "metadata": {},
   "source": [
    "## Test data"
   ]
  },
  {
   "cell_type": "code",
   "execution_count": 178,
   "id": "1c1e173d",
   "metadata": {},
   "outputs": [],
   "source": [
    "test = pd.read_csv('test_MF_imputed.csv')"
   ]
  },
  {
   "cell_type": "code",
   "execution_count": 179,
   "id": "e0280657",
   "metadata": {},
   "outputs": [
    {
     "data": {
      "text/plain": [
       "(418, 8)"
      ]
     },
     "execution_count": 179,
     "metadata": {},
     "output_type": "execute_result"
    }
   ],
   "source": [
    "test.shape"
   ]
  },
  {
   "cell_type": "code",
   "execution_count": 180,
   "id": "6673bc8d",
   "metadata": {},
   "outputs": [
    {
     "data": {
      "text/html": [
       "<div>\n",
       "<style scoped>\n",
       "    .dataframe tbody tr th:only-of-type {\n",
       "        vertical-align: middle;\n",
       "    }\n",
       "\n",
       "    .dataframe tbody tr th {\n",
       "        vertical-align: top;\n",
       "    }\n",
       "\n",
       "    .dataframe thead th {\n",
       "        text-align: right;\n",
       "    }\n",
       "</style>\n",
       "<table border=\"1\" class=\"dataframe\">\n",
       "  <thead>\n",
       "    <tr style=\"text-align: right;\">\n",
       "      <th></th>\n",
       "      <th>PassengerId</th>\n",
       "      <th>Age</th>\n",
       "      <th>SibSp</th>\n",
       "      <th>ParCh</th>\n",
       "      <th>Fare</th>\n",
       "      <th>Class_2</th>\n",
       "      <th>Class_3</th>\n",
       "      <th>Sex_male</th>\n",
       "    </tr>\n",
       "  </thead>\n",
       "  <tbody>\n",
       "    <tr>\n",
       "      <th>0</th>\n",
       "      <td>892.0</td>\n",
       "      <td>34.5</td>\n",
       "      <td>0.0</td>\n",
       "      <td>0.0</td>\n",
       "      <td>7.8</td>\n",
       "      <td>0.0</td>\n",
       "      <td>1.0</td>\n",
       "      <td>1.0</td>\n",
       "    </tr>\n",
       "    <tr>\n",
       "      <th>1</th>\n",
       "      <td>893.0</td>\n",
       "      <td>47.0</td>\n",
       "      <td>1.0</td>\n",
       "      <td>0.0</td>\n",
       "      <td>7.0</td>\n",
       "      <td>0.0</td>\n",
       "      <td>1.0</td>\n",
       "      <td>0.0</td>\n",
       "    </tr>\n",
       "    <tr>\n",
       "      <th>2</th>\n",
       "      <td>894.0</td>\n",
       "      <td>62.0</td>\n",
       "      <td>0.0</td>\n",
       "      <td>0.0</td>\n",
       "      <td>9.7</td>\n",
       "      <td>1.0</td>\n",
       "      <td>0.0</td>\n",
       "      <td>1.0</td>\n",
       "    </tr>\n",
       "    <tr>\n",
       "      <th>3</th>\n",
       "      <td>895.0</td>\n",
       "      <td>27.0</td>\n",
       "      <td>0.0</td>\n",
       "      <td>0.0</td>\n",
       "      <td>8.7</td>\n",
       "      <td>0.0</td>\n",
       "      <td>1.0</td>\n",
       "      <td>1.0</td>\n",
       "    </tr>\n",
       "    <tr>\n",
       "      <th>4</th>\n",
       "      <td>896.0</td>\n",
       "      <td>22.0</td>\n",
       "      <td>1.0</td>\n",
       "      <td>1.0</td>\n",
       "      <td>12.3</td>\n",
       "      <td>0.0</td>\n",
       "      <td>1.0</td>\n",
       "      <td>0.0</td>\n",
       "    </tr>\n",
       "  </tbody>\n",
       "</table>\n",
       "</div>"
      ],
      "text/plain": [
       "   PassengerId   Age  SibSp  ParCh  Fare  Class_2  Class_3  Sex_male\n",
       "0        892.0  34.5    0.0    0.0   7.8      0.0      1.0       1.0\n",
       "1        893.0  47.0    1.0    0.0   7.0      0.0      1.0       0.0\n",
       "2        894.0  62.0    0.0    0.0   9.7      1.0      0.0       1.0\n",
       "3        895.0  27.0    0.0    0.0   8.7      0.0      1.0       1.0\n",
       "4        896.0  22.0    1.0    1.0  12.3      0.0      1.0       0.0"
      ]
     },
     "execution_count": 180,
     "metadata": {},
     "output_type": "execute_result"
    }
   ],
   "source": [
    "test.head()"
   ]
  },
  {
   "cell_type": "code",
   "execution_count": 182,
   "id": "935fe66f",
   "metadata": {},
   "outputs": [
    {
     "data": {
      "text/plain": [
       "(Empty DataFrame\n",
       " Columns: [Age, SibSp, ParCh, Fare, Sex_male, Class_2, Class_3]\n",
       " Index: [],\n",
       " Empty DataFrame\n",
       " Columns: [PassengerId, Age, SibSp, ParCh, Fare, Class_2, Class_3, Sex_male]\n",
       " Index: [])"
      ]
     },
     "execution_count": 182,
     "metadata": {},
     "output_type": "execute_result"
    }
   ],
   "source": [
    "train_X.head(0), test.head(0)"
   ]
  },
  {
   "cell_type": "code",
   "execution_count": 184,
   "id": "e8542c1a",
   "metadata": {},
   "outputs": [],
   "source": [
    "test_X = test[predictors_cols]"
   ]
  },
  {
   "cell_type": "code",
   "execution_count": 186,
   "id": "300c777a",
   "metadata": {},
   "outputs": [],
   "source": [
    "predicted = model.predict(test_X)"
   ]
  },
  {
   "cell_type": "code",
   "execution_count": 188,
   "id": "7b3a26a5",
   "metadata": {},
   "outputs": [],
   "source": [
    "test['Survived'] = predicted"
   ]
  },
  {
   "cell_type": "code",
   "execution_count": 189,
   "id": "daf2dc70",
   "metadata": {},
   "outputs": [
    {
     "data": {
      "text/html": [
       "<div>\n",
       "<style scoped>\n",
       "    .dataframe tbody tr th:only-of-type {\n",
       "        vertical-align: middle;\n",
       "    }\n",
       "\n",
       "    .dataframe tbody tr th {\n",
       "        vertical-align: top;\n",
       "    }\n",
       "\n",
       "    .dataframe thead th {\n",
       "        text-align: right;\n",
       "    }\n",
       "</style>\n",
       "<table border=\"1\" class=\"dataframe\">\n",
       "  <thead>\n",
       "    <tr style=\"text-align: right;\">\n",
       "      <th></th>\n",
       "      <th>PassengerId</th>\n",
       "      <th>Age</th>\n",
       "      <th>SibSp</th>\n",
       "      <th>ParCh</th>\n",
       "      <th>Fare</th>\n",
       "      <th>Class_2</th>\n",
       "      <th>Class_3</th>\n",
       "      <th>Sex_male</th>\n",
       "      <th>Survived</th>\n",
       "    </tr>\n",
       "  </thead>\n",
       "  <tbody>\n",
       "    <tr>\n",
       "      <th>0</th>\n",
       "      <td>892.0</td>\n",
       "      <td>34.5</td>\n",
       "      <td>0.0</td>\n",
       "      <td>0.0</td>\n",
       "      <td>7.8</td>\n",
       "      <td>0.0</td>\n",
       "      <td>1.0</td>\n",
       "      <td>1.0</td>\n",
       "      <td>0</td>\n",
       "    </tr>\n",
       "    <tr>\n",
       "      <th>1</th>\n",
       "      <td>893.0</td>\n",
       "      <td>47.0</td>\n",
       "      <td>1.0</td>\n",
       "      <td>0.0</td>\n",
       "      <td>7.0</td>\n",
       "      <td>0.0</td>\n",
       "      <td>1.0</td>\n",
       "      <td>0.0</td>\n",
       "      <td>0</td>\n",
       "    </tr>\n",
       "    <tr>\n",
       "      <th>2</th>\n",
       "      <td>894.0</td>\n",
       "      <td>62.0</td>\n",
       "      <td>0.0</td>\n",
       "      <td>0.0</td>\n",
       "      <td>9.7</td>\n",
       "      <td>1.0</td>\n",
       "      <td>0.0</td>\n",
       "      <td>1.0</td>\n",
       "      <td>1</td>\n",
       "    </tr>\n",
       "    <tr>\n",
       "      <th>3</th>\n",
       "      <td>895.0</td>\n",
       "      <td>27.0</td>\n",
       "      <td>0.0</td>\n",
       "      <td>0.0</td>\n",
       "      <td>8.7</td>\n",
       "      <td>0.0</td>\n",
       "      <td>1.0</td>\n",
       "      <td>1.0</td>\n",
       "      <td>1</td>\n",
       "    </tr>\n",
       "    <tr>\n",
       "      <th>4</th>\n",
       "      <td>896.0</td>\n",
       "      <td>22.0</td>\n",
       "      <td>1.0</td>\n",
       "      <td>1.0</td>\n",
       "      <td>12.3</td>\n",
       "      <td>0.0</td>\n",
       "      <td>1.0</td>\n",
       "      <td>0.0</td>\n",
       "      <td>0</td>\n",
       "    </tr>\n",
       "  </tbody>\n",
       "</table>\n",
       "</div>"
      ],
      "text/plain": [
       "   PassengerId   Age  SibSp  ParCh  Fare  Class_2  Class_3  Sex_male  Survived\n",
       "0        892.0  34.5    0.0    0.0   7.8      0.0      1.0       1.0         0\n",
       "1        893.0  47.0    1.0    0.0   7.0      0.0      1.0       0.0         0\n",
       "2        894.0  62.0    0.0    0.0   9.7      1.0      0.0       1.0         1\n",
       "3        895.0  27.0    0.0    0.0   8.7      0.0      1.0       1.0         1\n",
       "4        896.0  22.0    1.0    1.0  12.3      0.0      1.0       0.0         0"
      ]
     },
     "execution_count": 189,
     "metadata": {},
     "output_type": "execute_result"
    }
   ],
   "source": [
    "test.head()"
   ]
  },
  {
   "cell_type": "code",
   "execution_count": 190,
   "id": "8a0caec6",
   "metadata": {},
   "outputs": [],
   "source": [
    "test = test[['PassengerId', \n",
    "                    #'Age', 'SibSp', \n",
    "                    #'ParCh', 'Fare', \n",
    "                    #'Class_2', 'Class_3',\n",
    "                   #'Sex_male', \n",
    "                    'Survived']].copy()"
   ]
  },
  {
   "cell_type": "code",
   "execution_count": 191,
   "id": "6fa71dcf",
   "metadata": {},
   "outputs": [
    {
     "data": {
      "text/plain": [
       "PassengerId    float64\n",
       "Survived         int64\n",
       "dtype: object"
      ]
     },
     "execution_count": 191,
     "metadata": {},
     "output_type": "execute_result"
    }
   ],
   "source": [
    "test.dtypes"
   ]
  },
  {
   "cell_type": "code",
   "execution_count": 195,
   "id": "3e709e84",
   "metadata": {},
   "outputs": [],
   "source": [
    "test = test.astype({'PassengerId': 'int64'}).copy()"
   ]
  },
  {
   "cell_type": "code",
   "execution_count": 196,
   "id": "f807df53",
   "metadata": {},
   "outputs": [
    {
     "data": {
      "text/plain": [
       "PassengerId    int64\n",
       "Survived       int64\n",
       "dtype: object"
      ]
     },
     "execution_count": 196,
     "metadata": {},
     "output_type": "execute_result"
    }
   ],
   "source": [
    "test.dtypes"
   ]
  },
  {
   "cell_type": "code",
   "execution_count": 197,
   "id": "128f55c0",
   "metadata": {},
   "outputs": [],
   "source": [
    "test.to_csv('RandomForestClassifier_Submission.csv', index=False)"
   ]
  }
 ],
 "metadata": {
  "kernelspec": {
   "display_name": "Python 3 (ipykernel)",
   "language": "python",
   "name": "python3"
  },
  "language_info": {
   "codemirror_mode": {
    "name": "ipython",
    "version": 3
   },
   "file_extension": ".py",
   "mimetype": "text/x-python",
   "name": "python",
   "nbconvert_exporter": "python",
   "pygments_lexer": "ipython3",
   "version": "3.9.13"
  }
 },
 "nbformat": 4,
 "nbformat_minor": 5
}
