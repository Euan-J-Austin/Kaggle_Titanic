{
 "cells": [
  {
   "cell_type": "code",
   "execution_count": null,
   "id": "a9bf3d90",
   "metadata": {},
   "outputs": [],
   "source": [
    "pip install missingpy"
   ]
  },
  {
   "cell_type": "code",
   "execution_count": 3,
   "id": "0f30877a",
   "metadata": {},
   "outputs": [],
   "source": [
    "import pandas as pd\n",
    "import numpy as np\n",
    "import matplotlib.pyplot as plt\n",
    "import seaborn as sns\n",
    "import random\n",
    "import sklearn.neighbors._base\n",
    "import sys\n",
    "sys.modules['sklearn.neighbors.base'] = sklearn.neighbors._base\n",
    "from missingpy import MissForest\n",
    "from sklearn.impute import KNNImputer"
   ]
  },
  {
   "cell_type": "code",
   "execution_count": 29,
   "id": "44254fee",
   "metadata": {},
   "outputs": [],
   "source": [
    "df = pd.read_csv('test_for_imputation.csv')"
   ]
  },
  {
   "cell_type": "code",
   "execution_count": 30,
   "id": "a2b4da07",
   "metadata": {},
   "outputs": [
    {
     "data": {
      "text/plain": [
       "PassengerId         0\n",
       "Age                86\n",
       "SibSp               0\n",
       "Parch               0\n",
       "Ticket              0\n",
       "Fare                1\n",
       "Duplicate_Cabin     0\n",
       "Cab_Letter_B        0\n",
       "Cab_Letter_C        0\n",
       "Cab_Letter_D        0\n",
       "Cab_Letter_E        0\n",
       "Cab_Letter_F        0\n",
       "Cab_Letter_G        0\n",
       "Cab_Letter_None     0\n",
       "Family_Size         0\n",
       "Fare_Per_Person     1\n",
       "Sex_male            0\n",
       "Embarked__Q         0\n",
       "Embarked__S         0\n",
       "Class_2             0\n",
       "Class_3             0\n",
       "dtype: int64"
      ]
     },
     "execution_count": 30,
     "metadata": {},
     "output_type": "execute_result"
    }
   ],
   "source": [
    "df.isna().sum()"
   ]
  },
  {
   "cell_type": "code",
   "execution_count": 31,
   "id": "df811f05",
   "metadata": {},
   "outputs": [],
   "source": [
    "pd.set_option('display.max_columns', None)"
   ]
  },
  {
   "cell_type": "code",
   "execution_count": 32,
   "id": "a318918c",
   "metadata": {},
   "outputs": [
    {
     "data": {
      "text/plain": [
       "Index(['PassengerId', 'Age', 'SibSp', 'Parch', 'Ticket', 'Fare',\n",
       "       'Duplicate_Cabin', 'Cab_Letter_B', 'Cab_Letter_C', 'Cab_Letter_D',\n",
       "       'Cab_Letter_E', 'Cab_Letter_F', 'Cab_Letter_G', 'Cab_Letter_None',\n",
       "       'Family_Size', 'Fare_Per_Person', 'Sex_male', 'Embarked__Q',\n",
       "       'Embarked__S', 'Class_2', 'Class_3'],\n",
       "      dtype='object')"
      ]
     },
     "execution_count": 32,
     "metadata": {},
     "output_type": "execute_result"
    }
   ],
   "source": [
    "df.columns"
   ]
  },
  {
   "cell_type": "code",
   "execution_count": 34,
   "id": "a4f462a8",
   "metadata": {},
   "outputs": [],
   "source": [
    "df = df[[#'Name', \n",
    "      'PassengerId', 'Age', 'SibSp', 'Parch', \n",
    "      #'Ticket',\n",
    "      'Fare',\n",
    "       'Duplicate_Cabin', 'Cab_Letter_B', 'Cab_Letter_C', 'Cab_Letter_D',\n",
    "       'Cab_Letter_E', 'Cab_Letter_F', 'Cab_Letter_G', 'Cab_Letter_None',\n",
    "    'Family_Size', 'Fare_Per_Person', 'Sex_male',\n",
    "       'Embarked__Q', 'Embarked__S', 'Class_2', 'Class_3']].copy()"
   ]
  },
  {
   "cell_type": "code",
   "execution_count": 35,
   "id": "1085719e",
   "metadata": {},
   "outputs": [
    {
     "data": {
      "text/html": [
       "<div>\n",
       "<style scoped>\n",
       "    .dataframe tbody tr th:only-of-type {\n",
       "        vertical-align: middle;\n",
       "    }\n",
       "\n",
       "    .dataframe tbody tr th {\n",
       "        vertical-align: top;\n",
       "    }\n",
       "\n",
       "    .dataframe thead th {\n",
       "        text-align: right;\n",
       "    }\n",
       "</style>\n",
       "<table border=\"1\" class=\"dataframe\">\n",
       "  <thead>\n",
       "    <tr style=\"text-align: right;\">\n",
       "      <th></th>\n",
       "      <th>PassengerId</th>\n",
       "      <th>Age</th>\n",
       "      <th>SibSp</th>\n",
       "      <th>Parch</th>\n",
       "      <th>Fare</th>\n",
       "      <th>Duplicate_Cabin</th>\n",
       "      <th>Cab_Letter_B</th>\n",
       "      <th>Cab_Letter_C</th>\n",
       "      <th>Cab_Letter_D</th>\n",
       "      <th>Cab_Letter_E</th>\n",
       "      <th>Cab_Letter_F</th>\n",
       "      <th>Cab_Letter_G</th>\n",
       "      <th>Cab_Letter_None</th>\n",
       "      <th>Family_Size</th>\n",
       "      <th>Fare_Per_Person</th>\n",
       "      <th>Sex_male</th>\n",
       "      <th>Embarked__Q</th>\n",
       "      <th>Embarked__S</th>\n",
       "      <th>Class_2</th>\n",
       "      <th>Class_3</th>\n",
       "    </tr>\n",
       "  </thead>\n",
       "  <tbody>\n",
       "    <tr>\n",
       "      <th>0</th>\n",
       "      <td>892</td>\n",
       "      <td>34.5</td>\n",
       "      <td>0</td>\n",
       "      <td>0</td>\n",
       "      <td>7.8292</td>\n",
       "      <td>0</td>\n",
       "      <td>0</td>\n",
       "      <td>0</td>\n",
       "      <td>0</td>\n",
       "      <td>0</td>\n",
       "      <td>0</td>\n",
       "      <td>0</td>\n",
       "      <td>1</td>\n",
       "      <td>0</td>\n",
       "      <td>7.829200</td>\n",
       "      <td>1</td>\n",
       "      <td>1</td>\n",
       "      <td>0</td>\n",
       "      <td>0</td>\n",
       "      <td>1</td>\n",
       "    </tr>\n",
       "    <tr>\n",
       "      <th>1</th>\n",
       "      <td>893</td>\n",
       "      <td>47.0</td>\n",
       "      <td>1</td>\n",
       "      <td>0</td>\n",
       "      <td>7.0000</td>\n",
       "      <td>0</td>\n",
       "      <td>0</td>\n",
       "      <td>0</td>\n",
       "      <td>0</td>\n",
       "      <td>0</td>\n",
       "      <td>0</td>\n",
       "      <td>0</td>\n",
       "      <td>1</td>\n",
       "      <td>1</td>\n",
       "      <td>3.500000</td>\n",
       "      <td>0</td>\n",
       "      <td>0</td>\n",
       "      <td>1</td>\n",
       "      <td>0</td>\n",
       "      <td>1</td>\n",
       "    </tr>\n",
       "    <tr>\n",
       "      <th>2</th>\n",
       "      <td>894</td>\n",
       "      <td>62.0</td>\n",
       "      <td>0</td>\n",
       "      <td>0</td>\n",
       "      <td>9.6875</td>\n",
       "      <td>0</td>\n",
       "      <td>0</td>\n",
       "      <td>0</td>\n",
       "      <td>0</td>\n",
       "      <td>0</td>\n",
       "      <td>0</td>\n",
       "      <td>0</td>\n",
       "      <td>1</td>\n",
       "      <td>0</td>\n",
       "      <td>9.687500</td>\n",
       "      <td>1</td>\n",
       "      <td>1</td>\n",
       "      <td>0</td>\n",
       "      <td>1</td>\n",
       "      <td>0</td>\n",
       "    </tr>\n",
       "    <tr>\n",
       "      <th>3</th>\n",
       "      <td>895</td>\n",
       "      <td>27.0</td>\n",
       "      <td>0</td>\n",
       "      <td>0</td>\n",
       "      <td>8.6625</td>\n",
       "      <td>0</td>\n",
       "      <td>0</td>\n",
       "      <td>0</td>\n",
       "      <td>0</td>\n",
       "      <td>0</td>\n",
       "      <td>0</td>\n",
       "      <td>0</td>\n",
       "      <td>1</td>\n",
       "      <td>0</td>\n",
       "      <td>8.662500</td>\n",
       "      <td>1</td>\n",
       "      <td>0</td>\n",
       "      <td>1</td>\n",
       "      <td>0</td>\n",
       "      <td>1</td>\n",
       "    </tr>\n",
       "    <tr>\n",
       "      <th>4</th>\n",
       "      <td>896</td>\n",
       "      <td>22.0</td>\n",
       "      <td>1</td>\n",
       "      <td>1</td>\n",
       "      <td>12.2875</td>\n",
       "      <td>0</td>\n",
       "      <td>0</td>\n",
       "      <td>0</td>\n",
       "      <td>0</td>\n",
       "      <td>0</td>\n",
       "      <td>0</td>\n",
       "      <td>0</td>\n",
       "      <td>1</td>\n",
       "      <td>2</td>\n",
       "      <td>4.095833</td>\n",
       "      <td>0</td>\n",
       "      <td>0</td>\n",
       "      <td>1</td>\n",
       "      <td>0</td>\n",
       "      <td>1</td>\n",
       "    </tr>\n",
       "  </tbody>\n",
       "</table>\n",
       "</div>"
      ],
      "text/plain": [
       "   PassengerId   Age  SibSp  Parch     Fare  Duplicate_Cabin  Cab_Letter_B  \\\n",
       "0          892  34.5      0      0   7.8292                0             0   \n",
       "1          893  47.0      1      0   7.0000                0             0   \n",
       "2          894  62.0      0      0   9.6875                0             0   \n",
       "3          895  27.0      0      0   8.6625                0             0   \n",
       "4          896  22.0      1      1  12.2875                0             0   \n",
       "\n",
       "   Cab_Letter_C  Cab_Letter_D  Cab_Letter_E  Cab_Letter_F  Cab_Letter_G  \\\n",
       "0             0             0             0             0             0   \n",
       "1             0             0             0             0             0   \n",
       "2             0             0             0             0             0   \n",
       "3             0             0             0             0             0   \n",
       "4             0             0             0             0             0   \n",
       "\n",
       "   Cab_Letter_None  Family_Size  Fare_Per_Person  Sex_male  Embarked__Q  \\\n",
       "0                1            0         7.829200         1            1   \n",
       "1                1            1         3.500000         0            0   \n",
       "2                1            0         9.687500         1            1   \n",
       "3                1            0         8.662500         1            0   \n",
       "4                1            2         4.095833         0            0   \n",
       "\n",
       "   Embarked__S  Class_2  Class_3  \n",
       "0            0        0        1  \n",
       "1            1        0        1  \n",
       "2            0        1        0  \n",
       "3            1        0        1  \n",
       "4            1        0        1  "
      ]
     },
     "execution_count": 35,
     "metadata": {},
     "output_type": "execute_result"
    }
   ],
   "source": [
    "df.head()"
   ]
  },
  {
   "cell_type": "markdown",
   "id": "f75ccec8",
   "metadata": {},
   "source": [
    "# Using KNNImputer"
   ]
  },
  {
   "cell_type": "code",
   "execution_count": 11,
   "id": "36e97f0f",
   "metadata": {},
   "outputs": [],
   "source": [
    "imputer = KNNImputer()\n",
    "age_imputed = imputer.fit_transform(df)\n",
    "age_imputed = pd.DataFrame(age_imputed, columns = df.columns).round(1)"
   ]
  },
  {
   "cell_type": "code",
   "execution_count": 13,
   "id": "6bc7be13",
   "metadata": {},
   "outputs": [
    {
     "data": {
      "text/html": [
       "<div>\n",
       "<style scoped>\n",
       "    .dataframe tbody tr th:only-of-type {\n",
       "        vertical-align: middle;\n",
       "    }\n",
       "\n",
       "    .dataframe tbody tr th {\n",
       "        vertical-align: top;\n",
       "    }\n",
       "\n",
       "    .dataframe thead th {\n",
       "        text-align: right;\n",
       "    }\n",
       "</style>\n",
       "<table border=\"1\" class=\"dataframe\">\n",
       "  <thead>\n",
       "    <tr style=\"text-align: right;\">\n",
       "      <th></th>\n",
       "      <th>Age</th>\n",
       "      <th>SibSp</th>\n",
       "      <th>Parch</th>\n",
       "      <th>Fare</th>\n",
       "      <th>Duplicate_Cabin</th>\n",
       "      <th>Cab_Letter_B</th>\n",
       "      <th>Cab_Letter_C</th>\n",
       "      <th>Cab_Letter_D</th>\n",
       "      <th>Cab_Letter_E</th>\n",
       "      <th>Cab_Letter_F</th>\n",
       "      <th>Cab_Letter_G</th>\n",
       "      <th>Cab_Letter_None</th>\n",
       "      <th>Family_Size</th>\n",
       "      <th>Fare_Per_Person</th>\n",
       "      <th>Sex_male</th>\n",
       "      <th>Embarked__Q</th>\n",
       "      <th>Embarked__S</th>\n",
       "      <th>Class_2</th>\n",
       "      <th>Class_3</th>\n",
       "    </tr>\n",
       "  </thead>\n",
       "  <tbody>\n",
       "    <tr>\n",
       "      <th>7</th>\n",
       "      <td>26.0</td>\n",
       "      <td>1.0</td>\n",
       "      <td>1.0</td>\n",
       "      <td>29.0</td>\n",
       "      <td>0.0</td>\n",
       "      <td>0.0</td>\n",
       "      <td>0.0</td>\n",
       "      <td>0.0</td>\n",
       "      <td>0.0</td>\n",
       "      <td>0.0</td>\n",
       "      <td>0.0</td>\n",
       "      <td>1.0</td>\n",
       "      <td>2.0</td>\n",
       "      <td>9.7</td>\n",
       "      <td>1.0</td>\n",
       "      <td>0.0</td>\n",
       "      <td>1.0</td>\n",
       "      <td>1.0</td>\n",
       "      <td>0.0</td>\n",
       "    </tr>\n",
       "  </tbody>\n",
       "</table>\n",
       "</div>"
      ],
      "text/plain": [
       "    Age  SibSp  Parch  Fare  Duplicate_Cabin  Cab_Letter_B  Cab_Letter_C  \\\n",
       "7  26.0    1.0    1.0  29.0              0.0           0.0           0.0   \n",
       "\n",
       "   Cab_Letter_D  Cab_Letter_E  Cab_Letter_F  Cab_Letter_G  Cab_Letter_None  \\\n",
       "7           0.0           0.0           0.0           0.0              1.0   \n",
       "\n",
       "   Family_Size  Fare_Per_Person  Sex_male  Embarked__Q  Embarked__S  Class_2  \\\n",
       "7          2.0              9.7       1.0          0.0          1.0      1.0   \n",
       "\n",
       "   Class_3  \n",
       "7      0.0  "
      ]
     },
     "execution_count": 13,
     "metadata": {},
     "output_type": "execute_result"
    }
   ],
   "source": [
    "age_imputed.iloc[[7]]"
   ]
  },
  {
   "cell_type": "code",
   "execution_count": 14,
   "id": "248caed3",
   "metadata": {},
   "outputs": [
    {
     "data": {
      "text/plain": [
       "Age                0\n",
       "SibSp              0\n",
       "Parch              0\n",
       "Fare               0\n",
       "Duplicate_Cabin    0\n",
       "Cab_Letter_B       0\n",
       "Cab_Letter_C       0\n",
       "Cab_Letter_D       0\n",
       "Cab_Letter_E       0\n",
       "Cab_Letter_F       0\n",
       "Cab_Letter_G       0\n",
       "Cab_Letter_None    0\n",
       "Family_Size        0\n",
       "Fare_Per_Person    0\n",
       "Sex_male           0\n",
       "Embarked__Q        0\n",
       "Embarked__S        0\n",
       "Class_2            0\n",
       "Class_3            0\n",
       "dtype: int64"
      ]
     },
     "execution_count": 14,
     "metadata": {},
     "output_type": "execute_result"
    }
   ],
   "source": [
    "age_imputed.isna().sum()"
   ]
  },
  {
   "cell_type": "markdown",
   "id": "c999e5aa",
   "metadata": {},
   "source": [
    "# Using MissForest"
   ]
  },
  {
   "cell_type": "code",
   "execution_count": 36,
   "id": "4f6695c6",
   "metadata": {},
   "outputs": [
    {
     "name": "stderr",
     "output_type": "stream",
     "text": [
      "C:\\Users\\euana\\anaconda3\\lib\\site-packages\\sklearn\\ensemble\\_forest.py:396: FutureWarning: Criterion 'mse' was deprecated in v1.0 and will be removed in version 1.2. Use `criterion='squared_error'` which is equivalent.\n",
      "  warn(\n",
      "C:\\Users\\euana\\anaconda3\\lib\\site-packages\\sklearn\\ensemble\\_forest.py:396: FutureWarning: Criterion 'mse' was deprecated in v1.0 and will be removed in version 1.2. Use `criterion='squared_error'` which is equivalent.\n",
      "  warn(\n",
      "C:\\Users\\euana\\anaconda3\\lib\\site-packages\\sklearn\\ensemble\\_forest.py:396: FutureWarning: Criterion 'mse' was deprecated in v1.0 and will be removed in version 1.2. Use `criterion='squared_error'` which is equivalent.\n",
      "  warn(\n"
     ]
    },
    {
     "name": "stdout",
     "output_type": "stream",
     "text": [
      "Iteration: 0\n"
     ]
    },
    {
     "name": "stderr",
     "output_type": "stream",
     "text": [
      "C:\\Users\\euana\\anaconda3\\lib\\site-packages\\sklearn\\ensemble\\_forest.py:396: FutureWarning: Criterion 'mse' was deprecated in v1.0 and will be removed in version 1.2. Use `criterion='squared_error'` which is equivalent.\n",
      "  warn(\n",
      "C:\\Users\\euana\\anaconda3\\lib\\site-packages\\sklearn\\ensemble\\_forest.py:396: FutureWarning: Criterion 'mse' was deprecated in v1.0 and will be removed in version 1.2. Use `criterion='squared_error'` which is equivalent.\n",
      "  warn(\n",
      "C:\\Users\\euana\\anaconda3\\lib\\site-packages\\sklearn\\ensemble\\_forest.py:396: FutureWarning: Criterion 'mse' was deprecated in v1.0 and will be removed in version 1.2. Use `criterion='squared_error'` which is equivalent.\n",
      "  warn(\n"
     ]
    },
    {
     "name": "stdout",
     "output_type": "stream",
     "text": [
      "Iteration: 1\n"
     ]
    },
    {
     "name": "stderr",
     "output_type": "stream",
     "text": [
      "C:\\Users\\euana\\anaconda3\\lib\\site-packages\\sklearn\\ensemble\\_forest.py:396: FutureWarning: Criterion 'mse' was deprecated in v1.0 and will be removed in version 1.2. Use `criterion='squared_error'` which is equivalent.\n",
      "  warn(\n",
      "C:\\Users\\euana\\anaconda3\\lib\\site-packages\\sklearn\\ensemble\\_forest.py:396: FutureWarning: Criterion 'mse' was deprecated in v1.0 and will be removed in version 1.2. Use `criterion='squared_error'` which is equivalent.\n",
      "  warn(\n",
      "C:\\Users\\euana\\anaconda3\\lib\\site-packages\\sklearn\\ensemble\\_forest.py:396: FutureWarning: Criterion 'mse' was deprecated in v1.0 and will be removed in version 1.2. Use `criterion='squared_error'` which is equivalent.\n",
      "  warn(\n"
     ]
    },
    {
     "name": "stdout",
     "output_type": "stream",
     "text": [
      "Iteration: 2\n"
     ]
    },
    {
     "name": "stderr",
     "output_type": "stream",
     "text": [
      "C:\\Users\\euana\\anaconda3\\lib\\site-packages\\sklearn\\ensemble\\_forest.py:396: FutureWarning: Criterion 'mse' was deprecated in v1.0 and will be removed in version 1.2. Use `criterion='squared_error'` which is equivalent.\n",
      "  warn(\n",
      "C:\\Users\\euana\\anaconda3\\lib\\site-packages\\sklearn\\ensemble\\_forest.py:396: FutureWarning: Criterion 'mse' was deprecated in v1.0 and will be removed in version 1.2. Use `criterion='squared_error'` which is equivalent.\n",
      "  warn(\n",
      "C:\\Users\\euana\\anaconda3\\lib\\site-packages\\sklearn\\ensemble\\_forest.py:396: FutureWarning: Criterion 'mse' was deprecated in v1.0 and will be removed in version 1.2. Use `criterion='squared_error'` which is equivalent.\n",
      "  warn(\n"
     ]
    },
    {
     "name": "stdout",
     "output_type": "stream",
     "text": [
      "Iteration: 3\n"
     ]
    },
    {
     "name": "stderr",
     "output_type": "stream",
     "text": [
      "C:\\Users\\euana\\anaconda3\\lib\\site-packages\\sklearn\\ensemble\\_forest.py:396: FutureWarning: Criterion 'mse' was deprecated in v1.0 and will be removed in version 1.2. Use `criterion='squared_error'` which is equivalent.\n",
      "  warn(\n",
      "C:\\Users\\euana\\anaconda3\\lib\\site-packages\\sklearn\\ensemble\\_forest.py:396: FutureWarning: Criterion 'mse' was deprecated in v1.0 and will be removed in version 1.2. Use `criterion='squared_error'` which is equivalent.\n",
      "  warn(\n",
      "C:\\Users\\euana\\anaconda3\\lib\\site-packages\\sklearn\\ensemble\\_forest.py:396: FutureWarning: Criterion 'mse' was deprecated in v1.0 and will be removed in version 1.2. Use `criterion='squared_error'` which is equivalent.\n",
      "  warn(\n"
     ]
    },
    {
     "name": "stdout",
     "output_type": "stream",
     "text": [
      "Iteration: 4\n"
     ]
    }
   ],
   "source": [
    "imputer2 = MissForest()\n",
    "age_imputed2 = imputer2.fit_transform(df)\n",
    "age_imputed2 = pd.DataFrame(age_imputed2, columns = df.columns).round(1)"
   ]
  },
  {
   "cell_type": "code",
   "execution_count": 37,
   "id": "0aeadf7c",
   "metadata": {},
   "outputs": [
    {
     "data": {
      "text/html": [
       "<div>\n",
       "<style scoped>\n",
       "    .dataframe tbody tr th:only-of-type {\n",
       "        vertical-align: middle;\n",
       "    }\n",
       "\n",
       "    .dataframe tbody tr th {\n",
       "        vertical-align: top;\n",
       "    }\n",
       "\n",
       "    .dataframe thead th {\n",
       "        text-align: right;\n",
       "    }\n",
       "</style>\n",
       "<table border=\"1\" class=\"dataframe\">\n",
       "  <thead>\n",
       "    <tr style=\"text-align: right;\">\n",
       "      <th></th>\n",
       "      <th>PassengerId</th>\n",
       "      <th>Age</th>\n",
       "      <th>SibSp</th>\n",
       "      <th>Parch</th>\n",
       "      <th>Fare</th>\n",
       "      <th>Duplicate_Cabin</th>\n",
       "      <th>Cab_Letter_B</th>\n",
       "      <th>Cab_Letter_C</th>\n",
       "      <th>Cab_Letter_D</th>\n",
       "      <th>Cab_Letter_E</th>\n",
       "      <th>Cab_Letter_F</th>\n",
       "      <th>Cab_Letter_G</th>\n",
       "      <th>Cab_Letter_None</th>\n",
       "      <th>Family_Size</th>\n",
       "      <th>Fare_Per_Person</th>\n",
       "      <th>Sex_male</th>\n",
       "      <th>Embarked__Q</th>\n",
       "      <th>Embarked__S</th>\n",
       "      <th>Class_2</th>\n",
       "      <th>Class_3</th>\n",
       "    </tr>\n",
       "  </thead>\n",
       "  <tbody>\n",
       "    <tr>\n",
       "      <th>7</th>\n",
       "      <td>899.0</td>\n",
       "      <td>26.0</td>\n",
       "      <td>1.0</td>\n",
       "      <td>1.0</td>\n",
       "      <td>29.0</td>\n",
       "      <td>0.0</td>\n",
       "      <td>0.0</td>\n",
       "      <td>0.0</td>\n",
       "      <td>0.0</td>\n",
       "      <td>0.0</td>\n",
       "      <td>0.0</td>\n",
       "      <td>0.0</td>\n",
       "      <td>1.0</td>\n",
       "      <td>2.0</td>\n",
       "      <td>9.7</td>\n",
       "      <td>1.0</td>\n",
       "      <td>0.0</td>\n",
       "      <td>1.0</td>\n",
       "      <td>1.0</td>\n",
       "      <td>0.0</td>\n",
       "    </tr>\n",
       "  </tbody>\n",
       "</table>\n",
       "</div>"
      ],
      "text/plain": [
       "   PassengerId   Age  SibSp  Parch  Fare  Duplicate_Cabin  Cab_Letter_B  \\\n",
       "7        899.0  26.0    1.0    1.0  29.0              0.0           0.0   \n",
       "\n",
       "   Cab_Letter_C  Cab_Letter_D  Cab_Letter_E  Cab_Letter_F  Cab_Letter_G  \\\n",
       "7           0.0           0.0           0.0           0.0           0.0   \n",
       "\n",
       "   Cab_Letter_None  Family_Size  Fare_Per_Person  Sex_male  Embarked__Q  \\\n",
       "7              1.0          2.0              9.7       1.0          0.0   \n",
       "\n",
       "   Embarked__S  Class_2  Class_3  \n",
       "7          1.0      1.0      0.0  "
      ]
     },
     "execution_count": 37,
     "metadata": {},
     "output_type": "execute_result"
    }
   ],
   "source": [
    "age_imputed2.iloc[[7]]"
   ]
  },
  {
   "cell_type": "code",
   "execution_count": 38,
   "id": "77fab918",
   "metadata": {},
   "outputs": [
    {
     "data": {
      "text/plain": [
       "PassengerId        0\n",
       "Age                0\n",
       "SibSp              0\n",
       "Parch              0\n",
       "Fare               0\n",
       "Duplicate_Cabin    0\n",
       "Cab_Letter_B       0\n",
       "Cab_Letter_C       0\n",
       "Cab_Letter_D       0\n",
       "Cab_Letter_E       0\n",
       "Cab_Letter_F       0\n",
       "Cab_Letter_G       0\n",
       "Cab_Letter_None    0\n",
       "Family_Size        0\n",
       "Fare_Per_Person    0\n",
       "Sex_male           0\n",
       "Embarked__Q        0\n",
       "Embarked__S        0\n",
       "Class_2            0\n",
       "Class_3            0\n",
       "dtype: int64"
      ]
     },
     "execution_count": 38,
     "metadata": {},
     "output_type": "execute_result"
    }
   ],
   "source": [
    "age_imputed2.isna().sum()"
   ]
  },
  {
   "cell_type": "code",
   "execution_count": null,
   "id": "e91c7763",
   "metadata": {},
   "outputs": [],
   "source": [
    "age_imputed.to_csv('KNN_imputed.csv', index=False)"
   ]
  },
  {
   "cell_type": "code",
   "execution_count": 39,
   "id": "280636e4",
   "metadata": {},
   "outputs": [],
   "source": [
    "age_imputed2.to_csv('test_MF_imputed.csv', index=False)"
   ]
  },
  {
   "cell_type": "markdown",
   "id": "d5fc16c2",
   "metadata": {},
   "source": [
    "How to assess error?"
   ]
  },
  {
   "cell_type": "markdown",
   "id": "64792745",
   "metadata": {},
   "source": [
    "# Imputing missing values for test data"
   ]
  },
  {
   "cell_type": "code",
   "execution_count": null,
   "id": "dbd0e1ff",
   "metadata": {},
   "outputs": [],
   "source": [
    "test_df = pd.read_csv('test_for_imputation.csv')"
   ]
  },
  {
   "cell_type": "code",
   "execution_count": null,
   "id": "b62e7db8",
   "metadata": {},
   "outputs": [],
   "source": [
    "#152 Fare is Nan, 413 age"
   ]
  },
  {
   "cell_type": "markdown",
   "id": "d296f313",
   "metadata": {},
   "source": [
    "## KNN imputer"
   ]
  },
  {
   "cell_type": "code",
   "execution_count": null,
   "id": "dd12964a",
   "metadata": {},
   "outputs": [],
   "source": [
    "imputer = KNNImputer()\n",
    "test_imputed = imputer.fit_transform(test_df)\n",
    "test_imputed = pd.DataFrame(test_imputed, columns = test_df.columns).round(1)"
   ]
  },
  {
   "cell_type": "code",
   "execution_count": null,
   "id": "db3ffc7e",
   "metadata": {},
   "outputs": [],
   "source": [
    "test_imputed.to_csv('test_KNN_imputed.csv', index=False)"
   ]
  },
  {
   "cell_type": "markdown",
   "id": "a2410f97",
   "metadata": {},
   "source": [
    "# MF imputer"
   ]
  },
  {
   "cell_type": "code",
   "execution_count": null,
   "id": "cc692b67",
   "metadata": {},
   "outputs": [],
   "source": [
    "imputer2 = MissForest()\n",
    "test_imputed2 = imputer2.fit_transform(test_df)\n",
    "test_imputed2 = pd.DataFrame(test_imputed2, columns = test_df.columns).round(1)"
   ]
  },
  {
   "cell_type": "code",
   "execution_count": null,
   "id": "9fc35a15",
   "metadata": {},
   "outputs": [],
   "source": [
    "test_imputed2.to_csv('test_MF_imputed.csv', index=False)"
   ]
  }
 ],
 "metadata": {
  "kernelspec": {
   "display_name": "Python 3 (ipykernel)",
   "language": "python",
   "name": "python3"
  },
  "language_info": {
   "codemirror_mode": {
    "name": "ipython",
    "version": 3
   },
   "file_extension": ".py",
   "mimetype": "text/x-python",
   "name": "python",
   "nbconvert_exporter": "python",
   "pygments_lexer": "ipython3",
   "version": "3.9.13"
  }
 },
 "nbformat": 4,
 "nbformat_minor": 5
}
