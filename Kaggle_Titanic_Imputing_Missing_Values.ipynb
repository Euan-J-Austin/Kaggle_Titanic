{
 "cells": [
  {
   "cell_type": "code",
   "execution_count": null,
   "id": "a9bf3d90",
   "metadata": {},
   "outputs": [],
   "source": [
    "pip install missingpy"
   ]
  },
  {
   "cell_type": "code",
   "execution_count": 2,
   "id": "0f30877a",
   "metadata": {},
   "outputs": [],
   "source": [
    "import pandas as pd\n",
    "import numpy as np\n",
    "import matplotlib.pyplot as plt\n",
    "import seaborn as sns\n",
    "import random\n",
    "import sklearn.neighbors._base\n",
    "import sys\n",
    "sys.modules['sklearn.neighbors.base'] = sklearn.neighbors._base\n",
    "from missingpy import MissForest\n",
    "from sklearn.impute import KNNImputer"
   ]
  },
  {
   "cell_type": "code",
   "execution_count": 26,
   "id": "44254fee",
   "metadata": {},
   "outputs": [],
   "source": [
    "df = pd.read_csv('Second_EDA.csv')"
   ]
  },
  {
   "cell_type": "code",
   "execution_count": 27,
   "id": "a2b4da07",
   "metadata": {},
   "outputs": [
    {
     "data": {
      "text/plain": [
       "y                    0\n",
       "Name                 0\n",
       "Age                177\n",
       "SibSp                0\n",
       "ParCh                0\n",
       "Ticket               0\n",
       "Fare                 0\n",
       "Duplicate_Cabin      0\n",
       "Cab_Letter_B         0\n",
       "Cab_Letter_C         0\n",
       "Cab_Letter_D         0\n",
       "Cab_Letter_E         0\n",
       "Cab_Letter_F         0\n",
       "Cab_Letter_G         0\n",
       "Cab_Letter_None      0\n",
       "Cab_Letter_T         0\n",
       "Family_Size          0\n",
       "Fare_Per_Person      0\n",
       "Sex_male             0\n",
       "Embarked__Q          0\n",
       "Embarked__S          0\n",
       "Class_2              0\n",
       "Class_3              0\n",
       "dtype: int64"
      ]
     },
     "execution_count": 27,
     "metadata": {},
     "output_type": "execute_result"
    }
   ],
   "source": [
    "df.isna().sum()"
   ]
  },
  {
   "cell_type": "code",
   "execution_count": 28,
   "id": "df811f05",
   "metadata": {},
   "outputs": [],
   "source": [
    "pd.set_option('display.max_columns', None)"
   ]
  },
  {
   "cell_type": "code",
   "execution_count": 29,
   "id": "a318918c",
   "metadata": {},
   "outputs": [
    {
     "data": {
      "text/plain": [
       "Index(['y', 'Name', 'Age', 'SibSp', 'ParCh', 'Ticket', 'Fare',\n",
       "       'Duplicate_Cabin', 'Cab_Letter_B', 'Cab_Letter_C', 'Cab_Letter_D',\n",
       "       'Cab_Letter_E', 'Cab_Letter_F', 'Cab_Letter_G', 'Cab_Letter_None',\n",
       "       'Cab_Letter_T', 'Family_Size', 'Fare_Per_Person', 'Sex_male',\n",
       "       'Embarked__Q', 'Embarked__S', 'Class_2', 'Class_3'],\n",
       "      dtype='object')"
      ]
     },
     "execution_count": 29,
     "metadata": {},
     "output_type": "execute_result"
    }
   ],
   "source": [
    "df.columns"
   ]
  },
  {
   "cell_type": "code",
   "execution_count": 31,
   "id": "a4f462a8",
   "metadata": {},
   "outputs": [],
   "source": [
    "df = df[['y', \n",
    "      #'Name', \n",
    "      'Age', 'SibSp', 'ParCh', \n",
    "      #'Ticket',\n",
    "      'Fare',\n",
    "       'Duplicate_Cabin', 'Cab_Letter_B', 'Cab_Letter_C', 'Cab_Letter_D',\n",
    "       'Cab_Letter_E', 'Cab_Letter_F', 'Cab_Letter_G', 'Cab_Letter_None',\n",
    "       'Cab_Letter_T', 'Family_Size', 'Fare_Per_Person', 'Sex_male',\n",
    "       'Embarked__Q', 'Embarked__S', 'Class_2', 'Class_3']].copy()"
   ]
  },
  {
   "cell_type": "code",
   "execution_count": 32,
   "id": "1085719e",
   "metadata": {},
   "outputs": [
    {
     "data": {
      "text/html": [
       "<div>\n",
       "<style scoped>\n",
       "    .dataframe tbody tr th:only-of-type {\n",
       "        vertical-align: middle;\n",
       "    }\n",
       "\n",
       "    .dataframe tbody tr th {\n",
       "        vertical-align: top;\n",
       "    }\n",
       "\n",
       "    .dataframe thead th {\n",
       "        text-align: right;\n",
       "    }\n",
       "</style>\n",
       "<table border=\"1\" class=\"dataframe\">\n",
       "  <thead>\n",
       "    <tr style=\"text-align: right;\">\n",
       "      <th></th>\n",
       "      <th>y</th>\n",
       "      <th>Age</th>\n",
       "      <th>SibSp</th>\n",
       "      <th>ParCh</th>\n",
       "      <th>Fare</th>\n",
       "      <th>Duplicate_Cabin</th>\n",
       "      <th>Cab_Letter_B</th>\n",
       "      <th>Cab_Letter_C</th>\n",
       "      <th>Cab_Letter_D</th>\n",
       "      <th>Cab_Letter_E</th>\n",
       "      <th>Cab_Letter_F</th>\n",
       "      <th>Cab_Letter_G</th>\n",
       "      <th>Cab_Letter_None</th>\n",
       "      <th>Cab_Letter_T</th>\n",
       "      <th>Family_Size</th>\n",
       "      <th>Fare_Per_Person</th>\n",
       "      <th>Sex_male</th>\n",
       "      <th>Embarked__Q</th>\n",
       "      <th>Embarked__S</th>\n",
       "      <th>Class_2</th>\n",
       "      <th>Class_3</th>\n",
       "    </tr>\n",
       "  </thead>\n",
       "  <tbody>\n",
       "    <tr>\n",
       "      <th>0</th>\n",
       "      <td>0</td>\n",
       "      <td>22.0</td>\n",
       "      <td>1</td>\n",
       "      <td>0</td>\n",
       "      <td>7.2500</td>\n",
       "      <td>0</td>\n",
       "      <td>0</td>\n",
       "      <td>0</td>\n",
       "      <td>0</td>\n",
       "      <td>0</td>\n",
       "      <td>0</td>\n",
       "      <td>0</td>\n",
       "      <td>1</td>\n",
       "      <td>0</td>\n",
       "      <td>1</td>\n",
       "      <td>3.62500</td>\n",
       "      <td>1</td>\n",
       "      <td>0</td>\n",
       "      <td>1</td>\n",
       "      <td>0</td>\n",
       "      <td>1</td>\n",
       "    </tr>\n",
       "    <tr>\n",
       "      <th>1</th>\n",
       "      <td>1</td>\n",
       "      <td>38.0</td>\n",
       "      <td>1</td>\n",
       "      <td>0</td>\n",
       "      <td>71.2833</td>\n",
       "      <td>0</td>\n",
       "      <td>0</td>\n",
       "      <td>1</td>\n",
       "      <td>0</td>\n",
       "      <td>0</td>\n",
       "      <td>0</td>\n",
       "      <td>0</td>\n",
       "      <td>0</td>\n",
       "      <td>0</td>\n",
       "      <td>1</td>\n",
       "      <td>35.64165</td>\n",
       "      <td>0</td>\n",
       "      <td>0</td>\n",
       "      <td>0</td>\n",
       "      <td>0</td>\n",
       "      <td>0</td>\n",
       "    </tr>\n",
       "    <tr>\n",
       "      <th>2</th>\n",
       "      <td>1</td>\n",
       "      <td>26.0</td>\n",
       "      <td>0</td>\n",
       "      <td>0</td>\n",
       "      <td>7.9250</td>\n",
       "      <td>0</td>\n",
       "      <td>0</td>\n",
       "      <td>0</td>\n",
       "      <td>0</td>\n",
       "      <td>0</td>\n",
       "      <td>0</td>\n",
       "      <td>0</td>\n",
       "      <td>1</td>\n",
       "      <td>0</td>\n",
       "      <td>0</td>\n",
       "      <td>7.92500</td>\n",
       "      <td>0</td>\n",
       "      <td>0</td>\n",
       "      <td>1</td>\n",
       "      <td>0</td>\n",
       "      <td>1</td>\n",
       "    </tr>\n",
       "    <tr>\n",
       "      <th>3</th>\n",
       "      <td>1</td>\n",
       "      <td>35.0</td>\n",
       "      <td>1</td>\n",
       "      <td>0</td>\n",
       "      <td>53.1000</td>\n",
       "      <td>1</td>\n",
       "      <td>0</td>\n",
       "      <td>1</td>\n",
       "      <td>0</td>\n",
       "      <td>0</td>\n",
       "      <td>0</td>\n",
       "      <td>0</td>\n",
       "      <td>0</td>\n",
       "      <td>0</td>\n",
       "      <td>1</td>\n",
       "      <td>26.55000</td>\n",
       "      <td>0</td>\n",
       "      <td>0</td>\n",
       "      <td>1</td>\n",
       "      <td>0</td>\n",
       "      <td>0</td>\n",
       "    </tr>\n",
       "    <tr>\n",
       "      <th>4</th>\n",
       "      <td>0</td>\n",
       "      <td>35.0</td>\n",
       "      <td>0</td>\n",
       "      <td>0</td>\n",
       "      <td>8.0500</td>\n",
       "      <td>0</td>\n",
       "      <td>0</td>\n",
       "      <td>0</td>\n",
       "      <td>0</td>\n",
       "      <td>0</td>\n",
       "      <td>0</td>\n",
       "      <td>0</td>\n",
       "      <td>1</td>\n",
       "      <td>0</td>\n",
       "      <td>0</td>\n",
       "      <td>8.05000</td>\n",
       "      <td>1</td>\n",
       "      <td>0</td>\n",
       "      <td>1</td>\n",
       "      <td>0</td>\n",
       "      <td>1</td>\n",
       "    </tr>\n",
       "  </tbody>\n",
       "</table>\n",
       "</div>"
      ],
      "text/plain": [
       "   y   Age  SibSp  ParCh     Fare  Duplicate_Cabin  Cab_Letter_B  \\\n",
       "0  0  22.0      1      0   7.2500                0             0   \n",
       "1  1  38.0      1      0  71.2833                0             0   \n",
       "2  1  26.0      0      0   7.9250                0             0   \n",
       "3  1  35.0      1      0  53.1000                1             0   \n",
       "4  0  35.0      0      0   8.0500                0             0   \n",
       "\n",
       "   Cab_Letter_C  Cab_Letter_D  Cab_Letter_E  Cab_Letter_F  Cab_Letter_G  \\\n",
       "0             0             0             0             0             0   \n",
       "1             1             0             0             0             0   \n",
       "2             0             0             0             0             0   \n",
       "3             1             0             0             0             0   \n",
       "4             0             0             0             0             0   \n",
       "\n",
       "   Cab_Letter_None  Cab_Letter_T  Family_Size  Fare_Per_Person  Sex_male  \\\n",
       "0                1             0            1          3.62500         1   \n",
       "1                0             0            1         35.64165         0   \n",
       "2                1             0            0          7.92500         0   \n",
       "3                0             0            1         26.55000         0   \n",
       "4                1             0            0          8.05000         1   \n",
       "\n",
       "   Embarked__Q  Embarked__S  Class_2  Class_3  \n",
       "0            0            1        0        1  \n",
       "1            0            0        0        0  \n",
       "2            0            1        0        1  \n",
       "3            0            1        0        0  \n",
       "4            0            1        0        1  "
      ]
     },
     "execution_count": 32,
     "metadata": {},
     "output_type": "execute_result"
    }
   ],
   "source": [
    "df.head()"
   ]
  },
  {
   "cell_type": "markdown",
   "id": "f75ccec8",
   "metadata": {},
   "source": [
    "# Using KNNImputer"
   ]
  },
  {
   "cell_type": "code",
   "execution_count": 9,
   "id": "36e97f0f",
   "metadata": {},
   "outputs": [
    {
     "ename": "ValueError",
     "evalue": "could not convert string to float: 'Braund, Mr. Owen Harris'",
     "output_type": "error",
     "traceback": [
      "\u001b[1;31m---------------------------------------------------------------------------\u001b[0m",
      "\u001b[1;31mValueError\u001b[0m                                Traceback (most recent call last)",
      "\u001b[1;32m~\\AppData\\Local\\Temp\\ipykernel_6568\\1663848876.py\u001b[0m in \u001b[0;36m<module>\u001b[1;34m\u001b[0m\n\u001b[0;32m      1\u001b[0m \u001b[0mimputer\u001b[0m \u001b[1;33m=\u001b[0m \u001b[0mKNNImputer\u001b[0m\u001b[1;33m(\u001b[0m\u001b[1;33m)\u001b[0m\u001b[1;33m\u001b[0m\u001b[1;33m\u001b[0m\u001b[0m\n\u001b[1;32m----> 2\u001b[1;33m \u001b[0mage_imputed\u001b[0m \u001b[1;33m=\u001b[0m \u001b[0mimputer\u001b[0m\u001b[1;33m.\u001b[0m\u001b[0mfit_transform\u001b[0m\u001b[1;33m(\u001b[0m\u001b[0mdf\u001b[0m\u001b[1;33m)\u001b[0m\u001b[1;33m\u001b[0m\u001b[1;33m\u001b[0m\u001b[0m\n\u001b[0m\u001b[0;32m      3\u001b[0m \u001b[0mage_imputed\u001b[0m \u001b[1;33m=\u001b[0m \u001b[0mpd\u001b[0m\u001b[1;33m.\u001b[0m\u001b[0mDataFrame\u001b[0m\u001b[1;33m(\u001b[0m\u001b[0mage_imputed\u001b[0m\u001b[1;33m,\u001b[0m \u001b[0mcolumns\u001b[0m \u001b[1;33m=\u001b[0m \u001b[0mdf\u001b[0m\u001b[1;33m.\u001b[0m\u001b[0mcolumns\u001b[0m\u001b[1;33m)\u001b[0m\u001b[1;33m.\u001b[0m\u001b[0mround\u001b[0m\u001b[1;33m(\u001b[0m\u001b[1;36m1\u001b[0m\u001b[1;33m)\u001b[0m\u001b[1;33m\u001b[0m\u001b[1;33m\u001b[0m\u001b[0m\n",
      "\u001b[1;32m~\\anaconda3\\lib\\site-packages\\sklearn\\base.py\u001b[0m in \u001b[0;36mfit_transform\u001b[1;34m(self, X, y, **fit_params)\u001b[0m\n\u001b[0;32m    850\u001b[0m         \u001b[1;32mif\u001b[0m \u001b[0my\u001b[0m \u001b[1;32mis\u001b[0m \u001b[1;32mNone\u001b[0m\u001b[1;33m:\u001b[0m\u001b[1;33m\u001b[0m\u001b[1;33m\u001b[0m\u001b[0m\n\u001b[0;32m    851\u001b[0m             \u001b[1;31m# fit method of arity 1 (unsupervised transformation)\u001b[0m\u001b[1;33m\u001b[0m\u001b[1;33m\u001b[0m\u001b[0m\n\u001b[1;32m--> 852\u001b[1;33m             \u001b[1;32mreturn\u001b[0m \u001b[0mself\u001b[0m\u001b[1;33m.\u001b[0m\u001b[0mfit\u001b[0m\u001b[1;33m(\u001b[0m\u001b[0mX\u001b[0m\u001b[1;33m,\u001b[0m \u001b[1;33m**\u001b[0m\u001b[0mfit_params\u001b[0m\u001b[1;33m)\u001b[0m\u001b[1;33m.\u001b[0m\u001b[0mtransform\u001b[0m\u001b[1;33m(\u001b[0m\u001b[0mX\u001b[0m\u001b[1;33m)\u001b[0m\u001b[1;33m\u001b[0m\u001b[1;33m\u001b[0m\u001b[0m\n\u001b[0m\u001b[0;32m    853\u001b[0m         \u001b[1;32melse\u001b[0m\u001b[1;33m:\u001b[0m\u001b[1;33m\u001b[0m\u001b[1;33m\u001b[0m\u001b[0m\n\u001b[0;32m    854\u001b[0m             \u001b[1;31m# fit method of arity 2 (supervised transformation)\u001b[0m\u001b[1;33m\u001b[0m\u001b[1;33m\u001b[0m\u001b[0m\n",
      "\u001b[1;32m~\\anaconda3\\lib\\site-packages\\sklearn\\impute\\_knn.py\u001b[0m in \u001b[0;36mfit\u001b[1;34m(self, X, y)\u001b[0m\n\u001b[0;32m    207\u001b[0m             )\n\u001b[0;32m    208\u001b[0m \u001b[1;33m\u001b[0m\u001b[0m\n\u001b[1;32m--> 209\u001b[1;33m         X = self._validate_data(\n\u001b[0m\u001b[0;32m    210\u001b[0m             \u001b[0mX\u001b[0m\u001b[1;33m,\u001b[0m\u001b[1;33m\u001b[0m\u001b[1;33m\u001b[0m\u001b[0m\n\u001b[0;32m    211\u001b[0m             \u001b[0maccept_sparse\u001b[0m\u001b[1;33m=\u001b[0m\u001b[1;32mFalse\u001b[0m\u001b[1;33m,\u001b[0m\u001b[1;33m\u001b[0m\u001b[1;33m\u001b[0m\u001b[0m\n",
      "\u001b[1;32m~\\anaconda3\\lib\\site-packages\\sklearn\\base.py\u001b[0m in \u001b[0;36m_validate_data\u001b[1;34m(self, X, y, reset, validate_separately, **check_params)\u001b[0m\n\u001b[0;32m    564\u001b[0m             \u001b[1;32mraise\u001b[0m \u001b[0mValueError\u001b[0m\u001b[1;33m(\u001b[0m\u001b[1;34m\"Validation should be done on X, y or both.\"\u001b[0m\u001b[1;33m)\u001b[0m\u001b[1;33m\u001b[0m\u001b[1;33m\u001b[0m\u001b[0m\n\u001b[0;32m    565\u001b[0m         \u001b[1;32melif\u001b[0m \u001b[1;32mnot\u001b[0m \u001b[0mno_val_X\u001b[0m \u001b[1;32mand\u001b[0m \u001b[0mno_val_y\u001b[0m\u001b[1;33m:\u001b[0m\u001b[1;33m\u001b[0m\u001b[1;33m\u001b[0m\u001b[0m\n\u001b[1;32m--> 566\u001b[1;33m             \u001b[0mX\u001b[0m \u001b[1;33m=\u001b[0m \u001b[0mcheck_array\u001b[0m\u001b[1;33m(\u001b[0m\u001b[0mX\u001b[0m\u001b[1;33m,\u001b[0m \u001b[1;33m**\u001b[0m\u001b[0mcheck_params\u001b[0m\u001b[1;33m)\u001b[0m\u001b[1;33m\u001b[0m\u001b[1;33m\u001b[0m\u001b[0m\n\u001b[0m\u001b[0;32m    567\u001b[0m             \u001b[0mout\u001b[0m \u001b[1;33m=\u001b[0m \u001b[0mX\u001b[0m\u001b[1;33m\u001b[0m\u001b[1;33m\u001b[0m\u001b[0m\n\u001b[0;32m    568\u001b[0m         \u001b[1;32melif\u001b[0m \u001b[0mno_val_X\u001b[0m \u001b[1;32mand\u001b[0m \u001b[1;32mnot\u001b[0m \u001b[0mno_val_y\u001b[0m\u001b[1;33m:\u001b[0m\u001b[1;33m\u001b[0m\u001b[1;33m\u001b[0m\u001b[0m\n",
      "\u001b[1;32m~\\anaconda3\\lib\\site-packages\\sklearn\\utils\\validation.py\u001b[0m in \u001b[0;36mcheck_array\u001b[1;34m(array, accept_sparse, accept_large_sparse, dtype, order, copy, force_all_finite, ensure_2d, allow_nd, ensure_min_samples, ensure_min_features, estimator)\u001b[0m\n\u001b[0;32m    744\u001b[0m                     \u001b[0marray\u001b[0m \u001b[1;33m=\u001b[0m \u001b[0marray\u001b[0m\u001b[1;33m.\u001b[0m\u001b[0mastype\u001b[0m\u001b[1;33m(\u001b[0m\u001b[0mdtype\u001b[0m\u001b[1;33m,\u001b[0m \u001b[0mcasting\u001b[0m\u001b[1;33m=\u001b[0m\u001b[1;34m\"unsafe\"\u001b[0m\u001b[1;33m,\u001b[0m \u001b[0mcopy\u001b[0m\u001b[1;33m=\u001b[0m\u001b[1;32mFalse\u001b[0m\u001b[1;33m)\u001b[0m\u001b[1;33m\u001b[0m\u001b[1;33m\u001b[0m\u001b[0m\n\u001b[0;32m    745\u001b[0m                 \u001b[1;32melse\u001b[0m\u001b[1;33m:\u001b[0m\u001b[1;33m\u001b[0m\u001b[1;33m\u001b[0m\u001b[0m\n\u001b[1;32m--> 746\u001b[1;33m                     \u001b[0marray\u001b[0m \u001b[1;33m=\u001b[0m \u001b[0mnp\u001b[0m\u001b[1;33m.\u001b[0m\u001b[0masarray\u001b[0m\u001b[1;33m(\u001b[0m\u001b[0marray\u001b[0m\u001b[1;33m,\u001b[0m \u001b[0morder\u001b[0m\u001b[1;33m=\u001b[0m\u001b[0morder\u001b[0m\u001b[1;33m,\u001b[0m \u001b[0mdtype\u001b[0m\u001b[1;33m=\u001b[0m\u001b[0mdtype\u001b[0m\u001b[1;33m)\u001b[0m\u001b[1;33m\u001b[0m\u001b[1;33m\u001b[0m\u001b[0m\n\u001b[0m\u001b[0;32m    747\u001b[0m             \u001b[1;32mexcept\u001b[0m \u001b[0mComplexWarning\u001b[0m \u001b[1;32mas\u001b[0m \u001b[0mcomplex_warning\u001b[0m\u001b[1;33m:\u001b[0m\u001b[1;33m\u001b[0m\u001b[1;33m\u001b[0m\u001b[0m\n\u001b[0;32m    748\u001b[0m                 raise ValueError(\n",
      "\u001b[1;32m~\\anaconda3\\lib\\site-packages\\pandas\\core\\generic.py\u001b[0m in \u001b[0;36m__array__\u001b[1;34m(self, dtype)\u001b[0m\n\u001b[0;32m   2062\u001b[0m \u001b[1;33m\u001b[0m\u001b[0m\n\u001b[0;32m   2063\u001b[0m     \u001b[1;32mdef\u001b[0m \u001b[0m__array__\u001b[0m\u001b[1;33m(\u001b[0m\u001b[0mself\u001b[0m\u001b[1;33m,\u001b[0m \u001b[0mdtype\u001b[0m\u001b[1;33m:\u001b[0m \u001b[0mnpt\u001b[0m\u001b[1;33m.\u001b[0m\u001b[0mDTypeLike\u001b[0m \u001b[1;33m|\u001b[0m \u001b[1;32mNone\u001b[0m \u001b[1;33m=\u001b[0m \u001b[1;32mNone\u001b[0m\u001b[1;33m)\u001b[0m \u001b[1;33m->\u001b[0m \u001b[0mnp\u001b[0m\u001b[1;33m.\u001b[0m\u001b[0mndarray\u001b[0m\u001b[1;33m:\u001b[0m\u001b[1;33m\u001b[0m\u001b[1;33m\u001b[0m\u001b[0m\n\u001b[1;32m-> 2064\u001b[1;33m         \u001b[1;32mreturn\u001b[0m \u001b[0mnp\u001b[0m\u001b[1;33m.\u001b[0m\u001b[0masarray\u001b[0m\u001b[1;33m(\u001b[0m\u001b[0mself\u001b[0m\u001b[1;33m.\u001b[0m\u001b[0m_values\u001b[0m\u001b[1;33m,\u001b[0m \u001b[0mdtype\u001b[0m\u001b[1;33m=\u001b[0m\u001b[0mdtype\u001b[0m\u001b[1;33m)\u001b[0m\u001b[1;33m\u001b[0m\u001b[1;33m\u001b[0m\u001b[0m\n\u001b[0m\u001b[0;32m   2065\u001b[0m \u001b[1;33m\u001b[0m\u001b[0m\n\u001b[0;32m   2066\u001b[0m     def __array_wrap__(\n",
      "\u001b[1;31mValueError\u001b[0m: could not convert string to float: 'Braund, Mr. Owen Harris'"
     ]
    }
   ],
   "source": [
    "imputer = KNNImputer()\n",
    "age_imputed = imputer.fit_transform(df)\n",
    "age_imputed = pd.DataFrame(age_imputed, columns = df.columns).round(1)"
   ]
  },
  {
   "cell_type": "code",
   "execution_count": null,
   "id": "6bc7be13",
   "metadata": {},
   "outputs": [],
   "source": [
    "age_imputed.iloc[[888]]"
   ]
  },
  {
   "cell_type": "code",
   "execution_count": null,
   "id": "248caed3",
   "metadata": {},
   "outputs": [],
   "source": [
    "age_imputed.isna().sum()"
   ]
  },
  {
   "cell_type": "markdown",
   "id": "c999e5aa",
   "metadata": {},
   "source": [
    "# Using MissForest"
   ]
  },
  {
   "cell_type": "code",
   "execution_count": 33,
   "id": "4f6695c6",
   "metadata": {},
   "outputs": [
    {
     "name": "stderr",
     "output_type": "stream",
     "text": [
      "C:\\Users\\euana\\anaconda3\\lib\\site-packages\\sklearn\\ensemble\\_forest.py:396: FutureWarning: Criterion 'mse' was deprecated in v1.0 and will be removed in version 1.2. Use `criterion='squared_error'` which is equivalent.\n",
      "  warn(\n"
     ]
    },
    {
     "name": "stdout",
     "output_type": "stream",
     "text": [
      "Iteration: 0\n"
     ]
    },
    {
     "name": "stderr",
     "output_type": "stream",
     "text": [
      "C:\\Users\\euana\\anaconda3\\lib\\site-packages\\sklearn\\ensemble\\_forest.py:396: FutureWarning: Criterion 'mse' was deprecated in v1.0 and will be removed in version 1.2. Use `criterion='squared_error'` which is equivalent.\n",
      "  warn(\n"
     ]
    },
    {
     "name": "stdout",
     "output_type": "stream",
     "text": [
      "Iteration: 1\n"
     ]
    },
    {
     "name": "stderr",
     "output_type": "stream",
     "text": [
      "C:\\Users\\euana\\anaconda3\\lib\\site-packages\\sklearn\\ensemble\\_forest.py:396: FutureWarning: Criterion 'mse' was deprecated in v1.0 and will be removed in version 1.2. Use `criterion='squared_error'` which is equivalent.\n",
      "  warn(\n"
     ]
    },
    {
     "name": "stdout",
     "output_type": "stream",
     "text": [
      "Iteration: 2\n"
     ]
    }
   ],
   "source": [
    "imputer2 = MissForest()\n",
    "age_imputed2 = imputer2.fit_transform(df)\n",
    "age_imputed2 = pd.DataFrame(age_imputed2, columns = df.columns).round(1)"
   ]
  },
  {
   "cell_type": "code",
   "execution_count": 34,
   "id": "0aeadf7c",
   "metadata": {},
   "outputs": [
    {
     "data": {
      "text/html": [
       "<div>\n",
       "<style scoped>\n",
       "    .dataframe tbody tr th:only-of-type {\n",
       "        vertical-align: middle;\n",
       "    }\n",
       "\n",
       "    .dataframe tbody tr th {\n",
       "        vertical-align: top;\n",
       "    }\n",
       "\n",
       "    .dataframe thead th {\n",
       "        text-align: right;\n",
       "    }\n",
       "</style>\n",
       "<table border=\"1\" class=\"dataframe\">\n",
       "  <thead>\n",
       "    <tr style=\"text-align: right;\">\n",
       "      <th></th>\n",
       "      <th>y</th>\n",
       "      <th>Age</th>\n",
       "      <th>SibSp</th>\n",
       "      <th>ParCh</th>\n",
       "      <th>Fare</th>\n",
       "      <th>Duplicate_Cabin</th>\n",
       "      <th>Cab_Letter_B</th>\n",
       "      <th>Cab_Letter_C</th>\n",
       "      <th>Cab_Letter_D</th>\n",
       "      <th>Cab_Letter_E</th>\n",
       "      <th>Cab_Letter_F</th>\n",
       "      <th>Cab_Letter_G</th>\n",
       "      <th>Cab_Letter_None</th>\n",
       "      <th>Cab_Letter_T</th>\n",
       "      <th>Family_Size</th>\n",
       "      <th>Fare_Per_Person</th>\n",
       "      <th>Sex_male</th>\n",
       "      <th>Embarked__Q</th>\n",
       "      <th>Embarked__S</th>\n",
       "      <th>Class_2</th>\n",
       "      <th>Class_3</th>\n",
       "    </tr>\n",
       "  </thead>\n",
       "  <tbody>\n",
       "    <tr>\n",
       "      <th>888</th>\n",
       "      <td>0.0</td>\n",
       "      <td>24.6</td>\n",
       "      <td>1.0</td>\n",
       "      <td>2.0</td>\n",
       "      <td>23.4</td>\n",
       "      <td>0.0</td>\n",
       "      <td>0.0</td>\n",
       "      <td>0.0</td>\n",
       "      <td>0.0</td>\n",
       "      <td>0.0</td>\n",
       "      <td>0.0</td>\n",
       "      <td>0.0</td>\n",
       "      <td>1.0</td>\n",
       "      <td>0.0</td>\n",
       "      <td>3.0</td>\n",
       "      <td>5.9</td>\n",
       "      <td>0.0</td>\n",
       "      <td>0.0</td>\n",
       "      <td>1.0</td>\n",
       "      <td>0.0</td>\n",
       "      <td>1.0</td>\n",
       "    </tr>\n",
       "  </tbody>\n",
       "</table>\n",
       "</div>"
      ],
      "text/plain": [
       "       y   Age  SibSp  ParCh  Fare  Duplicate_Cabin  Cab_Letter_B  \\\n",
       "888  0.0  24.6    1.0    2.0  23.4              0.0           0.0   \n",
       "\n",
       "     Cab_Letter_C  Cab_Letter_D  Cab_Letter_E  Cab_Letter_F  Cab_Letter_G  \\\n",
       "888           0.0           0.0           0.0           0.0           0.0   \n",
       "\n",
       "     Cab_Letter_None  Cab_Letter_T  Family_Size  Fare_Per_Person  Sex_male  \\\n",
       "888              1.0           0.0          3.0              5.9       0.0   \n",
       "\n",
       "     Embarked__Q  Embarked__S  Class_2  Class_3  \n",
       "888          0.0          1.0      0.0      1.0  "
      ]
     },
     "execution_count": 34,
     "metadata": {},
     "output_type": "execute_result"
    }
   ],
   "source": [
    "age_imputed2.iloc[[888]]"
   ]
  },
  {
   "cell_type": "code",
   "execution_count": 35,
   "id": "77fab918",
   "metadata": {},
   "outputs": [
    {
     "data": {
      "text/plain": [
       "y                  0\n",
       "Age                0\n",
       "SibSp              0\n",
       "ParCh              0\n",
       "Fare               0\n",
       "Duplicate_Cabin    0\n",
       "Cab_Letter_B       0\n",
       "Cab_Letter_C       0\n",
       "Cab_Letter_D       0\n",
       "Cab_Letter_E       0\n",
       "Cab_Letter_F       0\n",
       "Cab_Letter_G       0\n",
       "Cab_Letter_None    0\n",
       "Cab_Letter_T       0\n",
       "Family_Size        0\n",
       "Fare_Per_Person    0\n",
       "Sex_male           0\n",
       "Embarked__Q        0\n",
       "Embarked__S        0\n",
       "Class_2            0\n",
       "Class_3            0\n",
       "dtype: int64"
      ]
     },
     "execution_count": 35,
     "metadata": {},
     "output_type": "execute_result"
    }
   ],
   "source": [
    "age_imputed2.isna().sum()"
   ]
  },
  {
   "cell_type": "code",
   "execution_count": null,
   "id": "e91c7763",
   "metadata": {},
   "outputs": [],
   "source": [
    "age_imputed.to_csv('KNN_imputed.csv', index=False)"
   ]
  },
  {
   "cell_type": "code",
   "execution_count": 36,
   "id": "280636e4",
   "metadata": {},
   "outputs": [],
   "source": [
    "age_imputed2.to_csv('MF_imputed.csv', index=False)"
   ]
  },
  {
   "cell_type": "markdown",
   "id": "d5fc16c2",
   "metadata": {},
   "source": [
    "How to assess error?"
   ]
  },
  {
   "cell_type": "markdown",
   "id": "64792745",
   "metadata": {},
   "source": [
    "# Imputing missing values for test data"
   ]
  },
  {
   "cell_type": "code",
   "execution_count": null,
   "id": "dbd0e1ff",
   "metadata": {},
   "outputs": [],
   "source": [
    "test_df = pd.read_csv('test_for_imputation.csv')"
   ]
  },
  {
   "cell_type": "code",
   "execution_count": null,
   "id": "b62e7db8",
   "metadata": {},
   "outputs": [],
   "source": [
    "#152 Fare is Nan, 413 age"
   ]
  },
  {
   "cell_type": "markdown",
   "id": "d296f313",
   "metadata": {},
   "source": [
    "## KNN imputer"
   ]
  },
  {
   "cell_type": "code",
   "execution_count": null,
   "id": "dd12964a",
   "metadata": {},
   "outputs": [],
   "source": [
    "imputer = KNNImputer()\n",
    "test_imputed = imputer.fit_transform(test_df)\n",
    "test_imputed = pd.DataFrame(test_imputed, columns = test_df.columns).round(1)"
   ]
  },
  {
   "cell_type": "code",
   "execution_count": null,
   "id": "db3ffc7e",
   "metadata": {},
   "outputs": [],
   "source": [
    "test_imputed.to_csv('test_KNN_imputed.csv', index=False)"
   ]
  },
  {
   "cell_type": "markdown",
   "id": "a2410f97",
   "metadata": {},
   "source": [
    "# MF imputer"
   ]
  },
  {
   "cell_type": "code",
   "execution_count": null,
   "id": "cc692b67",
   "metadata": {},
   "outputs": [],
   "source": [
    "imputer2 = MissForest()\n",
    "test_imputed2 = imputer2.fit_transform(test_df)\n",
    "test_imputed2 = pd.DataFrame(test_imputed2, columns = test_df.columns).round(1)"
   ]
  },
  {
   "cell_type": "code",
   "execution_count": null,
   "id": "9fc35a15",
   "metadata": {},
   "outputs": [],
   "source": [
    "test_imputed2.to_csv('test_MF_imputed.csv', index=False)"
   ]
  }
 ],
 "metadata": {
  "kernelspec": {
   "display_name": "Python 3 (ipykernel)",
   "language": "python",
   "name": "python3"
  },
  "language_info": {
   "codemirror_mode": {
    "name": "ipython",
    "version": 3
   },
   "file_extension": ".py",
   "mimetype": "text/x-python",
   "name": "python",
   "nbconvert_exporter": "python",
   "pygments_lexer": "ipython3",
   "version": "3.9.13"
  }
 },
 "nbformat": 4,
 "nbformat_minor": 5
}
