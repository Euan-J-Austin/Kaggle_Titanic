{
 "cells": [
  {
   "cell_type": "markdown",
   "id": "67c41328",
   "metadata": {},
   "source": [
    "Using Rob Mulla's guide ... https://www.youtube.com/watch?v=xi0vhXFPegw"
   ]
  },
  {
   "cell_type": "code",
   "execution_count": 331,
   "id": "02127334",
   "metadata": {},
   "outputs": [],
   "source": [
    "import pandas as pd\n",
    "import numpy as np\n",
    "import matplotlib.pylab as plt\n",
    "import seaborn as sns\n",
    "plt.style.use('ggplot')\n",
    "pd.options.display.max_columns : 200"
   ]
  },
  {
   "cell_type": "code",
   "execution_count": 332,
   "id": "b6ab0bab",
   "metadata": {},
   "outputs": [],
   "source": [
    "df = pd.read_csv(\"train.csv\")"
   ]
  },
  {
   "cell_type": "markdown",
   "id": "9303d004",
   "metadata": {},
   "source": [
    "# Understanding the data"
   ]
  },
  {
   "cell_type": "code",
   "execution_count": 333,
   "id": "79ca8559",
   "metadata": {},
   "outputs": [
    {
     "data": {
      "text/plain": [
       "(891, 12)"
      ]
     },
     "execution_count": 333,
     "metadata": {},
     "output_type": "execute_result"
    }
   ],
   "source": [
    "df.shape"
   ]
  },
  {
   "cell_type": "code",
   "execution_count": 334,
   "id": "09b1b0cc",
   "metadata": {},
   "outputs": [
    {
     "data": {
      "text/plain": [
       "PassengerId      0\n",
       "Survived         0\n",
       "Pclass           0\n",
       "Name             0\n",
       "Sex              0\n",
       "Age            177\n",
       "SibSp            0\n",
       "Parch            0\n",
       "Ticket           0\n",
       "Fare             0\n",
       "Cabin          687\n",
       "Embarked         2\n",
       "dtype: int64"
      ]
     },
     "execution_count": 334,
     "metadata": {},
     "output_type": "execute_result"
    }
   ],
   "source": [
    "df.isna().sum()"
   ]
  },
  {
   "cell_type": "code",
   "execution_count": 335,
   "id": "739fcc62",
   "metadata": {},
   "outputs": [
    {
     "data": {
      "text/html": [
       "<div>\n",
       "<style scoped>\n",
       "    .dataframe tbody tr th:only-of-type {\n",
       "        vertical-align: middle;\n",
       "    }\n",
       "\n",
       "    .dataframe tbody tr th {\n",
       "        vertical-align: top;\n",
       "    }\n",
       "\n",
       "    .dataframe thead th {\n",
       "        text-align: right;\n",
       "    }\n",
       "</style>\n",
       "<table border=\"1\" class=\"dataframe\">\n",
       "  <thead>\n",
       "    <tr style=\"text-align: right;\">\n",
       "      <th></th>\n",
       "      <th>PassengerId</th>\n",
       "      <th>Survived</th>\n",
       "      <th>Pclass</th>\n",
       "      <th>Name</th>\n",
       "      <th>Sex</th>\n",
       "      <th>Age</th>\n",
       "      <th>SibSp</th>\n",
       "      <th>Parch</th>\n",
       "      <th>Ticket</th>\n",
       "      <th>Fare</th>\n",
       "      <th>Cabin</th>\n",
       "      <th>Embarked</th>\n",
       "    </tr>\n",
       "  </thead>\n",
       "  <tbody>\n",
       "    <tr>\n",
       "      <th>0</th>\n",
       "      <td>1</td>\n",
       "      <td>0</td>\n",
       "      <td>3</td>\n",
       "      <td>Braund, Mr. Owen Harris</td>\n",
       "      <td>male</td>\n",
       "      <td>22.0</td>\n",
       "      <td>1</td>\n",
       "      <td>0</td>\n",
       "      <td>A/5 21171</td>\n",
       "      <td>7.2500</td>\n",
       "      <td>NaN</td>\n",
       "      <td>S</td>\n",
       "    </tr>\n",
       "    <tr>\n",
       "      <th>1</th>\n",
       "      <td>2</td>\n",
       "      <td>1</td>\n",
       "      <td>1</td>\n",
       "      <td>Cumings, Mrs. John Bradley (Florence Briggs Th...</td>\n",
       "      <td>female</td>\n",
       "      <td>38.0</td>\n",
       "      <td>1</td>\n",
       "      <td>0</td>\n",
       "      <td>PC 17599</td>\n",
       "      <td>71.2833</td>\n",
       "      <td>C85</td>\n",
       "      <td>C</td>\n",
       "    </tr>\n",
       "    <tr>\n",
       "      <th>2</th>\n",
       "      <td>3</td>\n",
       "      <td>1</td>\n",
       "      <td>3</td>\n",
       "      <td>Heikkinen, Miss. Laina</td>\n",
       "      <td>female</td>\n",
       "      <td>26.0</td>\n",
       "      <td>0</td>\n",
       "      <td>0</td>\n",
       "      <td>STON/O2. 3101282</td>\n",
       "      <td>7.9250</td>\n",
       "      <td>NaN</td>\n",
       "      <td>S</td>\n",
       "    </tr>\n",
       "    <tr>\n",
       "      <th>3</th>\n",
       "      <td>4</td>\n",
       "      <td>1</td>\n",
       "      <td>1</td>\n",
       "      <td>Futrelle, Mrs. Jacques Heath (Lily May Peel)</td>\n",
       "      <td>female</td>\n",
       "      <td>35.0</td>\n",
       "      <td>1</td>\n",
       "      <td>0</td>\n",
       "      <td>113803</td>\n",
       "      <td>53.1000</td>\n",
       "      <td>C123</td>\n",
       "      <td>S</td>\n",
       "    </tr>\n",
       "    <tr>\n",
       "      <th>4</th>\n",
       "      <td>5</td>\n",
       "      <td>0</td>\n",
       "      <td>3</td>\n",
       "      <td>Allen, Mr. William Henry</td>\n",
       "      <td>male</td>\n",
       "      <td>35.0</td>\n",
       "      <td>0</td>\n",
       "      <td>0</td>\n",
       "      <td>373450</td>\n",
       "      <td>8.0500</td>\n",
       "      <td>NaN</td>\n",
       "      <td>S</td>\n",
       "    </tr>\n",
       "  </tbody>\n",
       "</table>\n",
       "</div>"
      ],
      "text/plain": [
       "   PassengerId  Survived  Pclass  \\\n",
       "0            1         0       3   \n",
       "1            2         1       1   \n",
       "2            3         1       3   \n",
       "3            4         1       1   \n",
       "4            5         0       3   \n",
       "\n",
       "                                                Name     Sex   Age  SibSp  \\\n",
       "0                            Braund, Mr. Owen Harris    male  22.0      1   \n",
       "1  Cumings, Mrs. John Bradley (Florence Briggs Th...  female  38.0      1   \n",
       "2                             Heikkinen, Miss. Laina  female  26.0      0   \n",
       "3       Futrelle, Mrs. Jacques Heath (Lily May Peel)  female  35.0      1   \n",
       "4                           Allen, Mr. William Henry    male  35.0      0   \n",
       "\n",
       "   Parch            Ticket     Fare Cabin Embarked  \n",
       "0      0         A/5 21171   7.2500   NaN        S  \n",
       "1      0          PC 17599  71.2833   C85        C  \n",
       "2      0  STON/O2. 3101282   7.9250   NaN        S  \n",
       "3      0            113803  53.1000  C123        S  \n",
       "4      0            373450   8.0500   NaN        S  "
      ]
     },
     "execution_count": 335,
     "metadata": {},
     "output_type": "execute_result"
    }
   ],
   "source": [
    "df.head()"
   ]
  },
  {
   "cell_type": "code",
   "execution_count": 336,
   "id": "d923c0f8",
   "metadata": {},
   "outputs": [
    {
     "name": "stdout",
     "output_type": "stream",
     "text": [
      "Index(['PassengerId', 'Survived', 'Pclass', 'Name', 'Sex', 'Age', 'SibSp',\n",
      "       'Parch', 'Ticket', 'Fare', 'Cabin', 'Embarked'],\n",
      "      dtype='object') PassengerId      int64\n",
      "Survived         int64\n",
      "Pclass           int64\n",
      "Name            object\n",
      "Sex             object\n",
      "Age            float64\n",
      "SibSp            int64\n",
      "Parch            int64\n",
      "Ticket          object\n",
      "Fare           float64\n",
      "Cabin           object\n",
      "Embarked        object\n",
      "dtype: object\n"
     ]
    }
   ],
   "source": [
    "print(df.columns, df.dtypes)"
   ]
  },
  {
   "cell_type": "code",
   "execution_count": 337,
   "id": "9918b192",
   "metadata": {},
   "outputs": [
    {
     "data": {
      "text/html": [
       "<div>\n",
       "<style scoped>\n",
       "    .dataframe tbody tr th:only-of-type {\n",
       "        vertical-align: middle;\n",
       "    }\n",
       "\n",
       "    .dataframe tbody tr th {\n",
       "        vertical-align: top;\n",
       "    }\n",
       "\n",
       "    .dataframe thead th {\n",
       "        text-align: right;\n",
       "    }\n",
       "</style>\n",
       "<table border=\"1\" class=\"dataframe\">\n",
       "  <thead>\n",
       "    <tr style=\"text-align: right;\">\n",
       "      <th></th>\n",
       "      <th>PassengerId</th>\n",
       "      <th>Survived</th>\n",
       "      <th>Pclass</th>\n",
       "      <th>Age</th>\n",
       "      <th>SibSp</th>\n",
       "      <th>Parch</th>\n",
       "      <th>Fare</th>\n",
       "    </tr>\n",
       "  </thead>\n",
       "  <tbody>\n",
       "    <tr>\n",
       "      <th>count</th>\n",
       "      <td>891.000000</td>\n",
       "      <td>891.000000</td>\n",
       "      <td>891.000000</td>\n",
       "      <td>714.000000</td>\n",
       "      <td>891.000000</td>\n",
       "      <td>891.000000</td>\n",
       "      <td>891.000000</td>\n",
       "    </tr>\n",
       "    <tr>\n",
       "      <th>mean</th>\n",
       "      <td>446.000000</td>\n",
       "      <td>0.383838</td>\n",
       "      <td>2.308642</td>\n",
       "      <td>29.699118</td>\n",
       "      <td>0.523008</td>\n",
       "      <td>0.381594</td>\n",
       "      <td>32.204208</td>\n",
       "    </tr>\n",
       "    <tr>\n",
       "      <th>std</th>\n",
       "      <td>257.353842</td>\n",
       "      <td>0.486592</td>\n",
       "      <td>0.836071</td>\n",
       "      <td>14.526497</td>\n",
       "      <td>1.102743</td>\n",
       "      <td>0.806057</td>\n",
       "      <td>49.693429</td>\n",
       "    </tr>\n",
       "    <tr>\n",
       "      <th>min</th>\n",
       "      <td>1.000000</td>\n",
       "      <td>0.000000</td>\n",
       "      <td>1.000000</td>\n",
       "      <td>0.420000</td>\n",
       "      <td>0.000000</td>\n",
       "      <td>0.000000</td>\n",
       "      <td>0.000000</td>\n",
       "    </tr>\n",
       "    <tr>\n",
       "      <th>25%</th>\n",
       "      <td>223.500000</td>\n",
       "      <td>0.000000</td>\n",
       "      <td>2.000000</td>\n",
       "      <td>20.125000</td>\n",
       "      <td>0.000000</td>\n",
       "      <td>0.000000</td>\n",
       "      <td>7.910400</td>\n",
       "    </tr>\n",
       "    <tr>\n",
       "      <th>50%</th>\n",
       "      <td>446.000000</td>\n",
       "      <td>0.000000</td>\n",
       "      <td>3.000000</td>\n",
       "      <td>28.000000</td>\n",
       "      <td>0.000000</td>\n",
       "      <td>0.000000</td>\n",
       "      <td>14.454200</td>\n",
       "    </tr>\n",
       "    <tr>\n",
       "      <th>75%</th>\n",
       "      <td>668.500000</td>\n",
       "      <td>1.000000</td>\n",
       "      <td>3.000000</td>\n",
       "      <td>38.000000</td>\n",
       "      <td>1.000000</td>\n",
       "      <td>0.000000</td>\n",
       "      <td>31.000000</td>\n",
       "    </tr>\n",
       "    <tr>\n",
       "      <th>max</th>\n",
       "      <td>891.000000</td>\n",
       "      <td>1.000000</td>\n",
       "      <td>3.000000</td>\n",
       "      <td>80.000000</td>\n",
       "      <td>8.000000</td>\n",
       "      <td>6.000000</td>\n",
       "      <td>512.329200</td>\n",
       "    </tr>\n",
       "  </tbody>\n",
       "</table>\n",
       "</div>"
      ],
      "text/plain": [
       "       PassengerId    Survived      Pclass         Age       SibSp  \\\n",
       "count   891.000000  891.000000  891.000000  714.000000  891.000000   \n",
       "mean    446.000000    0.383838    2.308642   29.699118    0.523008   \n",
       "std     257.353842    0.486592    0.836071   14.526497    1.102743   \n",
       "min       1.000000    0.000000    1.000000    0.420000    0.000000   \n",
       "25%     223.500000    0.000000    2.000000   20.125000    0.000000   \n",
       "50%     446.000000    0.000000    3.000000   28.000000    0.000000   \n",
       "75%     668.500000    1.000000    3.000000   38.000000    1.000000   \n",
       "max     891.000000    1.000000    3.000000   80.000000    8.000000   \n",
       "\n",
       "            Parch        Fare  \n",
       "count  891.000000  891.000000  \n",
       "mean     0.381594   32.204208  \n",
       "std      0.806057   49.693429  \n",
       "min      0.000000    0.000000  \n",
       "25%      0.000000    7.910400  \n",
       "50%      0.000000   14.454200  \n",
       "75%      0.000000   31.000000  \n",
       "max      6.000000  512.329200  "
      ]
     },
     "execution_count": 337,
     "metadata": {},
     "output_type": "execute_result"
    }
   ],
   "source": [
    "df.describe()"
   ]
  },
  {
   "cell_type": "markdown",
   "id": "1cfcd5ee",
   "metadata": {},
   "source": [
    "# Preparing the data"
   ]
  },
  {
   "cell_type": "markdown",
   "id": "89b38fe0",
   "metadata": {},
   "source": [
    "## Dropping unwanted columns"
   ]
  },
  {
   "cell_type": "markdown",
   "id": "fb6763aa",
   "metadata": {},
   "source": [
    "For this second EDA, I'm keeping all columns for now."
   ]
  },
  {
   "cell_type": "code",
   "execution_count": 338,
   "id": "a4590656",
   "metadata": {},
   "outputs": [],
   "source": [
    "# df = df[[#'PassengerId', \n",
    "#     'Survived', 'Pclass', \n",
    "#     #'Name', \n",
    "#     'Sex', 'Age', 'SibSp','Parch',\n",
    "#     #'Ticket', \n",
    "#     'Fare', \n",
    "#     #'Cabin', 'Embarked'\n",
    "#    ]].copy()"
   ]
  },
  {
   "cell_type": "code",
   "execution_count": 339,
   "id": "95ad8328",
   "metadata": {},
   "outputs": [
    {
     "data": {
      "text/plain": [
       "(891, 12)"
      ]
     },
     "execution_count": 339,
     "metadata": {},
     "output_type": "execute_result"
    }
   ],
   "source": [
    "df.shape"
   ]
  },
  {
   "cell_type": "code",
   "execution_count": 340,
   "id": "658e9f8a",
   "metadata": {},
   "outputs": [
    {
     "data": {
      "text/plain": [
       "PassengerId      int64\n",
       "Survived         int64\n",
       "Pclass           int64\n",
       "Name            object\n",
       "Sex             object\n",
       "Age            float64\n",
       "SibSp            int64\n",
       "Parch            int64\n",
       "Ticket          object\n",
       "Fare           float64\n",
       "Cabin           object\n",
       "Embarked        object\n",
       "dtype: object"
      ]
     },
     "execution_count": 340,
     "metadata": {},
     "output_type": "execute_result"
    }
   ],
   "source": [
    "df.dtypes"
   ]
  },
  {
   "cell_type": "markdown",
   "id": "d56eeaf6",
   "metadata": {},
   "source": [
    "## Renaming columns"
   ]
  },
  {
   "cell_type": "code",
   "execution_count": 341,
   "id": "a7d159ac",
   "metadata": {},
   "outputs": [
    {
     "data": {
      "text/plain": [
       "Index(['PassengerId', 'Survived', 'Pclass', 'Name', 'Sex', 'Age', 'SibSp',\n",
       "       'Parch', 'Ticket', 'Fare', 'Cabin', 'Embarked'],\n",
       "      dtype='object')"
      ]
     },
     "execution_count": 341,
     "metadata": {},
     "output_type": "execute_result"
    }
   ],
   "source": [
    "df.columns"
   ]
  },
  {
   "cell_type": "code",
   "execution_count": 342,
   "id": "7a81800a",
   "metadata": {},
   "outputs": [],
   "source": [
    "df = df.rename(columns={'Survived': 'y', \n",
    "                   'Pclass' : 'Class',\n",
    "                   'Parch': 'ParCh'})"
   ]
  },
  {
   "cell_type": "code",
   "execution_count": 343,
   "id": "1fda6878",
   "metadata": {},
   "outputs": [
    {
     "data": {
      "text/html": [
       "<div>\n",
       "<style scoped>\n",
       "    .dataframe tbody tr th:only-of-type {\n",
       "        vertical-align: middle;\n",
       "    }\n",
       "\n",
       "    .dataframe tbody tr th {\n",
       "        vertical-align: top;\n",
       "    }\n",
       "\n",
       "    .dataframe thead th {\n",
       "        text-align: right;\n",
       "    }\n",
       "</style>\n",
       "<table border=\"1\" class=\"dataframe\">\n",
       "  <thead>\n",
       "    <tr style=\"text-align: right;\">\n",
       "      <th></th>\n",
       "      <th>PassengerId</th>\n",
       "      <th>y</th>\n",
       "      <th>Class</th>\n",
       "      <th>Name</th>\n",
       "      <th>Sex</th>\n",
       "      <th>Age</th>\n",
       "      <th>SibSp</th>\n",
       "      <th>ParCh</th>\n",
       "      <th>Ticket</th>\n",
       "      <th>Fare</th>\n",
       "      <th>Cabin</th>\n",
       "      <th>Embarked</th>\n",
       "    </tr>\n",
       "  </thead>\n",
       "  <tbody>\n",
       "    <tr>\n",
       "      <th>0</th>\n",
       "      <td>1</td>\n",
       "      <td>0</td>\n",
       "      <td>3</td>\n",
       "      <td>Braund, Mr. Owen Harris</td>\n",
       "      <td>male</td>\n",
       "      <td>22.0</td>\n",
       "      <td>1</td>\n",
       "      <td>0</td>\n",
       "      <td>A/5 21171</td>\n",
       "      <td>7.2500</td>\n",
       "      <td>NaN</td>\n",
       "      <td>S</td>\n",
       "    </tr>\n",
       "    <tr>\n",
       "      <th>1</th>\n",
       "      <td>2</td>\n",
       "      <td>1</td>\n",
       "      <td>1</td>\n",
       "      <td>Cumings, Mrs. John Bradley (Florence Briggs Th...</td>\n",
       "      <td>female</td>\n",
       "      <td>38.0</td>\n",
       "      <td>1</td>\n",
       "      <td>0</td>\n",
       "      <td>PC 17599</td>\n",
       "      <td>71.2833</td>\n",
       "      <td>C85</td>\n",
       "      <td>C</td>\n",
       "    </tr>\n",
       "    <tr>\n",
       "      <th>2</th>\n",
       "      <td>3</td>\n",
       "      <td>1</td>\n",
       "      <td>3</td>\n",
       "      <td>Heikkinen, Miss. Laina</td>\n",
       "      <td>female</td>\n",
       "      <td>26.0</td>\n",
       "      <td>0</td>\n",
       "      <td>0</td>\n",
       "      <td>STON/O2. 3101282</td>\n",
       "      <td>7.9250</td>\n",
       "      <td>NaN</td>\n",
       "      <td>S</td>\n",
       "    </tr>\n",
       "    <tr>\n",
       "      <th>3</th>\n",
       "      <td>4</td>\n",
       "      <td>1</td>\n",
       "      <td>1</td>\n",
       "      <td>Futrelle, Mrs. Jacques Heath (Lily May Peel)</td>\n",
       "      <td>female</td>\n",
       "      <td>35.0</td>\n",
       "      <td>1</td>\n",
       "      <td>0</td>\n",
       "      <td>113803</td>\n",
       "      <td>53.1000</td>\n",
       "      <td>C123</td>\n",
       "      <td>S</td>\n",
       "    </tr>\n",
       "    <tr>\n",
       "      <th>4</th>\n",
       "      <td>5</td>\n",
       "      <td>0</td>\n",
       "      <td>3</td>\n",
       "      <td>Allen, Mr. William Henry</td>\n",
       "      <td>male</td>\n",
       "      <td>35.0</td>\n",
       "      <td>0</td>\n",
       "      <td>0</td>\n",
       "      <td>373450</td>\n",
       "      <td>8.0500</td>\n",
       "      <td>NaN</td>\n",
       "      <td>S</td>\n",
       "    </tr>\n",
       "  </tbody>\n",
       "</table>\n",
       "</div>"
      ],
      "text/plain": [
       "   PassengerId  y  Class                                               Name  \\\n",
       "0            1  0      3                            Braund, Mr. Owen Harris   \n",
       "1            2  1      1  Cumings, Mrs. John Bradley (Florence Briggs Th...   \n",
       "2            3  1      3                             Heikkinen, Miss. Laina   \n",
       "3            4  1      1       Futrelle, Mrs. Jacques Heath (Lily May Peel)   \n",
       "4            5  0      3                           Allen, Mr. William Henry   \n",
       "\n",
       "      Sex   Age  SibSp  ParCh            Ticket     Fare Cabin Embarked  \n",
       "0    male  22.0      1      0         A/5 21171   7.2500   NaN        S  \n",
       "1  female  38.0      1      0          PC 17599  71.2833   C85        C  \n",
       "2  female  26.0      0      0  STON/O2. 3101282   7.9250   NaN        S  \n",
       "3  female  35.0      1      0            113803  53.1000  C123        S  \n",
       "4    male  35.0      0      0            373450   8.0500   NaN        S  "
      ]
     },
     "execution_count": 343,
     "metadata": {},
     "output_type": "execute_result"
    }
   ],
   "source": [
    "df.head()"
   ]
  },
  {
   "cell_type": "markdown",
   "id": "017acdad",
   "metadata": {},
   "source": [
    "## Identifying missing data"
   ]
  },
  {
   "cell_type": "code",
   "execution_count": 344,
   "id": "a9b67c92",
   "metadata": {},
   "outputs": [
    {
     "data": {
      "text/plain": [
       "PassengerId      0\n",
       "y                0\n",
       "Class            0\n",
       "Name             0\n",
       "Sex              0\n",
       "Age            177\n",
       "SibSp            0\n",
       "ParCh            0\n",
       "Ticket           0\n",
       "Fare             0\n",
       "Cabin          687\n",
       "Embarked         2\n",
       "dtype: int64"
      ]
     },
     "execution_count": 344,
     "metadata": {},
     "output_type": "execute_result"
    }
   ],
   "source": [
    "df.isna().sum()"
   ]
  },
  {
   "cell_type": "markdown",
   "id": "177644c9",
   "metadata": {},
   "source": [
    "Will impute with Miss Forest or use a Random Forest model"
   ]
  },
  {
   "cell_type": "markdown",
   "id": "5f853ab6",
   "metadata": {},
   "source": [
    "## Identifying duplicates"
   ]
  },
  {
   "cell_type": "code",
   "execution_count": 345,
   "id": "e119cbc2",
   "metadata": {},
   "outputs": [
    {
     "data": {
      "text/plain": [
       "0"
      ]
     },
     "execution_count": 345,
     "metadata": {},
     "output_type": "execute_result"
    }
   ],
   "source": [
    "df.duplicated().sum() #wont be on account of name"
   ]
  },
  {
   "cell_type": "code",
   "execution_count": 346,
   "id": "30f850b6",
   "metadata": {},
   "outputs": [
    {
     "data": {
      "text/html": [
       "<div>\n",
       "<style scoped>\n",
       "    .dataframe tbody tr th:only-of-type {\n",
       "        vertical-align: middle;\n",
       "    }\n",
       "\n",
       "    .dataframe tbody tr th {\n",
       "        vertical-align: top;\n",
       "    }\n",
       "\n",
       "    .dataframe thead th {\n",
       "        text-align: right;\n",
       "    }\n",
       "</style>\n",
       "<table border=\"1\" class=\"dataframe\">\n",
       "  <thead>\n",
       "    <tr style=\"text-align: right;\">\n",
       "      <th></th>\n",
       "      <th>PassengerId</th>\n",
       "      <th>y</th>\n",
       "      <th>Class</th>\n",
       "      <th>Name</th>\n",
       "      <th>Sex</th>\n",
       "      <th>Age</th>\n",
       "      <th>SibSp</th>\n",
       "      <th>ParCh</th>\n",
       "      <th>Ticket</th>\n",
       "      <th>Fare</th>\n",
       "      <th>Cabin</th>\n",
       "      <th>Embarked</th>\n",
       "    </tr>\n",
       "  </thead>\n",
       "  <tbody>\n",
       "  </tbody>\n",
       "</table>\n",
       "</div>"
      ],
      "text/plain": [
       "Empty DataFrame\n",
       "Columns: [PassengerId, y, Class, Name, Sex, Age, SibSp, ParCh, Ticket, Fare, Cabin, Embarked]\n",
       "Index: []"
      ]
     },
     "execution_count": 346,
     "metadata": {},
     "output_type": "execute_result"
    }
   ],
   "source": [
    "df.loc[df.duplicated()] "
   ]
  },
  {
   "cell_type": "code",
   "execution_count": 347,
   "id": "42d8025d",
   "metadata": {},
   "outputs": [],
   "source": [
    "# df = df.drop_duplicates(keep='first') \\\n",
    "#     .reset_index() \\\n",
    "#     .copy()"
   ]
  },
  {
   "cell_type": "markdown",
   "id": "856da5bf",
   "metadata": {},
   "source": [
    "I'm going to retain all duplicates as they're likely to be reflected in the test data. Further, I have seen that some are the result of NaN values for age which could imputed using Miss Forest."
   ]
  },
  {
   "cell_type": "code",
   "execution_count": 348,
   "id": "b642843f",
   "metadata": {},
   "outputs": [
    {
     "data": {
      "text/html": [
       "<div>\n",
       "<style scoped>\n",
       "    .dataframe tbody tr th:only-of-type {\n",
       "        vertical-align: middle;\n",
       "    }\n",
       "\n",
       "    .dataframe tbody tr th {\n",
       "        vertical-align: top;\n",
       "    }\n",
       "\n",
       "    .dataframe thead th {\n",
       "        text-align: right;\n",
       "    }\n",
       "</style>\n",
       "<table border=\"1\" class=\"dataframe\">\n",
       "  <thead>\n",
       "    <tr style=\"text-align: right;\">\n",
       "      <th></th>\n",
       "      <th>PassengerId</th>\n",
       "      <th>y</th>\n",
       "      <th>Class</th>\n",
       "      <th>Name</th>\n",
       "      <th>Sex</th>\n",
       "      <th>Age</th>\n",
       "      <th>SibSp</th>\n",
       "      <th>ParCh</th>\n",
       "      <th>Ticket</th>\n",
       "      <th>Fare</th>\n",
       "      <th>Cabin</th>\n",
       "      <th>Embarked</th>\n",
       "    </tr>\n",
       "  </thead>\n",
       "  <tbody>\n",
       "    <tr>\n",
       "      <th>179</th>\n",
       "      <td>180</td>\n",
       "      <td>0</td>\n",
       "      <td>3</td>\n",
       "      <td>Leonard, Mr. Lionel</td>\n",
       "      <td>male</td>\n",
       "      <td>36.0</td>\n",
       "      <td>0</td>\n",
       "      <td>0</td>\n",
       "      <td>LINE</td>\n",
       "      <td>0.0</td>\n",
       "      <td>NaN</td>\n",
       "      <td>S</td>\n",
       "    </tr>\n",
       "    <tr>\n",
       "      <th>263</th>\n",
       "      <td>264</td>\n",
       "      <td>0</td>\n",
       "      <td>1</td>\n",
       "      <td>Harrison, Mr. William</td>\n",
       "      <td>male</td>\n",
       "      <td>40.0</td>\n",
       "      <td>0</td>\n",
       "      <td>0</td>\n",
       "      <td>112059</td>\n",
       "      <td>0.0</td>\n",
       "      <td>B94</td>\n",
       "      <td>S</td>\n",
       "    </tr>\n",
       "    <tr>\n",
       "      <th>271</th>\n",
       "      <td>272</td>\n",
       "      <td>1</td>\n",
       "      <td>3</td>\n",
       "      <td>Tornquist, Mr. William Henry</td>\n",
       "      <td>male</td>\n",
       "      <td>25.0</td>\n",
       "      <td>0</td>\n",
       "      <td>0</td>\n",
       "      <td>LINE</td>\n",
       "      <td>0.0</td>\n",
       "      <td>NaN</td>\n",
       "      <td>S</td>\n",
       "    </tr>\n",
       "    <tr>\n",
       "      <th>277</th>\n",
       "      <td>278</td>\n",
       "      <td>0</td>\n",
       "      <td>2</td>\n",
       "      <td>Parkes, Mr. Francis \"Frank\"</td>\n",
       "      <td>male</td>\n",
       "      <td>NaN</td>\n",
       "      <td>0</td>\n",
       "      <td>0</td>\n",
       "      <td>239853</td>\n",
       "      <td>0.0</td>\n",
       "      <td>NaN</td>\n",
       "      <td>S</td>\n",
       "    </tr>\n",
       "    <tr>\n",
       "      <th>302</th>\n",
       "      <td>303</td>\n",
       "      <td>0</td>\n",
       "      <td>3</td>\n",
       "      <td>Johnson, Mr. William Cahoone Jr</td>\n",
       "      <td>male</td>\n",
       "      <td>19.0</td>\n",
       "      <td>0</td>\n",
       "      <td>0</td>\n",
       "      <td>LINE</td>\n",
       "      <td>0.0</td>\n",
       "      <td>NaN</td>\n",
       "      <td>S</td>\n",
       "    </tr>\n",
       "    <tr>\n",
       "      <th>413</th>\n",
       "      <td>414</td>\n",
       "      <td>0</td>\n",
       "      <td>2</td>\n",
       "      <td>Cunningham, Mr. Alfred Fleming</td>\n",
       "      <td>male</td>\n",
       "      <td>NaN</td>\n",
       "      <td>0</td>\n",
       "      <td>0</td>\n",
       "      <td>239853</td>\n",
       "      <td>0.0</td>\n",
       "      <td>NaN</td>\n",
       "      <td>S</td>\n",
       "    </tr>\n",
       "    <tr>\n",
       "      <th>466</th>\n",
       "      <td>467</td>\n",
       "      <td>0</td>\n",
       "      <td>2</td>\n",
       "      <td>Campbell, Mr. William</td>\n",
       "      <td>male</td>\n",
       "      <td>NaN</td>\n",
       "      <td>0</td>\n",
       "      <td>0</td>\n",
       "      <td>239853</td>\n",
       "      <td>0.0</td>\n",
       "      <td>NaN</td>\n",
       "      <td>S</td>\n",
       "    </tr>\n",
       "    <tr>\n",
       "      <th>481</th>\n",
       "      <td>482</td>\n",
       "      <td>0</td>\n",
       "      <td>2</td>\n",
       "      <td>Frost, Mr. Anthony Wood \"Archie\"</td>\n",
       "      <td>male</td>\n",
       "      <td>NaN</td>\n",
       "      <td>0</td>\n",
       "      <td>0</td>\n",
       "      <td>239854</td>\n",
       "      <td>0.0</td>\n",
       "      <td>NaN</td>\n",
       "      <td>S</td>\n",
       "    </tr>\n",
       "    <tr>\n",
       "      <th>597</th>\n",
       "      <td>598</td>\n",
       "      <td>0</td>\n",
       "      <td>3</td>\n",
       "      <td>Johnson, Mr. Alfred</td>\n",
       "      <td>male</td>\n",
       "      <td>49.0</td>\n",
       "      <td>0</td>\n",
       "      <td>0</td>\n",
       "      <td>LINE</td>\n",
       "      <td>0.0</td>\n",
       "      <td>NaN</td>\n",
       "      <td>S</td>\n",
       "    </tr>\n",
       "    <tr>\n",
       "      <th>633</th>\n",
       "      <td>634</td>\n",
       "      <td>0</td>\n",
       "      <td>1</td>\n",
       "      <td>Parr, Mr. William Henry Marsh</td>\n",
       "      <td>male</td>\n",
       "      <td>NaN</td>\n",
       "      <td>0</td>\n",
       "      <td>0</td>\n",
       "      <td>112052</td>\n",
       "      <td>0.0</td>\n",
       "      <td>NaN</td>\n",
       "      <td>S</td>\n",
       "    </tr>\n",
       "    <tr>\n",
       "      <th>674</th>\n",
       "      <td>675</td>\n",
       "      <td>0</td>\n",
       "      <td>2</td>\n",
       "      <td>Watson, Mr. Ennis Hastings</td>\n",
       "      <td>male</td>\n",
       "      <td>NaN</td>\n",
       "      <td>0</td>\n",
       "      <td>0</td>\n",
       "      <td>239856</td>\n",
       "      <td>0.0</td>\n",
       "      <td>NaN</td>\n",
       "      <td>S</td>\n",
       "    </tr>\n",
       "    <tr>\n",
       "      <th>732</th>\n",
       "      <td>733</td>\n",
       "      <td>0</td>\n",
       "      <td>2</td>\n",
       "      <td>Knight, Mr. Robert J</td>\n",
       "      <td>male</td>\n",
       "      <td>NaN</td>\n",
       "      <td>0</td>\n",
       "      <td>0</td>\n",
       "      <td>239855</td>\n",
       "      <td>0.0</td>\n",
       "      <td>NaN</td>\n",
       "      <td>S</td>\n",
       "    </tr>\n",
       "    <tr>\n",
       "      <th>806</th>\n",
       "      <td>807</td>\n",
       "      <td>0</td>\n",
       "      <td>1</td>\n",
       "      <td>Andrews, Mr. Thomas Jr</td>\n",
       "      <td>male</td>\n",
       "      <td>39.0</td>\n",
       "      <td>0</td>\n",
       "      <td>0</td>\n",
       "      <td>112050</td>\n",
       "      <td>0.0</td>\n",
       "      <td>A36</td>\n",
       "      <td>S</td>\n",
       "    </tr>\n",
       "    <tr>\n",
       "      <th>815</th>\n",
       "      <td>816</td>\n",
       "      <td>0</td>\n",
       "      <td>1</td>\n",
       "      <td>Fry, Mr. Richard</td>\n",
       "      <td>male</td>\n",
       "      <td>NaN</td>\n",
       "      <td>0</td>\n",
       "      <td>0</td>\n",
       "      <td>112058</td>\n",
       "      <td>0.0</td>\n",
       "      <td>B102</td>\n",
       "      <td>S</td>\n",
       "    </tr>\n",
       "    <tr>\n",
       "      <th>822</th>\n",
       "      <td>823</td>\n",
       "      <td>0</td>\n",
       "      <td>1</td>\n",
       "      <td>Reuchlin, Jonkheer. John George</td>\n",
       "      <td>male</td>\n",
       "      <td>38.0</td>\n",
       "      <td>0</td>\n",
       "      <td>0</td>\n",
       "      <td>19972</td>\n",
       "      <td>0.0</td>\n",
       "      <td>NaN</td>\n",
       "      <td>S</td>\n",
       "    </tr>\n",
       "  </tbody>\n",
       "</table>\n",
       "</div>"
      ],
      "text/plain": [
       "     PassengerId  y  Class                              Name   Sex   Age  \\\n",
       "179          180  0      3               Leonard, Mr. Lionel  male  36.0   \n",
       "263          264  0      1             Harrison, Mr. William  male  40.0   \n",
       "271          272  1      3      Tornquist, Mr. William Henry  male  25.0   \n",
       "277          278  0      2       Parkes, Mr. Francis \"Frank\"  male   NaN   \n",
       "302          303  0      3   Johnson, Mr. William Cahoone Jr  male  19.0   \n",
       "413          414  0      2    Cunningham, Mr. Alfred Fleming  male   NaN   \n",
       "466          467  0      2             Campbell, Mr. William  male   NaN   \n",
       "481          482  0      2  Frost, Mr. Anthony Wood \"Archie\"  male   NaN   \n",
       "597          598  0      3               Johnson, Mr. Alfred  male  49.0   \n",
       "633          634  0      1     Parr, Mr. William Henry Marsh  male   NaN   \n",
       "674          675  0      2        Watson, Mr. Ennis Hastings  male   NaN   \n",
       "732          733  0      2              Knight, Mr. Robert J  male   NaN   \n",
       "806          807  0      1            Andrews, Mr. Thomas Jr  male  39.0   \n",
       "815          816  0      1                  Fry, Mr. Richard  male   NaN   \n",
       "822          823  0      1   Reuchlin, Jonkheer. John George  male  38.0   \n",
       "\n",
       "     SibSp  ParCh  Ticket  Fare Cabin Embarked  \n",
       "179      0      0    LINE   0.0   NaN        S  \n",
       "263      0      0  112059   0.0   B94        S  \n",
       "271      0      0    LINE   0.0   NaN        S  \n",
       "277      0      0  239853   0.0   NaN        S  \n",
       "302      0      0    LINE   0.0   NaN        S  \n",
       "413      0      0  239853   0.0   NaN        S  \n",
       "466      0      0  239853   0.0   NaN        S  \n",
       "481      0      0  239854   0.0   NaN        S  \n",
       "597      0      0    LINE   0.0   NaN        S  \n",
       "633      0      0  112052   0.0   NaN        S  \n",
       "674      0      0  239856   0.0   NaN        S  \n",
       "732      0      0  239855   0.0   NaN        S  \n",
       "806      0      0  112050   0.0   A36        S  \n",
       "815      0      0  112058   0.0  B102        S  \n",
       "822      0      0   19972   0.0   NaN        S  "
      ]
     },
     "execution_count": 348,
     "metadata": {},
     "output_type": "execute_result"
    }
   ],
   "source": [
    "df.query('Fare == 0') #assume this is all staff in df"
   ]
  },
  {
   "cell_type": "markdown",
   "id": "504ee14d",
   "metadata": {},
   "source": [
    "# Changing data types"
   ]
  },
  {
   "cell_type": "code",
   "execution_count": 349,
   "id": "c30a2804",
   "metadata": {},
   "outputs": [
    {
     "data": {
      "text/plain": [
       "Index(['PassengerId', 'y', 'Class', 'Name', 'Sex', 'Age', 'SibSp', 'ParCh',\n",
       "       'Ticket', 'Fare', 'Cabin', 'Embarked'],\n",
       "      dtype='object')"
      ]
     },
     "execution_count": 349,
     "metadata": {},
     "output_type": "execute_result"
    }
   ],
   "source": [
    "df.columns"
   ]
  },
  {
   "cell_type": "code",
   "execution_count": 350,
   "id": "e71a8abf",
   "metadata": {},
   "outputs": [],
   "source": [
    "df = df.astype({'y': 'category', 'Sex': 'category'}).copy()"
   ]
  },
  {
   "cell_type": "code",
   "execution_count": 351,
   "id": "b05e39dd",
   "metadata": {},
   "outputs": [
    {
     "data": {
      "text/plain": [
       "PassengerId       int64\n",
       "y              category\n",
       "Class             int64\n",
       "Name             object\n",
       "Sex            category\n",
       "Age             float64\n",
       "SibSp             int64\n",
       "ParCh             int64\n",
       "Ticket           object\n",
       "Fare            float64\n",
       "Cabin            object\n",
       "Embarked         object\n",
       "dtype: object"
      ]
     },
     "execution_count": 351,
     "metadata": {},
     "output_type": "execute_result"
    }
   ],
   "source": [
    "df.dtypes"
   ]
  },
  {
   "cell_type": "markdown",
   "id": "b41a5f42",
   "metadata": {},
   "source": [
    "# Univariate analysis"
   ]
  },
  {
   "cell_type": "code",
   "execution_count": 352,
   "id": "ec77c823",
   "metadata": {},
   "outputs": [
    {
     "data": {
      "text/plain": [
       "Index(['PassengerId', 'y', 'Class', 'Name', 'Sex', 'Age', 'SibSp', 'ParCh',\n",
       "       'Ticket', 'Fare', 'Cabin', 'Embarked'],\n",
       "      dtype='object')"
      ]
     },
     "execution_count": 352,
     "metadata": {},
     "output_type": "execute_result"
    }
   ],
   "source": [
    "df.columns"
   ]
  },
  {
   "cell_type": "code",
   "execution_count": 353,
   "id": "37578882",
   "metadata": {},
   "outputs": [],
   "source": [
    "col = ['PassengerId', 'y', 'Class', 'Name', 'Sex', 'Age', 'SibSp', 'ParCh',\n",
    "       'Ticket', 'Fare', 'Cabin', 'Embarked']"
   ]
  },
  {
   "cell_type": "markdown",
   "id": "2975c51e",
   "metadata": {},
   "source": [
    "## Value counts"
   ]
  },
  {
   "cell_type": "code",
   "execution_count": 354,
   "id": "ea5e8a08",
   "metadata": {},
   "outputs": [],
   "source": [
    "def val_counts(x):\n",
    "    for v in x:\n",
    "        print(f\"\\n{df[v].value_counts()}\\n\")"
   ]
  },
  {
   "cell_type": "code",
   "execution_count": 355,
   "id": "ca2b1a88",
   "metadata": {},
   "outputs": [
    {
     "name": "stdout",
     "output_type": "stream",
     "text": [
      "\n",
      "1      1\n",
      "599    1\n",
      "588    1\n",
      "589    1\n",
      "590    1\n",
      "      ..\n",
      "301    1\n",
      "302    1\n",
      "303    1\n",
      "304    1\n",
      "891    1\n",
      "Name: PassengerId, Length: 891, dtype: int64\n",
      "\n",
      "\n",
      "0    549\n",
      "1    342\n",
      "Name: y, dtype: int64\n",
      "\n",
      "\n",
      "3    491\n",
      "1    216\n",
      "2    184\n",
      "Name: Class, dtype: int64\n",
      "\n",
      "\n",
      "Braund, Mr. Owen Harris                     1\n",
      "Boulos, Mr. Hanna                           1\n",
      "Frolicher-Stehli, Mr. Maxmillian            1\n",
      "Gilinski, Mr. Eliezer                       1\n",
      "Murdlin, Mr. Joseph                         1\n",
      "                                           ..\n",
      "Kelly, Miss. Anna Katherine \"Annie Kate\"    1\n",
      "McCoy, Mr. Bernard                          1\n",
      "Johnson, Mr. William Cahoone Jr             1\n",
      "Keane, Miss. Nora A                         1\n",
      "Dooley, Mr. Patrick                         1\n",
      "Name: Name, Length: 891, dtype: int64\n",
      "\n",
      "\n",
      "male      577\n",
      "female    314\n",
      "Name: Sex, dtype: int64\n",
      "\n",
      "\n",
      "24.00    30\n",
      "22.00    27\n",
      "18.00    26\n",
      "19.00    25\n",
      "28.00    25\n",
      "         ..\n",
      "36.50     1\n",
      "55.50     1\n",
      "0.92      1\n",
      "23.50     1\n",
      "74.00     1\n",
      "Name: Age, Length: 88, dtype: int64\n",
      "\n",
      "\n",
      "0    608\n",
      "1    209\n",
      "2     28\n",
      "4     18\n",
      "3     16\n",
      "8      7\n",
      "5      5\n",
      "Name: SibSp, dtype: int64\n",
      "\n",
      "\n",
      "0    678\n",
      "1    118\n",
      "2     80\n",
      "5      5\n",
      "3      5\n",
      "4      4\n",
      "6      1\n",
      "Name: ParCh, dtype: int64\n",
      "\n",
      "\n",
      "347082      7\n",
      "CA. 2343    7\n",
      "1601        7\n",
      "3101295     6\n",
      "CA 2144     6\n",
      "           ..\n",
      "9234        1\n",
      "19988       1\n",
      "2693        1\n",
      "PC 17612    1\n",
      "370376      1\n",
      "Name: Ticket, Length: 681, dtype: int64\n",
      "\n",
      "\n",
      "8.0500     43\n",
      "13.0000    42\n",
      "7.8958     38\n",
      "7.7500     34\n",
      "26.0000    31\n",
      "           ..\n",
      "35.0000     1\n",
      "28.5000     1\n",
      "6.2375      1\n",
      "14.0000     1\n",
      "10.5167     1\n",
      "Name: Fare, Length: 248, dtype: int64\n",
      "\n",
      "\n",
      "B96 B98        4\n",
      "G6             4\n",
      "C23 C25 C27    4\n",
      "C22 C26        3\n",
      "F33            3\n",
      "              ..\n",
      "E34            1\n",
      "C7             1\n",
      "C54            1\n",
      "E36            1\n",
      "C148           1\n",
      "Name: Cabin, Length: 147, dtype: int64\n",
      "\n",
      "\n",
      "S    644\n",
      "C    168\n",
      "Q     77\n",
      "Name: Embarked, dtype: int64\n",
      "\n"
     ]
    }
   ],
   "source": [
    "val_counts(col)"
   ]
  },
  {
   "cell_type": "markdown",
   "id": "5a71e789",
   "metadata": {},
   "source": [
    "# Feature Engineering"
   ]
  },
  {
   "cell_type": "code",
   "execution_count": 356,
   "id": "1ad0c601",
   "metadata": {},
   "outputs": [],
   "source": [
    "Duplicate_Cabin = None"
   ]
  },
  {
   "cell_type": "code",
   "execution_count": 357,
   "id": "791b1617",
   "metadata": {},
   "outputs": [],
   "source": [
    "df.loc[df['Cabin'].isna(), 'Duplicate_Cabin'] = 'n'\n",
    "df.loc[~df['Cabin'].isna() & ~df['Cabin'].duplicated(keep=False), 'Duplicate_Cabin'] = 'n'\n",
    "df.loc[~df['Cabin'].isna() & df['Cabin'].duplicated(keep=False), 'Duplicate_Cabin'] = 'y'"
   ]
  },
  {
   "cell_type": "code",
   "execution_count": 358,
   "id": "3f407ee5",
   "metadata": {},
   "outputs": [],
   "source": [
    "df['Duplicate_Cabin'] = pd.get_dummies(df['Duplicate_Cabin'], drop_first=True, prefix ='Yes_')"
   ]
  },
  {
   "cell_type": "code",
   "execution_count": 365,
   "id": "33dceb81",
   "metadata": {},
   "outputs": [],
   "source": [
    "hodl = []"
   ]
  },
  {
   "cell_type": "code",
   "execution_count": 366,
   "id": "223232dc",
   "metadata": {},
   "outputs": [],
   "source": [
    "for x in df.Cabin:\n",
    "    if type(x) != float:\n",
    "        hodl.append(x[0])\n",
    "    else:\n",
    "        hodl.append('None')"
   ]
  },
  {
   "cell_type": "code",
   "execution_count": 367,
   "id": "0a99727b",
   "metadata": {},
   "outputs": [],
   "source": [
    "df['Cabin_Letter'] = hodl"
   ]
  },
  {
   "cell_type": "code",
   "execution_count": 372,
   "id": "fa1a0c3d",
   "metadata": {},
   "outputs": [],
   "source": [
    "# df['Cabin_Letter'] = pd.get_dummies(df['Cabin_Letter'], drop_first=True)\n",
    "df = pd.get_dummies(df, columns=['Cabin_Letter'], drop_first=True, prefix='Cab_Letter').copy()"
   ]
  },
  {
   "cell_type": "code",
   "execution_count": 375,
   "id": "235fcc1b",
   "metadata": {},
   "outputs": [],
   "source": [
    "df = df.drop(labels='Cabin', axis=1).copy()"
   ]
  },
  {
   "cell_type": "code",
   "execution_count": 381,
   "id": "a890dc4b",
   "metadata": {},
   "outputs": [
    {
     "data": {
      "text/plain": [
       "S    0.724409\n",
       "C    0.188976\n",
       "Q    0.086614\n",
       "Name: Embarked, dtype: float64"
      ]
     },
     "execution_count": 381,
     "metadata": {},
     "output_type": "execute_result"
    }
   ],
   "source": [
    "df.Embarked.value_counts(normalize=True)"
   ]
  },
  {
   "cell_type": "code",
   "execution_count": 396,
   "id": "6514328d",
   "metadata": {},
   "outputs": [],
   "source": [
    "df['Family_Size'] = df['SibSp']+df['ParCh']"
   ]
  },
  {
   "cell_type": "code",
   "execution_count": 398,
   "id": "020aeab9",
   "metadata": {},
   "outputs": [],
   "source": [
    "df['Fare_Per_Person']=df['Fare']/(df['Family_Size']+1)"
   ]
  },
  {
   "cell_type": "code",
   "execution_count": 401,
   "id": "8585957d",
   "metadata": {},
   "outputs": [],
   "source": [
    "df= df.drop(labels='PassengerId', axis=1)"
   ]
  },
  {
   "cell_type": "code",
   "execution_count": 403,
   "id": "a4cda7a6",
   "metadata": {},
   "outputs": [],
   "source": [
    "df = pd.get_dummies(df, columns=['Sex'], drop_first=True).copy()"
   ]
  },
  {
   "cell_type": "code",
   "execution_count": 405,
   "id": "b0a7daf2",
   "metadata": {},
   "outputs": [],
   "source": [
    "df = pd.get_dummies(df, columns=['Embarked'], prefix='Embarked_', drop_first=True).copy()"
   ]
  },
  {
   "cell_type": "code",
   "execution_count": 408,
   "id": "f56a69a8",
   "metadata": {},
   "outputs": [],
   "source": [
    "df = pd.get_dummies(df, columns=['Class'], prefix='Class', drop_first=True).copy()"
   ]
  },
  {
   "cell_type": "code",
   "execution_count": 409,
   "id": "9474b55a",
   "metadata": {},
   "outputs": [
    {
     "data": {
      "text/html": [
       "<div>\n",
       "<style scoped>\n",
       "    .dataframe tbody tr th:only-of-type {\n",
       "        vertical-align: middle;\n",
       "    }\n",
       "\n",
       "    .dataframe tbody tr th {\n",
       "        vertical-align: top;\n",
       "    }\n",
       "\n",
       "    .dataframe thead th {\n",
       "        text-align: right;\n",
       "    }\n",
       "</style>\n",
       "<table border=\"1\" class=\"dataframe\">\n",
       "  <thead>\n",
       "    <tr style=\"text-align: right;\">\n",
       "      <th></th>\n",
       "      <th>y</th>\n",
       "      <th>Name</th>\n",
       "      <th>Age</th>\n",
       "      <th>SibSp</th>\n",
       "      <th>ParCh</th>\n",
       "      <th>Ticket</th>\n",
       "      <th>Fare</th>\n",
       "      <th>Duplicate_Cabin</th>\n",
       "      <th>Cab_Letter_B</th>\n",
       "      <th>Cab_Letter_C</th>\n",
       "      <th>...</th>\n",
       "      <th>Cab_Letter_G</th>\n",
       "      <th>Cab_Letter_None</th>\n",
       "      <th>Cab_Letter_T</th>\n",
       "      <th>Family_Size</th>\n",
       "      <th>Fare_Per_Person</th>\n",
       "      <th>Sex_male</th>\n",
       "      <th>Embarked__Q</th>\n",
       "      <th>Embarked__S</th>\n",
       "      <th>Class_2</th>\n",
       "      <th>Class_3</th>\n",
       "    </tr>\n",
       "  </thead>\n",
       "  <tbody>\n",
       "    <tr>\n",
       "      <th>0</th>\n",
       "      <td>0</td>\n",
       "      <td>Braund, Mr. Owen Harris</td>\n",
       "      <td>22.0</td>\n",
       "      <td>1</td>\n",
       "      <td>0</td>\n",
       "      <td>A/5 21171</td>\n",
       "      <td>7.2500</td>\n",
       "      <td>0</td>\n",
       "      <td>0</td>\n",
       "      <td>0</td>\n",
       "      <td>...</td>\n",
       "      <td>0</td>\n",
       "      <td>1</td>\n",
       "      <td>0</td>\n",
       "      <td>1</td>\n",
       "      <td>3.62500</td>\n",
       "      <td>1</td>\n",
       "      <td>0</td>\n",
       "      <td>1</td>\n",
       "      <td>0</td>\n",
       "      <td>1</td>\n",
       "    </tr>\n",
       "    <tr>\n",
       "      <th>1</th>\n",
       "      <td>1</td>\n",
       "      <td>Cumings, Mrs. John Bradley (Florence Briggs Th...</td>\n",
       "      <td>38.0</td>\n",
       "      <td>1</td>\n",
       "      <td>0</td>\n",
       "      <td>PC 17599</td>\n",
       "      <td>71.2833</td>\n",
       "      <td>0</td>\n",
       "      <td>0</td>\n",
       "      <td>1</td>\n",
       "      <td>...</td>\n",
       "      <td>0</td>\n",
       "      <td>0</td>\n",
       "      <td>0</td>\n",
       "      <td>1</td>\n",
       "      <td>35.64165</td>\n",
       "      <td>0</td>\n",
       "      <td>0</td>\n",
       "      <td>0</td>\n",
       "      <td>0</td>\n",
       "      <td>0</td>\n",
       "    </tr>\n",
       "    <tr>\n",
       "      <th>2</th>\n",
       "      <td>1</td>\n",
       "      <td>Heikkinen, Miss. Laina</td>\n",
       "      <td>26.0</td>\n",
       "      <td>0</td>\n",
       "      <td>0</td>\n",
       "      <td>STON/O2. 3101282</td>\n",
       "      <td>7.9250</td>\n",
       "      <td>0</td>\n",
       "      <td>0</td>\n",
       "      <td>0</td>\n",
       "      <td>...</td>\n",
       "      <td>0</td>\n",
       "      <td>1</td>\n",
       "      <td>0</td>\n",
       "      <td>0</td>\n",
       "      <td>7.92500</td>\n",
       "      <td>0</td>\n",
       "      <td>0</td>\n",
       "      <td>1</td>\n",
       "      <td>0</td>\n",
       "      <td>1</td>\n",
       "    </tr>\n",
       "    <tr>\n",
       "      <th>3</th>\n",
       "      <td>1</td>\n",
       "      <td>Futrelle, Mrs. Jacques Heath (Lily May Peel)</td>\n",
       "      <td>35.0</td>\n",
       "      <td>1</td>\n",
       "      <td>0</td>\n",
       "      <td>113803</td>\n",
       "      <td>53.1000</td>\n",
       "      <td>1</td>\n",
       "      <td>0</td>\n",
       "      <td>1</td>\n",
       "      <td>...</td>\n",
       "      <td>0</td>\n",
       "      <td>0</td>\n",
       "      <td>0</td>\n",
       "      <td>1</td>\n",
       "      <td>26.55000</td>\n",
       "      <td>0</td>\n",
       "      <td>0</td>\n",
       "      <td>1</td>\n",
       "      <td>0</td>\n",
       "      <td>0</td>\n",
       "    </tr>\n",
       "    <tr>\n",
       "      <th>4</th>\n",
       "      <td>0</td>\n",
       "      <td>Allen, Mr. William Henry</td>\n",
       "      <td>35.0</td>\n",
       "      <td>0</td>\n",
       "      <td>0</td>\n",
       "      <td>373450</td>\n",
       "      <td>8.0500</td>\n",
       "      <td>0</td>\n",
       "      <td>0</td>\n",
       "      <td>0</td>\n",
       "      <td>...</td>\n",
       "      <td>0</td>\n",
       "      <td>1</td>\n",
       "      <td>0</td>\n",
       "      <td>0</td>\n",
       "      <td>8.05000</td>\n",
       "      <td>1</td>\n",
       "      <td>0</td>\n",
       "      <td>1</td>\n",
       "      <td>0</td>\n",
       "      <td>1</td>\n",
       "    </tr>\n",
       "  </tbody>\n",
       "</table>\n",
       "<p>5 rows × 23 columns</p>\n",
       "</div>"
      ],
      "text/plain": [
       "   y                                               Name   Age  SibSp  ParCh  \\\n",
       "0  0                            Braund, Mr. Owen Harris  22.0      1      0   \n",
       "1  1  Cumings, Mrs. John Bradley (Florence Briggs Th...  38.0      1      0   \n",
       "2  1                             Heikkinen, Miss. Laina  26.0      0      0   \n",
       "3  1       Futrelle, Mrs. Jacques Heath (Lily May Peel)  35.0      1      0   \n",
       "4  0                           Allen, Mr. William Henry  35.0      0      0   \n",
       "\n",
       "             Ticket     Fare  Duplicate_Cabin  Cab_Letter_B  Cab_Letter_C  \\\n",
       "0         A/5 21171   7.2500                0             0             0   \n",
       "1          PC 17599  71.2833                0             0             1   \n",
       "2  STON/O2. 3101282   7.9250                0             0             0   \n",
       "3            113803  53.1000                1             0             1   \n",
       "4            373450   8.0500                0             0             0   \n",
       "\n",
       "   ...  Cab_Letter_G  Cab_Letter_None  Cab_Letter_T  Family_Size  \\\n",
       "0  ...             0                1             0            1   \n",
       "1  ...             0                0             0            1   \n",
       "2  ...             0                1             0            0   \n",
       "3  ...             0                0             0            1   \n",
       "4  ...             0                1             0            0   \n",
       "\n",
       "   Fare_Per_Person  Sex_male  Embarked__Q  Embarked__S  Class_2  Class_3  \n",
       "0          3.62500         1            0            1        0        1  \n",
       "1         35.64165         0            0            0        0        0  \n",
       "2          7.92500         0            0            1        0        1  \n",
       "3         26.55000         0            0            1        0        0  \n",
       "4          8.05000         1            0            1        0        1  \n",
       "\n",
       "[5 rows x 23 columns]"
      ]
     },
     "execution_count": 409,
     "metadata": {},
     "output_type": "execute_result"
    }
   ],
   "source": [
    "df.head()"
   ]
  },
  {
   "cell_type": "code",
   "execution_count": 411,
   "id": "dee0933e",
   "metadata": {},
   "outputs": [],
   "source": [
    "df.to_csv('Second_EDA.csv', index=False)"
   ]
  },
  {
   "cell_type": "code",
   "execution_count": 27,
   "id": "5a621048",
   "metadata": {},
   "outputs": [],
   "source": [
    "#INVESTIGATIONS/ACTIONS\n",
    "# Sex, class, embark get dummies, cabin \n",
    "#extract title from names\n",
    "#<1 age?\n",
    "#family size .. SibSp + ParCh\n",
    "#duplicate tickets? \n",
    "#duplicate cabins, extract letter? "
   ]
  },
  {
   "cell_type": "code",
   "execution_count": 216,
   "id": "964c0ab7",
   "metadata": {},
   "outputs": [
    {
     "data": {
      "text/html": [
       "<style type=\"text/css\">\n",
       "</style>\n",
       "<table id=\"T_76bb9\">\n",
       "  <caption>How useful is the duplicate Cabin and/or Ticket feature for predicting survival within the index feature? The survival rate is 38% overall.</caption>\n",
       "  <thead>\n",
       "    <tr>\n",
       "      <th class=\"blank level0\" >&nbsp;</th>\n",
       "      <th id=\"T_76bb9_level0_col0\" class=\"col_heading level0 col0\" >Total_Proportion</th>\n",
       "      <th id=\"T_76bb9_level0_col1\" class=\"col_heading level0 col1\" >Duplicate_Cabin</th>\n",
       "      <th id=\"T_76bb9_level0_col2\" class=\"col_heading level0 col2\" >Duplicate_Ticket_and_Cabin</th>\n",
       "      <th id=\"T_76bb9_level0_col3\" class=\"col_heading level0 col3\" >Duplicate_Ticket</th>\n",
       "    </tr>\n",
       "  </thead>\n",
       "  <tbody>\n",
       "    <tr>\n",
       "      <th id=\"T_76bb9_level0_row0\" class=\"row_heading level0 row0\" >SibSp_or_ParCh</th>\n",
       "      <td id=\"T_76bb9_row0_col0\" class=\"data row0 col0\" >50.560000</td>\n",
       "      <td id=\"T_76bb9_row0_col1\" class=\"data row0 col1\" >73.970000</td>\n",
       "      <td id=\"T_76bb9_row0_col2\" class=\"data row0 col2\" >50.200000</td>\n",
       "      <td id=\"T_76bb9_row0_col3\" class=\"data row0 col3\" >52.420000</td>\n",
       "    </tr>\n",
       "    <tr>\n",
       "      <th id=\"T_76bb9_level0_row1\" class=\"row_heading level0 row1\" >SibSp_and_ParCh</th>\n",
       "      <td id=\"T_76bb9_row1_col0\" class=\"data row1 col0\" >43.660000</td>\n",
       "      <td id=\"T_76bb9_row1_col1\" class=\"data row1 col1\" >69.230000</td>\n",
       "      <td id=\"T_76bb9_row1_col2\" class=\"data row1 col2\" >40.480000</td>\n",
       "      <td id=\"T_76bb9_row1_col3\" class=\"data row1 col3\" >42.310000</td>\n",
       "    </tr>\n",
       "    <tr>\n",
       "      <th id=\"T_76bb9_level0_row2\" class=\"row_heading level0 row2\" >ParCh</th>\n",
       "      <td id=\"T_76bb9_row2_col0\" class=\"data row2 col0\" >51.170000</td>\n",
       "      <td id=\"T_76bb9_row2_col1\" class=\"data row2 col1\" >69.770000</td>\n",
       "      <td id=\"T_76bb9_row2_col2\" class=\"data row2 col2\" >47.020000</td>\n",
       "      <td id=\"T_76bb9_row2_col3\" class=\"data row2 col3\" >49.720000</td>\n",
       "    </tr>\n",
       "    <tr>\n",
       "      <th id=\"T_76bb9_level0_row3\" class=\"row_heading level0 row3\" >SibSp</th>\n",
       "      <td id=\"T_76bb9_row3_col0\" class=\"data row3 col0\" >46.640000</td>\n",
       "      <td id=\"T_76bb9_row3_col1\" class=\"data row3 col1\" >75.000000</td>\n",
       "      <td id=\"T_76bb9_row3_col2\" class=\"data row3 col2\" >46.860000</td>\n",
       "      <td id=\"T_76bb9_row3_col3\" class=\"data row3 col3\" >48.620000</td>\n",
       "    </tr>\n",
       "    <tr>\n",
       "      <th id=\"T_76bb9_level0_row4\" class=\"row_heading level0 row4\" >Female</th>\n",
       "      <td id=\"T_76bb9_row4_col0\" class=\"data row4 col0\" >74.200000</td>\n",
       "      <td id=\"T_76bb9_row4_col1\" class=\"data row4 col1\" >93.330000</td>\n",
       "      <td id=\"T_76bb9_row4_col2\" class=\"data row4 col2\" >69.540000</td>\n",
       "      <td id=\"T_76bb9_row4_col3\" class=\"data row4 col3\" >73.890000</td>\n",
       "    </tr>\n",
       "    <tr>\n",
       "      <th id=\"T_76bb9_level0_row5\" class=\"row_heading level0 row5\" >Male</th>\n",
       "      <td id=\"T_76bb9_row5_col0\" class=\"data row5 col0\" >18.890000</td>\n",
       "      <td id=\"T_76bb9_row5_col1\" class=\"data row5 col1\" >51.160000</td>\n",
       "      <td id=\"T_76bb9_row5_col2\" class=\"data row5 col2\" >27.520000</td>\n",
       "      <td id=\"T_76bb9_row5_col3\" class=\"data row5 col3\" >28.050000</td>\n",
       "    </tr>\n",
       "    <tr>\n",
       "      <th id=\"T_76bb9_level0_row6\" class=\"row_heading level0 row6\" >Female_Family</th>\n",
       "      <td id=\"T_76bb9_row6_col0\" class=\"data row6 col0\" >71.280000</td>\n",
       "      <td id=\"T_76bb9_row6_col1\" class=\"data row6 col1\" >90.480000</td>\n",
       "      <td id=\"T_76bb9_row6_col2\" class=\"data row6 col2\" >66.910000</td>\n",
       "      <td id=\"T_76bb9_row6_col3\" class=\"data row6 col3\" >69.800000</td>\n",
       "    </tr>\n",
       "    <tr>\n",
       "      <th id=\"T_76bb9_level0_row7\" class=\"row_heading level0 row7\" >Male_Family</th>\n",
       "      <td id=\"T_76bb9_row7_col0\" class=\"data row7 col0\" >27.110000</td>\n",
       "      <td id=\"T_76bb9_row7_col1\" class=\"data row7 col1\" >51.610000</td>\n",
       "      <td id=\"T_76bb9_row7_col2\" class=\"data row7 col2\" >30.090000</td>\n",
       "      <td id=\"T_76bb9_row7_col3\" class=\"data row7 col3\" >30.830000</td>\n",
       "    </tr>\n",
       "    <tr>\n",
       "      <th id=\"T_76bb9_level0_row8\" class=\"row_heading level0 row8\" >No_Family</th>\n",
       "      <td id=\"T_76bb9_row8_col0\" class=\"data row8 col0\" >37.380000</td>\n",
       "      <td id=\"T_76bb9_row8_col1\" class=\"data row8 col1\" >77.920000</td>\n",
       "      <td id=\"T_76bb9_row8_col2\" class=\"data row8 col2\" >54.600000</td>\n",
       "      <td id=\"T_76bb9_row8_col3\" class=\"data row8 col3\" >57.940000</td>\n",
       "    </tr>\n",
       "    <tr>\n",
       "      <th id=\"T_76bb9_level0_row9\" class=\"row_heading level0 row9\" >Female_No_Family</th>\n",
       "      <td id=\"T_76bb9_row9_col0\" class=\"data row9 col0\" >78.570000</td>\n",
       "      <td id=\"T_76bb9_row9_col1\" class=\"data row9 col1\" >100.000000</td>\n",
       "      <td id=\"T_76bb9_row9_col2\" class=\"data row9 col2\" >93.330000</td>\n",
       "      <td id=\"T_76bb9_row9_col3\" class=\"data row9 col3\" >93.550000</td>\n",
       "    </tr>\n",
       "    <tr>\n",
       "      <th id=\"T_76bb9_level0_row10\" class=\"row_heading level0 row10\" >Male_No_Family</th>\n",
       "      <td id=\"T_76bb9_row10_col0\" class=\"data row10 col0\" >15.570000</td>\n",
       "      <td id=\"T_76bb9_row10_col1\" class=\"data row10 col1\" >50.000000</td>\n",
       "      <td id=\"T_76bb9_row10_col2\" class=\"data row10 col2\" >19.440000</td>\n",
       "      <td id=\"T_76bb9_row10_col3\" class=\"data row10 col3\" >20.450000</td>\n",
       "    </tr>\n",
       "    <tr>\n",
       "      <th id=\"T_76bb9_level0_row11\" class=\"row_heading level0 row11\" >Child</th>\n",
       "      <td id=\"T_76bb9_row11_col0\" class=\"data row11 col0\" >50.360000</td>\n",
       "      <td id=\"T_76bb9_row11_col1\" class=\"data row11 col1\" >82.350000</td>\n",
       "      <td id=\"T_76bb9_row11_col2\" class=\"data row11 col2\" >49.450000</td>\n",
       "      <td id=\"T_76bb9_row11_col3\" class=\"data row11 col3\" >51.040000</td>\n",
       "    </tr>\n",
       "  </tbody>\n",
       "</table>\n"
      ],
      "text/plain": [
       "<pandas.io.formats.style.Styler at 0x1a908836ee0>"
      ]
     },
     "execution_count": 216,
     "metadata": {},
     "output_type": "execute_result"
    }
   ],
   "source": [
    "int_prop_df.style.set_caption(\"How useful is the duplicate Cabin and/or Ticket feature for predicting survival within the index feature? The survival rate is 38% overall.\")"
   ]
  },
  {
   "cell_type": "code",
   "execution_count": 213,
   "id": "339c846b",
   "metadata": {},
   "outputs": [
    {
     "data": {
      "text/html": [
       "<style type=\"text/css\">\n",
       "</style>\n",
       "<table id=\"T_11396\">\n",
       "  <caption>What % of the DataFrame is represented by that feature?</caption>\n",
       "  <thead>\n",
       "    <tr>\n",
       "      <th class=\"blank level0\" >&nbsp;</th>\n",
       "      <th id=\"T_11396_level0_col0\" class=\"col_heading level0 col0\" >Total_Proportion</th>\n",
       "      <th id=\"T_11396_level0_col1\" class=\"col_heading level0 col1\" >Duplicate_Cabin</th>\n",
       "      <th id=\"T_11396_level0_col2\" class=\"col_heading level0 col2\" >Duplicate_Ticket_and_Cabin</th>\n",
       "      <th id=\"T_11396_level0_col3\" class=\"col_heading level0 col3\" >Duplicate_Ticket</th>\n",
       "    </tr>\n",
       "  </thead>\n",
       "  <tbody>\n",
       "    <tr>\n",
       "      <th id=\"T_11396_level0_row0\" class=\"row_heading level0 row0\" >SibSp_or_ParCh</th>\n",
       "      <td id=\"T_11396_row0_col0\" class=\"data row0 col0\" >39.730000</td>\n",
       "      <td id=\"T_11396_row0_col1\" class=\"data row0 col1\" >70.870000</td>\n",
       "      <td id=\"T_11396_row0_col2\" class=\"data row0 col2\" >83.000000</td>\n",
       "      <td id=\"T_11396_row0_col3\" class=\"data row0 col3\" >78.200000</td>\n",
       "    </tr>\n",
       "    <tr>\n",
       "      <th id=\"T_11396_level0_row1\" class=\"row_heading level0 row1\" >SibSp_and_ParCh</th>\n",
       "      <td id=\"T_11396_row1_col0\" class=\"data row1 col0\" >15.940000</td>\n",
       "      <td id=\"T_11396_row1_col1\" class=\"data row1 col1\" >25.240000</td>\n",
       "      <td id=\"T_11396_row1_col2\" class=\"data row1 col2\" >42.000000</td>\n",
       "      <td id=\"T_11396_row1_col3\" class=\"data row1 col3\" >37.790000</td>\n",
       "    </tr>\n",
       "    <tr>\n",
       "      <th id=\"T_11396_level0_row2\" class=\"row_heading level0 row2\" >ParCh</th>\n",
       "      <td id=\"T_11396_row2_col0\" class=\"data row2 col0\" >23.910000</td>\n",
       "      <td id=\"T_11396_row2_col1\" class=\"data row2 col1\" >41.750000</td>\n",
       "      <td id=\"T_11396_row2_col2\" class=\"data row2 col2\" >56.000000</td>\n",
       "      <td id=\"T_11396_row2_col3\" class=\"data row2 col3\" >52.620000</td>\n",
       "    </tr>\n",
       "    <tr>\n",
       "      <th id=\"T_11396_level0_row3\" class=\"row_heading level0 row3\" >SibSp</th>\n",
       "      <td id=\"T_11396_row3_col0\" class=\"data row3 col0\" >31.760000</td>\n",
       "      <td id=\"T_11396_row3_col1\" class=\"data row3 col1\" >54.370000</td>\n",
       "      <td id=\"T_11396_row3_col2\" class=\"data row3 col2\" >69.000000</td>\n",
       "      <td id=\"T_11396_row3_col3\" class=\"data row3 col3\" >63.370000</td>\n",
       "    </tr>\n",
       "    <tr>\n",
       "      <th id=\"T_11396_level0_row4\" class=\"row_heading level0 row4\" >Female</th>\n",
       "      <td id=\"T_11396_row4_col0\" class=\"data row4 col0\" >35.240000</td>\n",
       "      <td id=\"T_11396_row4_col1\" class=\"data row4 col1\" >58.250000</td>\n",
       "      <td id=\"T_11396_row4_col2\" class=\"data row4 col2\" >50.330000</td>\n",
       "      <td id=\"T_11396_row4_col3\" class=\"data row4 col3\" >52.330000</td>\n",
       "    </tr>\n",
       "    <tr>\n",
       "      <th id=\"T_11396_level0_row5\" class=\"row_heading level0 row5\" >Male</th>\n",
       "      <td id=\"T_11396_row5_col0\" class=\"data row5 col0\" >64.760000</td>\n",
       "      <td id=\"T_11396_row5_col1\" class=\"data row5 col1\" >41.750000</td>\n",
       "      <td id=\"T_11396_row5_col2\" class=\"data row5 col2\" >49.670000</td>\n",
       "      <td id=\"T_11396_row5_col3\" class=\"data row5 col3\" >47.670000</td>\n",
       "    </tr>\n",
       "    <tr>\n",
       "      <th id=\"T_11396_level0_row6\" class=\"row_heading level0 row6\" >Female_Family</th>\n",
       "      <td id=\"T_11396_row6_col0\" class=\"data row6 col0\" >21.100000</td>\n",
       "      <td id=\"T_11396_row6_col1\" class=\"data row6 col1\" >40.780000</td>\n",
       "      <td id=\"T_11396_row6_col2\" class=\"data row6 col2\" >45.330000</td>\n",
       "      <td id=\"T_11396_row6_col3\" class=\"data row6 col3\" >43.310000</td>\n",
       "    </tr>\n",
       "    <tr>\n",
       "      <th id=\"T_11396_level0_row7\" class=\"row_heading level0 row7\" >Male_Family</th>\n",
       "      <td id=\"T_11396_row7_col0\" class=\"data row7 col0\" >18.630000</td>\n",
       "      <td id=\"T_11396_row7_col1\" class=\"data row7 col1\" >30.100000</td>\n",
       "      <td id=\"T_11396_row7_col2\" class=\"data row7 col2\" >37.670000</td>\n",
       "      <td id=\"T_11396_row7_col3\" class=\"data row7 col3\" >34.880000</td>\n",
       "    </tr>\n",
       "    <tr>\n",
       "      <th id=\"T_11396_level0_row8\" class=\"row_heading level0 row8\" >No_Family</th>\n",
       "      <td id=\"T_11396_row8_col0\" class=\"data row8 col0\" >84.060000</td>\n",
       "      <td id=\"T_11396_row8_col1\" class=\"data row8 col1\" >74.760000</td>\n",
       "      <td id=\"T_11396_row8_col2\" class=\"data row8 col2\" >58.000000</td>\n",
       "      <td id=\"T_11396_row8_col3\" class=\"data row8 col3\" >62.210000</td>\n",
       "    </tr>\n",
       "    <tr>\n",
       "      <th id=\"T_11396_level0_row9\" class=\"row_heading level0 row9\" >Female_No_Family</th>\n",
       "      <td id=\"T_11396_row9_col0\" class=\"data row9 col0\" >14.140000</td>\n",
       "      <td id=\"T_11396_row9_col1\" class=\"data row9 col1\" >17.480000</td>\n",
       "      <td id=\"T_11396_row9_col2\" class=\"data row9 col2\" >5.000000</td>\n",
       "      <td id=\"T_11396_row9_col3\" class=\"data row9 col3\" >9.010000</td>\n",
       "    </tr>\n",
       "    <tr>\n",
       "      <th id=\"T_11396_level0_row10\" class=\"row_heading level0 row10\" >Male_No_Family</th>\n",
       "      <td id=\"T_11396_row10_col0\" class=\"data row10 col0\" >46.130000</td>\n",
       "      <td id=\"T_11396_row10_col1\" class=\"data row10 col1\" >11.650000</td>\n",
       "      <td id=\"T_11396_row10_col2\" class=\"data row10 col2\" >12.000000</td>\n",
       "      <td id=\"T_11396_row10_col3\" class=\"data row10 col3\" >12.790000</td>\n",
       "    </tr>\n",
       "    <tr>\n",
       "      <th id=\"T_11396_level0_row11\" class=\"row_heading level0 row11\" >Child</th>\n",
       "      <td id=\"T_11396_row11_col0\" class=\"data row11 col0\" >15.600000</td>\n",
       "      <td id=\"T_11396_row11_col1\" class=\"data row11 col1\" >16.500000</td>\n",
       "      <td id=\"T_11396_row11_col2\" class=\"data row11 col2\" >30.330000</td>\n",
       "      <td id=\"T_11396_row11_col3\" class=\"data row11 col3\" >27.910000</td>\n",
       "    </tr>\n",
       "  </tbody>\n",
       "</table>\n"
      ],
      "text/plain": [
       "<pandas.io.formats.style.Styler at 0x1a9086187f0>"
      ]
     },
     "execution_count": 213,
     "metadata": {},
     "output_type": "execute_result"
    }
   ],
   "source": [
    "total_prop_df.style.set_caption(\"What % of the DataFrame is represented by that feature?\")"
   ]
  },
  {
   "cell_type": "code",
   "execution_count": null,
   "id": "fa40b83b",
   "metadata": {},
   "outputs": [],
   "source": [
    "def vis_val_counts(col):\n",
    "    #sort columns into categorical for count and continuous for hist\n",
    "    cat = []\n",
    "    con = []\n",
    "    for i in col:\n",
    "        if df[i].dtype == 'category':\n",
    "            cat.append(i)\n",
    "        else:\n",
    "            con.append(i)\n",
    "    for i in cat:\n",
    "        fig, ax = plt.subplots(1,1, figsize=(15, 6))\n",
    "        sns.countplot(y = df[i][1:],data=df.iloc[1:], order=df[i][1:].value_counts().index, palette='Blues_r')\n",
    "    for i in con:\n",
    "        fig, ax = plt.subplots(1,1, figsize=(15, 6), layout='constrained')\n",
    "        sns.histplot(x=df[i][1:],data=df,stat='count', fill='True', element='bars')"
   ]
  },
  {
   "cell_type": "code",
   "execution_count": null,
   "id": "0d0c9f94",
   "metadata": {},
   "outputs": [],
   "source": [
    "vis_val_counts(col)"
   ]
  },
  {
   "cell_type": "code",
   "execution_count": null,
   "id": "d919838a",
   "metadata": {},
   "outputs": [],
   "source": [
    "#Let's take a closer look at fare\n",
    "\n",
    "ax = df['Age'].value_counts() \\\n",
    "    .head().plot(kind='hist', title='Top 5 Ages')\n",
    "ax.set_xlabel('Age')\n",
    "ax.set_ylabel('Count')"
   ]
  },
  {
   "cell_type": "code",
   "execution_count": null,
   "id": "4da3d727",
   "metadata": {},
   "outputs": [],
   "source": [
    "#Kde is good for comparison because normalised\n",
    "\n",
    "ax = df['Age'].value_counts() \\\n",
    "    .head().plot(kind='kde', title='Top 5 Ages')\n",
    "ax.set_xlabel('Age')\n",
    "ax.set_ylabel('Count')"
   ]
  },
  {
   "cell_type": "code",
   "execution_count": null,
   "id": "fac9daba",
   "metadata": {},
   "outputs": [],
   "source": [
    "def vis_kde(col):\n",
    "    cat=[]\n",
    "    for i in col:\n",
    "        if df[i].dtype != 'category':\n",
    "            cat.append(i)\n",
    "    for i in cat:\n",
    "        fig, ax = plt.subplots(1,1, figsize=(15, 6))\n",
    "        sns.kdeplot(data=df, x=df[i])                    "
   ]
  },
  {
   "cell_type": "code",
   "execution_count": null,
   "id": "64fee8eb",
   "metadata": {},
   "outputs": [],
   "source": [
    "vis_kde(col)"
   ]
  },
  {
   "cell_type": "markdown",
   "id": "aa63c15e",
   "metadata": {},
   "source": [
    "PDF ... relationship between random variable and it's probability "
   ]
  },
  {
   "cell_type": "markdown",
   "id": "886f7c81",
   "metadata": {},
   "source": [
    "# Examining Feature Relationships"
   ]
  },
  {
   "cell_type": "markdown",
   "id": "98818de8",
   "metadata": {},
   "source": [
    "## Scatterplot"
   ]
  },
  {
   "cell_type": "code",
   "execution_count": null,
   "id": "6a83c310",
   "metadata": {},
   "outputs": [],
   "source": [
    "df.columns"
   ]
  },
  {
   "cell_type": "code",
   "execution_count": null,
   "id": "10878cba",
   "metadata": {},
   "outputs": [],
   "source": [
    "df.plot(kind='scatter',\n",
    "       x='Fare',\n",
    "       y='Age',\n",
    "       title='Relationship between Fare and Age')\n",
    "\n",
    "plt.show()"
   ]
  },
  {
   "cell_type": "code",
   "execution_count": null,
   "id": "58570cd3",
   "metadata": {},
   "outputs": [],
   "source": [
    "sns.scatterplot(x='Fare',\n",
    "                y='Age',\n",
    "                hue='Fare',\n",
    "                data=df)"
   ]
  },
  {
   "cell_type": "markdown",
   "id": "3f1922d9",
   "metadata": {},
   "source": [
    "# Pairplot"
   ]
  },
  {
   "cell_type": "code",
   "execution_count": null,
   "id": "31d383a7",
   "metadata": {},
   "outputs": [],
   "source": [
    "sns.pairplot(data=df, \n",
    "             vars=['y', 'Class', 'Sex', 'Age', 'SibSp', \n",
    "                   'ParCh', 'Fare'])\n",
    "\n",
    "plt.show()"
   ]
  },
  {
   "cell_type": "markdown",
   "id": "55b47067",
   "metadata": {},
   "source": [
    "# Correlation Matrix"
   ]
  },
  {
   "cell_type": "code",
   "execution_count": 311,
   "id": "4d0dd9cc",
   "metadata": {},
   "outputs": [
    {
     "data": {
      "text/plain": [
       "Index(['PassengerId', 'y', 'Class', 'Name', 'Sex', 'Age', 'SibSp', 'ParCh',\n",
       "       'Ticket', 'Fare', 'Cabin', 'Embarked', 'Duplicate_Cabin',\n",
       "       'Cabin_Letter'],\n",
       "      dtype='object')"
      ]
     },
     "execution_count": 311,
     "metadata": {},
     "output_type": "execute_result"
    }
   ],
   "source": [
    "df.columns"
   ]
  },
  {
   "cell_type": "code",
   "execution_count": 312,
   "id": "8b48ad33",
   "metadata": {},
   "outputs": [],
   "source": [
    "df_corr = df[[#'PassengerId', \n",
    "    'y', 'Class', \n",
    "    #'Name', \n",
    "    'Sex', 'Age', 'SibSp', 'ParCh',\n",
    "       'Ticket', 'Fare', \n",
    "    #'Cabin', \n",
    "    'Embarked', 'Duplicate_Cabin',\n",
    "       #'Cabin_Letter'\n",
    "]].corr()"
   ]
  },
  {
   "cell_type": "code",
   "execution_count": 313,
   "id": "e1a91bd5",
   "metadata": {},
   "outputs": [
    {
     "data": {
      "text/plain": [
       "<AxesSubplot:>"
      ]
     },
     "execution_count": 313,
     "metadata": {},
     "output_type": "execute_result"
    },
    {
     "data": {
      "image/png": "[encoded data removed]",
      "text/plain": [
       "<Figure size 640x480 with 2 Axes>"
      ]
     },
     "metadata": {},
     "output_type": "display_data"
    }
   ],
   "source": [
    "sns.heatmap(df_corr,\n",
    "           fmt='.1g',\n",
    "           linecolor='orange',\n",
    "           linewidths=0.65,\n",
    "           annot=True,\n",
    "           center=True,\n",
    "           cmap='Reds')"
   ]
  },
  {
   "cell_type": "markdown",
   "id": "8c2608a7",
   "metadata": {},
   "source": [
    "# Ask a question of the data"
   ]
  },
  {
   "cell_type": "code",
   "execution_count": null,
   "id": "727217ee",
   "metadata": {},
   "outputs": [],
   "source": [
    "df.query(\"Fare == 0\")"
   ]
  },
  {
   "cell_type": "markdown",
   "id": "b257f393",
   "metadata": {},
   "source": [
    "I assume these are staff, is it necessary to impute age?\n",
    "\n",
    "Other opportunities for feature engineering could include SibSp and ParCh"
   ]
  },
  {
   "cell_type": "code",
   "execution_count": null,
   "id": "1d6f939c",
   "metadata": {},
   "outputs": [],
   "source": [
    "df.to_csv('df_post_eda.csv')"
   ]
  }
 ],
 "metadata": {
  "kernelspec": {
   "display_name": "Python 3 (ipykernel)",
   "language": "python",
   "name": "python3"
  },
  "language_info": {
   "codemirror_mode": {
    "name": "ipython",
    "version": 3
   },
   "file_extension": ".py",
   "mimetype": "text/x-python",
   "name": "python",
   "nbconvert_exporter": "python",
   "pygments_lexer": "ipython3",
   "version": "3.9.13"
  }
 },
 "nbformat": 4,
 "nbformat_minor": 5
}
